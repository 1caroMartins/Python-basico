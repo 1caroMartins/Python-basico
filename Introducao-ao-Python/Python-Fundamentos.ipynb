{
 "cells": [
  {
   "cell_type": "markdown",
   "id": "949b5a1b",
   "metadata": {},
   "source": [
    "## Introdução à Linguagem"
   ]
  },
  {
   "cell_type": "markdown",
   "id": "9db36d86",
   "metadata": {},
   "source": [
    "### Comentários em Python"
   ]
  },
  {
   "cell_type": "code",
   "execution_count": 1,
   "id": "dd16eba9",
   "metadata": {},
   "outputs": [
    {
     "name": "stdout",
     "output_type": "stream",
     "text": [
      "Teste\n"
     ]
    }
   ],
   "source": [
    "# Este é um comentário\n",
    "# Toda função tem parênteses e print() é uma função (função escreva).\n",
    "print(\"Teste\")"
   ]
  },
  {
   "cell_type": "code",
   "execution_count": 6,
   "id": "3808673d",
   "metadata": {},
   "outputs": [
    {
     "name": "stdout",
     "output_type": "stream",
     "text": [
      "Teste\n"
     ]
    }
   ],
   "source": [
    "\"\"\"\n",
    "Este é um comentário\n",
    "Mas desta vez\n",
    "É um comentário longo\n",
    "\"\"\"\n",
    "print(\"Teste\")"
   ]
  },
  {
   "cell_type": "markdown",
   "id": "0b5d34b4",
   "metadata": {},
   "source": [
    "### O ponto e vírgula (;)\n",
    "O ponto e vírgula no Python não é obrigatório a menos que queira executar duas funções que estão na mesma linha"
   ]
  },
  {
   "cell_type": "code",
   "execution_count": 8,
   "id": "a7666d4b",
   "metadata": {},
   "outputs": [
    {
     "name": "stdout",
     "output_type": "stream",
     "text": [
      "Teste\n",
      "Teste\n"
     ]
    }
   ],
   "source": [
    "print(\"Teste\")\n",
    "print(\"Teste\")"
   ]
  },
  {
   "cell_type": "code",
   "execution_count": 7,
   "id": "52278351",
   "metadata": {},
   "outputs": [
    {
     "name": "stdout",
     "output_type": "stream",
     "text": [
      "Teste\n",
      "Teste\n"
     ]
    }
   ],
   "source": [
    "print(\"Teste\"); print(\"Teste\")"
   ]
  },
  {
   "cell_type": "markdown",
   "id": "fe3d3d37",
   "metadata": {},
   "source": [
    "### Identação\n",
    "A identação é obrigatória quando houver hierarquia"
   ]
  },
  {
   "cell_type": "code",
   "execution_count": 5,
   "id": "b860c344",
   "metadata": {},
   "outputs": [
    {
     "name": "stdout",
     "output_type": "stream",
     "text": [
      "Isto é verdadeiro\n",
      "Isto está fora e vai ser impresso\n"
     ]
    }
   ],
   "source": [
    "if True:\n",
    "    print(\"Isto é verdadeiro\")\n",
    "else:\n",
    "    print(\"Isto é falso\")\n",
    "print(\"Isto está fora e vai ser impresso\")"
   ]
  },
  {
   "cell_type": "markdown",
   "id": "937d1f59",
   "metadata": {},
   "source": [
    "### Variáveis\n",
    "Espaços na memória em que serão armazenados dados\n",
    "\n",
    "Toda variável é um OBJETO para o Python"
   ]
  },
  {
   "cell_type": "code",
   "execution_count": 1,
   "id": "df7fdef1",
   "metadata": {},
   "outputs": [
    {
     "name": "stdout",
     "output_type": "stream",
     "text": [
      "Icaro\n"
     ]
    },
    {
     "data": {
      "text/plain": [
       "float"
      ]
     },
     "execution_count": 1,
     "metadata": {},
     "output_type": "execute_result"
    }
   ],
   "source": [
    "nome = \"Icaro\" # String = str\n",
    "idade = 38 # inteiro = int\n",
    "peso = 83.5 # Python utiliza padrão americano por isso usa-se ponto (flutuante = float) ao invés de vírgula\n",
    "altura = 1.78 # float = float\n",
    "situacao = True # valor lógico, booleano = bool\n",
    "print(nome)\n",
    "type(peso)"
   ]
  },
  {
   "cell_type": "code",
   "execution_count": 7,
   "id": "b351dc90",
   "metadata": {},
   "outputs": [
    {
     "name": "stdout",
     "output_type": "stream",
     "text": [
      "None\n",
      "<class 'NoneType'>\n"
     ]
    }
   ],
   "source": [
    "nada = None # variável sem nenhum valor associado\n",
    "print(nada)\n",
    "print(type(nada))"
   ]
  },
  {
   "cell_type": "code",
   "execution_count": 1,
   "id": "93022509",
   "metadata": {},
   "outputs": [
    {
     "name": "stdout",
     "output_type": "stream",
     "text": [
      "20\n",
      "30\n"
     ]
    }
   ],
   "source": [
    "# declarando duas variáveis ou mais na mesma linha\n",
    "x, y = 20, 30\n",
    "print(x)\n",
    "print(y)"
   ]
  },
  {
   "cell_type": "markdown",
   "id": "aa65c0db",
   "metadata": {},
   "source": [
    "## Manipulação de Dados"
   ]
  },
  {
   "cell_type": "markdown",
   "id": "ea0121fc",
   "metadata": {},
   "source": [
    "### Saída de Dados"
   ]
  },
  {
   "cell_type": "code",
   "execution_count": 2,
   "id": "1f70bd52",
   "metadata": {},
   "outputs": [
    {
     "name": "stdout",
     "output_type": "stream",
     "text": [
      "Olá Mundo!\n"
     ]
    }
   ],
   "source": [
    "print(\"Olá Mundo!\") # print é uma função (leva parênteses)"
   ]
  },
  {
   "cell_type": "code",
   "execution_count": 4,
   "id": "36b63655",
   "metadata": {},
   "outputs": [
    {
     "name": "stdout",
     "output_type": "stream",
     "text": [
      "Olá \n",
      "Mundo!\n"
     ]
    }
   ],
   "source": [
    "print(\"Olá \\nMundo!\") # o \\n quebra linha"
   ]
  },
  {
   "cell_type": "code",
   "execution_count": 67,
   "id": "c19953c8",
   "metadata": {},
   "outputs": [
    {
     "name": "stdout",
     "output_type": "stream",
     "text": [
      "11\n",
      "74\n"
     ]
    }
   ],
   "source": [
    "print(7+4) # soma inteiros\n",
    "print(\"7\"+\"4\") # concatena strings"
   ]
  },
  {
   "cell_type": "code",
   "execution_count": 68,
   "id": "90a90c78",
   "metadata": {},
   "outputs": [
    {
     "ename": "TypeError",
     "evalue": "can only concatenate str (not \"int\") to str",
     "output_type": "error",
     "traceback": [
      "\u001b[1;31m---------------------------------------------------------------------------\u001b[0m",
      "\u001b[1;31mTypeError\u001b[0m                                 Traceback (most recent call last)",
      "\u001b[1;32m~\\AppData\\Local\\Temp\\ipykernel_14852\\2226315467.py\u001b[0m in \u001b[0;36m<module>\u001b[1;34m\u001b[0m\n\u001b[1;32m----> 1\u001b[1;33m \u001b[0mprint\u001b[0m\u001b[1;33m(\u001b[0m\u001b[1;34m\"Olá\"\u001b[0m \u001b[1;33m+\u001b[0m \u001b[1;36m5\u001b[0m\u001b[1;33m)\u001b[0m \u001b[1;31m#Erro\u001b[0m\u001b[1;33m\u001b[0m\u001b[1;33m\u001b[0m\u001b[0m\n\u001b[0m",
      "\u001b[1;31mTypeError\u001b[0m: can only concatenate str (not \"int\") to str"
     ]
    }
   ],
   "source": [
    "print(\"Olá\" + 5) # Erro"
   ]
  },
  {
   "cell_type": "code",
   "execution_count": 71,
   "id": "a8212906",
   "metadata": {},
   "outputs": [
    {
     "name": "stdout",
     "output_type": "stream",
     "text": [
      "Olá 5\n"
     ]
    }
   ],
   "source": [
    "print(\"Olá\", 5) # a vírgula concatena tipos diferentes"
   ]
  },
  {
   "cell_type": "code",
   "execution_count": 82,
   "id": "c01b0436",
   "metadata": {},
   "outputs": [
    {
     "name": "stdout",
     "output_type": "stream",
     "text": [
      "Icaro\n",
      "83.5\n",
      "38\n"
     ]
    }
   ],
   "source": [
    "# print de variáveis\n",
    "print(nome)\n",
    "print(peso)\n",
    "print(idade)"
   ]
  },
  {
   "cell_type": "code",
   "execution_count": 3,
   "id": "ae561d14",
   "metadata": {},
   "outputs": [
    {
     "name": "stdout",
     "output_type": "stream",
     "text": [
      "Meu nome é Icaro meu peso é 83.5 e minha idade é 38 anos\n"
     ]
    }
   ],
   "source": [
    "# concatenação\n",
    "print(\"Meu nome é\", nome, \"meu peso é\", peso, \"e minha idade é\", idade, \"anos\")"
   ]
  },
  {
   "cell_type": "code",
   "execution_count": 4,
   "id": "7ebcc495",
   "metadata": {},
   "outputs": [
    {
     "name": "stdout",
     "output_type": "stream",
     "text": [
      "Meu nome é Icaro, meu peso é 83.5 e minha idade é 38 anos\n",
      "Meu nome é Icaro, meu peso é 83.5 e minha idade é 38 anos\n"
     ]
    }
   ],
   "source": [
    "# saída formatada\n",
    "print(\"Meu nome é {}, meu peso é {} e minha idade é {} anos\".format(nome, peso, idade)) # forma antiga\n",
    "print(f\"Meu nome é {nome}, meu peso é {peso} e minha idade é {idade} anos\") # a partir do python 3.7"
   ]
  },
  {
   "cell_type": "code",
   "execution_count": 3,
   "id": "814757d4",
   "metadata": {},
   "outputs": [
    {
     "name": "stdout",
     "output_type": "stream",
     "text": [
      "Meu nome é Icaro               !\n",
      "Meu nome é Icaro               !\n",
      "Meu nome é                Icaro!\n",
      "Meu nome é        Icaro        !\n",
      "Meu nome é Icaro...............!\n",
      "Meu nome é =======Icaro========!\n"
     ]
    }
   ],
   "source": [
    "# acrescentando número de caracteres\n",
    "print(\"Meu nome é {:20}!\".format(nome)) # acrescenta espaços para completar 20 caracteres\n",
    "print(f\"Meu nome é {nome:20}!\") # python 3.7\n",
    "\n",
    "# alinhamento\n",
    "print(f\"Meu nome é {nome:>20}!\") #à direita\n",
    "print(f\"Meu nome é {nome:^20}!\") #centralizado\n",
    "print(f\"Meu nome é {nome:.<20}!\") #à esquerda e o \".\" substitui os espaços \n",
    "print(f\"Meu nome é {nome:=^20}!\")"
   ]
  },
  {
   "cell_type": "code",
   "execution_count": 3,
   "id": "57ca02fd",
   "metadata": {},
   "outputs": [
    {
     "name": "stdout",
     "output_type": "stream",
     "text": [
      "Dia/Mês/Ano\n",
      "14/02/1984\n",
      "1984-02-14\n",
      "Banana.\n"
     ]
    }
   ],
   "source": [
    "# separador\n",
    "print(\"Dia\", \"Mês\", \"Ano\", sep = \"/\") # o espaço (padrão) é substituído pela \"/\"\n",
    "print('14', '02', '1984', sep = \"/\")\n",
    "print('1984', '02', '14', sep = '-')\n",
    "print('B', 'n', 'n', '.', sep = 'a')"
   ]
  },
  {
   "cell_type": "code",
   "execution_count": 4,
   "id": "e3d4a2d2",
   "metadata": {},
   "outputs": [
    {
     "name": "stdout",
     "output_type": "stream",
     "text": [
      "Vamos estudar Python!\n",
      "Preço: R$50.0\n"
     ]
    }
   ],
   "source": [
    "# finalização de linha\n",
    "print(\"Vamos estudar\", end = ' ') # substitui o \"\\n\" (padrão) que é a quebra de linha\n",
    "print(\"Python!\")\n",
    "print(\"Preço: \", end = 'R$')\n",
    "print(50.0)"
   ]
  },
  {
   "cell_type": "code",
   "execution_count": 2,
   "id": "b0feb3c1",
   "metadata": {},
   "outputs": [
    {
     "name": "stdout",
     "output_type": "stream",
     "text": [
      "quebra\n",
      "linha\n",
      "mesma linha\n"
     ]
    }
   ],
   "source": [
    "print('quebra'); print('linha')\n",
    "\n",
    "print('mesma', end= ' ')\n",
    "print('linha')"
   ]
  },
  {
   "cell_type": "markdown",
   "id": "e053d92e",
   "metadata": {},
   "source": [
    "### Entrada de Dados"
   ]
  },
  {
   "cell_type": "code",
   "execution_count": 7,
   "id": "21864fcc",
   "metadata": {},
   "outputs": [
    {
     "name": "stdout",
     "output_type": "stream",
     "text": [
      "João\n"
     ]
    }
   ],
   "source": [
    "nome = input()"
   ]
  },
  {
   "cell_type": "code",
   "execution_count": 8,
   "id": "4c9014f0",
   "metadata": {},
   "outputs": [
    {
     "name": "stdout",
     "output_type": "stream",
     "text": [
      "João\n"
     ]
    }
   ],
   "source": [
    "print(nome)"
   ]
  },
  {
   "cell_type": "markdown",
   "id": "90965333",
   "metadata": {},
   "source": [
    "O padrão de Entrada de Dados é do tipo primitivo String, sendo necessário converter (cast) em alguns casos."
   ]
  },
  {
   "cell_type": "code",
   "execution_count": 12,
   "id": "6c8655cc",
   "metadata": {},
   "outputs": [
    {
     "name": "stdout",
     "output_type": "stream",
     "text": [
      "Digite seu nome: Icaro\n",
      "Digite sua idade: 32\n",
      "Digite seu peso: 62.5\n",
      "A variável nome é do tipo <class 'str'>\n",
      "A variável idade é do tipo <class 'int'>\n",
      "A variável peso é do tipo <class 'float'>\n",
      "Meu nome é Icaro, meu peso é 62.5 e minha idade é 32 anos\n"
     ]
    }
   ],
   "source": [
    "nome = input(\"Digite seu nome: \")\n",
    "idade = int(input(\"Digite sua idade: \")) #cast\n",
    "peso = float(input(\"Digite seu peso: \")) #cast\n",
    "print(f\"A variável nome é do tipo {type(nome)}\")\n",
    "print(f\"A variável idade é do tipo {type(idade)}\")\n",
    "print(f\"A variável peso é do tipo {type(peso)}\")\n",
    "print(f\"Meu nome é {nome}, meu peso é {peso} e minha idade é {idade} anos\")"
   ]
  },
  {
   "cell_type": "code",
   "execution_count": 14,
   "id": "a147083d",
   "metadata": {},
   "outputs": [
    {
     "name": "stdout",
     "output_type": "stream",
     "text": [
      "A variável teste é do tipo <class 'str'>\n",
      "False\n",
      "False\n",
      "True\n",
      "False\n",
      "False\n",
      "False\n",
      "True\n"
     ]
    }
   ],
   "source": [
    "teste = 'Icaro10'\n",
    "print(f\"A variável teste é do tipo {type(teste)}\")\n",
    "\n",
    "# spoiler: em Python toda variável é um objeto e objetos podem possuir funções/métodos internos\n",
    "# para objetos do tipo string, há métodos built-in de teste de tipo como:\n",
    "print(teste.isnumeric()) # é numérico?\n",
    "print(teste.isalpha()) # é alfabético?\n",
    "print(teste.isalnum()) # é alfanumérico?\n",
    "print(teste.isspace()) # só tem espaço?\n",
    "print(teste.isupper()) # está em maiúsculo?\n",
    "print(teste.islower()) # está em minúsculo?\n",
    "print(teste.istitle()) # está capitalizado?\n",
    "# spoiler: um objeto tem atributos e métodos, mas como tem parênteses ao final, neste caso são métodos."
   ]
  },
  {
   "cell_type": "markdown",
   "id": "011c71f8",
   "metadata": {},
   "source": [
    "<mark> Fazer os exercícios do 1 ao 4. </mark>"
   ]
  },
  {
   "cell_type": "markdown",
   "id": "36b8de1c",
   "metadata": {},
   "source": [
    "### Operadores Aritméticos\n",
    "Adição: +\n",
    "\n",
    "Subtração: -\n",
    "\n",
    "Divisão: /\n",
    "\n",
    "Multiplicação: *\n",
    "\n",
    "Potência: **\n",
    "\n",
    "Divisão inteira: //\n",
    "\n",
    "Resto da divisão (módulo): %"
   ]
  },
  {
   "cell_type": "code",
   "execution_count": 5,
   "id": "32e623d2",
   "metadata": {},
   "outputs": [
    {
     "name": "stdout",
     "output_type": "stream",
     "text": [
      "8\n",
      "3\n",
      "20\n",
      "16\n",
      "1.6666666666666667\n",
      "1\n",
      "0\n"
     ]
    }
   ],
   "source": [
    "a = 4\n",
    "b = 4\n",
    "print(a + b)\n",
    "print(5 - 2)\n",
    "print(a * 5)\n",
    "print(a**2)\n",
    "print(10 / 6)\n",
    "print(10 // 6)\n",
    "print(10 % 2) # útil para separar pares (0) e ímpares (1)"
   ]
  },
  {
   "cell_type": "code",
   "execution_count": 15,
   "id": "3f4a1870",
   "metadata": {},
   "outputs": [
    {
     "name": "stdout",
     "output_type": "stream",
     "text": [
      "10.0\n",
      "10.0\n"
     ]
    }
   ],
   "source": [
    "'''\n",
    "Ordem de Precedência:\n",
    "1. ()\n",
    "2. **\n",
    "3. *, /, //, % (o que aparecer primeiro)\n",
    "4. +, -\n",
    "'''\n",
    "print(4+6*4/(4-2)**2)\n",
    "print(4+6*4/pow((4-2),2))"
   ]
  },
  {
   "cell_type": "code",
   "execution_count": 5,
   "id": "3cf30c66",
   "metadata": {},
   "outputs": [
    {
     "name": "stdout",
     "output_type": "stream",
     "text": [
      "0.6666666666666666\n",
      "0.666667\n",
      "0.67\n"
     ]
    }
   ],
   "source": [
    "# formatação pré-definida\n",
    "a = 2\n",
    "b = 3\n",
    "print(a/b)\n",
    "print('%f'%(a/b)) #padrão de 6 casas decimais\n",
    "print('%.2f'%(a/b)) #2 casas decimais (modo mais antigo)"
   ]
  },
  {
   "cell_type": "code",
   "execution_count": 22,
   "id": "ede359d0",
   "metadata": {},
   "outputs": [
    {
     "name": "stdout",
     "output_type": "stream",
     "text": [
      "0.67\n",
      "0.67\n",
      "================0.67\n"
     ]
    }
   ],
   "source": [
    "div = a/b\n",
    "print('{:.2f}'.format(div)) # ainda antigo\n",
    "print(f'{div:.2f}') # Python 3.7\n",
    "print(f'{div:=>20.2f}')"
   ]
  },
  {
   "cell_type": "code",
   "execution_count": 9,
   "id": "a8feb2bf",
   "metadata": {},
   "outputs": [
    {
     "name": "stdout",
     "output_type": "stream",
     "text": [
      "OiOiOiOiOi\n",
      "====================\n"
     ]
    }
   ],
   "source": [
    "# operando com strings\n",
    "print('Oi'*5)\n",
    "print('='*20)"
   ]
  },
  {
   "cell_type": "markdown",
   "id": "10e73d1b",
   "metadata": {},
   "source": [
    "<mark> Fazer os exercícios do 5 ao 15. </mark>"
   ]
  },
  {
   "cell_type": "markdown",
   "id": "246fa108",
   "metadata": {},
   "source": [
    "## Strings"
   ]
  },
  {
   "cell_type": "markdown",
   "id": "df982d46",
   "metadata": {},
   "source": [
    "### Introdução a strings (cadeias de caracteres)"
   ]
  },
  {
   "cell_type": "code",
   "execution_count": 42,
   "id": "93a2bd0a",
   "metadata": {},
   "outputs": [
    {
     "name": "stdout",
     "output_type": "stream",
     "text": [
      "\n",
      "    Esta é uma string longa\n",
      "    contendo informações sobre\n",
      "    Python\n",
      "\n"
     ]
    }
   ],
   "source": [
    "nome = \"Icaro Martins\"\n",
    "nome2 = 'Icaro Martins' # tanto faz aspas duplas ou simples (mais usual)\n",
    "nome3 = '''\n",
    "    Esta é uma string longa\n",
    "    contendo informações sobre\n",
    "    Python\n",
    "'''\n",
    "print(nome3) # o espaço com TAB (margem) também é impresso"
   ]
  },
  {
   "cell_type": "markdown",
   "id": "e70acc0a",
   "metadata": {},
   "source": [
    "### Propriedades das strings"
   ]
  },
  {
   "cell_type": "code",
   "execution_count": 11,
   "id": "640d7a84",
   "metadata": {},
   "outputs": [
    {
     "name": "stdout",
     "output_type": "stream",
     "text": [
      "15\n"
     ]
    }
   ],
   "source": [
    "# spoiler: strings são listas de caracteres\n",
    "\n",
    "lista = 'lista de letras'\n",
    "tamanho = len(lista) # função para ver comprimento de listas\n",
    "print(tamanho)"
   ]
  },
  {
   "cell_type": "code",
   "execution_count": 3,
   "id": "71f4dd88",
   "metadata": {},
   "outputs": [
    {
     "name": "stdout",
     "output_type": "stream",
     "text": [
      "2\n"
     ]
    }
   ],
   "source": [
    "contagem = lista.count('a') # função Built-in: método da classe string que conta a quantidade de letras 'a's\n",
    "print(contagem)"
   ]
  },
  {
   "cell_type": "code",
   "execution_count": 4,
   "id": "1a6c48ac",
   "metadata": {},
   "outputs": [
    {
     "name": "stdout",
     "output_type": "stream",
     "text": [
      "6\n",
      "-1\n"
     ]
    }
   ],
   "source": [
    "procurar = lista.find('de') # método que diz a posição do index em que começa\n",
    "procurar2 = lista.find('python') # quando não encontra, aparece -1\n",
    "print(procurar)\n",
    "print(procurar2)"
   ]
  },
  {
   "cell_type": "code",
   "execution_count": 5,
   "id": "8e52fd74",
   "metadata": {},
   "outputs": [
    {
     "name": "stdout",
     "output_type": "stream",
     "text": [
      "True\n",
      "False\n"
     ]
    }
   ],
   "source": [
    "# uso do in em listas (parecido com conjunto = set)\n",
    "\n",
    "existe = 'lista' in lista\n",
    "nexiste = 'python' in lista\n",
    "print(existe)\n",
    "print(nexiste)"
   ]
  },
  {
   "cell_type": "code",
   "execution_count": 6,
   "id": "4bc67aad",
   "metadata": {},
   "outputs": [
    {
     "name": "stdout",
     "output_type": "stream",
     "text": [
      "lista de python\n",
      "LISTA DE LETRAS\n",
      "9\n",
      "Lista de letras\n",
      "Lista De Letras\n"
     ]
    }
   ],
   "source": [
    "# transformação\n",
    "\n",
    "substituir = lista.replace('letras', 'python') # é possível alterar lista através de método\n",
    "print(substituir)\n",
    "\n",
    "maiusculo = lista.upper() # lower para minúsculo\n",
    "print(maiusculo)\n",
    "\n",
    "localiza = lista.upper().find('LETRAS') # transforma em maiúsculo e procura a string em maiúsculo\n",
    "print(localiza)\n",
    "\n",
    "capitalizar = lista.capitalize() # só a primeira em maiúsculo\n",
    "print(capitalizar)\n",
    "\n",
    "titulo = lista.title() # primeira letra de cada palavra em maiúsculo\n",
    "print(titulo)"
   ]
  },
  {
   "cell_type": "code",
   "execution_count": 12,
   "id": "07564628",
   "metadata": {},
   "outputs": [
    {
     "name": "stdout",
     "output_type": "stream",
     "text": [
      "<class 'str'>\n",
      "['lista', 'de', 'letras']\n",
      "<class 'list'>\n"
     ]
    }
   ],
   "source": [
    "print(type(lista))\n",
    "lista = lista.split(sep=' ') # divide string onde tiver espaços criando uma lista que contém strings\n",
    "print(lista)\n",
    "print(type(lista))"
   ]
  },
  {
   "cell_type": "code",
   "execution_count": 10,
   "id": "8b6b1318",
   "metadata": {},
   "outputs": [
    {
     "name": "stdout",
     "output_type": "stream",
     "text": [
      "lista-de-letras\n"
     ]
    }
   ],
   "source": [
    "frase = '-'.join(lista) # junção da lista em uma frase\n",
    "print(frase)"
   ]
  },
  {
   "cell_type": "code",
   "execution_count": 13,
   "id": "83b1b852",
   "metadata": {},
   "outputs": [
    {
     "name": "stdout",
     "output_type": "stream",
     "text": [
      "['14', '2', '1984']\n"
     ]
    }
   ],
   "source": [
    "data = '14/2/1984'\n",
    "lista2 = data.split('/') # não precisa escrever \"sep\" para indicar o parâmetro, porém é melhor explícito do que implícito.\n",
    "print(lista2)"
   ]
  },
  {
   "cell_type": "code",
   "execution_count": 14,
   "id": "58059552",
   "metadata": {},
   "outputs": [
    {
     "name": "stdout",
     "output_type": "stream",
     "text": [
      "22\n",
      "Aprenda    Python\n",
      "17\n",
      "   Aprenda    Python\n",
      "20\n",
      "Aprenda    Python  \n",
      "19\n"
     ]
    }
   ],
   "source": [
    "frase = '   Aprenda    Python  '\n",
    "cortar = frase.strip() # retira espaços do início e fim\n",
    "print(len(frase))\n",
    "print(cortar)\n",
    "print(len(cortar))\n",
    "cortar2 = frase.rstrip() # corta à direita (right)\n",
    "cortar3 = frase.lstrip() # corta à esquerda (left)\n",
    "print(cortar2)\n",
    "print(len(cortar2))\n",
    "print(cortar3)\n",
    "print(len(cortar3))"
   ]
  },
  {
   "cell_type": "markdown",
   "id": "705ed7f5",
   "metadata": {},
   "source": [
    "### Fatiando strings"
   ]
  },
  {
   "cell_type": "code",
   "execution_count": 15,
   "id": "33f72aeb",
   "metadata": {},
   "outputs": [
    {
     "name": "stdout",
     "output_type": "stream",
     "text": [
      "y\n",
      "p\n",
      "yth\n",
      "pytho\n",
      "hon\n",
      "pt\n",
      "letras\n",
      "r\n"
     ]
    }
   ],
   "source": [
    "#       012345\n",
    "nome = 'python'\n",
    "nova_string = nome[1] # indexação de string\n",
    "nova_string2 = nome[-6] # conta \"de trás pra frente\" (na verdade -6 é menor que -5, etc.)\n",
    "nova_string3 = nome[1:4] # igual a [1:4), ou seja, não imprime o 4º.\n",
    "nova_string4 = nome[:5] # começa do 0, ou seja, é igual a [0:5)\n",
    "nova_string5 = nome[3:] # começa do 3 e vai até o final.\n",
    "nova_string6 = nome[0:4:2] # [0,4), de 2 em 2.\n",
    "print(nova_string)\n",
    "print(nova_string2)\n",
    "print(nova_string3)\n",
    "print(nova_string4)\n",
    "print(nova_string5)\n",
    "print(nova_string6)\n",
    "print(lista[2]) # index 2 da lista\n",
    "print(lista[2][3]) # index 3 da string no index 2 da lista."
   ]
  },
  {
   "cell_type": "code",
   "execution_count": 20,
   "id": "7b1dd3fa",
   "metadata": {},
   "outputs": [
    {
     "ename": "TypeError",
     "evalue": "'str' object does not support item assignment",
     "output_type": "error",
     "traceback": [
      "\u001b[1;31m---------------------------------------------------------------------------\u001b[0m",
      "\u001b[1;31mTypeError\u001b[0m                                 Traceback (most recent call last)",
      "\u001b[1;32m~\\AppData\\Local\\Temp\\ipykernel_456\\2786003240.py\u001b[0m in \u001b[0;36m<module>\u001b[1;34m\u001b[0m\n\u001b[0;32m      1\u001b[0m \u001b[1;31m# string, apesar de ser uma lista de caracteres, é imutável\u001b[0m\u001b[1;33m\u001b[0m\u001b[1;33m\u001b[0m\u001b[0m\n\u001b[1;32m----> 2\u001b[1;33m \u001b[0mnome\u001b[0m\u001b[1;33m[\u001b[0m\u001b[1;36m0\u001b[0m\u001b[1;33m]\u001b[0m \u001b[1;33m=\u001b[0m \u001b[1;34m'P'\u001b[0m \u001b[1;31m# erro, pois só pode alterar com o método nome.replace()\u001b[0m\u001b[1;33m\u001b[0m\u001b[1;33m\u001b[0m\u001b[0m\n\u001b[0m",
      "\u001b[1;31mTypeError\u001b[0m: 'str' object does not support item assignment"
     ]
    }
   ],
   "source": [
    "# string, apesar de ser uma lista de caracteres, é imutável\n",
    "\n",
    "nome[0] = 'P' # erro, pois só pode alterar com o método nome.replace()"
   ]
  },
  {
   "cell_type": "code",
   "execution_count": 19,
   "id": "347c5cae",
   "metadata": {},
   "outputs": [
    {
     "name": "stdout",
     "output_type": "stream",
     "text": [
      "1\n"
     ]
    }
   ],
   "source": [
    "# contagem com fatiamento\n",
    "       # 012345\n",
    "lista = 'lista de letras'\n",
    "contagemf = lista.count('a',0,5)\n",
    "print(contagemf)"
   ]
  },
  {
   "cell_type": "markdown",
   "id": "48a2c31e",
   "metadata": {},
   "source": [
    "<mark> Fazer os exercícios do 16 ao 21. </mark>"
   ]
  },
  {
   "cell_type": "markdown",
   "id": "e32c677d",
   "metadata": {},
   "source": [
    "## Estruturas de Condição"
   ]
  },
  {
   "cell_type": "markdown",
   "id": "4ab23f5a",
   "metadata": {},
   "source": [
    "### Operadores de Relação e Condição\n",
    "Operadores de igualdade: != e ==\n",
    "\n",
    "Operadores relacionais: >, <, >= e <="
   ]
  },
  {
   "cell_type": "code",
   "execution_count": 17,
   "id": "2fbeab06",
   "metadata": {},
   "outputs": [
    {
     "name": "stdout",
     "output_type": "stream",
     "text": [
      "True\n",
      "False\n",
      "True\n",
      "False\n"
     ]
    },
    {
     "data": {
      "text/plain": [
       "bool"
      ]
     },
     "execution_count": 17,
     "metadata": {},
     "output_type": "execute_result"
    }
   ],
   "source": [
    "numero1 = 100 == 100 # lê-se apenas um \"=\" como \"recebe\"\n",
    "numero2 = 100 != 100\n",
    "numero3 = 100 >= 100\n",
    "numero4 = 100 > 100\n",
    "\n",
    "print(numero1)\n",
    "print(numero2)\n",
    "print(numero3)\n",
    "print(numero4)\n",
    "type(numero1)"
   ]
  },
  {
   "cell_type": "code",
   "execution_count": 2,
   "id": "6c897778",
   "metadata": {},
   "outputs": [
    {
     "name": "stdout",
     "output_type": "stream",
     "text": [
      "Digite sua idade: 17\n",
      "False\n"
     ]
    },
    {
     "data": {
      "text/plain": [
       "bool"
      ]
     },
     "execution_count": 2,
     "metadata": {},
     "output_type": "execute_result"
    }
   ],
   "source": [
    "idade = int(input('Digite sua idade: '))\n",
    "resp = idade >= 18 # comparação que gera resposta booleana\n",
    "\n",
    "print(resp)\n",
    "type(resp)"
   ]
  },
  {
   "cell_type": "markdown",
   "id": "afa7936b",
   "metadata": {},
   "source": [
    "### Comando if else"
   ]
  },
  {
   "cell_type": "code",
   "execution_count": 3,
   "id": "4bdce8fa",
   "metadata": {},
   "outputs": [],
   "source": [
    "# condição simples (if apenas)\n",
    "\n",
    "if resp == True: # o \"T\" de \"True\" deve ser digitado em maiúsculo!\n",
    "    print('Você já é maior de idade') # não escreverá nada se for menor de idade"
   ]
  },
  {
   "cell_type": "code",
   "execution_count": 4,
   "id": "369a5d99",
   "metadata": {},
   "outputs": [
    {
     "name": "stdout",
     "output_type": "stream",
     "text": [
      "Você não pode dirigir!\n"
     ]
    }
   ],
   "source": [
    "# condição composta (if e else)\n",
    "\n",
    "if resp == True:\n",
    "    print('Você já pode dirigir.')\n",
    "else:\n",
    "    print('Você não pode dirigir!')"
   ]
  },
  {
   "cell_type": "code",
   "execution_count": 13,
   "id": "7c1e789b",
   "metadata": {},
   "outputs": [
    {
     "name": "stdout",
     "output_type": "stream",
     "text": [
      "Acesso permitido\n"
     ]
    }
   ],
   "source": [
    "senha_cadastrada = 123\n",
    "senha_digitada = 123\n",
    "pode_acessar = senha_digitada == senha_cadastrada\n",
    "\n",
    "if pode_acessar: # fazer pergunta ao ler: pode acessar? \n",
    "    print('Acesso permitido')\n",
    "else:\n",
    "    print('Acesso negado')"
   ]
  },
  {
   "cell_type": "code",
   "execution_count": 20,
   "id": "aaf6603e",
   "metadata": {},
   "outputs": [
    {
     "name": "stdout",
     "output_type": "stream",
     "text": [
      "Este número não é igual a 10\n"
     ]
    }
   ],
   "source": [
    "numero = 11\n",
    "\n",
    "if numero == 10: # True\n",
    "    print(f\"Este número é igual a {numero}\")\n",
    "else: # False\n",
    "    print(\"Este número não é igual a 10\")"
   ]
  },
  {
   "cell_type": "code",
   "execution_count": 21,
   "id": "67d05e53",
   "metadata": {},
   "outputs": [
    {
     "name": "stdout",
     "output_type": "stream",
     "text": [
      "Este número não é igual a 10\n"
     ]
    }
   ],
   "source": [
    "# condição simplificada (na mesma linha)\n",
    "\n",
    "print(f\"Este número é igual a {numero}\" if numero == 10 else \"Este número não é igual a 10\")"
   ]
  },
  {
   "cell_type": "code",
   "execution_count": 22,
   "id": "7763ab5a",
   "metadata": {},
   "outputs": [
    {
     "name": "stdout",
     "output_type": "stream",
     "text": [
      "A idade está entre 20 e 60 anos\n"
     ]
    }
   ],
   "source": [
    "idade = 40\n",
    "\n",
    "if idade >= 20:\n",
    "    if idade <= 60:\n",
    "        print('A idade está entre 20 e 60 anos')\n",
    "    else:\n",
    "        print('A idade é maior que 60 anos')\n",
    "else:\n",
    "    print('A idade é menor que 20 anos')"
   ]
  },
  {
   "cell_type": "code",
   "execution_count": 23,
   "id": "3e1af6c2",
   "metadata": {},
   "outputs": [
    {
     "name": "stdout",
     "output_type": "stream",
     "text": [
      "A idade está entre 20 e 60 anos\n"
     ]
    }
   ],
   "source": [
    "# and\n",
    "\n",
    "if idade >=20 and idade <=60:\n",
    "    print('A idade está entre 20 e 60 anos')\n",
    "else:\n",
    "    print('A idade não está entre 20 e 60 anos') # é menor que 20 ou maior que 60"
   ]
  },
  {
   "cell_type": "code",
   "execution_count": 24,
   "id": "f2332e6c",
   "metadata": {},
   "outputs": [
    {
     "name": "stdout",
     "output_type": "stream",
     "text": [
      "A idade está entre 20 e 60 anos\n"
     ]
    }
   ],
   "source": [
    "# or\n",
    "if idade < 20 or idade > 60:\n",
    "    print('A idade não está entre 20 e 60 anos')\n",
    "else:\n",
    "    print('A idade está entre 20 e 60 anos') # é maior ou igual a 20 e menor ou igual a 60"
   ]
  },
  {
   "cell_type": "markdown",
   "id": "d04464f4",
   "metadata": {},
   "source": [
    "<mark> Fazer os exercícios do 22 ao 29. </mark>"
   ]
  },
  {
   "cell_type": "markdown",
   "id": "90eab14c",
   "metadata": {},
   "source": [
    "### Comando elif"
   ]
  },
  {
   "cell_type": "code",
   "execution_count": 26,
   "id": "fb737223",
   "metadata": {},
   "outputs": [
    {
     "name": "stdout",
     "output_type": "stream",
     "text": [
      "Este número é igual a 13\n"
     ]
    }
   ],
   "source": [
    "numero = 13\n",
    "\n",
    "# condições aninhadas\n",
    "if numero == 10: # True\n",
    "    print(f\"Este número é igual a {numero}\")\n",
    "elif numero == 11: # True\n",
    "    print(f\"Este número é igual a {numero}\")\n",
    "elif numero == 12: # True\n",
    "    print(f\"Este número é igual a {numero}\")\n",
    "elif numero == 13: # True\n",
    "    print(f\"Este número é igual a {numero}\")\n",
    "else: # False\n",
    "    print(\"Este número não é igual a 10, 11, 12 ou 13\")"
   ]
  },
  {
   "cell_type": "code",
   "execution_count": 13,
   "id": "0aef8bbf",
   "metadata": {},
   "outputs": [
    {
     "name": "stdout",
     "output_type": "stream",
     "text": [
      "Qual é o seu nome? Jéssica\n",
      "Belo nome feminino!\n",
      "Tenha um bom dia, Jéssica!\n"
     ]
    }
   ],
   "source": [
    "nome = str(input('Qual é o seu nome? '))\n",
    "\n",
    "if nome == 'Icaro':\n",
    "    print('Que nome bonito!')\n",
    "elif nome == 'Pedro' or nome == 'Paulo':\n",
    "    print('Seu nome é popular no Brasil!')\n",
    "elif nome in 'Ana Cláudia Jéssica Juliana': # dentro (in) da lista\n",
    "    print('Belo nome feminino!')\n",
    "#else:\n",
    "    #print('Seu nome é bem normal!')\n",
    "print(f'Tenha um bom dia, {nome}!')"
   ]
  },
  {
   "cell_type": "code",
   "execution_count": 6,
   "id": "20713b87",
   "metadata": {},
   "outputs": [
    {
     "name": "stdout",
     "output_type": "stream",
     "text": [
      "12\n",
      "11\n"
     ]
    }
   ],
   "source": [
    "# 2 ifs != if e elif\n",
    "\n",
    "x = 10\n",
    "\n",
    "if x == 10:\n",
    "    x = 11\n",
    "if x == 11:\n",
    "    x = 12\n",
    "print(x) # vai printar 12\n",
    "\n",
    "x = 10\n",
    "\n",
    "if x == 10:\n",
    "    x = 11\n",
    "elif x == 11:\n",
    "    x = 12\n",
    "print(x) # vai printar 11, pois a primeira condição já foi satisfeita"
   ]
  },
  {
   "cell_type": "markdown",
   "id": "107e6c2a",
   "metadata": {},
   "source": [
    "<mark> Fazer os exercícios do 30 ao 39. </mark>"
   ]
  },
  {
   "cell_type": "markdown",
   "id": "3d0aa6b1",
   "metadata": {},
   "source": [
    "## Extra: Adicionando CORES no Python"
   ]
  },
  {
   "cell_type": "markdown",
   "id": "b3780548",
   "metadata": {},
   "source": [
    "### Padrão ANSI - padrão de normalização internacional\n",
    "\n",
    "Código de escape sequence: \\033[  m"
   ]
  },
  {
   "cell_type": "code",
   "execution_count": 110,
   "id": "98ec8de8",
   "metadata": {},
   "outputs": [
    {
     "name": "stdout",
     "output_type": "stream",
     "text": [
      "\u001b[7;32;43mBRASIL!\n"
     ]
    }
   ],
   "source": [
    "# códigos para estilo: 0 (nenhum), 1(negrito), 4(sublinhado) e 7(negativo, cores invertidas)\n",
    "# códigos para cor do texto: 30(branco), 31(vermelho), 32(verde), 33(amarelo), 34(azul), 35(roxo), 36(ciano), 37(cinza)\n",
    "# códigos para cor do background: 40(branco), 41(vermelho), 42(verde), 43(amarelo), 44(azul), 45(roxo), 46(ciano), 47(cinza)\n",
    "# estilo;cor do texto;cor do background\n",
    "# exemplo: \\033[0;33;44m\n",
    "print('\\033[7;32;43mBRASIL!')\n"
   ]
  },
  {
   "cell_type": "markdown",
   "id": "d13ea091",
   "metadata": {},
   "source": [
    "## Estruturas de Controle de Fluxo"
   ]
  },
  {
   "cell_type": "markdown",
   "id": "5e6e9519",
   "metadata": {},
   "source": [
    "### Estrutura de Repetição for\n",
    "Estrutura de repetição com variável de controle"
   ]
  },
  {
   "cell_type": "code",
   "execution_count": 8,
   "id": "0f1afb21",
   "metadata": {},
   "outputs": [
    {
     "name": "stdout",
     "output_type": "stream",
     "text": [
      "Oi -> Oi -> Oi -> Oi -> Oi -> FIM\n",
      "\n",
      "0 -> 1 -> 2 -> 3 -> 4 -> 5 -> FIM\n"
     ]
    }
   ],
   "source": [
    "# laço com variável de controle\n",
    "\n",
    "for c in range(1, 6): # c é a variável de controle e range é o intervalo [1,6)\n",
    "    print('Oi ->', end= ' ')\n",
    "print('FIM')\n",
    "\n",
    "print()\n",
    "\n",
    "for c in range(0, 6): # intervalo [0, 6)\n",
    "    print(f'{c} ->', end= ' ')\n",
    "print('FIM')"
   ]
  },
  {
   "cell_type": "code",
   "execution_count": 9,
   "id": "62c2858b",
   "metadata": {},
   "outputs": [
    {
     "name": "stdout",
     "output_type": "stream",
     "text": [
      "FIM\n",
      "\n",
      "6 -> 5 -> 4 -> 3 -> 2 -> 1 -> FIM\n",
      "\n",
      "0 -> 2 -> 4 -> 6 -> FIM\n"
     ]
    }
   ],
   "source": [
    "for c in range(6, 0):\n",
    "    print(c) # Não printa, pois o padrão é somar 1\n",
    "print('FIM')\n",
    "\n",
    "print()\n",
    "\n",
    "for c in range(6, 0, -1): # conta subtraindo 1\n",
    "    print(f'{c} ->', end= ' ')\n",
    "print('FIM')\n",
    "\n",
    "print()\n",
    "\n",
    "for c in range(0, 7, 2): # intervalo [0,7), somando 2\n",
    "    print(f'{c} ->', end= ' ')\n",
    "print('FIM')"
   ]
  },
  {
   "cell_type": "code",
   "execution_count": 10,
   "id": "3f9a36d0",
   "metadata": {},
   "outputs": [
    {
     "name": "stdout",
     "output_type": "stream",
     "text": [
      "Digite um número: 3\n",
      "0 -> 1 -> 2 -> 3 -> FIM\n",
      "\n",
      "Início: 2\n",
      "Fim: 19\n",
      "Passo: 3\n",
      "2 -> 5 -> 8 -> 11 -> 14 -> 17 -> FIM\n"
     ]
    }
   ],
   "source": [
    "n = int(input('Digite um número: '))\n",
    "\n",
    "for c in range(0,n+1): # intervalo [0,n+1) ou seja, intervalo [0,n]\n",
    "    print(f'{c} ->', end= ' ')\n",
    "print('FIM')\n",
    "\n",
    "print()\n",
    "\n",
    "i = int(input('Início: '))\n",
    "f = int(input('Fim: '))\n",
    "p = int(input('Passo: '))\n",
    "\n",
    "for c in range(i, f+1, p): # intervalo [i,f], somando p\n",
    "    print(f'{c} ->', end= ' ')\n",
    "print('FIM')"
   ]
  },
  {
   "cell_type": "code",
   "execution_count": 11,
   "id": "9563bdf4",
   "metadata": {},
   "outputs": [
    {
     "name": "stdout",
     "output_type": "stream",
     "text": [
      "Digite um valor: 3\n",
      "Digite um valor: 2\n",
      "Digite um valor: 4\n",
      "Digite um valor: 6\n",
      "O somatório de todos os valores foi 15\n"
     ]
    }
   ],
   "source": [
    "soma = 0\n",
    "\n",
    "for c in range(0, 4): # intervalo [0,3]\n",
    "    num = int(input('Digite um valor: '))\n",
    "    soma += num # soma = soma + num\n",
    "print(f'O somatório de todos os valores foi {s}')"
   ]
  },
  {
   "cell_type": "code",
   "execution_count": 17,
   "id": "0614bad9",
   "metadata": {},
   "outputs": [
    {
     "name": "stdout",
     "output_type": "stream",
     "text": [
      "0 -> 1 -> 2 -> 3 -> 4 -> 5 -> FIM\n",
      "\n",
      "-=-=-= A frase possui 15 letras -=-=-=\n",
      "contagem: 0 1 2 3 4 5 6 7 8 9 10 11 12 13 14 \n",
      "curso de Python"
     ]
    }
   ],
   "source": [
    "for c in range(6): # range(0,6) = [0, 5]\n",
    "    print(f'{c} ->', end= ' ')\n",
    "print('FIM')\n",
    "\n",
    "print()\n",
    "       # 0123456789..\n",
    "frase = 'curso de Python'\n",
    "print(f'-=-=-= A frase possui {len(frase)} letras -=-=-=')\n",
    "print('contagem: ', end= '')\n",
    "for c in range(len(frase)):\n",
    "    print(f'{c} ', end= '')\n",
    "\n",
    "print()\n",
    "\n",
    "# utilizando índice para imprimir letras da frase\n",
    "for c in range(len(frase)):\n",
    "    print(f'{frase[c]}', end= '')"
   ]
  },
  {
   "cell_type": "code",
   "execution_count": 22,
   "id": "1f007e3e",
   "metadata": {},
   "outputs": [
    {
     "name": "stdout",
     "output_type": "stream",
     "text": [
      "nohtyP ed osruc"
     ]
    }
   ],
   "source": [
    "# letra por letra de trás pra frente\n",
    "\n",
    "for c in range(len(frase) -1, -1, -1): # o índice começa em 0 e vai até 14, por isso tem de subtrair 1 do tamanho (15)\n",
    "    print(f'{frase[c]}', end='')"
   ]
  },
  {
   "cell_type": "code",
   "execution_count": 7,
   "id": "d7233e86",
   "metadata": {},
   "outputs": [
    {
     "name": "stdout",
     "output_type": "stream",
     "text": [
      "curso de Python"
     ]
    }
   ],
   "source": [
    "# spoiler: forma mais fácil de percorrer uma string\n",
    "\n",
    "letras = 'curso de Python' # string é uma lista de caracteres\n",
    "\n",
    "for letra in letras: # usa-se in para percorrer lista\n",
    "    print(letra, end='')"
   ]
  },
  {
   "cell_type": "markdown",
   "id": "ae559379",
   "metadata": {},
   "source": [
    "<mark> Fazer os exercícios do 40 ao 50. </mark>"
   ]
  },
  {
   "cell_type": "markdown",
   "id": "d3025099",
   "metadata": {},
   "source": [
    "### Estrutura de Repetição while\n",
    "Estrutura de repetição com teste lógico"
   ]
  },
  {
   "cell_type": "code",
   "execution_count": 2,
   "id": "68468f6b",
   "metadata": {},
   "outputs": [
    {
     "name": "stdout",
     "output_type": "stream",
     "text": [
      "1 2 3 4 5 6 7 8 9 FIM\n",
      "1 2 3 4 5 6 7 8 9 FIM\n"
     ]
    }
   ],
   "source": [
    "for c in range(1, 10):\n",
    "    print(c, end=' ')\n",
    "print('FIM')\n",
    "\n",
    "# Sabendo o limite, também é possível usar while\n",
    "\n",
    "c = 1 # contador/início\n",
    "\n",
    "while c < 10:\n",
    "    print(c, end=' ')\n",
    "    c += 1 # passo\n",
    "print('FIM')"
   ]
  },
  {
   "cell_type": "code",
   "execution_count": 1,
   "id": "c6e54c84",
   "metadata": {},
   "outputs": [
    {
     "name": "stdout",
     "output_type": "stream",
     "text": [
      "Digite um valor: 1\n",
      "Digite um valor: 2\n",
      "Digite um valor: 4\n",
      "Digite um valor: 9\n",
      "Digite um valor: 2\n",
      "Digite um valor: 0\n",
      "FIM\n"
     ]
    }
   ],
   "source": [
    "# Quando não souber o limite, while é mais eficaz\n",
    "# Por exemplo, o loop deve finalizar quando o usuário digitar 0:\n",
    "\n",
    "num = 1\n",
    "\n",
    "while num != 0: # é necessário um flag para interromper o laço\n",
    "    num = int(input('Digite um valor: '))\n",
    "print('FIM')"
   ]
  },
  {
   "cell_type": "code",
   "execution_count": 2,
   "id": "7fa39a00",
   "metadata": {},
   "outputs": [
    {
     "name": "stdout",
     "output_type": "stream",
     "text": [
      "Digite um valor: 3\n",
      "Digite um valor: 4\n",
      "Digite um valor: 0\n",
      "FIM\n"
     ]
    }
   ],
   "source": [
    "# obs: é possível interromper o laço com for utilizando a instrução break\n",
    "\n",
    "for c in range(1, 5):\n",
    "    num = int(input('Digite um valor: '))\n",
    "    if num == 0:\n",
    "        break # interrompe o laço antes do fim\n",
    "print('FIM')"
   ]
  },
  {
   "cell_type": "code",
   "execution_count": 17,
   "id": "14bad77d",
   "metadata": {},
   "outputs": [
    {
     "name": "stdout",
     "output_type": "stream",
     "text": [
      "Digite um valor: 3\n",
      "Quer continuar? [S/N]s\n",
      "Digite um valor: 4\n",
      "Quer continuar? [S/N]s\n",
      "Digite um valor: 6\n",
      "Quer continuar? [S/N]s\n",
      "Digite um valor: 2\n",
      "Quer continuar? [S/N]n\n",
      "FIM\n"
     ]
    }
   ],
   "source": [
    "num = 0\n",
    "resp = 'S'\n",
    "\n",
    "while resp == 'S': # flag\n",
    "    num = int(input('Digite um valor: '))\n",
    "    resp = str(input('Quer continuar? [S/N] ')).upper()\n",
    "print('FIM')"
   ]
  },
  {
   "cell_type": "code",
   "execution_count": 19,
   "id": "6c51308c",
   "metadata": {},
   "outputs": [
    {
     "name": "stdout",
     "output_type": "stream",
     "text": [
      "Digite um valor: 2\n",
      "Digite um valor: 3\n",
      "Digite um valor: 5\n",
      "Digite um valor: 8\n",
      "Digite um valor: 9\n",
      "Digite um valor: 13\n",
      "Digite um valor: 4\n",
      "Digite um valor: 0\n",
      "Você digitou 3 números pares e 4 números ímpares\n"
     ]
    }
   ],
   "source": [
    "num =1\n",
    "par = impar = 0\n",
    "\n",
    "while num != 0: # flag\n",
    "    num = int(input('Digite um valor: '))\n",
    "    if num != 0: # flag não pode contar como par\n",
    "        if n % 2 == 0:\n",
    "            par += 1\n",
    "        else:\n",
    "            impar += 1\n",
    "print(f'Você digitou {par} números pares e {impar} números ímpares')"
   ]
  },
  {
   "cell_type": "markdown",
   "id": "8bbc1163",
   "metadata": {},
   "source": [
    "<mark> Fazer os exercícios do 51 ao 59. </mark>"
   ]
  },
  {
   "cell_type": "code",
   "execution_count": 13,
   "id": "26213978",
   "metadata": {},
   "outputs": [
    {
     "name": "stdout",
     "output_type": "stream",
     "text": [
      "Digite um número: 4\n",
      "Digite um número: 5\n",
      "Digite um número: 8\n",
      "Digite um número: 999\n",
      "A soma vale 17\n",
      "Digite um número: 4\n",
      "Digite um número: 5\n",
      "Digite um número: 8\n",
      "Digite um número: 999\n",
      "A soma vale 17\n"
     ]
    }
   ],
   "source": [
    "num = soma = 0\n",
    "\n",
    "while num != 999: # flag\n",
    "    num = int(input('Digite um número: '))\n",
    "    soma += num\n",
    "soma -= 999 # gambiarra para subtrair o flag da soma\n",
    "print(f'A soma vale {soma}')\n",
    "\n",
    "num = soma = 0\n",
    "\n",
    "while num != 999: # flag\n",
    "    num = int(input('Digite um número: '))\n",
    "    if num != 999: # modo correto: se não for o flag, soma\n",
    "        soma += num\n",
    "print(f'A soma vale {soma}')"
   ]
  },
  {
   "cell_type": "code",
   "execution_count": 17,
   "id": "0d732b99",
   "metadata": {},
   "outputs": [
    {
     "name": "stdout",
     "output_type": "stream",
     "text": [
      "Digite um número: 4\n",
      "Digite um número: 5\n",
      "Digite um número: 8\n",
      "Digite um número: 999\n",
      "A soma vale 17\n"
     ]
    }
   ],
   "source": [
    "# utilizando a instrução break no laço com while\n",
    "\n",
    "soma = 0\n",
    "\n",
    "while True: # será sempre verdade\n",
    "    num = int(input('Digite um número: '))\n",
    "    if num == 999: # flag\n",
    "        break # instrução necessária para sair do loop infinito\n",
    "    soma += num\n",
    "print(f'A soma vale {soma}')"
   ]
  },
  {
   "cell_type": "markdown",
   "id": "93c31345",
   "metadata": {},
   "source": [
    "### Instrução break e continue\n",
    "Funcionam quando aninhado em laço de repetição **for** ou **while**"
   ]
  },
  {
   "cell_type": "code",
   "execution_count": 4,
   "id": "d333206d",
   "metadata": {},
   "outputs": [
    {
     "name": "stdout",
     "output_type": "stream",
     "text": [
      "Entrando no laço...\n",
      "0 1 2 3 4 5 \n",
      "Saindo do laço...\n"
     ]
    }
   ],
   "source": [
    "print(\"Entrando no laço...\")\n",
    "for i in range(10):\n",
    "    print(i, end = ' ')\n",
    "    if i == 5:\n",
    "        break # interrompe o laço antes do fim\n",
    "  # else:\n",
    "      # pass\n",
    "print(\"\\nSaindo do laço...\")"
   ]
  },
  {
   "cell_type": "code",
   "execution_count": 2,
   "id": "be8f417a",
   "metadata": {},
   "outputs": [
    {
     "name": "stdout",
     "output_type": "stream",
     "text": [
      "Entrando no laço...\n",
      "1 3 5 7 9 \n",
      "Saindo do laço...\n"
     ]
    }
   ],
   "source": [
    "print(\"Entrando no laço...\")\n",
    "i = 0\n",
    "while(i<10):\n",
    "    i += 1\n",
    "    if (i%2 == 0): # número par\n",
    "        continue # ignora o comando posterior, mas não interrompe o laço, ou seja, salta para o próximo i\n",
    "    print(i, end =' ')\n",
    "print(\"\\nSaindo do laço...\")"
   ]
  },
  {
   "cell_type": "markdown",
   "id": "2011b574",
   "metadata": {},
   "source": [
    "<mark> Fazer os exercícios do 60 ao 65. </mark>"
   ]
  },
  {
   "cell_type": "markdown",
   "id": "75e0cc57",
   "metadata": {},
   "source": [
    "## Variáveis compostas"
   ]
  },
  {
   "cell_type": "markdown",
   "id": "20cdafbd",
   "metadata": {},
   "source": [
    "### Estrutura de Tuplas\n",
    "**As tuplas são imutáveis!**"
   ]
  },
  {
   "cell_type": "code",
   "execution_count": 35,
   "id": "3c042eea",
   "metadata": {},
   "outputs": [
    {
     "name": "stdout",
     "output_type": "stream",
     "text": [
      "<class 'str'>\n",
      "<class 'int'>\n",
      "<class 'tuple'>\n",
      "<class 'tuple'>\n",
      "<class 'tuple'>\n",
      "<class 'tuple'>\n"
     ]
    }
   ],
   "source": [
    "x1 = ('abc')\n",
    "x2 = (123)\n",
    "y1 = ('a', 'b', 'c') # tupla\n",
    "y2 = (1, 2, 3)\n",
    "z1 = 'a', 'b', 'c' # a partir do python 3.5 não precisa de parênteses\n",
    "z2 = 1, 2, 3\n",
    "print(type(x1))\n",
    "print(type(x2))\n",
    "print(type(y1))\n",
    "print(type(y2))\n",
    "print(type(z1))\n",
    "print(type(z2))"
   ]
  },
  {
   "cell_type": "code",
   "execution_count": 37,
   "id": "a5888a12",
   "metadata": {},
   "outputs": [
    {
     "ename": "AttributeError",
     "evalue": "'tuple' object has no attribute 'replace'",
     "output_type": "error",
     "traceback": [
      "\u001b[1;31m---------------------------------------------------------------------------\u001b[0m",
      "\u001b[1;31mAttributeError\u001b[0m                            Traceback (most recent call last)",
      "\u001b[1;32m~\\AppData\\Local\\Temp\\ipykernel_18236\\3481490646.py\u001b[0m in \u001b[0;36m<module>\u001b[1;34m\u001b[0m\n\u001b[1;32m----> 1\u001b[1;33m \u001b[0my1\u001b[0m \u001b[1;33m=\u001b[0m \u001b[0my1\u001b[0m\u001b[1;33m.\u001b[0m\u001b[0mreplace\u001b[0m\u001b[1;33m(\u001b[0m\u001b[1;34m'b'\u001b[0m\u001b[1;33m,\u001b[0m \u001b[1;34m'B'\u001b[0m\u001b[1;33m)\u001b[0m \u001b[1;31m#erro, pois tuplas são imutáveis\u001b[0m\u001b[1;33m\u001b[0m\u001b[1;33m\u001b[0m\u001b[0m\n\u001b[0m\u001b[0;32m      2\u001b[0m \u001b[0mprint\u001b[0m\u001b[1;33m(\u001b[0m\u001b[0my1\u001b[0m\u001b[1;33m)\u001b[0m\u001b[1;33m\u001b[0m\u001b[1;33m\u001b[0m\u001b[0m\n",
      "\u001b[1;31mAttributeError\u001b[0m: 'tuple' object has no attribute 'replace'"
     ]
    }
   ],
   "source": [
    "y1 = y1.replace('b', 'B') # erro, pois tuplas são imutáveis e este é um método para strings\n",
    "print(y1)"
   ]
  },
  {
   "cell_type": "code",
   "execution_count": 122,
   "id": "9146a8fb",
   "metadata": {},
   "outputs": [
    {
     "name": "stdout",
     "output_type": "stream",
     "text": [
      "('Icaro', 39, 'M', 83.5)\n",
      "<class 'tuple'>\n",
      "Icaro\n",
      "<class 'str'>\n",
      "39\n",
      "<class 'int'>\n"
     ]
    }
   ],
   "source": [
    "# As tuplas são semelhantes a vetores, porém no python uma tupla pode conter tipos diferentes\n",
    "\n",
    "pessoa = ('Icaro', 39, 'M', 83.5)\n",
    "print(pessoa)\n",
    "print(type(pessoa))\n",
    "print(pessoa[0]) # usando índice\n",
    "print(type(pessoa[0]))\n",
    "print(pessoa[1]) # usando índice\n",
    "print(type(pessoa[1]))"
   ]
  },
  {
   "cell_type": "code",
   "execution_count": 1,
   "id": "82ee8c5c",
   "metadata": {},
   "outputs": [
    {
     "name": "stdout",
     "output_type": "stream",
     "text": [
      "('Hambúrguer', 'Suco', 'Pizza', 'Pudim')\n",
      "Suco\n",
      "Suco\n",
      "('Suco', 'Pizza')\n",
      "('Suco', 'Pizza')\n",
      "('Pizza', 'Pudim')\n",
      "('Suco', 'Pizza', 'Pudim')\n",
      "('Hambúrguer', 'Suco')\n",
      "('Hambúrguer', 'Suco')\n"
     ]
    }
   ],
   "source": [
    "# índice       0           1       2        3\n",
    "# índice      -4          -3      -2       -1\n",
    "lanche = ('Hambúrguer', 'Suco', 'Pizza', 'Pudim')\n",
    "print(lanche)\n",
    "\n",
    "# fatiamento\n",
    "\n",
    "print(lanche[1])\n",
    "print(lanche[-3])\n",
    "print(lanche[1:3]) # [1,3)\n",
    "print(lanche[-3:-1]) # [-3,-1)\n",
    "print(lanche[2:]) # [2,3]\n",
    "print(lanche[-3:]) # [-3, -1]\n",
    "print(lanche[:2]) # [0, 2)\n",
    "print(lanche[:-2]) # [-4, -2)"
   ]
  },
  {
   "cell_type": "code",
   "execution_count": 2,
   "id": "2bd37bb7",
   "metadata": {},
   "outputs": [
    {
     "name": "stdout",
     "output_type": "stream",
     "text": [
      "('Hambúrguer', 'Suco', 'Pizza', 'Pudim')\n",
      "('Suco', 'Pudim')\n",
      "('Suco',)\n",
      "('Suco', 'Pudim')\n",
      "('Pudim', 'Suco')\n"
     ]
    }
   ],
   "source": [
    "print(lanche[-4:]) # [-4:-1]\n",
    "print(lanche[1::2]) # incremento = 2\n",
    "print(lanche[1:3:2]) # [1, 3) com incremento de 2\n",
    "print(lanche[-3::2]) # [-3,-1] com incremento de 2\n",
    "print(lanche[-1::-2]) # [-1,-4] com decremento de -2, logo -1 e -3 (reverso)"
   ]
  },
  {
   "cell_type": "code",
   "execution_count": 55,
   "id": "76ceb14b",
   "metadata": {},
   "outputs": [
    {
     "ename": "TypeError",
     "evalue": "'tuple' object does not support item assignment",
     "output_type": "error",
     "traceback": [
      "\u001b[1;31m---------------------------------------------------------------------------\u001b[0m",
      "\u001b[1;31mTypeError\u001b[0m                                 Traceback (most recent call last)",
      "\u001b[1;32m~\\AppData\\Local\\Temp\\ipykernel_18236\\1378763276.py\u001b[0m in \u001b[0;36m<module>\u001b[1;34m\u001b[0m\n\u001b[1;32m----> 1\u001b[1;33m \u001b[0mlanche\u001b[0m\u001b[1;33m[\u001b[0m\u001b[1;36m1\u001b[0m\u001b[1;33m]\u001b[0m \u001b[1;33m=\u001b[0m \u001b[1;34m'Refrigerante'\u001b[0m \u001b[1;31m#erro, pois tuplas são imutáveis\u001b[0m\u001b[1;33m\u001b[0m\u001b[1;33m\u001b[0m\u001b[0m\n\u001b[0m\u001b[0;32m      2\u001b[0m \u001b[0mprint\u001b[0m\u001b[1;33m(\u001b[0m\u001b[0mlanche\u001b[0m\u001b[1;33m[\u001b[0m\u001b[1;36m1\u001b[0m\u001b[1;33m]\u001b[0m\u001b[1;33m)\u001b[0m\u001b[1;33m\u001b[0m\u001b[1;33m\u001b[0m\u001b[0m\n",
      "\u001b[1;31mTypeError\u001b[0m: 'tuple' object does not support item assignment"
     ]
    }
   ],
   "source": [
    "lanche[1] = 'Refrigerante' # erro, pois tuplas são imutáveis e também não existe um método igual ao de strings \n",
    "print(lanche[1])"
   ]
  },
  {
   "cell_type": "code",
   "execution_count": 3,
   "id": "720efd7a",
   "metadata": {},
   "outputs": [
    {
     "name": "stdout",
     "output_type": "stream",
     "text": [
      "Hambúrguer Suco Pizza Pudim \n",
      "Fim\n",
      "Hambúrguer Suco Pizza \n",
      "Fim\n",
      "Pudim Pizza Suco Hambúrguer \n",
      "Fim\n"
     ]
    }
   ],
   "source": [
    "# percorrendo tuplas\n",
    "\n",
    "for comida in lanche:\n",
    "    print(f'{comida} ', end='')\n",
    "print('\\nFim')\n",
    "for comida in lanche[0:3]: # [0, 3)\n",
    "    print(f'{comida} ', end='')\n",
    "print('\\nFim')\n",
    "for comida in lanche[::-1]: # reverso\n",
    "    print(f'{comida} ', end='')\n",
    "print('\\nFim')"
   ]
  },
  {
   "cell_type": "code",
   "execution_count": 7,
   "id": "13d898ab",
   "metadata": {},
   "outputs": [
    {
     "name": "stdout",
     "output_type": "stream",
     "text": [
      "A tupla tem 4 elementos:\n",
      "Índices: 0 1 2 3 \n",
      "Valores: Hambúrguer Suco Pizza Pudim "
     ]
    }
   ],
   "source": [
    "# outras formas de percorrer tuplas\n",
    "\n",
    "print(f'A tupla tem {len(lanche)} elementos:')\n",
    "print('Índices: ', end='')\n",
    "for cont in range(0, len(lanche)):\n",
    "    print(cont, end=' ') # mostra índice\n",
    "print()\n",
    "\n",
    "print('Valores: ', end='')\n",
    "for cont in range(0, len(lanche)):\n",
    "    print(f'{lanche[cont]} ', end='') # mostra valores"
   ]
  },
  {
   "cell_type": "code",
   "execution_count": 95,
   "id": "32d88d1c",
   "metadata": {},
   "outputs": [
    {
     "name": "stdout",
     "output_type": "stream",
     "text": [
      "0 - Hambúrguer\n",
      "1 - Suco\n",
      "2 - Pizza\n",
      "3 - Pudim\n",
      "Fim\n",
      "0 - Hambúrguer\n",
      "1 - Suco\n",
      "2 - Pizza\n",
      "3 - Pudim\n"
     ]
    }
   ],
   "source": [
    "# mostrando índices e valores lado a lado\n",
    "\n",
    "for cont in range(0, len(lanche)):\n",
    "    print(f'{cont} - {lanche[cont]}')\n",
    "print('Fim')\n",
    "\n",
    "# função enumerate\n",
    "\n",
    "for pos, comida in enumerate(lanche):\n",
    "    print(f'{pos} - {comida}')"
   ]
  },
  {
   "cell_type": "markdown",
   "id": "07c6079b",
   "metadata": {},
   "source": [
    "### Operações com Tuplas"
   ]
  },
  {
   "cell_type": "code",
   "execution_count": 8,
   "id": "79bc9c7d",
   "metadata": {},
   "outputs": [
    {
     "name": "stdout",
     "output_type": "stream",
     "text": [
      "['Hambúrguer', 'Pizza', 'Pudim', 'Suco']\n",
      "('Hambúrguer', 'Suco', 'Pizza', 'Pudim')\n"
     ]
    }
   ],
   "source": [
    "lista = sorted(lanche) # a função cria uma lista ordenada a partir de uma tupla\n",
    "print(lista)\n",
    "print(lanche) # a tupla permanece imutável"
   ]
  },
  {
   "cell_type": "code",
   "execution_count": 9,
   "id": "38b8ee58",
   "metadata": {},
   "outputs": [
    {
     "name": "stdout",
     "output_type": "stream",
     "text": [
      "(2, 5, 4, 5, 8, 1, 2)\n",
      "((2, 5, 4), (5, 8, 1, 2))\n"
     ]
    }
   ],
   "source": [
    "a = (2, 5, 4)\n",
    "b = (5, 8, 1, 2)\n",
    "c = a + b # apenas concatena, e não é igual a: b + a\n",
    "d = a , b # tuplas dentro de tupla como (a, b)\n",
    "print(c)\n",
    "print(d)"
   ]
  },
  {
   "cell_type": "code",
   "execution_count": 10,
   "id": "390b81e9",
   "metadata": {},
   "outputs": [
    {
     "name": "stdout",
     "output_type": "stream",
     "text": [
      "2\n"
     ]
    }
   ],
   "source": [
    "print(c.count(5)) # método interno no objeto da tupla semelhante a contagem em string, conta os números 5 em c"
   ]
  },
  {
   "cell_type": "code",
   "execution_count": 12,
   "id": "b1956138",
   "metadata": {},
   "outputs": [
    {
     "name": "stdout",
     "output_type": "stream",
     "text": [
      "0\n",
      "6\n"
     ]
    }
   ],
   "source": [
    "print(c.index(2)) # índice da primeira ocorrência do valor 2\n",
    "\n",
    "print(c.index(2, 1)) # começa a procurar o 2 partir do índice 1"
   ]
  },
  {
   "cell_type": "code",
   "execution_count": 14,
   "id": "2bcaf21a",
   "metadata": {},
   "outputs": [
    {
     "name": "stdout",
     "output_type": "stream",
     "text": [
      "3\n",
      "2\n",
      "4\n",
      "6\n"
     ]
    }
   ],
   "source": [
    "#index      0        1         2        3        4        5        6\n",
    "nomes = ('Icaro', 'Carlos', 'Maria', 'Pedro', 'Maria', 'Joana', 'Maria')\n",
    "print(nomes.count('Maria'))\n",
    "print(nomes.index('Maria')) # mostra a primeira ocorrência\n",
    "print(nomes.index('Maria', 3)) # mostra a primeira ocorrência a partir da posição 3\n",
    "print(nomes.index('Maria', 5)) # deslocamento"
   ]
  },
  {
   "cell_type": "code",
   "execution_count": 123,
   "id": "376728bd",
   "metadata": {},
   "outputs": [
    {
     "ename": "TypeError",
     "evalue": "'tuple' object doesn't support item deletion",
     "output_type": "error",
     "traceback": [
      "\u001b[1;31m---------------------------------------------------------------------------\u001b[0m",
      "\u001b[1;31mTypeError\u001b[0m                                 Traceback (most recent call last)",
      "\u001b[1;32m~\\AppData\\Local\\Temp\\ipykernel_18236\\888222988.py\u001b[0m in \u001b[0;36m<module>\u001b[1;34m\u001b[0m\n\u001b[1;32m----> 1\u001b[1;33m \u001b[1;32mdel\u001b[0m\u001b[1;33m(\u001b[0m\u001b[0mnomes\u001b[0m\u001b[1;33m[\u001b[0m\u001b[1;36m0\u001b[0m\u001b[1;33m]\u001b[0m\u001b[1;33m)\u001b[0m \u001b[1;31m#erro, pois tuplas são imutáveis\u001b[0m\u001b[1;33m\u001b[0m\u001b[1;33m\u001b[0m\u001b[0m\n\u001b[0m",
      "\u001b[1;31mTypeError\u001b[0m: 'tuple' object doesn't support item deletion"
     ]
    }
   ],
   "source": [
    "del(nomes[0]) #erro, pois tuplas são imutáveis"
   ]
  },
  {
   "cell_type": "code",
   "execution_count": 127,
   "id": "cb6cb910",
   "metadata": {},
   "outputs": [
    {
     "ename": "NameError",
     "evalue": "name 'compras' is not defined",
     "output_type": "error",
     "traceback": [
      "\u001b[1;31m---------------------------------------------------------------------------\u001b[0m",
      "\u001b[1;31mNameError\u001b[0m                                 Traceback (most recent call last)",
      "\u001b[1;32m~\\AppData\\Local\\Temp\\ipykernel_18236\\2042087081.py\u001b[0m in \u001b[0;36m<module>\u001b[1;34m\u001b[0m\n\u001b[0;32m      1\u001b[0m \u001b[0mcompras\u001b[0m \u001b[1;33m=\u001b[0m \u001b[1;33m(\u001b[0m\u001b[1;34m'lápis'\u001b[0m\u001b[1;33m,\u001b[0m \u001b[1;34m'caneta'\u001b[0m\u001b[1;33m,\u001b[0m \u001b[1;34m'caderno'\u001b[0m\u001b[1;33m,\u001b[0m \u001b[1;34m'calculadora'\u001b[0m\u001b[1;33m)\u001b[0m\u001b[1;33m\u001b[0m\u001b[1;33m\u001b[0m\u001b[0m\n\u001b[0;32m      2\u001b[0m \u001b[1;32mdel\u001b[0m \u001b[1;33m(\u001b[0m\u001b[0mcompras\u001b[0m\u001b[1;33m)\u001b[0m \u001b[1;31m#apaga a tupla\u001b[0m\u001b[1;33m\u001b[0m\u001b[1;33m\u001b[0m\u001b[0m\n\u001b[1;32m----> 3\u001b[1;33m \u001b[0mprint\u001b[0m\u001b[1;33m(\u001b[0m\u001b[0mcompras\u001b[0m\u001b[1;33m)\u001b[0m\u001b[1;33m\u001b[0m\u001b[1;33m\u001b[0m\u001b[0m\n\u001b[0m",
      "\u001b[1;31mNameError\u001b[0m: name 'compras' is not defined"
     ]
    }
   ],
   "source": [
    "compras = ('lápis', 'caneta', 'caderno', 'calculadora')\n",
    "del (compras) # apaga a tupla\n",
    "print(compras)"
   ]
  },
  {
   "cell_type": "code",
   "execution_count": 8,
   "id": "05e46dee",
   "metadata": {},
   "outputs": [
    {
     "data": {
      "text/plain": [
       "True"
      ]
     },
     "execution_count": 8,
     "metadata": {},
     "output_type": "execute_result"
    }
   ],
   "source": [
    "cidades = ('São Paulo', 'Belo Horisonte', 'Brasília')\n",
    "'Brasília' in cidades # funciona assim como em strings e listas"
   ]
  },
  {
   "cell_type": "markdown",
   "id": "e5b1859d",
   "metadata": {},
   "source": [
    "<mark> Fazer os exercícios do 66 ao 71. </mark>"
   ]
  },
  {
   "cell_type": "code",
   "execution_count": 57,
   "id": "aa5593b5",
   "metadata": {},
   "outputs": [
    {
     "name": "stdout",
     "output_type": "stream",
     "text": [
      "(1, 2, 3, 4, 5, 6, 7, 8, 9, 10, 11, 12, 13, 14, 15, 16, 17, 18, 19, 20)\n",
      "<class 'tuple'>\n",
      "(2, 4, 6, 8, 10, 12, 14, 16, 18, 20)\n"
     ]
    }
   ],
   "source": [
    "# Tuple comprehension\n",
    "\n",
    "# tuple(<expression> for <var> in <iterable> {if <condition})\n",
    "\n",
    "numeros = tuple(range(1, 21))\n",
    "print(numeros)\n",
    "\n",
    "pares = tuple(numero for numero in numeros if numero % 2 == 0) # tem de chamar a função tuple, não bastam os parênteses\n",
    "print(type(pares))\n",
    "print(pares)"
   ]
  },
  {
   "cell_type": "code",
   "execution_count": 1,
   "id": "741094fe",
   "metadata": {},
   "outputs": [
    {
     "name": "stdout",
     "output_type": "stream",
     "text": [
      "(('regata', 'short'), ('regata', 'bermuda'), ('regata', 'calça'), ('camiseta', 'short'), ('camiseta', 'bermuda'), ('camiseta', 'calça'), ('casaco', 'short'), ('casaco', 'bermuda'), ('casaco', 'calça'))\n"
     ]
    }
   ],
   "source": [
    "# combinando tuplas\n",
    "\n",
    "superior = ('regata', 'camiseta', 'casaco')\n",
    "inferior = ('short', 'bermuda', 'calça')\n",
    "\n",
    "vestimenta = tuple((sup, inf) for sup in superior for inf in inferior)\n",
    "\n",
    "print(vestimenta)"
   ]
  },
  {
   "cell_type": "code",
   "execution_count": 58,
   "id": "caf028a2",
   "metadata": {},
   "outputs": [
    {
     "name": "stdout",
     "output_type": "stream",
     "text": [
      "(1, 2, 3, 4, 5, 6, 7, 8, 9, 10)\n",
      "<class 'generator'>\n",
      "2\n",
      "4\n",
      "6\n",
      "8\n",
      "10\n"
     ]
    }
   ],
   "source": [
    "# Generator comprehension\n",
    "\n",
    "# (<expression> for <var> in <iterable> if <condition>)\n",
    "\n",
    "numeros = tuple(range(1, 11))\n",
    "print(numeros)\n",
    "\n",
    "pares = (numero for numero in numeros if numero % 2 == 0) # somente entre parênteses\n",
    "print(type(pares)) # spoiler: é um objeto do tipo generator que possui os métodos mágicos __iter__ e __next__\n",
    "\n",
    "print(next(pares)) # 2\n",
    "print(next(pares)) # 4\n",
    "print(next(pares)) # 6\n",
    "print(next(pares)) # 8\n",
    "print(next(pares)) # 10\n",
    "# print(next(pares)) # erro"
   ]
  },
  {
   "cell_type": "code",
   "execution_count": 74,
   "id": "f0d0d3d0",
   "metadata": {},
   "outputs": [
    {
     "name": "stdout",
     "output_type": "stream",
     "text": [
      "2\n",
      "4\n",
      "6\n",
      "8\n",
      "10\n"
     ]
    }
   ],
   "source": [
    "pares = (numero for numero in numeros if numero%2 == 0)\n",
    "\n",
    "for num in pares: # usando objeto gerador de sequência\n",
    "    print(num) # gerando um resultado para cada interação\n",
    "    \n",
    "# spoiler: no notebook de funções haverá mais estudos sobre funções geradoras"
   ]
  },
  {
   "cell_type": "code",
   "execution_count": 77,
   "id": "b35bb436",
   "metadata": {},
   "outputs": [
    {
     "name": "stdout",
     "output_type": "stream",
     "text": [
      "25\n"
     ]
    }
   ],
   "source": [
    "# usando a função sum()\n",
    "\n",
    "impares = (numero for numero in numeros if numero%2 != 0)\n",
    "\n",
    "'''\n",
    "soma = 0\n",
    "\n",
    "for num in impares:\n",
    "    soma += num\n",
    "print(soma)\n",
    "'''\n",
    "\n",
    "print(sum(impares)) # não está na memória, ele gera e soma"
   ]
  },
  {
   "cell_type": "markdown",
   "id": "d4272183",
   "metadata": {},
   "source": [
    "<mark> Fazer os exercícios do 72 ao 77. </mark>"
   ]
  },
  {
   "cell_type": "markdown",
   "id": "8c01a79d",
   "metadata": {},
   "source": [
    "### Estrutura de Listas\n",
    "Semelhante às tuplas, porém **as listas são mutáveis**"
   ]
  },
  {
   "cell_type": "code",
   "execution_count": 17,
   "id": "2ea5be25",
   "metadata": {},
   "outputs": [
    {
     "name": "stdout",
     "output_type": "stream",
     "text": [
      "[2, 5, 9, 1]\n",
      "[2, 5, 3, 1]\n",
      "[2, 3, 1]\n"
     ]
    }
   ],
   "source": [
    "num = [2, 5, 9, 1]\n",
    "print(num)\n",
    "\n",
    "num[2] = 3 # altera valor pelo index\n",
    "print(num)\n",
    "\n",
    "del num[1] # apaga valor pelo index\n",
    "print(num)\n",
    "\n",
    "# obs.: num[3] = 7 # não adiciona (erro)"
   ]
  },
  {
   "cell_type": "code",
   "execution_count": 2,
   "id": "33658cd4",
   "metadata": {},
   "outputs": [
    {
     "name": "stdout",
     "output_type": "stream",
     "text": [
      "[2, 5, 9, 1, 7]\n",
      "[2, 5, 0, 9, 1, 7]\n"
     ]
    }
   ],
   "source": [
    "# métodos para adicionar valores a uma lista\n",
    "\n",
    "num = [2, 5, 9, 1]\n",
    "print(num)\n",
    "\n",
    "num.append(7) # adiciona no final\n",
    "print(num)\n",
    "\n",
    "num.insert(2, 0) # na posição 2 insere o valor 0\n",
    "print(num)"
   ]
  },
  {
   "cell_type": "code",
   "execution_count": 1,
   "id": "9c7f52bf",
   "metadata": {},
   "outputs": [
    {
     "name": "stdout",
     "output_type": "stream",
     "text": [
      "[2, 5, 9, 1, 10, 13, 20]\n",
      "[2, 5, 9, 1, 10, 13, 20]\n"
     ]
    }
   ],
   "source": [
    "# concatenando listas\n",
    "\n",
    "lista1 = [2, 5, 9, 1]\n",
    "lista2 = [10, 13, 20]\n",
    "\n",
    "lista1 = lista1 + lista2\n",
    "print(lista1)\n",
    "\n",
    "# estendendo a lista \n",
    "\n",
    "lista1 = [2, 5, 9, 1]\n",
    "lista2 = [10, 13, 20]\n",
    "\n",
    "lista1.extend(lista2)\n",
    "print(lista1)"
   ]
  },
  {
   "cell_type": "code",
   "execution_count": 21,
   "id": "e29aa200",
   "metadata": {},
   "outputs": [
    {
     "name": "stdout",
     "output_type": "stream",
     "text": [
      "[3, 2, 5, 9, 2, 1]\n",
      "[3, 2, 5, 9, 2]\n",
      "[3, 2, 9, 2]\n",
      "[3, 9, 2]\n",
      "[3, 2]\n",
      "['w', 'c', 'h', 'm', 'c', 'a']\n",
      "['w', 'h', 'm', 'c', 'a']\n",
      "['w', 'm', 'c', 'a']\n"
     ]
    }
   ],
   "source": [
    "# métodos para remover valores de uma lista\n",
    "\n",
    "num = [3, 2, 5, 9, 2, 1]\n",
    "print(num)\n",
    "\n",
    "num.pop() # remove o último\n",
    "print(num)\n",
    "\n",
    "num.pop(2) # remove na posição 2\n",
    "print(num)\n",
    "\n",
    "num.remove(2) # remove o 1º valor, neste caso o 2, encontrado da esquerda pra direita\n",
    "print(num)\n",
    "\n",
    "letras = ['w', 'c', 'h', 'm', 'c', 'a']\n",
    "print(letras)\n",
    "letras.remove('c')\n",
    "print(letras)\n",
    "letras.pop(1)\n",
    "print(letras)"
   ]
  },
  {
   "cell_type": "code",
   "execution_count": 19,
   "id": "cf698f1d",
   "metadata": {},
   "outputs": [
    {
     "name": "stdout",
     "output_type": "stream",
     "text": [
      "[1, 2, 5, 9]\n"
     ]
    }
   ],
   "source": [
    "# Algoritmo Bubble sort, usado para ordenar lista\n",
    "\n",
    "num = [9, 2, 5, 1]\n",
    "n = len(num) # len() funciona igual em strings (que é uma lista de caracteres) e em tuplas\n",
    "\n",
    "for i in range(n): # [0,4)\n",
    "    for j in range(n - i - 1): # o -1 é porque o maior vai para o fim e não precisa compará-lo novamente\n",
    "        if num[j] > num[j+1]:\n",
    "            num[j], num[j+1] = num[j+1], num[j]\n",
    "            \n",
    "'''Explicação: é ineficiente para grandes conjuntos de dados, pois compara 2 a 2\n",
    "i = 0, j = [0,3) -> num[0] > num[1], logo inverte 9 e 2 = [2, 9, 5, 1]; \n",
    "                    num[1] > num[2], logo inverte 9 e 5 = [2, 5, 9, 1];\n",
    "                    num[2] > num[3], logo inverte 9 e 1 = [2, 5, 1, 9]\n",
    "i = 1, j = [0,2) -> num[1] > num[2], logo inverte 5 e 1 = [2, 1, 5, 9]\n",
    "i = 2, j = [0,1) -> num[0] > num[1], logo inverte 2 e 1 = [1, 2, 5, 9]\n",
    "'''\n",
    "print(num)\n",
    "\n",
    "# spoiler: existem algoritmos mais eficientes como Quick sort, Merge sort e Heap sort (notebook de funções)"
   ]
  },
  {
   "cell_type": "code",
   "execution_count": 1,
   "id": "e1331087",
   "metadata": {},
   "outputs": [
    {
     "name": "stdout",
     "output_type": "stream",
     "text": [
      "[1, 2, 5, 9]\n",
      "[9, 5, 2, 1]\n",
      "[1, 2, 5, 9]\n"
     ]
    }
   ],
   "source": [
    "# métodos para ordenar lista\n",
    "\n",
    "num = [2, 5, 9, 1]\n",
    "\n",
    "num.sort() # altera a lista colocando em ordem crescente\n",
    "print(num)\n",
    "\n",
    "num.sort(reverse=True) # altera a lista colocando em ordem decrescente\n",
    "print(num)"
   ]
  },
  {
   "cell_type": "code",
   "execution_count": 9,
   "id": "3812e00b",
   "metadata": {},
   "outputs": [
    {
     "name": "stdout",
     "output_type": "stream",
     "text": [
      "[2, 5, 9, 1]\n",
      "[1, 9, 5, 2]\n"
     ]
    }
   ],
   "source": [
    "# método para reverter lista a colocando de trás pra frente\n",
    "\n",
    "num = [2, 5, 9, 1]\n",
    "print(num)\n",
    "\n",
    "num.reverse() # se em ordem crescente, passa para ordem decrescente\n",
    "print(num)"
   ]
  },
  {
   "cell_type": "code",
   "execution_count": 4,
   "id": "d2835272",
   "metadata": {},
   "outputs": [
    {
     "name": "stdout",
     "output_type": "stream",
     "text": [
      "[2, 5, 9, 1]\n",
      "[1, 2, 5, 9]\n",
      "[9, 5, 2, 1]\n"
     ]
    }
   ],
   "source": [
    "# a função sorted também funciona mas gera outra lista (gera uma lista ordenada dos elementos)\n",
    "\n",
    "num = [2, 5, 9, 1]\n",
    "sorted(num)\n",
    "\n",
    "print(num)\n",
    "\n",
    "num2 = sorted(num)\n",
    "print(num2)\n",
    "\n",
    "num3 = sorted(num, reverse=True)\n",
    "print(num3)"
   ]
  },
  {
   "cell_type": "code",
   "execution_count": 10,
   "id": "d7a11b2e",
   "metadata": {},
   "outputs": [
    {
     "name": "stdout",
     "output_type": "stream",
     "text": [
      "[2, 5, 9, 1]\n",
      "[1, 9, 5, 2]\n"
     ]
    }
   ],
   "source": [
    "num = [2, 5, 9, 1]\n",
    "print(num)\n",
    "\n",
    "num = num[::-1] # recebendo o reverso da própria variável sem uso de método interno da lista\n",
    "print(num)"
   ]
  },
  {
   "cell_type": "code",
   "execution_count": 25,
   "id": "3c2489e3",
   "metadata": {},
   "outputs": [
    {
     "name": "stdout",
     "output_type": "stream",
     "text": [
      "<class 'list'>\n",
      "<class 'list'>\n",
      "[5, 9, 4]\n",
      "5..9..4..\n",
      "Na posição 0, encontrei o valor 5\n",
      "Na posição 1, encontrei o valor 9\n",
      "Na posição 2, encontrei o valor 4\n"
     ]
    }
   ],
   "source": [
    "# criando lista vazia:\n",
    "lista1 = []\n",
    "lista2 = list()\n",
    "print(type(lista1))\n",
    "print(type(lista2))\n",
    "\n",
    "# armazenando valores:\n",
    "lista1.append(5)\n",
    "lista1.append(9)\n",
    "lista1.append(4)\n",
    "print(lista1)\n",
    "\n",
    "# lendo listas:\n",
    "for valor in lista1:\n",
    "    print(f'{valor}..', end='')\n",
    "print()\n",
    "\n",
    "for index, valor in enumerate(lista1):\n",
    "    print(f'Na posição {index}, encontrei o valor {valor}')"
   ]
  },
  {
   "cell_type": "code",
   "execution_count": 77,
   "id": "90b0349d",
   "metadata": {},
   "outputs": [
    {
     "name": "stdout",
     "output_type": "stream",
     "text": [
      "Digite um valor: 4\n",
      "Digite um valor: 8\n",
      "Digite um valor: 9\n",
      "Digite um valor: 1\n",
      "Digite um valor: 3\n",
      "[4, 8, 9, 1, 3]\n"
     ]
    }
   ],
   "source": [
    "# armazenando em uma lista os valores digitados por um usuário\n",
    "\n",
    "valores = []\n",
    "\n",
    "for cont in range(0, 5):\n",
    "    valores.append(int(input('Digite um valor: ')))\n",
    "print(valores)"
   ]
  },
  {
   "cell_type": "code",
   "execution_count": 7,
   "id": "e82b3ce6",
   "metadata": {},
   "outputs": [
    {
     "name": "stdout",
     "output_type": "stream",
     "text": [
      "Lista A: [2, 3, 4, 7]\n",
      "Lista B: [2, 3, 4, 7]\n",
      "\n",
      "Lista A: [2, 3, 8, 7]\n",
      "Lista B: [2, 3, 8, 7]\n"
     ]
    }
   ],
   "source": [
    "# igualando listas\n",
    "\n",
    "a = [2, 3, 4, 7]\n",
    "b = a # não faz cópia, faz ligação !!!!\n",
    "\n",
    "print(f'Lista A: {a}')\n",
    "print(f'Lista B: {b}')\n",
    "print()\n",
    "\n",
    "b[2] = 8\n",
    "\n",
    "print(f'Lista A: {a}') # veja que também se alterou\n",
    "print(f'Lista B: {b}')"
   ]
  },
  {
   "cell_type": "code",
   "execution_count": 6,
   "id": "30c9eafb",
   "metadata": {},
   "outputs": [
    {
     "name": "stdout",
     "output_type": "stream",
     "text": [
      "Lista A: [2, 3, 4, 7]\n",
      "Lista B: [2, 3, 4, 7]\n",
      "\n",
      "Lista A: [2, 3, 4, 7]\n",
      "Lista B: [2, 3, 8, 7]\n"
     ]
    }
   ],
   "source": [
    "# fazendo cópia:\n",
    "\n",
    "a = [2, 3, 4, 7]\n",
    "b = a[:] # b recebe todos os elementos de a. Não tem ligação.\n",
    "\n",
    "print(f'Lista A: {a}')\n",
    "print(f'Lista B: {b}')\n",
    "print()\n",
    "\n",
    "b[2] = 8\n",
    "\n",
    "print(f'Lista A: {a}') # não se alterou\n",
    "print(f'Lista B: {b}')"
   ]
  },
  {
   "cell_type": "code",
   "execution_count": 27,
   "id": "b447a77e",
   "metadata": {},
   "outputs": [
    {
     "name": "stdout",
     "output_type": "stream",
     "text": [
      "False\n",
      "True\n",
      "True\n",
      "\n",
      "True\n"
     ]
    }
   ],
   "source": [
    "# função all()\n",
    "\n",
    "valores = [True, False, True] \n",
    "print(all(valores)) # só retorna True se todos os resultados forem True\n",
    "\n",
    "numeros = [1,2,3,4,5]\n",
    "print(all(numeros)) # retorna True porque avalia que todos são diferentes de 0\n",
    "\n",
    "vazio = []\n",
    "print(all(vazio)) # retorna True\n",
    "print()\n",
    "\n",
    "lista = [2, 4, 6, 8, 10]\n",
    "\n",
    "todos_pares = all(x % 2 == 0 for x in lista) \n",
    "print(todos_pares)"
   ]
  },
  {
   "cell_type": "code",
   "execution_count": 22,
   "id": "239467f9",
   "metadata": {},
   "outputs": [
    {
     "name": "stdout",
     "output_type": "stream",
     "text": [
      "[2, 3, 5, 7, 11, 13, 17, 19, 23, 29, 31, 37, 41, 43, 47, 53, 59, 61, 67, 71, 73, 79, 83, 89, 97]\n"
     ]
    }
   ],
   "source": [
    "primos = []\n",
    "\n",
    "for valor in range(2,101):\n",
    "    if all(valor % n != 0 for n in range(2, int(valor ** 0.5) + 1)): # if True\n",
    "        primos.append(valor)\n",
    "\n",
    "print(primos)"
   ]
  },
  {
   "cell_type": "code",
   "execution_count": 1,
   "id": "29d96668",
   "metadata": {},
   "outputs": [
    {
     "name": "stdout",
     "output_type": "stream",
     "text": [
      "[2, 3, 5, 7, 11, 13, 17, 19, 23, 29, 31, 37, 41, 43, 47, 53, 59, 61, 67, 71, 73, 79, 83, 89, 97]\n"
     ]
    }
   ],
   "source": [
    "# List comprehension\n",
    "\n",
    "# [<expression> for <var> in <iterable> {if <condition}]\n",
    "\n",
    "primos = [valor for valor in range(2, 101) if all(valor % n != 0 for n in range(2, int(valor ** 0.5) + 1))] # entre colchetes\n",
    "\n",
    "print(primos)"
   ]
  },
  {
   "cell_type": "code",
   "execution_count": 3,
   "id": "248ff28b",
   "metadata": {},
   "outputs": [
    {
     "name": "stdout",
     "output_type": "stream",
     "text": [
      "<class 'list'>\n",
      "[(2, 6), (5, 9), (8, 12), (13, 16)]\n"
     ]
    }
   ],
   "source": [
    "valores_x = [2, 5, 8, 13]\n",
    "valores_y = [6, 9, 12, 16]\n",
    "\n",
    "pares_ordenados = [(x,y) for i, x in enumerate(valores_x) for j, y in enumerate(valores_y) if i == j]\n",
    "# pares_ordenados = list(zip(valores_x, valores_y)) \n",
    "\n",
    "print(type(pares_ordenados))\n",
    "print(pares_ordenados)"
   ]
  },
  {
   "cell_type": "markdown",
   "id": "fe13297f",
   "metadata": {},
   "source": [
    "<mark> Fazer os exercícios do 78 ao 84. </mark>"
   ]
  },
  {
   "cell_type": "markdown",
   "id": "c481c05e",
   "metadata": {},
   "source": [
    "### Listas Compostas"
   ]
  },
  {
   "cell_type": "code",
   "execution_count": 6,
   "id": "efb90a39",
   "metadata": {},
   "outputs": [
    {
     "name": "stdout",
     "output_type": "stream",
     "text": [
      "['Icaro', 38]\n",
      "[['Icaro', 38]]\n",
      "[['Maria', 22], ['Maria', 22]]\n"
     ]
    }
   ],
   "source": [
    "pessoa = []\n",
    "pessoa.append('Icaro')\n",
    "pessoa.append(38)\n",
    "pessoas = []\n",
    "pessoas.append(pessoa) # faz ligação entre as estruturas, então se mudar a primeira, muda a segunda\n",
    "print(pessoa)\n",
    "print(pessoas)\n",
    "\n",
    "# erro comum:\n",
    "pessoa[0] = 'Maria'\n",
    "pessoa[1] = 22\n",
    "pessoas.append(pessoa) # aparecerá duplicado, pois alterou o primeiro e adcionou a lista novamente\n",
    "print(pessoas)"
   ]
  },
  {
   "cell_type": "code",
   "execution_count": 7,
   "id": "4bd4cee3",
   "metadata": {},
   "outputs": [
    {
     "name": "stdout",
     "output_type": "stream",
     "text": [
      "['Icaro', 38]\n",
      "[['Icaro', 38]]\n",
      "['Maria', 22]\n",
      "[['Icaro', 38], ['Maria', 22]]\n"
     ]
    }
   ],
   "source": [
    "# sem ligação:\n",
    "\n",
    "dado = []\n",
    "dado.append('Icaro')\n",
    "dado.append(38)\n",
    "pessoas = []\n",
    "pessoas.append(dado[:]) # faz uma cópia\n",
    "print(dado)\n",
    "print(pessoas)\n",
    "\n",
    "dado[0] = 'Maria'\n",
    "dado[1] = 22\n",
    "pessoas.append(dado[:]) # faz uma cópia da estrutura modificada\n",
    "print(dado)\n",
    "print(pessoas)"
   ]
  },
  {
   "cell_type": "code",
   "execution_count": 7,
   "id": "bd5a95c7",
   "metadata": {},
   "outputs": [
    {
     "name": "stdout",
     "output_type": "stream",
     "text": [
      "[['João', 19], ['Ana', 33], ['Joaquim', 13], ['Maria', 45]]\n",
      "['João', 19]\n",
      "João\n",
      "13\n"
     ]
    }
   ],
   "source": [
    "# acessando valores dentro das listas\n",
    "\n",
    "matriz_pessoas = [['João', 19], ['Ana', 33], ['Joaquim', 13], ['Maria', 45]]\n",
    "\n",
    "print(matriz_pessoas)\n",
    "print(matriz_pessoas[0])\n",
    "print(matriz_pessoas[0][0]) # lê de fora pra dentro\n",
    "print(matriz_pessoas[2][1])"
   ]
  },
  {
   "cell_type": "code",
   "execution_count": 8,
   "id": "c176f0e0",
   "metadata": {},
   "outputs": [
    {
     "name": "stdout",
     "output_type": "stream",
     "text": [
      "[nome, idade] = ['João', 19] ['Ana', 33] ['Joaquim', 13] ['Maria', 45] \n",
      "Nomes: João Ana Joaquim Maria \n",
      "Idades: 19 33 13 45 "
     ]
    }
   ],
   "source": [
    "matriz_pessoas = [['João', 19], ['Ana', 33], ['Joaquim', 13], ['Maria', 45]]\n",
    "\n",
    "print('[nome, idade] = ', end='')\n",
    "for pessoa in matriz_pessoas:\n",
    "    print(f'{pessoa} ', end='')\n",
    "print()\n",
    "\n",
    "print('Nomes: ', end='')\n",
    "for pessoa in matriz_pessoas:\n",
    "    print(f'{pessoa[0]} ', end='')\n",
    "print()\n",
    "\n",
    "print('Idades: ', end='')\n",
    "for pessoa in matriz_pessoas:\n",
    "    print(f'{pessoa[1]} ', end='')"
   ]
  },
  {
   "cell_type": "code",
   "execution_count": 9,
   "id": "0c9880fa",
   "metadata": {},
   "outputs": [
    {
     "name": "stdout",
     "output_type": "stream",
     "text": [
      "João tem 19 anos de idade\n",
      "Ana tem 33 anos de idade\n",
      "Joaquim tem 13 anos de idade\n",
      "Maria tem 45 anos de idade\n"
     ]
    }
   ],
   "source": [
    "matriz_pessoas = [['João', 19], ['Ana', 33], ['Joaquim', 13], ['Maria', 45]]\n",
    "for pessoa in matriz_pessoas:\n",
    "    print(f'{pessoa[0]} tem {pessoa[1]} anos de idade')"
   ]
  },
  {
   "cell_type": "code",
   "execution_count": 18,
   "id": "45d58fc6",
   "metadata": {},
   "outputs": [
    {
     "name": "stdout",
     "output_type": "stream",
     "text": [
      "[['Ana', 33], ['Bia', 19], ['Maria', 45], ['Zé', 13]]\n"
     ]
    }
   ],
   "source": [
    "# apesar de método interno lista.sort() não ordenar matriz, a função sorted() ordena, pois gera lista ordenada dos elementos\n",
    "\n",
    "matriz_pessoas = [['Bia', 19], ['Ana', 33], ['Zé', 13], ['Maria', 45]]\n",
    "\n",
    "matriz_ordenada = sorted(matriz_pessoas) # ordena pelo índice 0 de cada elemento, ou seja índice 0 de cada lista interna\n",
    "print(matriz_ordenada)"
   ]
  },
  {
   "cell_type": "code",
   "execution_count": 10,
   "id": "b08f29ce",
   "metadata": {},
   "outputs": [
    {
     "name": "stdout",
     "output_type": "stream",
     "text": [
      "Nome       Idade\n",
      "João          19\n",
      "Ana           33\n",
      "Joaquim       13\n",
      "Maria         45\n"
     ]
    }
   ],
   "source": [
    "# utilizando a função tabulate do módulo tabulate\n",
    "\n",
    "from tabulate import tabulate\n",
    "\n",
    "matriz_pessoas = [['João', 19], ['Ana', 33], ['Joaquim', 13], ['Maria', 45]]\n",
    "print(tabulate(matriz_pessoas, headers=['Nome', 'Idade'], tablefmt='plain'))"
   ]
  },
  {
   "cell_type": "code",
   "execution_count": 5,
   "id": "ceeb343d",
   "metadata": {},
   "outputs": [
    {
     "name": "stdout",
     "output_type": "stream",
     "text": [
      "Maior número: 215\n"
     ]
    }
   ],
   "source": [
    "# loop em lista de listas (matrizes) para encontrar o maior número\n",
    "\n",
    "matriz = [[42, 23, 34], [100, 215, 114], [10.1], [98.7], [12.3]]\n",
    "maior = 0\n",
    "\n",
    "for linha in matriz:\n",
    "    for num in linha:\n",
    "        if num > maior:\n",
    "            maior = num\n",
    "            \n",
    "print(f'Maior número: {maior}')"
   ]
  },
  {
   "cell_type": "code",
   "execution_count": 13,
   "id": "d3c4c882",
   "metadata": {},
   "outputs": [
    {
     "name": "stdout",
     "output_type": "stream",
     "text": [
      "Nome: Raúl\n",
      "Idade: 92\n",
      "Nome: Maria\n",
      "Idade: 77\n",
      "Nome: Lucca\n",
      "Idade: 8\n",
      "Nome: Ana\n",
      "Idade: 17\n",
      "Nome: Renata\n",
      "Idade: 29\n",
      "------------------------------\n",
      "+--------+---------+\n",
      "| Nome   |   Idade |\n",
      "+========+=========+\n",
      "| Raúl   |      92 |\n",
      "+--------+---------+\n",
      "| Maria  |      77 |\n",
      "+--------+---------+\n",
      "| Lucca  |       8 |\n",
      "+--------+---------+\n",
      "| Ana    |      17 |\n",
      "+--------+---------+\n",
      "| Renata |      29 |\n",
      "+--------+---------+\n",
      "------------------------------\n",
      "Raúl é maior de idade\n",
      "Maria é maior de idade\n",
      "Lucca é menor de idade\n",
      "Ana é menor de idade\n",
      "Renata é maior de idade\n",
      "-=-=-=-=-=-=-=-=-=-=-=-=-=-=-=-=-=-=-=-=-=-=-=-=-=-=-=-=-=-=\n",
      "Temos 3 maiores e 2 menores de idade\n"
     ]
    }
   ],
   "source": [
    "from tabulate import tabulate\n",
    "\n",
    "matriz_pessoas = list()\n",
    "dado = list()\n",
    "totmaior = totmenor = 0\n",
    "\n",
    "for c in range(0, 5):\n",
    "    dado.append(str(input('Nome: ')).strip())\n",
    "    dado.append(int(input('Idade: ')))\n",
    "    matriz_pessoas.append(dado[:]) # se não fizer cópia, vai apagar tudo\n",
    "    dado.clear() # limpa a lista dado com nome e idade\n",
    "\n",
    "print('-'*30)\n",
    "print(tabulate(matriz_pessoas, headers=['Nome', 'Idade'], tablefmt='grid'))\n",
    "print('-'*30)\n",
    "\n",
    "for pessoa in matriz_pessoas:\n",
    "    if pessoa[1] >= 21:\n",
    "        print(f'{pessoa[0]} é maior de idade')\n",
    "        totmaior += 1\n",
    "    else:\n",
    "        print(f'{pessoa[0]} é menor de idade')\n",
    "        totmenor += 1\n",
    "print('-='*30)\n",
    "print(f'Temos {totmaior} maiores e {totmenor} menores de idade')"
   ]
  },
  {
   "cell_type": "markdown",
   "id": "3ae83f96",
   "metadata": {},
   "source": [
    "<mark> Fazer os exercícios do 85 ao 92. </mark>"
   ]
  },
  {
   "cell_type": "markdown",
   "id": "4c5f0335",
   "metadata": {},
   "source": [
    "### Extra: Comparando strings"
   ]
  },
  {
   "cell_type": "code",
   "execution_count": 77,
   "id": "a87cd029",
   "metadata": {},
   "outputs": [
    {
     "name": "stdout",
     "output_type": "stream",
     "text": [
      "False\n",
      "True\n",
      "True\n",
      "True\n"
     ]
    }
   ],
   "source": [
    "# o Python se baseia na tabela ASCII\n",
    "\n",
    "print('a' == 'b')\n",
    "print('b' != 'a')\n",
    "print('a' > 'X')\n",
    "print('a' > '1')"
   ]
  },
  {
   "cell_type": "code",
   "execution_count": 70,
   "id": "bdfc674e",
   "metadata": {},
   "outputs": [
    {
     "name": "stdout",
     "output_type": "stream",
     "text": [
      "0-\u0000\n",
      "1-\u0001\n",
      "2-\u0002\n",
      "3-\u0003\n",
      "4-\u0004\n",
      "5-\u0005\n",
      "6-\u0006\n",
      "7-\u0007\n",
      "8-\b\n",
      "9-\t\n",
      "10-\n",
      "\n",
      "11-\u000b",
      "\n",
      "12-\f",
      "\n",
      "13-\r\n",
      "14-\u000e\n",
      "15-\u000f\n",
      "16-\u0010\n",
      "17-\u0011\n",
      "18-\u0012\n",
      "19-\u0013\n",
      "20-\u0014\n",
      "21-\u0015\n",
      "22-\u0016\n",
      "23-\u0017\n",
      "24-\u0018\n",
      "25-\u0019\n",
      "26-\u001a\n",
      "27-\u001b\n",
      "28-\u001c",
      "\n",
      "29-\u001d",
      "\n",
      "30-\u001e",
      "\n",
      "31-\u001f\n",
      "32- \n",
      "33-!\n",
      "34-\"\n",
      "35-#\n",
      "36-$\n",
      "37-%\n",
      "38-&\n",
      "39-'\n",
      "40-(\n",
      "41-)\n",
      "42-*\n",
      "43-+\n",
      "44-,\n",
      "45--\n",
      "46-.\n",
      "47-/\n",
      "48-0\n",
      "49-1\n",
      "50-2\n",
      "51-3\n",
      "52-4\n",
      "53-5\n",
      "54-6\n",
      "55-7\n",
      "56-8\n",
      "57-9\n",
      "58-:\n",
      "59-;\n",
      "60-<\n",
      "61-=\n",
      "62->\n",
      "63-?\n",
      "64-@\n",
      "65-A\n",
      "66-B\n",
      "67-C\n",
      "68-D\n",
      "69-E\n",
      "70-F\n",
      "71-G\n",
      "72-H\n",
      "73-I\n",
      "74-J\n",
      "75-K\n",
      "76-L\n",
      "77-M\n",
      "78-N\n",
      "79-O\n",
      "80-P\n",
      "81-Q\n",
      "82-R\n",
      "83-S\n",
      "84-T\n",
      "85-U\n",
      "86-V\n",
      "87-W\n",
      "88-X\n",
      "89-Y\n",
      "90-Z\n",
      "91-[\n",
      "92-\\\n",
      "93-]\n",
      "94-^\n",
      "95-_\n",
      "96-`\n",
      "97-a\n",
      "98-b\n",
      "99-c\n",
      "100-d\n",
      "101-e\n",
      "102-f\n",
      "103-g\n",
      "104-h\n",
      "105-i\n",
      "106-j\n",
      "107-k\n",
      "108-l\n",
      "109-m\n",
      "110-n\n",
      "111-o\n",
      "112-p\n",
      "113-q\n",
      "114-r\n",
      "115-s\n",
      "116-t\n",
      "117-u\n",
      "118-v\n",
      "119-w\n",
      "120-x\n",
      "121-y\n"
     ]
    }
   ],
   "source": [
    "for i in range(122):\n",
    "    print(str(i) + '-' + chr(i)) # pode usar \"+\" para concatenar strings"
   ]
  },
  {
   "cell_type": "markdown",
   "id": "64f7fe29",
   "metadata": {},
   "source": [
    "### Conjuntos"
   ]
  },
  {
   "cell_type": "markdown",
   "id": "09f0c237",
   "metadata": {},
   "source": [
    "Coleção desordenada de elementos únicos."
   ]
  },
  {
   "cell_type": "code",
   "execution_count": 38,
   "id": "e64836fd",
   "metadata": {},
   "outputs": [
    {
     "name": "stdout",
     "output_type": "stream",
     "text": [
      "{'uva', 'banana', 'maçã'}\n",
      "<class 'set'>\n"
     ]
    }
   ],
   "source": [
    "# conjuntos são definidos usando chaves ou a função set()\n",
    "\n",
    "frutas = {'banana', 'maçã', 'uva', 'uva'} \n",
    "\n",
    "print(frutas) # não armazenou duplicidade e pode mostrar em ordem diferente\n",
    "print(type(frutas))"
   ]
  },
  {
   "cell_type": "code",
   "execution_count": 41,
   "id": "a3f88d6f",
   "metadata": {},
   "outputs": [
    {
     "name": "stdout",
     "output_type": "stream",
     "text": [
      "<class 'set'>\n",
      "<class 'dict'>\n"
     ]
    }
   ],
   "source": [
    "conjunto_vazio = set()\n",
    "dicionario_vazio = {}\n",
    "\n",
    "print(type(conjunto_vazio))\n",
    "print(type(dicionario_vazio)) # não é conjunto"
   ]
  },
  {
   "cell_type": "code",
   "execution_count": 12,
   "id": "a0419b78",
   "metadata": {},
   "outputs": [
    {
     "name": "stdout",
     "output_type": "stream",
     "text": [
      "{'Exatas', 'Biológicas', 'Humanas'}\n",
      "{'Exatas', 'Biológicas', 'Humanas', 'Saúde'}\n"
     ]
    }
   ],
   "source": [
    "# método para adicionar valores\n",
    "\n",
    "cursos = {'Exatas', 'Humanas', 'Biológicas'}\n",
    "print(cursos)\n",
    "\n",
    "cursos.add('Saúde')\n",
    "print(cursos)"
   ]
  },
  {
   "cell_type": "code",
   "execution_count": 27,
   "id": "621afb66",
   "metadata": {},
   "outputs": [
    {
     "name": "stdout",
     "output_type": "stream",
     "text": [
      "{'Exatas', 'Biológicas', 'Humanas'}\n",
      "{'Exatas', 'Humanas'}\n",
      "{'Humanas'}\n",
      "set()\n"
     ]
    }
   ],
   "source": [
    "# métodos para remover valores\n",
    "\n",
    "cursos = {'Exatas', 'Humanas', 'Biológicas'}\n",
    "print(cursos)\n",
    "\n",
    "cursos.remove('Biológicas') # gera erro se o termo não existir\n",
    "cursos.discard('Saúde') # não gera erro, mesmo que o termo não exista\n",
    "\n",
    "print(cursos)\n",
    "\n",
    "cursos.pop() # remove elemento arbitrário, não o último (não é possível selecionar posição, pois não há ordenação)\n",
    "print(cursos)\n",
    "\n",
    "cursos = {'Exatas', 'Humanas', 'Biológicas', 'Saúde'}\n",
    "cursos.clear() # remove todos os elementos\n",
    "print(cursos) # conjunto vazio"
   ]
  },
  {
   "cell_type": "code",
   "execution_count": 40,
   "id": "3efdaad8",
   "metadata": {},
   "outputs": [
    {
     "name": "stdout",
     "output_type": "stream",
     "text": [
      "{'uva', 'banana', 'maçã'}\n",
      "{'uva', 'banana', 'maçã'}\n",
      "{'mamão', 'banana', 'maçã'}\n",
      "{'uva', 'laranja', 'banana'}\n"
     ]
    }
   ],
   "source": [
    "# método para copiar conjuntos\n",
    "\n",
    "frutas1 = {'banana', 'maçã', 'uva'}\n",
    "frutas2 = frutas1.copy() # cópia independente\n",
    "\n",
    "print(frutas1)\n",
    "print(frutas2)\n",
    "\n",
    "frutas1.discard('uva')\n",
    "frutas1.add('mamão')\n",
    "frutas2.discard('maçã')\n",
    "frutas2.add('laranja')\n",
    "print(frutas1)\n",
    "print(frutas2)"
   ]
  },
  {
   "cell_type": "code",
   "execution_count": 4,
   "id": "2f0b6d48",
   "metadata": {},
   "outputs": [
    {
     "name": "stdout",
     "output_type": "stream",
     "text": [
      "{1, 3, 5, 7, 9}\n",
      "{'Rio de Janeiro', 'Brasília', 'Santos', 'São Paulo'}\n"
     ]
    }
   ],
   "source": [
    "# operações com conjuntos: diferença entre conjuntos\n",
    "\n",
    "numeros = set(range(1,11))\n",
    "pares = {num for num in range(1,11) if num % 2 == 0} # set comprehension\n",
    "impares = numeros - pares\n",
    "print(impares)\n",
    "\n",
    "cidades_brasileiras = {'Brasília', 'Belo Horizonte', 'Juiz de Fora', 'Ouro Preto', 'Rio de Janeiro', 'Santos', 'São Paulo'}\n",
    "cidades_mineiras = {'Belo Horizonte', 'Juiz de Fora', 'Ouro Preto'}\n",
    "cidades_brasileiras_nao_mineiras = cidades_brasileiras - cidades_mineiras # not\n",
    "print(cidades_brasileiras_nao_mineiras)"
   ]
  },
  {
   "cell_type": "code",
   "execution_count": 11,
   "id": "a94fdf56",
   "metadata": {},
   "outputs": [
    {
     "name": "stdout",
     "output_type": "stream",
     "text": [
      "{1, 3, 5, 7, 9}\n",
      "{'Rio de Janeiro', 'Brasília', 'Santos', 'São Paulo'}\n"
     ]
    }
   ],
   "source": [
    "# diferença usando método interno\n",
    "\n",
    "numeros = set(range(1,11))\n",
    "pares = {num for num in range(1,11) if num % 2 == 0} # set comprehension\n",
    "impares = numeros.difference(pares) # método interno: difference()\n",
    "print(impares)\n",
    "\n",
    "cidades_brasileiras = {'Brasília', 'Belo Horizonte', 'Juiz de Fora', 'Ouro Preto', 'Rio de Janeiro', 'Santos', 'São Paulo'}\n",
    "cidades_mineiras = {'Belo Horizonte', 'Juiz de Fora', 'Ouro Preto'}\n",
    "cidades_brasileiras_nao_mineiras = cidades_brasileiras.difference(cidades_mineiras) # not\n",
    "print(cidades_brasileiras_nao_mineiras)"
   ]
  },
  {
   "cell_type": "code",
   "execution_count": 10,
   "id": "583a2ced",
   "metadata": {},
   "outputs": [
    {
     "name": "stdout",
     "output_type": "stream",
     "text": [
      "{9, 7}\n",
      "{'cama box', 'home theater'}\n"
     ]
    }
   ],
   "source": [
    "# operações com conjuntos: interseção\n",
    "\n",
    "impares = {1, 3, 5, 7, 9}\n",
    "maiores_5 = {6, 7, 8, 9, 10}\n",
    "impares_maiores_5 = impares.intersection(maiores_5) # método interno: intersection()\n",
    "print(impares_maiores_5)\n",
    "\n",
    "produtos_mais_vendidos = {'cadeira', 'cama box', 'home theater', 'mesa de centro', 'rack', 'sofá'}\n",
    "produtos_maior_lucro = {'cama box', 'estante', 'home theater', 'mesa de jantar', 'poltrona'}\n",
    "mais_vendidos_e_maior_lucro = produtos_mais_vendidos.intersection(produtos_maior_lucro)\n",
    "print(mais_vendidos_e_maior_lucro)"
   ]
  },
  {
   "cell_type": "code",
   "execution_count": 22,
   "id": "699429bc",
   "metadata": {},
   "outputs": [
    {
     "name": "stdout",
     "output_type": "stream",
     "text": [
      "{9, 7}\n"
     ]
    }
   ],
   "source": [
    "# conjuntos também aceitam o operador &\n",
    "\n",
    "impares = {1, 3, 5, 7, 9}\n",
    "maiores_5 = {6, 7, 8, 9, 10}\n",
    "impares_maiores_5 = impares & maiores_5 \n",
    "print(impares_maiores_5)"
   ]
  },
  {
   "cell_type": "code",
   "execution_count": 9,
   "id": "0294d304",
   "metadata": {},
   "outputs": [
    {
     "name": "stdout",
     "output_type": "stream",
     "text": [
      "{1, 2, 3, 4, 5, 6, 7, 8, 9, 10}\n",
      "{'mesa de centro', 'cama box', 'rack', 'mesa de jantar', 'estante', 'poltrona', 'cadeira', 'sofá', 'home theater'}\n"
     ]
    }
   ],
   "source": [
    "# operações com conjuntos: união\n",
    "\n",
    "menores_7 = {1, 2, 3, 4, 5, 6, 7}\n",
    "maiores_3 = {4, 5, 6, 7, 8, 9, 10}\n",
    "numeros = menores_7.union(maiores_3) # método interno: union()\n",
    "print(numeros)\n",
    "\n",
    "produtos_mais_vendidos = {'cadeira', 'cama box', 'home theater', 'mesa de centro', 'rack', 'sofá'}\n",
    "produtos_maior_lucro = {'cama box', 'estante', 'home theater', 'mesa de jantar', 'poltrona'}\n",
    "mais_vendidos_ou_maior_lucro = produtos_mais_vendidos.union(produtos_maior_lucro)\n",
    "print(mais_vendidos_ou_maior_lucro)"
   ]
  },
  {
   "cell_type": "code",
   "execution_count": 23,
   "id": "83907aeb",
   "metadata": {},
   "outputs": [
    {
     "name": "stdout",
     "output_type": "stream",
     "text": [
      "{1, 2, 3, 4, 5, 6, 7, 8, 9, 10}\n"
     ]
    }
   ],
   "source": [
    "# conjuntos também aceitam o operador |\n",
    "\n",
    "menores_7 = {1, 2, 3, 4, 5, 6, 7}\n",
    "maiores_3 = {4, 5, 6, 7, 8, 9, 10}\n",
    "numeros = menores_7 | maiores_3 # pipe significa ou\n",
    "print(numeros)"
   ]
  },
  {
   "cell_type": "code",
   "execution_count": 19,
   "id": "7350155e",
   "metadata": {},
   "outputs": [
    {
     "name": "stdout",
     "output_type": "stream",
     "text": [
      "{1, 2, 3, 8, 9, 10}\n",
      "{1, 2, 3, 8, 9, 10}\n"
     ]
    }
   ],
   "source": [
    "# operações com conjuntos: diferença simétrica = união - intersecção\n",
    "\n",
    "menores_7 = {1, 2, 3, 4, 5, 6, 7}\n",
    "maiores_3 = {4, 5, 6, 7, 8, 9, 10}\n",
    "\n",
    "numeros = menores_7.union(maiores_3) - menores_7.intersection(maiores_3)\n",
    "print(numeros)\n",
    "\n",
    "ou_menores_7_ou_maiores_3 = menores_7.symmetric_difference(maiores_3) # método interno: union()\n",
    "print(ou_maiores_7_ou_maiores_3)"
   ]
  },
  {
   "cell_type": "code",
   "execution_count": 31,
   "id": "35f19925",
   "metadata": {},
   "outputs": [
    {
     "name": "stdout",
     "output_type": "stream",
     "text": [
      "True\n",
      "True\n",
      "True\n"
     ]
    }
   ],
   "source": [
    "# verificando se A está contido em B (se A é subconjunto de B)\n",
    "\n",
    "a = {3, 5, 7}\n",
    "b = {2,3,4,5,6,7,8}\n",
    "\n",
    "a_sub_b = a.issubset(b)\n",
    "print(a_sub_b)\n",
    "\n",
    "# verificando se B contém A (se B superconjunto de A)\n",
    "\n",
    "b_sup_a = b.issuperset(a)\n",
    "print(b_sup_a)\n",
    "\n",
    "# verificando se C e D não têm elementos em comum (disjuntos)\n",
    "\n",
    "c = {2,3,4}\n",
    "d = {6,7,8}\n",
    "\n",
    "c_disj_d = c.isdisjoint(d)\n",
    "print(c_disj_d)"
   ]
  },
  {
   "cell_type": "code",
   "execution_count": 32,
   "id": "39cc093a",
   "metadata": {},
   "outputs": [
    {
     "name": "stdout",
     "output_type": "stream",
     "text": [
      "['#tiago', '#joao', '#bbb', '#sarah', '#bbb', '#fiuk', '#gil', '#thelma', '#lourdes', '#rafa', '#fora', '#danilo', '#juliete', '#arthur', '#bbb']\n",
      "15\n",
      "['#joao', '#sarah', '#thelma', '#rafa', '#bbb', '#gil', '#juliete', '#fiuk', '#tiago', '#danilo', '#arthur', '#fora', '#lourdes']\n",
      "13\n"
     ]
    }
   ],
   "source": [
    "# conjunto é muito utilizado para retirar duplicidade de listas:\n",
    "\n",
    "hashtags_seg = ['#tiago', '#joao', '#bbb']\n",
    "hashtags_ter = ['#sarah', '#bbb', '#fiuk']\n",
    "hashtags_qua = ['#gil', '#thelma', '#lourdes']\n",
    "hashtags_qui = ['#rafa', '#fora', '#danilo']\n",
    "hashtags_sex = ['#juliete', '#arthur', '#bbb']\n",
    "\n",
    "hashtags_semana = hashtags_seg + hashtags_ter + hashtags_qua + hashtags_qui + hashtags_sex\n",
    "print(hashtags_semana)\n",
    "print(len(hashtags_semana)) # embora não utilizada, a função len() também funionaria em um conjunto\n",
    "\n",
    "hashtags_semana = list(set(hashtags_seg + hashtags_ter + hashtags_qua + hashtags_qui + hashtags_sex)) # converte e volta\n",
    "\n",
    "print(hashtags_semana)\n",
    "print(len(hashtags_semana))"
   ]
  },
  {
   "cell_type": "markdown",
   "id": "fbd003c5",
   "metadata": {},
   "source": [
    "<mark> Fazer os exercícios 93 e 94. </mark>"
   ]
  },
  {
   "cell_type": "markdown",
   "id": "40f55632",
   "metadata": {},
   "source": [
    "### Estrutura de Dicionários"
   ]
  },
  {
   "cell_type": "code",
   "execution_count": 42,
   "id": "cad31b49",
   "metadata": {},
   "outputs": [
    {
     "name": "stdout",
     "output_type": "stream",
     "text": [
      "{'nome': 'Icaro', 'sexo': 'M', 'idade': 38}\n"
     ]
    }
   ],
   "source": [
    "# dicionários são definidos usando chaves ou a função dict()\n",
    "\n",
    "pessoa = {'nome':'Icaro', 'sexo':'M', 'idade':38} # diferente dos conjuntos, o dicionário possui index\n",
    "print(pessoas)"
   ]
  },
  {
   "cell_type": "code",
   "execution_count": 43,
   "id": "00bc5926",
   "metadata": {},
   "outputs": [
    {
     "ename": "KeyError",
     "evalue": "0",
     "output_type": "error",
     "traceback": [
      "\u001b[1;31m---------------------------------------------------------------------------\u001b[0m",
      "\u001b[1;31mKeyError\u001b[0m                                  Traceback (most recent call last)",
      "\u001b[1;32m~\\AppData\\Local\\Temp\\ipykernel_22092\\2113054726.py\u001b[0m in \u001b[0;36m<module>\u001b[1;34m\u001b[0m\n\u001b[0;32m      1\u001b[0m \u001b[0mpessoa\u001b[0m \u001b[1;33m=\u001b[0m \u001b[1;33m{\u001b[0m\u001b[1;34m'nome'\u001b[0m\u001b[1;33m:\u001b[0m\u001b[1;34m'Icaro'\u001b[0m\u001b[1;33m,\u001b[0m \u001b[1;34m'sexo'\u001b[0m\u001b[1;33m:\u001b[0m\u001b[1;34m'M'\u001b[0m\u001b[1;33m,\u001b[0m \u001b[1;34m'idade'\u001b[0m\u001b[1;33m:\u001b[0m\u001b[1;36m38\u001b[0m\u001b[1;33m}\u001b[0m\u001b[1;33m\u001b[0m\u001b[1;33m\u001b[0m\u001b[0m\n\u001b[1;32m----> 2\u001b[1;33m \u001b[0mprint\u001b[0m\u001b[1;33m(\u001b[0m\u001b[0mpessoas\u001b[0m\u001b[1;33m[\u001b[0m\u001b[1;36m0\u001b[0m\u001b[1;33m]\u001b[0m\u001b[1;33m)\u001b[0m \u001b[1;31m# erro, pois diferente das listas, o index que seria 0 agora é index literal, neste caso 'nome'\u001b[0m\u001b[1;33m\u001b[0m\u001b[1;33m\u001b[0m\u001b[0m\n\u001b[0m",
      "\u001b[1;31mKeyError\u001b[0m: 0"
     ]
    }
   ],
   "source": [
    "pessoa = {'nome':'Icaro', 'sexo':'M', 'idade':38}\n",
    "print(pessoas[0]) # erro, pois diferente das listas, o index que seria 0 agora é index literal, neste caso 'nome'"
   ]
  },
  {
   "cell_type": "code",
   "execution_count": 44,
   "id": "3b866a37",
   "metadata": {},
   "outputs": [
    {
     "name": "stdout",
     "output_type": "stream",
     "text": [
      "O Icaro tem 38 anos\n",
      "dict_keys(['nome', 'sexo', 'idade'])\n",
      "dict_values(['Icaro', 'M', 38])\n",
      "dict_items([('nome', 'Icaro'), ('sexo', 'M'), ('idade', 38)])\n"
     ]
    }
   ],
   "source": [
    "# itens, chaves e valores\n",
    "\n",
    "pessoa = {'nome':'Icaro', 'sexo':'M', 'idade':38}\n",
    "\n",
    "print(f'O {pessoa[\"nome\"]} tem {pessoa[\"idade\"]} anos')\n",
    "\n",
    "print(pessoa.keys()) # chaves em uma lista\n",
    "print(pessoa.values()) # valores em uma lista\n",
    "print(pessoa.items()) # tuplas de chave e valor em uma lista"
   ]
  },
  {
   "cell_type": "code",
   "execution_count": 45,
   "id": "9b6b5553",
   "metadata": {},
   "outputs": [
    {
     "name": "stdout",
     "output_type": "stream",
     "text": [
      "nome sexo idade \n",
      "Icaro M 38 \n",
      "nome: Icaro\n",
      "sexo: M\n",
      "idade: 38\n"
     ]
    }
   ],
   "source": [
    "pessoa = {'nome':'Icaro', 'sexo':'M', 'idade':38}\n",
    "\n",
    "for k in pessoa.keys(): # percorrendo chaves com método interno\n",
    "    print(k, end=' ')\n",
    "\n",
    "print()\n",
    "\n",
    "for v in pessoa.values(): # percorrendo valores\n",
    "    print(v, end=' ')\n",
    "\n",
    "print()\n",
    "\n",
    "for k, v in pessoa.items(): # chave e valor (não é possível usar a função enumerate)\n",
    "    print(f'{k}: {v}')"
   ]
  },
  {
   "cell_type": "code",
   "execution_count": 46,
   "id": "7bd0afff",
   "metadata": {},
   "outputs": [
    {
     "name": "stdout",
     "output_type": "stream",
     "text": [
      "['nome', 'sexo', 'idade']\n",
      "['Icaro', 'M', 38]\n",
      "[('nome', 'Icaro'), ('sexo', 'M'), ('idade', 38)]\n"
     ]
    }
   ],
   "source": [
    "pessoa = {'nome':'Icaro', 'sexo':'M', 'idade':38}\n",
    "\n",
    "lista1 = list(pessoa) # = list(pessoas.keys())\n",
    "lista2 = list(pessoa.values())\n",
    "lista3 = list(pessoa.items())\n",
    "\n",
    "print(lista1)\n",
    "print(lista2)\n",
    "print(lista3) # gera uma lista de tuplas"
   ]
  },
  {
   "cell_type": "code",
   "execution_count": 47,
   "id": "99b7c94f",
   "metadata": {},
   "outputs": [
    {
     "name": "stdout",
     "output_type": "stream",
     "text": [
      "nome: Gustavo\n",
      "sexo: M\n",
      "idade: 40\n",
      "\n",
      "nome: Gustavo\n",
      "sexo: M\n",
      "idade: 40\n",
      "peso: 98.5\n"
     ]
    }
   ],
   "source": [
    "# alterando volares no dicionário\n",
    "\n",
    "pessoa = {'nome':'Icaro', 'sexo':'M', 'idade':38}\n",
    "\n",
    "pessoa['nome'] = 'Gustavo'\n",
    "pessoa['idade'] = 40\n",
    "\n",
    "for k, v in pessoa.items():\n",
    "    print(f'{k}: {v}')\n",
    "\n",
    "print()\n",
    "\n",
    "# adicinando nova chave e valor no dicionário\n",
    "\n",
    "pessoa['peso'] = 98.5 \n",
    "\n",
    "for k, v in pessoa.items():\n",
    "    print(f'{k}: {v}')"
   ]
  },
  {
   "cell_type": "code",
   "execution_count": 48,
   "id": "6a8cec0d",
   "metadata": {},
   "outputs": [
    {
     "name": "stdout",
     "output_type": "stream",
     "text": [
      "Icaro\n",
      "valor não encontrado.\n"
     ]
    }
   ],
   "source": [
    "# acessando dicionário com o método get()\n",
    "\n",
    "pessoa = {'nome':'Icaro', 'sexo':'M', 'idade':38}\n",
    "\n",
    "print(pessoa.get('nome', 'valor não encontrado.'))\n",
    "\n",
    "print(pessoa.get('naturalidade','valor não encontrado.')) # imprime mensagem ao invés do valor None"
   ]
  },
  {
   "cell_type": "code",
   "execution_count": 52,
   "id": "b6bb181e",
   "metadata": {},
   "outputs": [
    {
     "name": "stdout",
     "output_type": "stream",
     "text": [
      "{'idade': 38}\n"
     ]
    }
   ],
   "source": [
    "# alterando dicionário com uso do método update()\n",
    "\n",
    "pessoa = {'nome':'Icaro', 'sexo':'M', 'idade':38}\n",
    "\n",
    "pessoa.update({'nome':'Gustavo'}) \n",
    "print(pessoas)"
   ]
  },
  {
   "cell_type": "code",
   "execution_count": 53,
   "id": "fdd2bbe9",
   "metadata": {},
   "outputs": [
    {
     "name": "stdout",
     "output_type": "stream",
     "text": [
      "{'idade': 38}\n"
     ]
    }
   ],
   "source": [
    "# adicionando valores com o uso do método setdefault()\n",
    "\n",
    "pessoa = {'nome':'Icaro', 'sexo':'M', 'idade':38}\n",
    "\n",
    "pessoa.setdefault('nome', 'Gustavo') # o valor não é adcionado, pois já existe\n",
    "pessoa.setdefault('peso', 86.5)\n",
    "\n",
    "print(pessoas)"
   ]
  },
  {
   "cell_type": "code",
   "execution_count": 56,
   "id": "4ada7617",
   "metadata": {},
   "outputs": [
    {
     "name": "stdout",
     "output_type": "stream",
     "text": [
      "{'nome': 'Icaro', 'idade': 38}\n",
      "{'idade': 38}\n"
     ]
    }
   ],
   "source": [
    "# removendo itens do dicionário\n",
    "\n",
    "pessoa = {'nome':'Icaro', 'sexo':'M', 'idade':38}\n",
    "\n",
    "del pessoa['sexo']\n",
    "print(pessoa)\n",
    "\n",
    "pessoa.pop('nome', 'valor não encontrado') # método pop()\n",
    "\n",
    "print(pessoa)"
   ]
  },
  {
   "cell_type": "code",
   "execution_count": 15,
   "id": "d6fdfc8f",
   "metadata": {},
   "outputs": [
    {
     "name": "stdout",
     "output_type": "stream",
     "text": [
      "[{'UF': 'Rio de Janeiro', 'Sigla': 'RJ'}, {'UF': 'São Paulo', 'Sigla': 'SP'}]\n",
      "Rio de Janeiro\n",
      "SP\n"
     ]
    }
   ],
   "source": [
    "# dicionários dentro de lista\n",
    "\n",
    "brasil = []\n",
    "estado1 = {'UF':'Rio de Janeiro', 'Sigla':'RJ'}\n",
    "estado2 = {'UF':'São Paulo', 'Sigla':'SP'}\n",
    "\n",
    "brasil.append(estado1)\n",
    "brasil.append(estado2)\n",
    "\n",
    "print(brasil)\n",
    "print(brasil[0]['UF'])\n",
    "print(brasil[1]['Sigla'])"
   ]
  },
  {
   "cell_type": "code",
   "execution_count": 16,
   "id": "25ef60c4",
   "metadata": {},
   "outputs": [
    {
     "name": "stdout",
     "output_type": "stream",
     "text": [
      "| UF             | Sigla   |\n",
      "|:---------------|:--------|\n",
      "| Rio de Janeiro | RJ      |\n",
      "| São Paulo      | SP      |\n"
     ]
    }
   ],
   "source": [
    "# usando a função tabulate do módulo tabulate\n",
    "\n",
    "from tabulate import tabulate\n",
    "\n",
    "brasil = []\n",
    "estado1 = {'UF':'Rio de Janeiro', 'Sigla':'RJ'}\n",
    "estado2 = {'UF':'São Paulo', 'Sigla':'SP'}\n",
    "\n",
    "brasil.append(estado1)\n",
    "brasil.append(estado2)\n",
    "\n",
    "print(tabulate(brasil, headers='keys', tablefmt='pipe'))"
   ]
  },
  {
   "cell_type": "code",
   "execution_count": 28,
   "id": "b46d9864",
   "metadata": {},
   "outputs": [
    {
     "name": "stdout",
     "output_type": "stream",
     "text": [
      "[{'nome': 'Bob', 'idade': 20}, {'nome': 'Alice', 'idade': 25}, {'nome': 'Carol', 'idade': 30}]\n"
     ]
    }
   ],
   "source": [
    "# ordenando dicionário com a função sorted()\n",
    "\n",
    "# sorted(iterável, key=None, reverse=False)\n",
    "\n",
    "# O parâmetro key (opcional) por padrão (key=None) ordena listas, tuplas e strings com base nos próprios elementos\n",
    "\n",
    "pessoas = [\n",
    "    {'nome': 'Alice', 'idade': 25},\n",
    "    {'nome': 'Bob', 'idade': 20},\n",
    "    {'nome': 'Carol', 'idade': 30}\n",
    "]\n",
    "\n",
    "# não há como comparar dicionário com dicionário para saber qual é maior ou menor, portanto ordena-se por outro critério\n",
    "\n",
    "pessoas_ordenadas = sorted(pessoas, key= lambda dicio: dicio['idade']) # lambda é uma função anônima\n",
    "print(pessoas_ordenadas)\n",
    "\n",
    "# spoiler: lambda será melhor explicada no notebook de funções"
   ]
  },
  {
   "cell_type": "code",
   "execution_count": 36,
   "id": "a7bae154",
   "metadata": {},
   "outputs": [
    {
     "name": "stdout",
     "output_type": "stream",
     "text": [
      "Seu nome é Ana e sua idade é 18\n",
      "Seu nome é Bia e sua idade é 50\n",
      "\n",
      "Seu nome é Carlos e sua idade é 26\n",
      "Seu nome é Henrique e sua idade é 32\n"
     ]
    }
   ],
   "source": [
    "# percorrendo lista de dicionários\n",
    "\n",
    "pessoas = [{'Nome': 'Ana', 'Idade': 18}, \n",
    "           {'Nome': 'Bia', 'Idade': 50}, \n",
    "           {'Nome': 'Carlos', 'Idade': 26}, \n",
    "           {'Nome': 'Henrique', 'Idade': 32}\n",
    "]\n",
    "\n",
    "for dicio in pessoas[:2]: # apenas os dois primeiros\n",
    "    print(f'Seu nome é {dicio[\"Nome\"]} e sua idade é {dicio[\"Idade\"]}')\n",
    "\n",
    "print()\n",
    "\n",
    "for dicio in pessoas[-2:]: # apenas os dois últimos\n",
    "    print(f'Seu nome é {dicio[\"Nome\"]} e sua idade é {dicio[\"Idade\"]}')"
   ]
  },
  {
   "cell_type": "code",
   "execution_count": 19,
   "id": "42252581",
   "metadata": {},
   "outputs": [
    {
     "name": "stdout",
     "output_type": "stream",
     "text": [
      "Nome       Idade\n",
      "Maria         45\n",
      "Ana           33\n",
      "João          19\n",
      "Joaquim       13\n"
     ]
    }
   ],
   "source": [
    "# ordenando matriz por outro índice\n",
    "\n",
    "from tabulate import tabulate\n",
    "\n",
    "matriz_pessoas = [['João', 19], ['Ana', 33], ['Joaquim', 13], ['Maria', 45]]\n",
    "\n",
    "matriz_pessoas_ordenadas = sorted(matriz_pessoas, key= lambda pessoa: pessoa[1], reverse=True) # lambda é uma função anônima\n",
    "\n",
    "print(tabulate(matriz_pessoas_ordenadas, headers=['Nome', 'Idade'], tablefmt='plain'))"
   ]
  },
  {
   "cell_type": "code",
   "execution_count": 40,
   "id": "084850f4",
   "metadata": {},
   "outputs": [
    {
     "name": "stdout",
     "output_type": "stream",
     "text": [
      "{'João': 19, 'Ana': 33, 'Joaquim': 13, 'Maria': 45}\n"
     ]
    }
   ],
   "source": [
    "# a função dict() também itera sobre matriz\n",
    "\n",
    "matriz_pessoas = [['João', 19], ['Ana', 33], ['Joaquim', 13], ['Maria', 45]]\n",
    "dicio = dict(matriz_pessoas) # neste caso, as listas internas só podem possuir 2 elementos\n",
    "\n",
    "print(dicio)"
   ]
  },
  {
   "cell_type": "code",
   "execution_count": 2,
   "id": "0ae54b99",
   "metadata": {},
   "outputs": [
    {
     "name": "stdout",
     "output_type": "stream",
     "text": [
      "{1: 1, 2: 4, 3: 9, 4: 16, 5: 25}\n",
      "{'Maria': 77, 'Icaro': 38}\n",
      "{'Gustavo': 'Reprovado', 'Ana': 'Reprovado', 'Lucca': 'Aprovado', 'Icaro': 'Aprovado', 'Bia': 'Reprovado', 'Maria': 'Aprovado'}\n"
     ]
    }
   ],
   "source": [
    "# dict comprehension\n",
    "\n",
    "numeros = [1, 2, 3, 4, 5]\n",
    "\n",
    "dicionario_quadrados = {num: num ** 2 for num in numeros} # entre chaves\n",
    "print(dicionario_quadrados)\n",
    "\n",
    "pessoas = {'Lucca': 8, 'Maria': 77, 'Icaro': 38, 'Alice': 16}\n",
    "\n",
    "pessoas_maiores_de_idade = {nome: idade for nome, idade in pessoas.items() if idade >= 18}\n",
    "print(pessoas_maiores_de_idade)\n",
    "\n",
    "alunos = {'Gustavo':43, 'Ana':54, 'Lucca':96, 'Icaro':73, 'Bia':68, 'Maria':85}\n",
    "\n",
    "alunos_aprovados = {nome:('Aprovado' if nota >= 70 else 'Reprovado') for nome, nota in alunos.items()}\n",
    "print(alunos_aprovados)"
   ]
  },
  {
   "cell_type": "markdown",
   "id": "aa95eb60",
   "metadata": {},
   "source": [
    "<mark> Fazer os exercícios do 95 ao 101. </mark>"
   ]
  },
  {
   "cell_type": "markdown",
   "id": "bea195d3",
   "metadata": {},
   "source": [
    "## Trabalhando com Arquivos de Texto"
   ]
  },
  {
   "cell_type": "markdown",
   "id": "413950bb",
   "metadata": {},
   "source": [
    "Gravando arquivo pelo Jupyter Notebook (a célula abaixo não é Python):"
   ]
  },
  {
   "cell_type": "code",
   "execution_count": 34,
   "id": "0ed88a4b",
   "metadata": {},
   "outputs": [
    {
     "name": "stdout",
     "output_type": "stream",
     "text": [
      "Overwriting noticia.txt\n"
     ]
    }
   ],
   "source": [
    "%%writefile noticia.txt\n",
    "Pessoas ainda não têm ‘devida maturidade’ para entender ChatGPT, diz professor da Uerj\n",
    "Para especialistas, ferramenta não tem capacidade de tirar empregos de advogados, jornalistas, entre outros profissionais"
   ]
  },
  {
   "cell_type": "markdown",
   "id": "1cf6d463",
   "metadata": {},
   "source": [
    "### Função open()"
   ]
  },
  {
   "cell_type": "code",
   "execution_count": 35,
   "id": "93227239",
   "metadata": {},
   "outputs": [
    {
     "name": "stdout",
     "output_type": "stream",
     "text": [
      "<class '_io.TextIOWrapper'>\n",
      "Pessoas ainda nÃ£o tÃªm â€˜devida maturidadeâ€™ para entender ChatGPT, diz professor da Uerj\n",
      "Para especialistas, ferramenta nÃ£o tem capacidade de tirar empregos de advogados, jornalistas, entre outros profissionais\n",
      "\n"
     ]
    }
   ],
   "source": [
    "# abre o arquivo e retorna um objeto (do tipo IO) correspondente. Caso não puder ser aberto, retornará OSError\n",
    "\n",
    "# default\n",
    "arquivo = open(file='noticia.txt',\n",
    "               mode='r', \n",
    "               buffering=-1,\n",
    "               encoding=None,\n",
    "               errors=None,\n",
    "               newline=None,\n",
    "               closefd=True,\n",
    "               opener=None)\n",
    "\n",
    "'''\n",
    "Modos: r = read (default), w = write (cria novo ou sobreescreve, se já existir),\n",
    "a = append (adiciona conteúdo ao final do arquivo, mas se não existir, o arquivo é criado),\n",
    "x = exclusive creation (falha se o arquivo já existir)\n",
    "t = text (será tratado como texto e a codificação padrão será aplicada),\n",
    "b = binário (leitura de arquivos binários, como imagens, vídeos, etc.)\n",
    "É possível combinar modos, por exemplo: rb  \n",
    "\n",
    "buffering: O valor padrão é -1, que significa usar um valor padrão do sistema.\n",
    "Você pode fornecer outros valores para controlar o comportamento do buffering, como 0 para desabilitar o buffering,\n",
    "1 para buffering em linha, ou um número inteiro maior para controlar o tamanho do buffer em bytes.\n",
    "\n",
    "encoding: Este parâmetro especifica a codificação a ser usada ao ler ou gravar o arquivo.\n",
    "Por padrão, é usado o valor None, o que significa que a codificação padrão do sistema será aplicada.\n",
    "Exemplos comuns de codificações são 'utf-8', 'latin-1', 'ascii', entre outras.\n",
    "\n",
    "errors:  Este parâmetro especifica como os erros de codificação devem ser tratados ao ler ou gravar o arquivo.\n",
    "O valor padrão é None, o que significa que o comportamento padrão do sistema será usado. \n",
    "Alguns exemplos de valores são 'strict' (gerar um erro se ocorrer um erro de codificação),\n",
    "'ignore' (ignorar caracteres inválidos), 'replace' (substituir caracteres inválidos por um caractere de substituição)\n",
    "e 'backslashreplace' (substituir caracteres inválidos por sequências de escape).\n",
    "\n",
    "newline: controla a conversão de quebras de linha ao ler ou gravar o arquivo.\n",
    "O valor padrão é None, o que significa que a conversão de quebras de linha é determinada automaticamente pelo modo de acesso.\n",
    "Alguns exemplos de valores são '' (não fazer conversão), '\\n' (converter para nova linha)\n",
    "e '\\r\\n' (converter para retorno de carro seguido de nova linha).\n",
    "\n",
    "closefd: Este parâmetro é um valor booleano que indica se o arquivo deve ser fechado quando o objeto IO é fechado.\n",
    "O valor padrão é True, o que significa que o arquivo será fechado. Se você definir esse parâmetro como False,\n",
    "o arquivo não será fechado quando o objeto IO for fechado.\n",
    "\n",
    "opener: Este é um objeto personalizado que pode ser usado para abrir o arquivo.\n",
    "Ele deve ser uma função ou um objeto com um método __call__() que recebe o nome do arquivo e o modo de acesso como argumentos\n",
    "e retorna um objeto file. Esse parâmetro é menos comum e geralmente não é necessário na maioria dos casos.\n",
    "'''\n",
    "\n",
    "print(type(arquivo)) # spoiler: objeto será melhor explicado no notebook de programação orientada a objetos\n",
    "\n",
    "conteudo = arquivo.read()\n",
    "print(conteudo) # \\n quebra linha, mas não aparece escrito"
   ]
  },
  {
   "cell_type": "code",
   "execution_count": 3,
   "id": "8ec02cd9",
   "metadata": {},
   "outputs": [
    {
     "name": "stdout",
     "output_type": "stream",
     "text": [
      "['Pessoas ainda não têm ‘devida maturidade’ para entender ChatGPT, diz professor da Uerj\\n', 'Para especialistas, ferramenta não tem capacidade de tirar empregos de advogados, jornalistas, entre outros profissionais']\n"
     ]
    }
   ],
   "source": [
    "# É importante lembrar de fechar o arquivo após a leitura/escrita para liberar os recursos do sistema.\n",
    "\n",
    "arquivo = open(file='noticia.txt', mode='r', encoding='utf8')\n",
    "\n",
    "'''\n",
    "Mode: O parâmetro '+' pode ser combinado com outros modos de acesso para habilitar a leitura e escrita simultâneas.\n",
    "\n",
    "'r+'= Abre o arquivo para leitura e escrita. O arquivo deve existir previamente.\n",
    "\n",
    "'w+'= Abre o arquivo para leitura e escrita. Se o arquivo já existir, o seu conteúdo será apagado.\n",
    "Se o arquivo não existir, um novo arquivo vazio será criado.\n",
    "\n",
    "'a+'= Abre o arquivo para leitura e escrita, adicionando o conteúdo ao final do arquivo sem apagar o conteúdo existente.\n",
    "Se o arquivo não existir, um novo arquivo vazio será criado.\n",
    "\n",
    "Esses modos permitem que você leia e escreva no arquivo usando os métodos read(), write(), readline(), writelines(),\n",
    "entre outros, de forma simultânea.\n",
    "'''\n",
    "conteudo = arquivo.readlines()\n",
    "\n",
    "print(conteudo) # gera uma lista com o \\n aparecendo\n",
    "arquivo.close() # fecha arquivo"
   ]
  },
  {
   "cell_type": "code",
   "execution_count": 4,
   "id": "51122442",
   "metadata": {},
   "outputs": [
    {
     "name": "stdout",
     "output_type": "stream",
     "text": [
      "['Pessoas ainda não têm ‘devida maturidade’ para entender ChatGPT, diz professor da Uerj\\nPara especialistas, ferramenta não tem capacidade de tirar empregos de advogados, jornalistas, entre outros profissionais']\n"
     ]
    }
   ],
   "source": [
    "# newline\n",
    "\n",
    "print(open(file='noticia.txt', encoding='utf8', newline='\\r').readlines()) # só separaria se fosse \\r"
   ]
  },
  {
   "cell_type": "code",
   "execution_count": 4,
   "id": "2ebe86e3",
   "metadata": {},
   "outputs": [
    {
     "data": {
      "text/plain": [
       "8192"
      ]
     },
     "execution_count": 4,
     "metadata": {},
     "output_type": "execute_result"
    }
   ],
   "source": [
    "# buffering padrão: -1\n",
    "\n",
    "import io\n",
    "\n",
    "io.DEFAULT_BUFFER_SIZE"
   ]
  },
  {
   "cell_type": "code",
   "execution_count": 8,
   "id": "f196c3ed",
   "metadata": {},
   "outputs": [
    {
     "data": {
      "text/plain": [
       "215"
      ]
     },
     "execution_count": 8,
     "metadata": {},
     "output_type": "execute_result"
    }
   ],
   "source": [
    "# tamanho do arquivo\n",
    "\n",
    "import os\n",
    "\n",
    "os.stat('noticia.txt').st_size"
   ]
  },
  {
   "cell_type": "code",
   "execution_count": 9,
   "id": "bdffb36e",
   "metadata": {},
   "outputs": [
    {
     "data": {
      "text/plain": [
       "'cp1252'"
      ]
     },
     "execution_count": 9,
     "metadata": {},
     "output_type": "execute_result"
    }
   ],
   "source": [
    "# encoding padrão usado é o da minha máquina, neste caso: windows 1252 (= cp1252)\n",
    "\n",
    "import locale\n",
    "\n",
    "locale.getpreferredencoding()"
   ]
  },
  {
   "cell_type": "code",
   "execution_count": 13,
   "id": "8bb5b98d",
   "metadata": {},
   "outputs": [
    {
     "name": "stdout",
     "output_type": "stream",
     "text": [
      "Chat GPT: uso de ferramenta de inteligência artificial é analisada por TJMG\n",
      "Objetivo é que sistema auxilie no desenvolvimento de textos das áreas administrativas do tribunal\n",
      "\n",
      "Chat GPT pode ajudar na educação?\n",
      "Diretor administrativo da escola Teia Multicultural explica que a ferramenta pode ajudar a melhorar o aprendizado\n",
      "\n",
      "Construindo soluções baseadas em inteligência artificial generativa\n",
      "Quais são as opções disponíveis e quais os prós e contras de cada uma?\n",
      "\n"
     ]
    }
   ],
   "source": [
    "# escrevendo em um arquivo utilizando os métodos write() e writelines()\n",
    "\n",
    "fp = open(file='notícia.txt', mode='w') # escrever os parâmetros explicitamente é uma boa prática\n",
    "linha = 'Chat GPT: uso de ferramenta de inteligência artificial é analisada por TJMG'\n",
    "fp.write(linha)\n",
    "linha = '\\n' + 'Objetivo é que sistema auxilie no desenvolvimento de textos das áreas administrativas do tribunal'\n",
    "fp.write(linha)\n",
    "fp.close()\n",
    "\n",
    "arquivo = open(file='notícia.txt', mode='r', encoding='cp1252')\n",
    "conteudo = arquivo.read() # faz toda iteração e armazena tudo na memória, por isso não é a melhor opção\n",
    "print(conteudo)\n",
    "arquivo.close()\n",
    "\n",
    "fp = open(file='notícia.txt', mode='w') # fp significa file pointer\n",
    "conteudo = '''Chat GPT pode ajudar na educação?\n",
    "Diretor administrativo da escola Teia Multicultural explica que a ferramenta pode ajudar a melhorar o aprendizado'''\n",
    "fp.write(conteudo)\n",
    "fp.close()\n",
    "\n",
    "arquivo = open(file='notícia.txt', mode='r')\n",
    "conteudo = arquivo.read()\n",
    "print(conteudo)\n",
    "arquivo.close()\n",
    "\n",
    "print()\n",
    "\n",
    "fp = open(file='notícia.txt', mode='w', encoding='utf8')\n",
    "linhas = ['Construindo soluções baseadas em inteligência artificial generativa' + '\\n',\n",
    "         'Quais são as opções disponíveis e quais os prós e contras de cada uma?']\n",
    "fp.writelines(linhas) # recebe uma lista\n",
    "fp.close()\n",
    "\n",
    "arquivo = open(file='notícia.txt', mode='r', encoding='utf8')\n",
    "conteudo = arquivo.read()\n",
    "print(conteudo) # não aparece uma lista, pois utilizaou read() e não readlines()\n",
    "arquivo.close()"
   ]
  },
  {
   "cell_type": "code",
   "execution_count": 6,
   "id": "c795433c",
   "metadata": {},
   "outputs": [
    {
     "name": "stdout",
     "output_type": "stream",
     "text": [
      "Construindo soluções baseadas em inteligência artificial generativa\n",
      "Quais são as opções disponíveis e quais os prós e contras de cada uma?\n",
      "\n",
      "Construindo soluções baseadas em inteligência artificial generativa\n",
      "\n",
      "['Construindo soluções baseadas em inteligência artificial generativa\\n', 'Quais são as opções disponíveis e quais os prós e contras de cada uma?']\n"
     ]
    }
   ],
   "source": [
    "# a função open() produz um objeto iterável\n",
    "\n",
    "arquivo = open(file='notícia.txt', mode='r', encoding='utf8')\n",
    "linha1 = arquivo.readline().strip() # readline(), sem s, acrescenta '\\n' e o strip() retira espaço e '\\n'\n",
    "linha2 = arquivo.readline().strip()\n",
    "linha3 = arquivo.readline().strip() # linha vazia\n",
    "arquivo.seek(0) # retorna pra primeira linha\n",
    "linha4 = arquivo.readline().strip() # = linha1\n",
    "arquivo.close()\n",
    "\n",
    "print(linha1)\n",
    "print(linha2)\n",
    "print(linha3)\n",
    "print(linha4)\n",
    "print()\n",
    "\n",
    "# reproduzindo readlines() iterando linha a linha com readline()\n",
    "\n",
    "arquivo = open(file='notícia.txt', mode='r', encoding='utf8')\n",
    "\n",
    "conteudo = []\n",
    "linha = arquivo.readline()\n",
    "while linha:\n",
    "    conteudo.append(linha)\n",
    "    linha = arquivo.readline()\n",
    "\n",
    "print(conteudo)\n",
    "arquivo.close()"
   ]
  },
  {
   "cell_type": "code",
   "execution_count": 5,
   "id": "55677013",
   "metadata": {},
   "outputs": [
    {
     "name": "stdout",
     "output_type": "stream",
     "text": [
      "Construindo soluções baseadas em inteligência artificial generativa\n",
      "Quais são as opções disponíveis e quais os prós e contras de cada uma?\n"
     ]
    }
   ],
   "source": [
    "# utilizando o laço for para leitura\n",
    "\n",
    "arquivo = open(file='notícia.txt', mode='r', encoding='utf8')\n",
    "conteudo = arquivo.readlines() # lista\n",
    "\n",
    "for linha in conteudo:\n",
    "    print(linha.replace('\\n','')) # outra forma de remover o \\n\n",
    "    \n",
    "arquivo.close()"
   ]
  },
  {
   "cell_type": "code",
   "execution_count": 6,
   "id": "52dddc26",
   "metadata": {},
   "outputs": [
    {
     "name": "stdout",
     "output_type": "stream",
     "text": [
      "Construindo soluções baseadas em inteligência artificial generativa\n",
      "Quais são as opções disponíveis e quais os prós e contras de cada uma?\n",
      "\n",
      "\n",
      "Construindo soluções baseadas \n",
      "32\n",
      "em inteligência artificial generativa\n",
      "Quais são as opções disponíveis e quais os prós e contras de cada uma?\n",
      "\n"
     ]
    }
   ],
   "source": [
    "# o cursor para no ponto final da leitura \n",
    "\n",
    "arquivo = open(file='notícia.txt', mode='r', encoding='utf8')\n",
    "print(arquivo.read())\n",
    "print(arquivo.read()) # não vai imprimir\n",
    "arquivo.seek(0) # volta o cursor pro início\n",
    "print(arquivo.read(30)) # lê os primeiros 30 caracteres\n",
    "print(arquivo.tell()) # mostra a posição do cursor, contando o número de caracteres já percorridos e soma 2 (\\n)\n",
    "print(arquivo.read()) # lê o restante do arquivo a partir do ponto de parada anterior\n",
    "arquivo.close()"
   ]
  },
  {
   "cell_type": "markdown",
   "id": "55e53ba2",
   "metadata": {},
   "source": [
    "salarios.csv (Fonte: https://data.cityofchicago.org/)"
   ]
  },
  {
   "cell_type": "code",
   "execution_count": 31,
   "id": "588e7294",
   "metadata": {},
   "outputs": [
    {
     "name": "stdout",
     "output_type": "stream",
     "text": [
      "['Name,Position Title,Department,Employee Annual Salary', '\"AARON,  ELVIA J\",WATER RATE TAKER,WATER MGMNT,$88967.00', '\"AARON,  JEFFERY M\",POLICE OFFICER,POLICE,$80778.00', '\"AARON,  KARINA\",POLICE OFFICER,POLICE,$80778.00', '\"AARON,  KIMBERLEI R\",CHIEF CONTRACT EXPEDITER,GENERAL SERVICES,$84780.00', '\"ABAD JR,  VICENTE M\",CIVIL ENGINEER IV,WATER MGMNT,$104736.00']\n",
      "\n",
      "[',,,', '']\n"
     ]
    }
   ],
   "source": [
    "# dividindo arquivo em linhas\n",
    "\n",
    "arquivo = open(file='salarios.csv', mode='r', encoding='utf8')\n",
    "dados = arquivo.read()\n",
    "arquivo.close()\n",
    "\n",
    "linhas = dados.split('\\n') # lista sem o \\n ao contrario do readlines()\n",
    "\n",
    "print(linhas[0:6]) # cabeçalho + 5 primeiras linhas\n",
    "print()\n",
    "print(linhas[-2:]) # dados em branco no final da lista"
   ]
  },
  {
   "cell_type": "code",
   "execution_count": 44,
   "id": "9f5755be",
   "metadata": {},
   "outputs": [
    {
     "name": "stdout",
     "output_type": "stream",
     "text": [
      "[['Name', 'Position Title', 'Department', 'Employee Annual Salary'], ['\"AARON  ELVIA J\"', 'WATER RATE TAKER', 'WATER MGMNT', '$88967.00'], ['\"AARON  JEFFERY M\"', 'POLICE OFFICER', 'POLICE', '$80778.00'], ['\"AARON  KARINA\"', 'POLICE OFFICER', 'POLICE', '$80778.00'], ['\"AARON  KIMBERLEI R\"', 'CHIEF CONTRACT EXPEDITER', 'GENERAL SERVICES', '$84780.00'], ['\"ABAD JR  VICENTE M\"', 'CIVIL ENGINEER IV', 'WATER MGMNT', '$104736.00']]\n"
     ]
    }
   ],
   "source": [
    "# dividindo linhas em colunas\n",
    "\n",
    "arquivo = open(file='salarios.csv', mode='r', encoding='utf8')\n",
    "dados = arquivo.read()\n",
    "arquivo.close()\n",
    "linhas = dados.split('\\n')\n",
    "linhas.pop() # remove a última linha em branco\n",
    "linhas.pop() # remove os dados em branco que estavam na penúltima linha\n",
    "\n",
    "dados_completos = []\n",
    "for linha in linhas:\n",
    "    linha_separada = linha.split(',')\n",
    "    if linha != linhas[0]:\n",
    "        linha_separada[0] = linha_separada[0] + linha_separada[1] # last name + first name\n",
    "        linha_separada.pop(1)\n",
    "    dados_completos.append(linha_separada) # lista composta\n",
    "\n",
    "print(dados_completos[0:6]) # cabeçalho + 5 primeiras listas"
   ]
  },
  {
   "cell_type": "code",
   "execution_count": 26,
   "id": "d12bc801",
   "metadata": {},
   "outputs": [
    {
     "data": {
      "text/html": [
       "<table>\n",
       "<thead>\n",
       "<tr><th style=\"text-align: right;\">  </th><th>Name                </th><th>Position Title          </th><th>Department      </th><th>Employee Annual Salary  </th></tr>\n",
       "</thead>\n",
       "<tbody>\n",
       "<tr><td style=\"text-align: right;\"> 0</td><td>&quot;AARON  ELVIA J&quot;    </td><td>WATER RATE TAKER        </td><td>WATER MGMNT     </td><td>$88967.00               </td></tr>\n",
       "<tr><td style=\"text-align: right;\"> 1</td><td>&quot;AARON  JEFFERY M&quot;  </td><td>POLICE OFFICER          </td><td>POLICE          </td><td>$80778.00               </td></tr>\n",
       "<tr><td style=\"text-align: right;\"> 2</td><td>&quot;AARON  KARINA&quot;     </td><td>POLICE OFFICER          </td><td>POLICE          </td><td>$80778.00               </td></tr>\n",
       "<tr><td style=\"text-align: right;\"> 3</td><td>&quot;AARON  KIMBERLEI R&quot;</td><td>CHIEF CONTRACT EXPEDITER</td><td>GENERAL SERVICES</td><td>$84780.00               </td></tr>\n",
       "<tr><td style=\"text-align: right;\"> 4</td><td>&quot;ABAD JR  VICENTE M&quot;</td><td>CIVIL ENGINEER IV       </td><td>WATER MGMNT     </td><td>$104736.00              </td></tr>\n",
       "</tbody>\n",
       "</table>"
      ],
      "text/plain": [
       "'<table>\\n<thead>\\n<tr><th style=\"text-align: right;\">  </th><th>Name                </th><th>Position Title          </th><th>Department      </th><th>Employee Annual Salary  </th></tr>\\n</thead>\\n<tbody>\\n<tr><td style=\"text-align: right;\"> 0</td><td>&quot;AARON  ELVIA J&quot;    </td><td>WATER RATE TAKER        </td><td>WATER MGMNT     </td><td>$88967.00               </td></tr>\\n<tr><td style=\"text-align: right;\"> 1</td><td>&quot;AARON  JEFFERY M&quot;  </td><td>POLICE OFFICER          </td><td>POLICE          </td><td>$80778.00               </td></tr>\\n<tr><td style=\"text-align: right;\"> 2</td><td>&quot;AARON  KARINA&quot;     </td><td>POLICE OFFICER          </td><td>POLICE          </td><td>$80778.00               </td></tr>\\n<tr><td style=\"text-align: right;\"> 3</td><td>&quot;AARON  KIMBERLEI R&quot;</td><td>CHIEF CONTRACT EXPEDITER</td><td>GENERAL SERVICES</td><td>$84780.00               </td></tr>\\n<tr><td style=\"text-align: right;\"> 4</td><td>&quot;ABAD JR  VICENTE M&quot;</td><td>CIVIL ENGINEER IV       </td><td>WATER MGMNT     </td><td>$104736.00              </td></tr>\\n</tbody>\\n</table>'"
      ]
     },
     "execution_count": 26,
     "metadata": {},
     "output_type": "execute_result"
    }
   ],
   "source": [
    "# usando a função tabulate do módulo tabulate\n",
    "\n",
    "from tabulate import tabulate\n",
    "\n",
    "tabulate(dados_completos[1:6], headers=dados_completos[0], tablefmt='html', showindex=True)"
   ]
  },
  {
   "cell_type": "markdown",
   "id": "e4072def",
   "metadata": {},
   "source": [
    "### Extra: Módulo OS\n",
    "- Fornece métodos para manipular caminhos de arquivo de forma independente do sistema operacional.\n",
    "- Oferece funções para verificar a existência de diretórios, criar novos diretórios, navegar pelos diretórios e outras operações.\n",
    "- Permite verificar e alterar as permissões de arquivo, como permissões de leitura, gravação e execução."
   ]
  },
  {
   "cell_type": "code",
   "execution_count": 18,
   "id": "18d4664f",
   "metadata": {},
   "outputs": [
    {
     "name": "stdout",
     "output_type": "stream",
     "text": [
      "C:\\Users\\User\\OneDrive\\Documentos\\GitHub\\Introducao-ao-Python\\Python-Fundamentos\n",
      "['Chat GPT-4: inteligência artificial mente para completar tarefa e gera preocupação\\n', 'Relatório da OpenAI revela \"temores éticos\" com comportamentos de \"alto risco\" da ferramenta']\n"
     ]
    }
   ],
   "source": [
    "# permitindo que o código funcione corretamente em diferentes sistemas operacionais\n",
    "\n",
    "import os\n",
    "\n",
    "diretorio_atual = os.getcwd() # Retorna o diretório de trabalho atual como uma string.\n",
    "print(diretorio_atual)\n",
    "\n",
    "arquivo = open(os.path.join('noticia.txt'), mode='r') # caso não estivesse na mesma pasta, poderia usar o caminho de outra\n",
    "conteudo = arquivo.readlines()\n",
    "arquivo.close()\n",
    "\n",
    "print(conteudo)"
   ]
  },
  {
   "cell_type": "code",
   "execution_count": 13,
   "id": "639e5421",
   "metadata": {},
   "outputs": [
    {
     "name": "stdout",
     "output_type": "stream",
     "text": [
      "['.gitattributes', '.ipynb_checkpoints', 'arquivos', 'banco.csv', 'calculadora.py', 'DSA-Python-Cap06-02-TXT-CSV-JSON.ipynb', 'DSA-Python-Cap06-07-Zip.ipynb', 'DSA-Python-Cap06-08-Enumerate.ipynb', 'exercício12.txt', 'fatorial.py', 'lib', 'LICENSE', 'moeda.py', 'moeda2.py', 'noticia.txt', 'Python Fundamentos (Exercícios).ipynb', 'Python Fundamentos.ipynb', 'Python Funções (Exercícios).ipynb', 'Python Funções.ipynb', 'Python Módulos e Pacotes (Exercícios).ipynb', 'Python Módulos e Pacotes.ipynb', 'Python POO.ipynb', 'README.md', 'salarios.csv', 'utilidades', '__pycache__']\n"
     ]
    },
    {
     "data": {
      "text/plain": [
       "'\\nos.path.exists(caminho) = Verifica se o caminho especificado existe.\\nos.path.isfile(caminho) = Verifica se o caminho especificado é um arquivo.\\nos.path.isdir(caminho) = Verifica se o caminho especificado é um diretório.\\nos.rename(antigo, novo) = Renomeia um arquivo ou diretório\\nos.chdir(caminho) = Muda o diretório de trabalho para o caminho especificado.\\nos.mkdir(caminho) = Cria um novo diretório com o caminho especificado.\\nos.makedirs(caminho) = Cria um diretório completo com todos os subdiretórios no caminho especificado.\\nos.remove(caminho) = Remove o arquivo.\\nos.rmdir(caminho) = Remove o diretório vazio.\\n'"
      ]
     },
     "execution_count": 13,
     "metadata": {},
     "output_type": "execute_result"
    }
   ],
   "source": [
    "arquivos = os.listdir('C:/Users/User/OneDrive/Documentos/GitHub/Introducao-ao-Python/Python-Fundamentos') # inverter as barras\n",
    "print(arquivos)\n",
    "\n",
    "'''\n",
    "os.path.exists(caminho) = Verifica se o caminho especificado existe.\n",
    "os.path.isfile(caminho) = Verifica se o caminho especificado é um arquivo.\n",
    "os.path.isdir(caminho) = Verifica se o caminho especificado é um diretório.\n",
    "os.rename(antigo, novo) = Renomeia um arquivo ou diretório\n",
    "os.chdir(caminho) = Muda o diretório de trabalho para o caminho especificado.\n",
    "os.mkdir(caminho) = Cria um novo diretório com o caminho especificado.\n",
    "os.makedirs(caminho) = Cria um diretório completo com todos os subdiretórios no caminho especificado.\n",
    "os.remove(caminho) = Remove o arquivo.\n",
    "os.rmdir(caminho) = Remove o diretório vazio.\n",
    "os.system(comando) = Executa um comando do sistema no shell.\n",
    "'''"
   ]
  },
  {
   "cell_type": "markdown",
   "id": "94f8127c",
   "metadata": {},
   "source": [
    "## Tratamento de erros em Python"
   ]
  },
  {
   "cell_type": "markdown",
   "id": "87f0d644",
   "metadata": {},
   "source": [
    "### Erros e Exceções\n",
    "- O try e catch são blocos de código utilizados para lidar com exceções durante a execução do programa. O try define um bloco de código onde você suspeita que uma exceção possa ocorrer, enquanto o catch (também conhecido como except) define o bloco de código que trata a exceção caso ela ocorra."
   ]
  },
  {
   "cell_type": "code",
   "execution_count": 5,
   "id": "f32efbb3",
   "metadata": {},
   "outputs": [
    {
     "name": "stdout",
     "output_type": "stream",
     "text": [
      "Numerador: 5\n",
      "Denominador: 0\n",
      "Infelizmente tivemos um problema. =(\n",
      "Volte sempre! Muito obrigado!\n"
     ]
    }
   ],
   "source": [
    "# erros são sintáticos, exceções são erros semânticos\n",
    "\n",
    "try:\n",
    "    a = int(input('Numerador: '))\n",
    "    b = int(input('Denominador: '))\n",
    "    r = a/b\n",
    "except: # falhou\n",
    "    print('Infelizmente tivemos um problema. =(')\n",
    "else: # deu certo (opcional)\n",
    "    print(f'O resultado é {r:.1f}')\n",
    "finally: # imprime sempre\n",
    "    print('Volte sempre! Muito obrigado!')\n",
    "    \n",
    "# Obs.: Não é uma boa prática utilizar o except de forma genérica"
   ]
  },
  {
   "cell_type": "code",
   "execution_count": 6,
   "id": "a3fc3e8e",
   "metadata": {},
   "outputs": [
    {
     "name": "stdout",
     "output_type": "stream",
     "text": [
      "Número de clientes inválido. Espera-se um valor maior que 0 e obteve-se um valor igual a 0\n",
      "A lista dos anos é menor que o valor escolhido. Espera-se um valor entre 0 e 2\n",
      "O nome dele é Lucca e ele tem 8 anos\n"
     ]
    }
   ],
   "source": [
    "# exceções comuns\n",
    "\n",
    "vendas = 1342.50\n",
    "clientes = 0\n",
    "\n",
    "try:\n",
    "    vendas_por_cliente = vendas/clientes # operações numéricas impossíveis\n",
    "    print(vendas_por_cliente)\n",
    "except ZeroDivisionError:\n",
    "    print(f'Número de clientes inválido. Espera-se um valor maior que 0 e obteve-se um valor igual a {clientes}')\n",
    "\n",
    "anos = [2021, 2022, 2023]\n",
    "\n",
    "try:\n",
    "    ano_atual = anos[3] # erro de indexação\n",
    "    print(ano_atual)\n",
    "except Exception:\n",
    "    print(f'A lista dos anos é menor que o valor escolhido. Espera-se um valor entre 0 e {len(anos) - 1}')\n",
    "    \n",
    "nome = 'Lucca'\n",
    "idade = 8\n",
    "\n",
    "try:\n",
    "    apresentacao = 'O nome dela é ' + nome + ' e ele tem ' + idade + ' anos' # erro de tipos diferentes\n",
    "    print(apresentacao)\n",
    "except TypeError:\n",
    "    idade = str(idade) # tratando o erro com cast\n",
    "finally:\n",
    "    apresentacao = 'O nome dele é ' + nome + ' e ele tem ' + idade + ' anos'\n",
    "    print(apresentacao)"
   ]
  },
  {
   "cell_type": "code",
   "execution_count": 3,
   "id": "c7552922",
   "metadata": {},
   "outputs": [
    {
     "name": "stdout",
     "output_type": "stream",
     "text": [
      "Numerador: 5\n",
      "Denominador: 0\n",
      "Não é possível dividir um número por zero\n"
     ]
    }
   ],
   "source": [
    "# Multiplos blocos de except (erros específicos)\n",
    "\n",
    "try:\n",
    "    a = int(input('Numerador: '))\n",
    "    b = int(input('Denominador: '))\n",
    "    r = a/b\n",
    "except (ValueError, TypeError):\n",
    "    print('Infelizmente tivemos um problema com os tipos de dados que você digitou. =(')\n",
    "except ZeroDivisionError:\n",
    "    print('Não é possível dividir um número por zero')\n",
    "except KeyboardInterrupt:\n",
    "    print('O usuário preferiu não informar os dados') # quando clica em stop\n",
    "except Exception as exc:\n",
    "    print(exc)"
   ]
  },
  {
   "cell_type": "code",
   "execution_count": 2,
   "id": "cf8b131a",
   "metadata": {},
   "outputs": [
    {
     "name": "stdout",
     "output_type": "stream",
     "text": [
      "Numerador: 5\n",
      "Denominador: 0\n",
      "O problema encontrado foi <class 'ZeroDivisionError'>\n"
     ]
    }
   ],
   "source": [
    "# Capturando o tipo de erro\n",
    "\n",
    "try:\n",
    "    a = int(input('Numerador: '))\n",
    "    b = int(input('Denominador: '))\n",
    "    r = a/b\n",
    "except Exception as exc: #falhou\n",
    "    print(f'O problema encontrado foi {exc.__class__}') # não é pra mostrar isso pro usuário"
   ]
  },
  {
   "cell_type": "code",
   "execution_count": 49,
   "id": "e2747451",
   "metadata": {
    "scrolled": false
   },
   "outputs": [
    {
     "name": "stdout",
     "output_type": "stream",
     "text": [
      "[['Name', 'Position Title', 'Department', 'Employee Annual Salary'], ['\"AARON, ELVIA J\"', 'WATER RATE TAKER', 'WATER MGMNT', '$88967.00'], ['\"AARON, JEFFERY M\"', 'POLICE OFFICER', 'POLICE', '$80778.00'], ['\"AARON, KARINA\"', 'POLICE OFFICER', 'POLICE', '$80778.00'], ['\"AARON, KIMBERLEI R\"', 'CHIEF CONTRACT EXPEDITER', 'GENERAL SERVICES', '$84780.00'], ['\"ABAD JR, VICENTE M\"', 'CIVIL ENGINEER IV', 'WATER MGMNT', '$104736.00']]\n",
      "[['\"ZYSKOWSKI, DARIUSZ\"', 'CHIEF DATA BASE ANALYST', 'DoIT', '$110352.00'], [', ', '', '']]\n"
     ]
    }
   ],
   "source": [
    "# linhas em colunas 2: iterando linha a linha, assim não precisa carregar tudo na memória\n",
    "\n",
    "dados = []\n",
    "\n",
    "arquivo = open(file='salarios.csv', mode='r', encoding='utf8')\n",
    "linha = arquivo.readline().strip().split(',') # cabeçalho\n",
    "dados.append(linha)\n",
    "linha = arquivo.readline().strip() # lê a primeira linha\n",
    "while linha:\n",
    "    linha_separada = linha.split(',')\n",
    "    try:\n",
    "        linha_separada[0] = f'{linha_separada[0]}, {linha_separada[1].strip()}' # last name + first name\n",
    "        linha_separada.pop(1)\n",
    "    except IndexError:\n",
    "        pass\n",
    "    except Exception as exc:\n",
    "        print(exc)\n",
    "    else:\n",
    "        dados.append(linha_separada)\n",
    "    linha = arquivo.readline().strip()\n",
    "arquivo.close()\n",
    "\n",
    "print(dados[0:6])\n",
    "print(dados[-2:]) # dados.pop()"
   ]
  },
  {
   "cell_type": "code",
   "execution_count": 50,
   "id": "6efce685",
   "metadata": {},
   "outputs": [
    {
     "name": "stdout",
     "output_type": "stream",
     "text": [
      "[{'Name': '\"AARON, ELVIA J\"', 'Position Title': 'WATER RATE TAKER', 'Department': 'WATER MGMNT', 'Employee Annual Salary': '$88967.00'}, {'Name': '\"AARON, JEFFERY M\"', 'Position Title': 'POLICE OFFICER', 'Department': 'POLICE', 'Employee Annual Salary': '$80778.00'}, {'Name': '\"AARON, KARINA\"', 'Position Title': 'POLICE OFFICER', 'Department': 'POLICE', 'Employee Annual Salary': '$80778.00'}, {'Name': '\"AARON, KIMBERLEI R\"', 'Position Title': 'CHIEF CONTRACT EXPEDITER', 'Department': 'GENERAL SERVICES', 'Employee Annual Salary': '$84780.00'}, {'Name': '\"ABAD JR, VICENTE M\"', 'Position Title': 'CIVIL ENGINEER IV', 'Department': 'WATER MGMNT', 'Employee Annual Salary': '$104736.00'}]\n",
      "[{'Name': '\"ZYSKOWSKI, DARIUSZ\"', 'Position Title': 'CHIEF DATA BASE ANALYST', 'Department': 'DoIT', 'Employee Annual Salary': '$110352.00'}, {'Name': ', ', 'Position Title': '', 'Department': ''}]\n"
     ]
    }
   ],
   "source": [
    "# transformando matriz em data frame (lista de dicionários)\n",
    "\n",
    "data_frame = []\n",
    "colunas = dados[0][:]\n",
    "dados.pop(0)\n",
    "\n",
    "for linha in dados:\n",
    "    dicio = {}\n",
    "    for indice, valor in enumerate(linha):\n",
    "        dicio[colunas[indice]] = valor\n",
    "    data_frame.append(dicio)\n",
    "    \n",
    "print(data_frame[0:5])\n",
    "print(data_frame[-2:]) # dados.pop()"
   ]
  },
  {
   "cell_type": "code",
   "execution_count": 51,
   "id": "ec7aef33",
   "metadata": {},
   "outputs": [
    {
     "data": {
      "text/html": [
       "<table>\n",
       "<thead>\n",
       "<tr><th style=\"text-align: right;\">  </th><th>Name                </th><th>Position Title          </th><th>Department      </th><th>Employee Annual Salary  </th></tr>\n",
       "</thead>\n",
       "<tbody>\n",
       "<tr><td style=\"text-align: right;\"> 0</td><td>&quot;AARON, ELVIA J&quot;    </td><td>WATER RATE TAKER        </td><td>WATER MGMNT     </td><td>$88967.00               </td></tr>\n",
       "<tr><td style=\"text-align: right;\"> 1</td><td>&quot;AARON, JEFFERY M&quot;  </td><td>POLICE OFFICER          </td><td>POLICE          </td><td>$80778.00               </td></tr>\n",
       "<tr><td style=\"text-align: right;\"> 2</td><td>&quot;AARON, KARINA&quot;     </td><td>POLICE OFFICER          </td><td>POLICE          </td><td>$80778.00               </td></tr>\n",
       "<tr><td style=\"text-align: right;\"> 3</td><td>&quot;AARON, KIMBERLEI R&quot;</td><td>CHIEF CONTRACT EXPEDITER</td><td>GENERAL SERVICES</td><td>$84780.00               </td></tr>\n",
       "<tr><td style=\"text-align: right;\"> 4</td><td>&quot;ABAD JR, VICENTE M&quot;</td><td>CIVIL ENGINEER IV       </td><td>WATER MGMNT     </td><td>$104736.00              </td></tr>\n",
       "</tbody>\n",
       "</table>"
      ],
      "text/plain": [
       "'<table>\\n<thead>\\n<tr><th style=\"text-align: right;\">  </th><th>Name                </th><th>Position Title          </th><th>Department      </th><th>Employee Annual Salary  </th></tr>\\n</thead>\\n<tbody>\\n<tr><td style=\"text-align: right;\"> 0</td><td>&quot;AARON, ELVIA J&quot;    </td><td>WATER RATE TAKER        </td><td>WATER MGMNT     </td><td>$88967.00               </td></tr>\\n<tr><td style=\"text-align: right;\"> 1</td><td>&quot;AARON, JEFFERY M&quot;  </td><td>POLICE OFFICER          </td><td>POLICE          </td><td>$80778.00               </td></tr>\\n<tr><td style=\"text-align: right;\"> 2</td><td>&quot;AARON, KARINA&quot;     </td><td>POLICE OFFICER          </td><td>POLICE          </td><td>$80778.00               </td></tr>\\n<tr><td style=\"text-align: right;\"> 3</td><td>&quot;AARON, KIMBERLEI R&quot;</td><td>CHIEF CONTRACT EXPEDITER</td><td>GENERAL SERVICES</td><td>$84780.00               </td></tr>\\n<tr><td style=\"text-align: right;\"> 4</td><td>&quot;ABAD JR, VICENTE M&quot;</td><td>CIVIL ENGINEER IV       </td><td>WATER MGMNT     </td><td>$104736.00              </td></tr>\\n</tbody>\\n</table>'"
      ]
     },
     "execution_count": 51,
     "metadata": {},
     "output_type": "execute_result"
    }
   ],
   "source": [
    "# usando a função tabulate do módulo tabulate\n",
    "\n",
    "from tabulate import tabulate\n",
    "\n",
    "tabulate(data_frame[0:5], headers='keys', tablefmt='html', showindex=True)"
   ]
  },
  {
   "cell_type": "markdown",
   "id": "054e6d10",
   "metadata": {},
   "source": [
    "## Gerenciadores de contexto (PEP-343):"
   ]
  },
  {
   "cell_type": "markdown",
   "id": "b7b77051",
   "metadata": {},
   "source": [
    "### Função with()\n",
    "with expression [as variable]:<br />\n",
    "&ensp;&ensp;&ensp;&ensp;&ensp;with-block"
   ]
  },
  {
   "cell_type": "code",
   "execution_count": 1,
   "id": "9e062439",
   "metadata": {},
   "outputs": [
    {
     "name": "stdout",
     "output_type": "stream",
     "text": [
      "bananas\n",
      "<class 'list'>\n"
     ]
    }
   ],
   "source": [
    "# antes do with(), usava-se try e finally\n",
    "\n",
    "from builtins import list as b_list\n",
    "\n",
    "try:\n",
    "    list = 'bananas' # usou a palara reservada list como variável em um contexto\n",
    "    print(list)\n",
    "finally:\n",
    "    list = b_list \n",
    "    print(list)"
   ]
  },
  {
   "cell_type": "code",
   "execution_count": 11,
   "id": "4ae71d70",
   "metadata": {},
   "outputs": [
    {
     "name": "stdout",
     "output_type": "stream",
     "text": [
      "Conteúdo gravado com sucesso!\n",
      "\n",
      "Chat GPT-4: inteligência artificial mente para completar tarefa e gera preocupação\n",
      "Relatório da OpenAI revela \"temores éticos\" com comportamentos de \"alto risco\" da ferramenta\n",
      "\n",
      "Conteúdo lido com sucesso!\n"
     ]
    }
   ],
   "source": [
    "# usando try e finally para abertura e fechamento de arquivos\n",
    "\n",
    "try:\n",
    "    fp = open(file='noticia.txt', mode='w')\n",
    "    linha = 'Chat GPT-4: inteligência artificial mente para completar tarefa e gera preocupação'\n",
    "    fp.write(linha)\n",
    "    linha = '\\n' + 'Relatório da OpenAI revela \"temores éticos\" com comportamentos de \"alto risco\" da ferramenta'\n",
    "    fp.write(linha)\n",
    "except IOError:\n",
    "    print (\"Erro: arquivo não encontrado ou não pode ser salvo.\")\n",
    "except Exception as exc:\n",
    "    print(exc)\n",
    "else:\n",
    "    print (\"Conteúdo gravado com sucesso!\")\n",
    "finally:\n",
    "    fp.close() # mesmo que tivesse algum erro, ele fecha o arquivo\n",
    "\n",
    "print()    \n",
    "\n",
    "try:\n",
    "    arquivo = open(file='noticia.txt', mode='r')\n",
    "    conteudo = arquivo.read()\n",
    "    print(conteudo)\n",
    "except IOError:\n",
    "    print (\"Erro: arquivo não encontrado ou não pode ser lido.\")\n",
    "except Exception as exc:\n",
    "    print(exc)\n",
    "else:\n",
    "    print (\"\\nConteúdo lido com sucesso!\")\n",
    "finally:\n",
    "    arquivo.close()"
   ]
  },
  {
   "cell_type": "code",
   "execution_count": 3,
   "id": "4a2d3507",
   "metadata": {},
   "outputs": [
    {
     "name": "stdout",
     "output_type": "stream",
     "text": [
      "Erro: arquivo não encontrado ou não pode ser lido.\n"
     ]
    }
   ],
   "source": [
    "# Mostrando erro e fechando o arquivo\n",
    "\n",
    "try:\n",
    "    arquivo = open(file='noticia', mode='r')\n",
    "    conteudo = arquivo.read()\n",
    "except IOError:\n",
    "    print (\"Erro: arquivo não encontrado ou não pode ser lido.\")\n",
    "except Exception as exc:\n",
    "    print(exc)\n",
    "else:\n",
    "    print (\"\\nConteúdo lido com sucesso!\")\n",
    "finally:\n",
    "    arquivo.close()"
   ]
  },
  {
   "cell_type": "code",
   "execution_count": 2,
   "id": "65be1334",
   "metadata": {},
   "outputs": [
    {
     "name": "stdout",
     "output_type": "stream",
     "text": [
      "Bard: \"ChatGPT do Google\" é lançado no Brasil; sabia como funciona a IA e como usar\n",
      "O robô de inteligência artificial, configurado em mais de 40 idiomas, já pode ser usado gratuitamente no país\n"
     ]
    },
    {
     "data": {
      "text/plain": [
       "'\\ncontext manager protocol\\n\\n__enter__ : ele entra em determinado contexto, no qual as coisas vão ser feitas\\n__exit__ : ele finaliza o contexto e devolve tudo como estava anteriormente\\n'"
      ]
     },
     "execution_count": 2,
     "metadata": {},
     "output_type": "execute_result"
    }
   ],
   "source": [
    "# usando with() para abertura e fechamento de arquivos\n",
    "\n",
    "with open(file='noticia.txt', mode='w') as fp:\n",
    "    linha = 'Bard: \"ChatGPT do Google\" é lançado no Brasil; sabia como funciona a IA e como usar'\n",
    "    fp.write(linha)\n",
    "    linha = '\\n'+'O robô de inteligência artificial, configurado em mais de 40 idiomas, já pode ser usado gratuitamente no país'\n",
    "    fp.write(linha)\n",
    "    # fp.close() é feito sozinho ao usar with() e fecha mesmo que ocorra alguma exceção, assim como o finally\n",
    "    \n",
    "with open(file='noticia.txt', mode='r') as arquivo:\n",
    "    conteudo = arquivo.readlines()\n",
    "    \n",
    "for linha in conteudo:\n",
    "    print(linha.strip())\n",
    "\n",
    "'''\n",
    "context manager protocol\n",
    "\n",
    "__enter__ : ele entra em determinado contexto, no qual as coisas vão ser feitas\n",
    "__exit__ : ele finaliza o contexto e devolve tudo como estava anteriormente\n",
    "'''"
   ]
  },
  {
   "cell_type": "code",
   "execution_count": 3,
   "id": "323845b6",
   "metadata": {},
   "outputs": [],
   "source": [
    "# lendo e reescrevendo um arquivo\n",
    "\n",
    "with open(file='salarios.csv', mode='r', encoding='utf8') as infile:\n",
    "    cabecalho = infile.readline().strip()\n",
    "    with open(file='salarios2.csv', mode='w', encoding='utf8') as outfile:\n",
    "        outfile.write(cabecalho)\n",
    "        linha = infile.readline().strip() # primeira linha\n",
    "        while linha:\n",
    "            linha_separada = linha.split(',')\n",
    "            try:\n",
    "                linha_arrumada = '\\n'+f'{linha_separada[0]} {linha_separada[1].strip()},{linha_separada[2]},{linha_separada[3]},{linha_separada[4].replace(\"$\",\"\")}'\n",
    "                outfile.write(linha_arrumada) # gravando linha\n",
    "            except IndexError:\n",
    "                pass\n",
    "            except Exception as exc:\n",
    "                print(exc)\n",
    "            linha = infile.readline().strip() # lendo a próxima linha"
   ]
  },
  {
   "cell_type": "markdown",
   "id": "cd346111",
   "metadata": {},
   "source": [
    "<mark> Fazer os exercícios do 102 ao 104. </mark>"
   ]
  },
  {
   "cell_type": "markdown",
   "id": "9933db82",
   "metadata": {},
   "source": [
    "## Extra: Expressões Regulares com o módulo re\n",
    "Expressões regulares são padrões usados para combinar ou encontrar ocorrências de sequências de caracteres em uma string. </br>\n",
    "Documentação: https://docs.python.org/3.9/library/re.html"
   ]
  },
  {
   "cell_type": "code",
   "execution_count": 3,
   "id": "9ceb8e5b",
   "metadata": {},
   "outputs": [
    {
     "name": "stdout",
     "output_type": "stream",
     "text": [
      "O caractere \"@\" apareceu 2 vezes no texto.\n",
      "A palavra após \"você\" é: pode\n",
      "['exemplo@gmail.com', 'outro_email@yahoo.com']\n"
     ]
    }
   ],
   "source": [
    "import re\n",
    "\n",
    "texto = \"Meu e-mail é exemplo@gmail.com e você pode me contatar em outro_email@yahoo.com.\"\n",
    "\n",
    "arrobas = len(re.findall(\"@\", texto))  # conta quantas vezes o caracter arroba aparece no texto\n",
    "print(f'O caractere \"@\" apareceu {arrobas} vezes no texto.')\n",
    "\n",
    "'''\n",
    "Parâmetros:\n",
    "pattern = padrão de expressão regular que você deseja procurar na string\n",
    "string = sequência de caracteres em que você deseja procurar o padrão\n",
    "flags (opcional) = argumento para controlar o comportamento da expressão regular \n",
    "'''\n",
    "\n",
    "palavra = re.findall(r'você (\\w+)', texto) # extrai a palavra após a palavra \"você\" em um texto (gera uma lista)\n",
    "print(f'A palavra após \"você\" é: {palavra[0]}')\n",
    "\n",
    "emails = re.findall(r'\\b[A-Za-z0-9._%+-]+@[A-Za-z0-9.-]+\\.[A-Z|a-z]{2,}\\b', texto) # extrai endereços de e-mail de uma string\n",
    "print(emails)\n",
    "\n",
    "# Obs.: O r antes da string que é usado para indicar que a string é uma string literal raw."
   ]
  },
  {
   "cell_type": "code",
   "execution_count": 6,
   "id": "bafef335",
   "metadata": {},
   "outputs": [
    {
     "name": "stdout",
     "output_type": "stream",
     "text": [
      "15-28: incrivelmente\n",
      "60-71: rapidamente\n"
     ]
    }
   ],
   "source": [
    "# re.finditer é similar a re.findall(), mas retorna um iterador que produz objetos de correspondência.\n",
    "\n",
    "texto = \"O aluno estava incrivelmente perdido, mas encontrou a DSA e rapidamente começou a aprender.\"\n",
    "\n",
    "for adverbio in re.finditer(r\"\\w+mente\\b\", texto): # extrai advérbios da frase\n",
    "    print(f'{adverbio.start()}-{adverbio.end()}: {adverbio.group(0)}')"
   ]
  },
  {
   "cell_type": "markdown",
   "id": "885dca8d",
   "metadata": {},
   "source": [
    "## Extra: Manipulando Arquivo CSV com o módulo csv\n",
    "Comma-Separated Values"
   ]
  },
  {
   "cell_type": "code",
   "execution_count": 29,
   "id": "0b36d7eb",
   "metadata": {},
   "outputs": [
    {
     "name": "stdout",
     "output_type": "stream",
     "text": [
      "['nota1', 'nota2', 'nota3']\n",
      "['63', '87', '92']\n",
      "['61', '79', '76']\n",
      "['72', '64', '91']\n"
     ]
    }
   ],
   "source": [
    "import csv\n",
    "\n",
    "with open(file='numeros.csv', mode='w') as fp:\n",
    "    writer = csv.writer(fp) # cria o objeto de gravação\n",
    "    writer.writerow(('nota1', 'nota2', 'nota3')) # cabeçalho\n",
    "    writer.writerow((63,87,92)) \n",
    "    writer.writerow((61,79,76))\n",
    "    writer.writerow((72,64,91))\n",
    "    \n",
    "with open(file='numeros.csv', mode='r', newline = '\\r\\n') as arquivo:\n",
    "    conteudo = csv.reader(arquivo) # cria o objeto iterável de leitura, não carrega tudo na memória\n",
    "    for linha in conteudo: # precisa ser identado (com arquivo aberto)\n",
    "        print(linha) # poderia fazer append em outra lista, formando uma lista composta"
   ]
  },
  {
   "cell_type": "code",
   "execution_count": 27,
   "id": "3709b42a",
   "metadata": {},
   "outputs": [
    {
     "name": "stdout",
     "output_type": "stream",
     "text": [
      "[['nota1', 'nota2', 'nota3'], ['63', '87', '92'], ['61', '79', '76'], ['72', '64', '91']]\n"
     ]
    }
   ],
   "source": [
    "# iterando e jogando na memória (em uma lista)\n",
    "\n",
    "with open(file='numeros.csv', mode='r', newline = '\\r\\n') as arquivo:\n",
    "    conteudo = csv.reader(arquivo) # cria o objeto de leitura\n",
    "    dados = list(conteudo) # carrega tudo em uma lista\n",
    "    \n",
    "print(dados)"
   ]
  },
  {
   "cell_type": "markdown",
   "id": "866807d1",
   "metadata": {},
   "source": [
    "## Extra: Manipulando Arquivo JSON com o módulo json\n",
    "Java Script Object Notation"
   ]
  },
  {
   "cell_type": "code",
   "execution_count": 8,
   "id": "88dbc5c2",
   "metadata": {},
   "outputs": [
    {
     "name": "stdout",
     "output_type": "stream",
     "text": [
      "{'nome': 'Guido van Rossum', 'linguagem': 'Python', 'similar': ['c', 'Modula-3', 'lisp'], 'users': 1000000}\n"
     ]
    }
   ],
   "source": [
    "import json\n",
    "\n",
    "dict_guido = {'nome': 'Guido van Rossum',\n",
    "              'linguagem': 'Python',\n",
    "              'similar': ['c','Modula-3','lisp'],\n",
    "              'users': 1000000}\n",
    "\n",
    "with open(file='dados.json', mode='w') as fp: # Criando um arquivo Json\n",
    "    fp.write(json.dumps(dict_guido)) # Converte o dicionário para str e grava\n",
    "    \n",
    "with open(file='dados.json', mode='r') as arquivo:\n",
    "    conteudo = arquivo.read()\n",
    "    dados = json.loads(conteudo) # converte str para dicionário\n",
    "    \n",
    "print(dados)"
   ]
  },
  {
   "cell_type": "code",
   "execution_count": 4,
   "id": "f25122a2",
   "metadata": {},
   "outputs": [
    {
     "name": "stdout",
     "output_type": "stream",
     "text": [
      "Título:  The Good Man trailer\n",
      "URL:  https://vimeo.com/57733101\n",
      "Duração:  143\n",
      "Número de Visualizações:  6618\n"
     ]
    }
   ],
   "source": [
    "# extraindo dados da internet com urllib.request\n",
    "\n",
    "import json\n",
    "from urllib.request import urlopen # from pacote.modulo import função\n",
    "\n",
    "try:\n",
    "    resposta = urlopen(\"http://vimeo.com/api/v2/video/57733101.json\").read().decode('utf8') # retorna uma str que parece dict\n",
    "    dados = json.loads(resposta)[0] # só a primeira parte de uma lista de strings\n",
    "except urllib.error.URLError:\n",
    "    print('O site não está acessível no momento.')\n",
    "except Exception as exc:\n",
    "    print(exc)\n",
    "else:\n",
    "    print ('Título: ', dados['title'])\n",
    "    print ('URL: ', dados['url'])\n",
    "    print ('Duração: ', dados['duration'])\n",
    "    print ('Número de Visualizações: ', dados['stats_number_of_plays'])"
   ]
  },
  {
   "cell_type": "code",
   "execution_count": 6,
   "id": "44349ffe",
   "metadata": {},
   "outputs": [
    {
     "name": "stdout",
     "output_type": "stream",
     "text": [
      "status code: 200\n"
     ]
    }
   ],
   "source": [
    "# utilizando outro módulo: requests\n",
    "\n",
    "import json\n",
    "import requests as req\n",
    "\n",
    "resposta = req.get('http://vimeo.com/api/v2/video/57733101.json') # retorna um objeto\n",
    "print(f'status code: {resposta.status_code}')"
   ]
  },
  {
   "cell_type": "code",
   "execution_count": 7,
   "id": "b502cea1",
   "metadata": {},
   "outputs": [
    {
     "name": "stdout",
     "output_type": "stream",
     "text": [
      "Título:  The Good Man trailer\n",
      "URL:  https://vimeo.com/57733101\n",
      "Duração:  143\n",
      "Número de Visualizações:  6618\n"
     ]
    }
   ],
   "source": [
    "# resposta.text é o atributo do objeto que retorna uma str que parece dict\n",
    "\n",
    "dados = json.loads(resposta.text)[0] # converte str para dict\n",
    "\n",
    "print ('Título: ', dados['title'])\n",
    "print ('URL: ', dados['url'])\n",
    "print ('Duração: ', dados['duration'])\n",
    "print ('Número de Visualizações: ', dados['stats_number_of_plays'])"
   ]
  },
  {
   "cell_type": "code",
   "execution_count": 10,
   "id": "d6345344",
   "metadata": {},
   "outputs": [
    {
     "name": "stdout",
     "output_type": "stream",
     "text": [
      "{\"nome\": \"Guido van Rossum\", \"linguagem\": \"Python\", \"similar\": [\"c\", \"Modula-3\", \"lisp\"], \"users\": 1000000}\n"
     ]
    }
   ],
   "source": [
    "# Copiando o conteúdo de um arquivo para outro.\n",
    "\n",
    "arquivo_fonte = 'dados.json'\n",
    "arquivo_destino = 'dados.txt'\n",
    "\n",
    "with open(file=arquivo_fonte, mode='r') as infile:\n",
    "    conteudo = infile.read()\n",
    "    with open(file=arquivo_destino, mode='w') as outfile:\n",
    "        outfile.write(conteudo)\n",
    "        \n",
    "# em uma linha: open(arquivo_destino,'w').write(open(arquivo_fonte,'r').read()) \n",
    "\n",
    "with open(file='dados.txt', mode='r') as arquivo:\n",
    "    conteudo = arquivo.read()\n",
    "    dados = json.loads(conteudo)\n",
    "    \n",
    "print(conteudo)"
   ]
  },
  {
   "cell_type": "markdown",
   "id": "61e4ff02",
   "metadata": {},
   "source": [
    "## Extra: Importando um Dataset com Pandas"
   ]
  },
  {
   "cell_type": "code",
   "execution_count": 1,
   "id": "f3d5f891",
   "metadata": {},
   "outputs": [
    {
     "data": {
      "text/plain": [
       "'1.4.4'"
      ]
     },
     "execution_count": 1,
     "metadata": {},
     "output_type": "execute_result"
    }
   ],
   "source": [
    "import pandas as pd\n",
    "\n",
    "pd.__version__"
   ]
  },
  {
   "cell_type": "code",
   "execution_count": 2,
   "id": "7f8bd661",
   "metadata": {},
   "outputs": [
    {
     "data": {
      "text/html": [
       "<div>\n",
       "<style scoped>\n",
       "    .dataframe tbody tr th:only-of-type {\n",
       "        vertical-align: middle;\n",
       "    }\n",
       "\n",
       "    .dataframe tbody tr th {\n",
       "        vertical-align: top;\n",
       "    }\n",
       "\n",
       "    .dataframe thead th {\n",
       "        text-align: right;\n",
       "    }\n",
       "</style>\n",
       "<table border=\"1\" class=\"dataframe\">\n",
       "  <thead>\n",
       "    <tr style=\"text-align: right;\">\n",
       "      <th></th>\n",
       "      <th>Name</th>\n",
       "      <th>Position Title</th>\n",
       "      <th>Department</th>\n",
       "      <th>Employee Annual Salary</th>\n",
       "    </tr>\n",
       "  </thead>\n",
       "  <tbody>\n",
       "    <tr>\n",
       "      <th>0</th>\n",
       "      <td>AARON ELVIA J</td>\n",
       "      <td>WATER RATE TAKER</td>\n",
       "      <td>WATER MGMNT</td>\n",
       "      <td>88967.0</td>\n",
       "    </tr>\n",
       "    <tr>\n",
       "      <th>1</th>\n",
       "      <td>AARON JEFFERY M</td>\n",
       "      <td>POLICE OFFICER</td>\n",
       "      <td>POLICE</td>\n",
       "      <td>80778.0</td>\n",
       "    </tr>\n",
       "    <tr>\n",
       "      <th>2</th>\n",
       "      <td>AARON KARINA</td>\n",
       "      <td>POLICE OFFICER</td>\n",
       "      <td>POLICE</td>\n",
       "      <td>80778.0</td>\n",
       "    </tr>\n",
       "    <tr>\n",
       "      <th>3</th>\n",
       "      <td>AARON KIMBERLEI R</td>\n",
       "      <td>CHIEF CONTRACT EXPEDITER</td>\n",
       "      <td>GENERAL SERVICES</td>\n",
       "      <td>84780.0</td>\n",
       "    </tr>\n",
       "    <tr>\n",
       "      <th>4</th>\n",
       "      <td>ABAD JR VICENTE M</td>\n",
       "      <td>CIVIL ENGINEER IV</td>\n",
       "      <td>WATER MGMNT</td>\n",
       "      <td>104736.0</td>\n",
       "    </tr>\n",
       "  </tbody>\n",
       "</table>\n",
       "</div>"
      ],
      "text/plain": [
       "                Name            Position Title        Department  \\\n",
       "0      AARON ELVIA J          WATER RATE TAKER       WATER MGMNT   \n",
       "1    AARON JEFFERY M            POLICE OFFICER            POLICE   \n",
       "2       AARON KARINA            POLICE OFFICER            POLICE   \n",
       "3  AARON KIMBERLEI R  CHIEF CONTRACT EXPEDITER  GENERAL SERVICES   \n",
       "4  ABAD JR VICENTE M         CIVIL ENGINEER IV       WATER MGMNT   \n",
       "\n",
       "   Employee Annual Salary  \n",
       "0                 88967.0  \n",
       "1                 80778.0  \n",
       "2                 80778.0  \n",
       "3                 84780.0  \n",
       "4                104736.0  "
      ]
     },
     "execution_count": 2,
     "metadata": {},
     "output_type": "execute_result"
    }
   ],
   "source": [
    "df = pd.read_csv(filepath_or_buffer='salarios2.csv') # define a primeira linha como cabeçalho por default\n",
    "df.head()"
   ]
  },
  {
   "cell_type": "code",
   "execution_count": 5,
   "id": "e10be47a",
   "metadata": {},
   "outputs": [
    {
     "name": "stdout",
     "output_type": "stream",
     "text": [
      "POLICE OFFICER                            9489\n",
      "FIREFIGHTER-EMT                           1191\n",
      "SERGEANT                                  1138\n",
      "FIREFIGHTER                                970\n",
      "POLICE OFFICER (ASSIGNED AS DETECTIVE)     808\n",
      "                                          ... \n",
      "FOREMAN OF WINDOW WASHERS                    1\n",
      "SUPVSR OF INFORMATION SERVICES               1\n",
      "MANAGER OF TAX POLICY                        1\n",
      "FOREMAN OF ARCHITECTURAL IRON WORKERS        1\n",
      "MECHANICAL ENGINEER IV                       1\n",
      "Name: Position Title, Length: 1094, dtype: int64\n"
     ]
    }
   ],
   "source": [
    "# frequência de variáveis qualitativas\n",
    "\n",
    "print(df['Position Title'].value_counts())"
   ]
  },
  {
   "cell_type": "code",
   "execution_count": null,
   "id": "ef18a64c",
   "metadata": {},
   "outputs": [],
   "source": []
  }
 ],
 "metadata": {
  "kernelspec": {
   "display_name": "Python 3 (ipykernel)",
   "language": "python",
   "name": "python3"
  },
  "language_info": {
   "codemirror_mode": {
    "name": "ipython",
    "version": 3
   },
   "file_extension": ".py",
   "mimetype": "text/x-python",
   "name": "python",
   "nbconvert_exporter": "python",
   "pygments_lexer": "ipython3",
   "version": "3.9.13"
  }
 },
 "nbformat": 4,
 "nbformat_minor": 5
}
