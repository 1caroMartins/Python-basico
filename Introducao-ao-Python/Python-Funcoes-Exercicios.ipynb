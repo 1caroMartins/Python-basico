{
 "cells": [
  {
   "cell_type": "markdown",
   "id": "949b5a1b",
   "metadata": {},
   "source": [
    "# Funções"
   ]
  },
  {
   "cell_type": "markdown",
   "id": "664d0b37",
   "metadata": {},
   "source": [
    "## Lista de Exercícios"
   ]
  },
  {
   "cell_type": "markdown",
   "id": "495631ad",
   "metadata": {},
   "source": [
    "1. Faça um programa que tenha uma uma função chamada área(), que receba as dimensões de um terreno retangular(largura e comprimento) e mostre a área do terreno."
   ]
  },
  {
   "cell_type": "code",
   "execution_count": 2,
   "id": "5c4710df",
   "metadata": {},
   "outputs": [
    {
     "name": "stdout",
     "output_type": "stream",
     "text": [
      "Controle de Terrenos\n",
      "--------------------\n",
      "Largura (m): 4\n",
      "Comprimento (m): 5\n",
      "A área do seu terreno de 4.0x5.0 é de 20.0m².\n"
     ]
    }
   ],
   "source": [
    "def area(largura, comprimento):\n",
    "    area = largura * comprimento\n",
    "    print(f'A área do seu terreno de {largura}x{comprimento} é de {area}m².')\n",
    "\n",
    "print('Controle de Terrenos')\n",
    "print('-'*20)\n",
    "largura = float(input('Largura (m): '))\n",
    "comprimento = float(input('Comprimento (m): '))\n",
    "area(largura, comprimento)"
   ]
  },
  {
   "cell_type": "markdown",
   "id": "7cd7b258",
   "metadata": {},
   "source": [
    "2. Faça um programa que tenha a função escreva(), que recebe um texto qualquer como parâmentro e mostre uma mensagem com tamanho adaptável (linhas em cima e embaixo do tamanho da frase)."
   ]
  },
  {
   "cell_type": "code",
   "execution_count": 3,
   "id": "7619277c",
   "metadata": {},
   "outputs": [
    {
     "name": "stdout",
     "output_type": "stream",
     "text": [
      "~~~~~~~~~~~~~~~\n",
      "  Olá, mundo!\n",
      "~~~~~~~~~~~~~~~\n",
      "~~~~~~~~~~~~~~~~~~~~~~~~~~~~~~\n",
      "  Curso de Python no YouTube\n",
      "~~~~~~~~~~~~~~~~~~~~~~~~~~~~~~\n"
     ]
    }
   ],
   "source": [
    "def escreva(txt):\n",
    "    tamanho = len(txt) +4\n",
    "    print('~'*tamanho)\n",
    "    print(f'  {txt}') # 2 espaços\n",
    "    print('~'*tamanho)\n",
    "\n",
    "escreva('Olá, mundo!')\n",
    "escreva('Curso de Python no YouTube')"
   ]
  },
  {
   "cell_type": "markdown",
   "id": "753d6a94",
   "metadata": {},
   "source": [
    "3. Faça um programa que tenha a função chamada contador(), que receba três parâmetros: início, fim e passo e realize a contagem. Seu programa tem que realizar três contagens através da função criada:\n",
    "- De 1 até 10, de 1 em 1\n",
    "- De 10 até 0, de 2 em 2\n",
    "- Uma contagem personalizada"
   ]
  },
  {
   "cell_type": "code",
   "execution_count": 9,
   "id": "71d9c256",
   "metadata": {},
   "outputs": [
    {
     "name": "stdout",
     "output_type": "stream",
     "text": [
      "-=-=-=-=-=-=-=-=-=-=-=-=-=-=-=-=-=-=-=-=-=-=-=-=-=\n",
      "Contagem de 1 até 10 de 1 em 1\n",
      "1 2 3 4 5 6 7 8 9 10 FIM!\n",
      "-=-=-=-=-=-=-=-=-=-=-=-=-=-=-=-=-=-=-=-=-=-=-=-=-=\n",
      "Contagem de 10 até 0 de 2 em 2\n",
      "10 8 6 4 2 0 FIM!\n",
      "-=-=-=-=-=-=-=-=-=-=-=-=-=-=-=-=-=-=-=-=-=-=-=-=-=\n",
      "Agora é a sua vez de personalizar a contagem!\n",
      "Início: 10\n",
      "Fim: 0\n",
      "Passo: -2\n",
      "-=-=-=-=-=-=-=-=-=-=-=-=-=-=-=-=-=-=-=-=-=-=-=-=-=\n",
      "Contagem de 10 até 0 de -2 em -2\n",
      "10 8 6 4 2 0 FIM!\n"
     ]
    }
   ],
   "source": [
    "from time import sleep\n",
    "\n",
    "def contador(inicio, fim, passo):\n",
    "    print('-='*25)\n",
    "    print(f'Contagem de {inicio} até {fim} de {passo} em {passo}')\n",
    "    sleep(1)\n",
    "    cont = inicio\n",
    "    if passo < 0:\n",
    "        #passo *= -1\n",
    "        passo = abs(passo)\n",
    "    elif passo == 0:\n",
    "        passo = 1\n",
    "    if inicio < fim:\n",
    "        while True:\n",
    "            if cont > fim:\n",
    "                break\n",
    "            print(cont, end=' ', flush=True) # flush serve para não ter buffer de tela\n",
    "            sleep(0.5)\n",
    "            cont += passo\n",
    "    else:\n",
    "        while True:\n",
    "            if cont < fim:\n",
    "                break\n",
    "            print(cont, end=' ', flush=True) # flush serve para não ter buffer de tela\n",
    "            sleep(0.5)\n",
    "            cont -= passo\n",
    "    print('FIM!')\n",
    "\n",
    "# programa principal\n",
    "\n",
    "lista = [10, 0, 2]\n",
    "\n",
    "contador(1, 10, 1)\n",
    "contador(*lista)\n",
    "\n",
    "print('-='*25)\n",
    "print('Agora é a sua vez de personalizar a contagem!')\n",
    "ini = int(input('Início: '))\n",
    "fi = int(input('Fim: '))\n",
    "pa = int(input('Passo: '))\n",
    "contador(ini, fi, pa)"
   ]
  },
  {
   "cell_type": "markdown",
   "id": "2c59c2e9",
   "metadata": {},
   "source": [
    "4. Faça um programa que tenha uma função chamada maior(), que receba vários parâmetros com valores inteiros. Seu programa deve analisar todos os valores e dizer qual deles é o maior."
   ]
  },
  {
   "cell_type": "code",
   "execution_count": 20,
   "id": "76f3d82b",
   "metadata": {},
   "outputs": [
    {
     "name": "stdout",
     "output_type": "stream",
     "text": [
      "-=-=-=-=-=-=-=-=-=-=-=-=-=-=-=-=-=-=-=-=\n",
      "Analizando os valores passados...\n",
      "2 9 4 5 7 1 Foram informados 6 valores ao todo.\n",
      "O maior valor foi 9.\n",
      "-=-=-=-=-=-=-=-=-=-=-=-=-=-=-=-=-=-=-=-=\n",
      "Analizando os valores passados...\n",
      "0 4 7 Foram informados 3 valores ao todo.\n",
      "O maior valor foi 7.\n",
      "-=-=-=-=-=-=-=-=-=-=-=-=-=-=-=-=-=-=-=-=\n",
      "Analizando os valores passados...\n",
      "1 2 Foram informados 2 valores ao todo.\n",
      "O maior valor foi 2.\n",
      "-=-=-=-=-=-=-=-=-=-=-=-=-=-=-=-=-=-=-=-=\n",
      "Analizando os valores passados...\n",
      "6 Foram informados 1 valores ao todo.\n",
      "O maior valor foi 6.\n",
      "-=-=-=-=-=-=-=-=-=-=-=-=-=-=-=-=-=-=-=-=\n",
      "Analizando os valores passados...\n",
      "Foram informados 0 valores ao todo.\n",
      "O maior valor foi 0.\n"
     ]
    }
   ],
   "source": [
    "from time import sleep\n",
    "\n",
    "def maior(*args): # empacotamento\n",
    "    cont = maior = 0\n",
    "    print('-='*20)\n",
    "    print('Analizando os valores passados...')\n",
    "    for valor in args:\n",
    "        print(f'{valor} ', end ='', flush=True) # desempacotamento\n",
    "        sleep(0.3)\n",
    "        if cont == 0:\n",
    "            maior = valor\n",
    "        else:\n",
    "            if valor > maior:\n",
    "                maior = valor\n",
    "        cont += 1\n",
    "    print(f'Foram informados {cont} valores ao todo.')\n",
    "    print(f'O maior valor foi {maior}.')\n",
    "\n",
    "# programa principal\n",
    "\n",
    "tupla = (2, 9, 4, 5, 7, 1)\n",
    "conjunto = {4, 7, 0}\n",
    "\n",
    "maior(*tupla)\n",
    "maior(*conjunto)\n",
    "maior(1, 2)\n",
    "maior(6)\n",
    "maior()"
   ]
  },
  {
   "cell_type": "code",
   "execution_count": 18,
   "id": "f2ae41d8",
   "metadata": {},
   "outputs": [
    {
     "name": "stdout",
     "output_type": "stream",
     "text": [
      "-=-=-=-=-=-=-=-=-=-=-=-=-=-=-=-=-=-=-=-=\n",
      "Analizando os valores passados...\n",
      "2 9 4 5 7 1 Foram informados 6 valores ao todo.\n",
      "O maior valor foi 9.\n",
      "-=-=-=-=-=-=-=-=-=-=-=-=-=-=-=-=-=-=-=-=\n",
      "Analizando os valores passados...\n",
      "0 4 7 Foram informados 3 valores ao todo.\n",
      "O maior valor foi 7.\n",
      "-=-=-=-=-=-=-=-=-=-=-=-=-=-=-=-=-=-=-=-=\n",
      "Analizando os valores passados...\n",
      "1 2 Foram informados 2 valores ao todo.\n",
      "O maior valor foi 2.\n",
      "-=-=-=-=-=-=-=-=-=-=-=-=-=-=-=-=-=-=-=-=\n",
      "Analizando os valores passados...\n",
      "6 Foram informados 1 valores ao todo.\n",
      "O maior valor foi 6.\n",
      "-=-=-=-=-=-=-=-=-=-=-=-=-=-=-=-=-=-=-=-=\n",
      "Analizando os valores passados...\n",
      "Foram informados 0 valores ao todo.\n",
      "O maior valor foi 0.\n"
     ]
    }
   ],
   "source": [
    "from time import sleep\n",
    "\n",
    "def maior(*args): # empacotamento\n",
    "    lista = []\n",
    "    print('-='*20)\n",
    "    print('Analizando os valores passados...')\n",
    "    for valor in args:\n",
    "        print(f'{valor} ', end ='', flush=True) # desempacotamento\n",
    "        lista.append(valor)\n",
    "        sleep(0.3)   \n",
    "    print(f'Foram informados {len(lista)} valores ao todo.')\n",
    "    if len(lista) == 0:\n",
    "        print(f'O maior valor foi 0.')\n",
    "    else:\n",
    "        print(f'O maior valor foi {max(lista)}.')\n",
    "\n",
    "tupla = (2, 9, 4, 5, 7, 1)\n",
    "conjunto = {4, 7, 0}\n",
    "\n",
    "maior(*tupla)\n",
    "maior(*conjunto)\n",
    "maior(1, 2)\n",
    "maior(6)\n",
    "maior()"
   ]
  },
  {
   "cell_type": "markdown",
   "id": "eb2f5aa9",
   "metadata": {},
   "source": [
    "5. Faça um programa que tenha uma lista chamada números e duas funções chamadas sorteia() e somaPar(). A primeira função vai sortear 5 números e colocar dentro de uma lista e a segunda vai mostrar a soma entre todos os valores pares sorteados pela função anterior."
   ]
  },
  {
   "cell_type": "code",
   "execution_count": 21,
   "id": "2cc21a57",
   "metadata": {},
   "outputs": [
    {
     "name": "stdout",
     "output_type": "stream",
     "text": [
      "Sorteando 5 valores da lista: 4 5 2 3 6 PRONTO!\n",
      "Somando os valores pares de [4, 5, 2, 3, 6], temos 12\n",
      "Sorteando 5 valores da lista: 1 6 10 1 8 PRONTO!\n",
      "Somando os valores pares de [1, 6, 10, 1, 8], temos 24\n"
     ]
    }
   ],
   "source": [
    "from random import randint\n",
    "from time import sleep\n",
    "\n",
    "def sorteia(lista):\n",
    "    lista.clear()\n",
    "    print('Sorteando 5 valores da lista: ', end='')\n",
    "    for cont in range(5):\n",
    "        lista.append(randint(1, 10))\n",
    "        print(f'{lista[cont]} ', end='')\n",
    "        sleep(0.3)\n",
    "    print('PRONTO!')\n",
    "\n",
    "def somaPar(lista):\n",
    "    print(f'Somando os valores pares de {lista}, temos ', end='')\n",
    "    soma = 0\n",
    "    for valor in lista: # desempacotamento\n",
    "        if valor % 2 == 0:\n",
    "            soma += valor\n",
    "    print(soma)\n",
    "\n",
    "# programa principal\n",
    "\n",
    "numeros = [] # vetor\n",
    "\n",
    "sorteia(numeros)\n",
    "somaPar(numeros)\n",
    "\n",
    "sorteia(numeros)\n",
    "somaPar(numeros)"
   ]
  },
  {
   "cell_type": "markdown",
   "id": "8ed05cfe",
   "metadata": {},
   "source": [
    "6. Faça um programa que tenha uma função chamada media(), que receba um dicionário contendo nome e duas notas de cada aluno. No final, mostre o nome e a média de 5 alunos.\n",
    "\n",
    "Dicionário de entrada: {'Icaro':[5.7,8.5],'Lucca':[8.6,9.8],'Gustavo':[3.4,6.6],'Maria':[9.9,9.1],'Bia':[7.1,6.9]}"
   ]
  },
  {
   "cell_type": "code",
   "execution_count": 4,
   "id": "075b77c7",
   "metadata": {},
   "outputs": [
    {
     "name": "stdout",
     "output_type": "stream",
     "text": [
      "A média de Icaro foi 7.1\n",
      "A média de Lucca foi 9.2\n",
      "A média de Gustavo foi 5.0\n",
      "A média de Maria foi 9.5\n",
      "A média de Bia foi 7.0\n"
     ]
    }
   ],
   "source": [
    "dicionario = {'Icaro':[5.7,8.5],'Lucca':[8.6,9.8],'Gustavo':[3.4,6.6],'Maria':[9.9,9.1],'Bia':[7.1,6.9]}\n",
    "\n",
    "def media(**kwargs):\n",
    "    for nome, notas in kwargs.items():\n",
    "        print(f'A média de {nome} foi {sum(notas)/len(notas)}')\n",
    "\n",
    "media(**dicionario)"
   ]
  },
  {
   "cell_type": "markdown",
   "id": "fa633d07",
   "metadata": {},
   "source": [
    "7. Crie um programa que tenha uma função chamada voto() que receba como parâmetro o ano de nascimento de uma pessoa, retornando um valor literal indicando se uma pessoa tem voto negado, opcional ou obrigatório nas eleições."
   ]
  },
  {
   "cell_type": "code",
   "execution_count": 2,
   "id": "c6866962",
   "metadata": {},
   "outputs": [
    {
     "name": "stdout",
     "output_type": "stream",
     "text": [
      "--------------------\n",
      "Em que ano você nasceu? 1946\n",
      "Com 77 anos: voto opcional\n"
     ]
    }
   ],
   "source": [
    "def voto(nascimento:int) -> int:\n",
    "    from datetime import date # escopo de importação\n",
    "    atual = date.today().year\n",
    "    idade = atual - nascimento\n",
    "    if idade < 16:\n",
    "        resp = 'não vota'\n",
    "    elif idade < 18 or idade >= 65:\n",
    "        resp = 'voto opcional'\n",
    "    else:\n",
    "        resp = 'voto obrigatório'\n",
    "    return f'Com {idade} anos: {resp}' #return formatado\n",
    "\n",
    "print('-'*20)\n",
    "nascimento = int(input('Em que ano você nasceu? '))\n",
    "print(voto(nascimento))"
   ]
  },
  {
   "cell_type": "markdown",
   "id": "8b0e39ec",
   "metadata": {},
   "source": [
    "8. Crie um programa que tenha uma função chamada fatorial() que receba dois parâmetros. O primeiro que indique o número a calcular e o segundo chamado show, que será um valor lógico (opcional) indicando se será mostrado ou não na tela o processo de cálculo do fatorial.\n",
    "\n",
    "Obs.: Escreva também a docstring da função para aparecer em help(fatorial)"
   ]
  },
  {
   "cell_type": "code",
   "execution_count": 13,
   "id": "99fe4a25",
   "metadata": {},
   "outputs": [
    {
     "name": "stdout",
     "output_type": "stream",
     "text": [
      "5 x 4 x 3 x 2 x 1 = 120\n",
      "Help on function fatorial in module __main__:\n",
      "\n",
      "fatorial(n: int, show: bool = False) -> int\n",
      "    Calcula o fatorial de um número.\n",
      "    \n",
      "    Args:\n",
      "        n: O número a ser calculado.\n",
      "        show: (opcional) Mostrar ou não a conta.\n",
      "    Returns:\n",
      "        int: retorna o valor fatorial de um número n.\n",
      "\n"
     ]
    }
   ],
   "source": [
    "def fatorial(n:int, show:bool = False) -> int:\n",
    "    '''\n",
    "    Calcula o fatorial de um número.\n",
    "    \n",
    "    Args:\n",
    "        n: O número a ser calculado.\n",
    "        show: (opcional) Mostrar ou não a conta.\n",
    "    Returns:\n",
    "        int: O valor fatorial de um número n.\n",
    "    '''\n",
    "    f = 1\n",
    "    for c in range(n, 0, -1):\n",
    "        f *= c\n",
    "        if show:\n",
    "            print(f'{c} ', end='')\n",
    "            print('x ' if c > 1 else '= ', end ='')\n",
    "    return f\n",
    "\n",
    "print(fatorial(5,True))\n",
    "help(fatorial)"
   ]
  },
  {
   "cell_type": "markdown",
   "id": "e9a6b147",
   "metadata": {},
   "source": [
    "9. Faça um programa que tenha uma função chamada ficha(), que receba dois parâmetros opcionais: o nome de um jogador e quantos gols ele marcou. O programa deverá ser capaz de mostrar a ficha do jogador, mesmo que algum dado não tenha sido informado corretamente."
   ]
  },
  {
   "cell_type": "code",
   "execution_count": 14,
   "id": "07049d68",
   "metadata": {},
   "outputs": [
    {
     "name": "stdout",
     "output_type": "stream",
     "text": [
      "Nome do Jogador: \n",
      "Número de gols: \n",
      "O jogador <desconhecido> fez 0 gol(s) no campeonato\n"
     ]
    }
   ],
   "source": [
    "def ficha(nome:str = '<desconhecido>', gols:int = 0) -> str:\n",
    "    return f'O jogador {nome} fez {gols} gol(s) no campeonato'\n",
    "\n",
    "nome = str(input('Nome do Jogador: '))\n",
    "gols = str(input('Número de gols: '))\n",
    "if gols.isnumeric():\n",
    "    gols = int(gols)\n",
    "else:\n",
    "    gols = 0\n",
    "if nome.strip() == '':\n",
    "    print(ficha(gols = gols))\n",
    "else:\n",
    "    print(ficha(nome = nome, gols = gols))"
   ]
  },
  {
   "cell_type": "markdown",
   "id": "a1e1e409",
   "metadata": {},
   "source": [
    "10. Crie um programa que tenha a função leiaInt(), que vai funcionar de forma semelhante à função input() do Python, só que fazendo a validação para aceitar apenas valor numérico."
   ]
  },
  {
   "cell_type": "code",
   "execution_count": 16,
   "id": "dec17567",
   "metadata": {},
   "outputs": [
    {
     "name": "stdout",
     "output_type": "stream",
     "text": [
      "--------------------\n",
      "Digite um número: w\n",
      "\u001b[0;31mERRO! Dgite um número inteiro válido.\u001b[m\n",
      "Digite um número: \n",
      "\u001b[0;31mERRO! Dgite um número inteiro válido.\u001b[m\n",
      "Digite um número: 4\n",
      "Você acabou de digitar o número 4\n"
     ]
    }
   ],
   "source": [
    "def leiaInt(txt):\n",
    "    while True:\n",
    "        num = str(input(txt)) # variável local\n",
    "        if num.isnumeric():\n",
    "            num = int(num)\n",
    "            return num # funciona como o break\n",
    "        else:\n",
    "            print('\\033[0;31mERRO! Digite um número inteiro válido.\\033[m')\n",
    "\n",
    "print('-'*20)\n",
    "num = leiaInt('Digite um número: ') # variável global\n",
    "print(f'Você acabou de digitar o número {num}')"
   ]
  },
  {
   "cell_type": "markdown",
   "id": "52fed467",
   "metadata": {},
   "source": [
    "11. Faça um programa que tenha uma função notas() que pode receber várias notas de alunos e vai retornar um dicionário com as seguintes informações:\n",
    "- Quantidade de notas \n",
    "- Maior nota\n",
    "- Menor nota\n",
    "- Média da turma\n",
    "- Situação (opcional)\n",
    "\n",
    "Obs.: Adicione docstring"
   ]
  },
  {
   "cell_type": "code",
   "execution_count": 18,
   "id": "f800f874",
   "metadata": {},
   "outputs": [
    {
     "name": "stdout",
     "output_type": "stream",
     "text": [
      "{'quantidade': 3, 'maior': 8.5, 'menor': 2.5, 'média': 5.5, 'situação': 'RAZOÁVEL'}\n",
      "Help on function notas in module __main__:\n",
      "\n",
      "notas(*args: float, sit: bool = False) -> dict\n",
      "    Função para analizar notas e situação de vários alunos.\n",
      "    \n",
      "    Args:\n",
      "        n: uma ou mais notas dos alunos (aceita várias).\n",
      "        sit: (opcional) indica se deve ou não adicionar a situação.\n",
      "    \n",
      "    Returns:\n",
      "        dict: dicionário com várias informações sobre a situação da turma.\n",
      "\n"
     ]
    }
   ],
   "source": [
    "def notas(*args:float, sit:bool = False) -> dict:\n",
    "    '''\n",
    "    Função para analizar notas e situação de vários alunos.\n",
    "    \n",
    "    Args:\n",
    "        n: uma ou mais notas dos alunos (aceita várias).\n",
    "        sit: (opcional) indica se deve ou não adicionar a situação.\n",
    "    \n",
    "    Returns:\n",
    "        dict: dicionário com várias informações sobre a situação da turma.\n",
    "    '''\n",
    "    notas = dict()\n",
    "    notas['quantidade'] = len(args)\n",
    "    notas['maior'] = max(args)\n",
    "    notas['menor'] = min(args)\n",
    "    notas['média'] = sum(args)/len(args)\n",
    "    if sit:\n",
    "        if notas['média'] >= 7:\n",
    "            notas['situação'] = 'BOA'\n",
    "        elif notas['média'] >= 5:\n",
    "            notas['situação'] = 'RAZOÁVEL'\n",
    "        else:\n",
    "            notas['situação'] = 'RUIM'\n",
    "    return notas\n",
    "\n",
    "resp = notas(5.5,2.5,8.5, sit=True)\n",
    "print(resp)\n",
    "help(notas)"
   ]
  },
  {
   "cell_type": "markdown",
   "id": "77f6c2a4",
   "metadata": {},
   "source": [
    "12. Faça um mini-sistema que utilize o Interactive Help do Python. O usuário vai digitar o comando e o manual vai aparecer. Quando o usuário digitar a palavra ‘FIM’, o programa se encerrará. Importante: use cores. "
   ]
  },
  {
   "cell_type": "code",
   "execution_count": 19,
   "id": "7748c342",
   "metadata": {},
   "outputs": [
    {
     "name": "stdout",
     "output_type": "stream",
     "text": [
      "\u001b[0;30;42m~~~~~~~~~~~~~~~~~~~~~~~~~~~\n",
      "  SISTEMA DE AJUDA PyHELP\n",
      "~~~~~~~~~~~~~~~~~~~~~~~~~~~\n",
      "\u001b[mFunção ou Biblioteca > print\n",
      "\u001b[0;30;44m~~~~~~~~~~~~~~~~~~~~~~~~~~~~~~~~~~~~~~~~~\n",
      "  Acessando o manual do comando 'print'\n",
      "~~~~~~~~~~~~~~~~~~~~~~~~~~~~~~~~~~~~~~~~~\n",
      "\u001b[m\u001b[0;30mHelp on built-in function print in module builtins:\n",
      "\n",
      "print(...)\n",
      "    print(value, ..., sep=' ', end='\\n', file=sys.stdout, flush=False)\n",
      "    \n",
      "    Prints the values to a stream, or to sys.stdout by default.\n",
      "    Optional keyword arguments:\n",
      "    file:  a file-like object (stream); defaults to the current sys.stdout.\n",
      "    sep:   string inserted between values, default a space.\n",
      "    end:   string appended after the last value, default a newline.\n",
      "    flush: whether to forcibly flush the stream.\n",
      "\n",
      "\u001b[m\u001b[0;30;42m~~~~~~~~~~~~~~~~~~~~~~~~~~~\n",
      "  SISTEMA DE AJUDA PyHELP\n",
      "~~~~~~~~~~~~~~~~~~~~~~~~~~~\n",
      "\u001b[mFunção ou Biblioteca > fim\n",
      "\u001b[0;30;41m~~~~~~~~~~~~\n",
      "  ATÉ LOGO\n",
      "~~~~~~~~~~~~\n",
      "\u001b[m"
     ]
    }
   ],
   "source": [
    "from time import sleep\n",
    "\n",
    "cores = ('\\033[m',        #0 - sem cor\n",
    "     '\\033[0;30;41m', #1 - vermelho\n",
    "     '\\033[0;30;42m', #2 - verde\n",
    "     '\\033[0;30;43m', #3 - amarelo\n",
    "     '\\033[0;30;44m', #4 - azul\n",
    "     '\\033[0;30;45m', #5 - roxo\n",
    "     '\\033[0;30m'     #6 - branco\n",
    "    )\n",
    "     \n",
    "def ajuda(comando:str)->str:\n",
    "    titulo(f'Acessando o manual do comando \\'{comando}\\'', 4) # escrever comando entre aspas usando \\'.\n",
    "    print(cores[6], end='')\n",
    "    help(comando)\n",
    "    print(cores[0], end='')\n",
    "    sleep(2)\n",
    "\n",
    "def titulo(msg, cor=0):\n",
    "    tam = len(msg) + 4\n",
    "    print(cores[cor], end='')\n",
    "    print('~'*tam)\n",
    "    print(f'  {msg}')\n",
    "    print('~'*tam)\n",
    "    print(cores[0], end='')\n",
    "    sleep(1)\n",
    "    \n",
    "#programa principal\n",
    "\n",
    "comando = ' '\n",
    "\n",
    "while True:\n",
    "    titulo('SISTEMA DE AJUDA PyHELP', 2)\n",
    "    comando = str(input('Função ou Biblioteca > '))\n",
    "    if comando.upper() == 'FIM':\n",
    "        break\n",
    "    else:\n",
    "        ajuda(comando)\n",
    "titulo('ATÉ LOGO', 1)"
   ]
  },
  {
   "cell_type": "markdown",
   "id": "8128c22c",
   "metadata": {},
   "source": [
    "13. Faça um programa que tenha uma função chamada media_sort(), que receba uma lista contendo dicionários com nome e duas notas de cada aluno. O programa deve calcular a média de cada aluno, acrescentá-la ao dicionário e ao final mostrar uma lista de dicionários ordenada pela média.\n",
    "\n",
    "Lista de entrada: [{'Nome':'Icaro', 'Notas':[5.6,8.4]}, {'Nome':'Lucca', 'Notas':[8.6,9.8]}, {'Nome':'Gustavo', 'Notas':[3.4,6.6]}, {'Nome':'Maria', 'Notas':[9.9,9.1]}, {'Nome':'Bia', 'Notas':[7.1,6.9]}]\n",
    "\n",
    "Lista de saída: [{'Nome': 'Gustavo', 'Notas': [3.4, 6.6], 'Média': 5.0}, {'Nome': 'Bia', 'Notas': [7.1, 6.9], 'Média': 7.0}, {'Nome': 'Icaro', 'Notas': [5.7, 8.5], 'Média': 7.1}, {'Nome': 'Lucca', 'Notas': [8.6, 9.8], 'Média': 9.2}, {'Nome': 'Maria', 'Notas': [9.9, 9.1], 'Média': 9.5}]"
   ]
  },
  {
   "cell_type": "code",
   "execution_count": 2,
   "id": "40c1e306",
   "metadata": {},
   "outputs": [
    {
     "name": "stdout",
     "output_type": "stream",
     "text": [
      "Nome     Notas         Média\n",
      "-------  ----------  -------\n",
      "Gustavo  [3.4, 6.6]      5\n",
      "Bia      [7.1, 6.9]      7\n",
      "Icaro    [5.7, 8.5]      7.1\n",
      "Lucca    [8.6, 9.8]      9.2\n",
      "Maria    [9.9, 9.1]      9.5\n"
     ]
    }
   ],
   "source": [
    "from tabulate import tabulate\n",
    "\n",
    "alunos = [{'Nome':'Icaro', 'Notas':[5.7,8.5]},\n",
    "              {'Nome':'Lucca', 'Notas':[8.6,9.8]},\n",
    "              {'Nome':'Gustavo', 'Notas':[3.4,6.6]},\n",
    "              {'Nome':'Maria', 'Notas':[9.9,9.1]},\n",
    "              {'Nome':'Bia', 'Notas':[7.1,6.9]}]\n",
    "\n",
    "def media_sort(lst):\n",
    "    for aluno in lst:\n",
    "        aluno['Média'] = sum(aluno['Notas'])/len(aluno['Notas'])\n",
    "    alunos_ordenados = sorted(lst, key= lambda aluno: aluno['Média'])\n",
    "    return alunos_ordenados\n",
    "\n",
    "print(tabulate(media_sort(alunos), headers='keys', tablefmt='plan'))"
   ]
  },
  {
   "cell_type": "markdown",
   "id": "2a570475",
   "metadata": {},
   "source": [
    "14. Faça um programa que contenha uma função chamada gerador_de_pa, que gere uma progressão aritmética. Os parâmetros da função serão o primeiro termo e a razão. No final, mostre os 10 primeiros termos de uma PA."
   ]
  },
  {
   "cell_type": "code",
   "execution_count": 2,
   "id": "376911a1",
   "metadata": {},
   "outputs": [
    {
     "name": "stdout",
     "output_type": "stream",
     "text": [
      "4 10 16 22 28 34 40 46 52 58 "
     ]
    }
   ],
   "source": [
    "def gerador_de_pa(a1:int=0, razao:int=1)->int:\n",
    "    while True:\n",
    "        yield a1\n",
    "        a1 += razao\n",
    "        \n",
    "progressao = gerador_de_pa(4,6)\n",
    "\n",
    "for _ in range(10): # usa \"_\" quando não está interessado em consumir esse elemento, apenas rodar 10 vezes, neste caso\n",
    "    print(f'{next(progressao)} ', end='')"
   ]
  },
  {
   "cell_type": "markdown",
   "id": "8d6b8b39",
   "metadata": {},
   "source": [
    "15. Faça um programa que tenha uma função chamada gerar_quadraticos(), que deverá gerar uma sequência de números quadráticos a partir de um range (início, fim) qualquer. No final, mostre 10 números que possuem raíz quadrada inteira."
   ]
  },
  {
   "cell_type": "code",
   "execution_count": 10,
   "id": "f40c28e1",
   "metadata": {},
   "outputs": [
    {
     "name": "stdout",
     "output_type": "stream",
     "text": [
      "1 4 9 16 25 36 49 64 81 100 "
     ]
    }
   ],
   "source": [
    "def gerar_quadraticos(inicio, fim=None):\n",
    "    if fim == None:\n",
    "        inicio, fim = 0, inicio\n",
    "    yield from [x**2 for x in range(inicio+1, fim+1)]\n",
    "    \n",
    "quadraticos10 = gerar_quadraticos(10)\n",
    "\n",
    "for num in quadraticos10:\n",
    "    print(f'{num} ', end='')"
   ]
  },
  {
   "cell_type": "markdown",
   "id": "8f54c854",
   "metadata": {},
   "source": [
    "16. Utilize a saída do exercício 13 e atribua a lista de dicionários a uma variável chamada alunos. Depois utilize a função map() para extrair as médias para uma lista chamada médias."
   ]
  },
  {
   "cell_type": "code",
   "execution_count": 1,
   "id": "2e1e1018",
   "metadata": {},
   "outputs": [
    {
     "name": "stdout",
     "output_type": "stream",
     "text": [
      "[5.0, 7.0, 7.1, 9.2, 9.5]\n"
     ]
    }
   ],
   "source": [
    "alunos = [{'Nome': 'Gustavo', 'Notas': [3.4, 6.6], 'Média': 5.0},\n",
    "          {'Nome': 'Bia', 'Notas': [7.1, 6.9], 'Média': 7.0},\n",
    "          {'Nome': 'Icaro', 'Notas': [5.7, 8.5], 'Média': 7.1},\n",
    "          {'Nome': 'Lucca', 'Notas': [8.6, 9.8], 'Média': 9.2},\n",
    "          {'Nome': 'Maria', 'Notas': [9.9, 9.1], 'Média': 9.5}]\n",
    "\n",
    "medias = map(lambda aluno: aluno['Média'], alunos)\n",
    "print(list(medias))"
   ]
  },
  {
   "cell_type": "markdown",
   "id": "8c35714c",
   "metadata": {},
   "source": [
    "17. Utilize a função filter() para filtrar a lista medias (do exercício anterior) apenas com valores acima de 7.0 (aprovados). "
   ]
  },
  {
   "cell_type": "code",
   "execution_count": 2,
   "id": "c25f5e86",
   "metadata": {},
   "outputs": [
    {
     "name": "stdout",
     "output_type": "stream",
     "text": [
      "[7.0, 7.1, 9.2, 9.5]\n"
     ]
    }
   ],
   "source": [
    "medias = [5.0, 7.0, 7.1, 9.2, 9.5]\n",
    "\n",
    "aprovados = filter(lambda nota: nota >= 7.0, medias)\n",
    "print(list(aprovados))"
   ]
  },
  {
   "cell_type": "markdown",
   "id": "fe11b6fa",
   "metadata": {},
   "source": [
    "18. Utilize a função reduce para somar as médias dos alunos (do exercício anterior) e posteriormente calcular a média dos aprovados."
   ]
  },
  {
   "cell_type": "code",
   "execution_count": 7,
   "id": "38673500",
   "metadata": {},
   "outputs": [
    {
     "name": "stdout",
     "output_type": "stream",
     "text": [
      "8.2\n"
     ]
    }
   ],
   "source": [
    "from functools import reduce\n",
    "\n",
    "aprovados = [7.0, 7.1, 9.2, 9.5]\n",
    "\n",
    "media_dos_aprovados = reduce(lambda x, y: x + y, aprovados)/len(aprovados)\n",
    "print(media_dos_aprovados)"
   ]
  },
  {
   "cell_type": "markdown",
   "id": "88d4bc18",
   "metadata": {},
   "source": [
    "19. Sabendo que a Variância é soma dos quadrados dos desvios dividida pelo número de ocorrências (-1 graus de liberdade) e que Desvio Padrão é a raíz da Variância, utilize a função reduce() para calcular o Desvio Padrão da lista de aprovados (do exercício anterior).\n",
    "\n",
    "Dica: Você pode jogar os valores da sua lista em uma planilha e usar a fórmula DESVPAD.A() (Excel) para calcular o desvio padrão da sua amostra, conferindo o resultado obtido."
   ]
  },
  {
   "cell_type": "code",
   "execution_count": 1,
   "id": "fd5677ac",
   "metadata": {},
   "outputs": [
    {
     "name": "stdout",
     "output_type": "stream",
     "text": [
      "1.3341664064126333\n"
     ]
    }
   ],
   "source": [
    "from functools import reduce\n",
    "\n",
    "aprovados = [7.0, 7.1, 9.2, 9.5]\n",
    "media_dos_aprovados = 8.2\n",
    "\n",
    "varianca = reduce(lambda x,y: x + y, map(lambda valor: (valor - media_dos_aprovados)**2, aprovados))/(len(aprovados) - 1)\n",
    "desvio = varianca**(1/2)\n",
    "print(desvio)"
   ]
  },
  {
   "cell_type": "markdown",
   "id": "c51b60fb",
   "metadata": {},
   "source": [
    "20. Crie duas funções, uma para elevar um número ao quadrado e outra para elevar ao cubo. Posteriormente aplique simultaneamente as duas funções aos elementos da lista [0, 1, 2, 3, 4] "
   ]
  },
  {
   "cell_type": "code",
   "execution_count": 5,
   "id": "9748eb91",
   "metadata": {},
   "outputs": [
    {
     "name": "stdout",
     "output_type": "stream",
     "text": [
      "[0, 0]\n",
      "[1, 1]\n",
      "[4, 8]\n",
      "[9, 27]\n",
      "[16, 64]\n"
     ]
    }
   ],
   "source": [
    "lista = [0, 1, 2, 3, 4]\n",
    "\n",
    "def quadrado(x:int)->int:\n",
    "    return x**2\n",
    "\n",
    "def cubo(x:int)->int:\n",
    "    return x**3\n",
    "\n",
    "funcoes = [quadrado, cubo]\n",
    "\n",
    "for x in lista:\n",
    "    valor = map(lambda func: func(x), funcoes)\n",
    "    print(list((valor)))"
   ]
  },
  {
   "cell_type": "markdown",
   "id": "ec428b9c",
   "metadata": {},
   "source": [
    "21. Crie a função cont_var_quali() que contenha os parâmetros arquivo e coluna. A função deverá ler um arquivo csv (utilize salarios2.csv para teste), calcular a frequência de cada variável encontrada na coluna indicada. Ao final, a função deverá imprimir as variáveis e suas respectivas frequências, mas apenas as 5 primeiras e as 5 últimas, ordenadas por ordem decrscente de frequências."
   ]
  },
  {
   "cell_type": "code",
   "execution_count": 6,
   "id": "d3456d0a",
   "metadata": {},
   "outputs": [
    {
     "name": "stdout",
     "output_type": "stream",
     "text": [
      "\tPOLICE OFFICER                           \t9489 \n",
      "\tFIREFIGHTER-EMT                          \t1191 \n",
      "\tSERGEANT                                 \t1138 \n",
      "\tFIREFIGHTER                              \t970  \n",
      "\tPOLICE OFFICER (ASSIGNED AS DETECTIVE)   \t808  \n",
      "                                                    ...\n",
      "\tINVESTIGATOR - IPRA I                    \t1    \n",
      "\tSUPERVISING COOLING PLANT INSPECTOR      \t1    \n",
      "\tMANAGING DEPUTY DIR                      \t1    \n",
      "\tASSOCIATE GENERAL COUNSEL                \t1    \n",
      "\tSUPVSR OF PAYROLLS                       \t1    \n"
     ]
    }
   ],
   "source": [
    "def cont_var_quali(arquivo:str, coluna:int)->str:\n",
    "    valores = []\n",
    "    \n",
    "    with open(file=arquivo, mode='r', encoding='utf8') as arq:\n",
    "        linha = arq.readline().strip().split(',')\n",
    "        linha = arq.readline().strip()\n",
    "        while linha:\n",
    "            linha_separada = linha.split(',')\n",
    "            valores.append(linha_separada[coluna])\n",
    "            linha = arq.readline().strip()\n",
    "    \n",
    "    valores_distintos = set(valores)\n",
    "    freq_valores = {valor: valores.count(valor) for valor in valores_distintos}\n",
    "    \n",
    "    freq_ordenada = sorted(freq_valores.items(), key=lambda valor: valor[1], reverse=True)\n",
    "    for tupla in freq_ordenada[:5]:\n",
    "        print(f'\\t{tupla[0]:<40} \\t{tupla[1]:<5}')\n",
    "    print(f'{\"...\":>55}')\n",
    "    for tupla in freq_ordenada[-5:]:\n",
    "        print(f'\\t{tupla[0]:<40} \\t{tupla[1]:<5}')\n",
    "        \n",
    "cont_var_quali(arquivo='salarios2.csv', coluna=1)"
   ]
  },
  {
   "cell_type": "markdown",
   "id": "f91a8800",
   "metadata": {},
   "source": [
    "22. Reescreva a função leiaInt() do exercício 10, incluindo agora a possibilidade da digitação de um número de tipo inválido. Aproveite e crie também uma função leiaFloat() com a mesma funcionalidade."
   ]
  },
  {
   "cell_type": "code",
   "execution_count": 1,
   "id": "7a2544e0",
   "metadata": {},
   "outputs": [
    {
     "name": "stdout",
     "output_type": "stream",
     "text": [
      "--------------------\n",
      "Digite um número inteiro: 5\n",
      "Digite um número real: 4.5\n",
      "O valor inteiro foi 5 e o valor real foi 4.5\n"
     ]
    }
   ],
   "source": [
    "def leiaInt(txt):\n",
    "    while True:\n",
    "        try:\n",
    "            n = int(input(txt))\n",
    "        except (ValueError, TypeError):\n",
    "            print('\\033[0;31mERRO! Digite um número inteiro válido.\\033[m')\n",
    "            continue\n",
    "        except KeyboardInterrupt:\n",
    "            print('\\033[0;31mEntrada de dados interrompida pelo usuário. \\033[m')\n",
    "            return 0\n",
    "        else:\n",
    "            return n\n",
    "\n",
    "def leiaFloat(txt):\n",
    "    while True:\n",
    "        try:\n",
    "            n = float(input(txt))\n",
    "        except (ValueError, TypeError):\n",
    "            print('\\033[0;31mERRO! Digite um número real válido.\\033[m')\n",
    "            continue\n",
    "        except KeyboardInterrupt:\n",
    "            print('\\033[0;31mEntrada de dados interrompida pelo usuário. \\033[m')\n",
    "            return 0\n",
    "        else:\n",
    "            return n\n",
    "\n",
    "print('-'*20)\n",
    "n1 = leiaInt('Digite um número inteiro: ')\n",
    "n2 = leiaFloat('Digite um número real: ')\n",
    "print(f'O valor inteiro foi {n1} e o valor real foi {n2}')"
   ]
  },
  {
   "cell_type": "markdown",
   "id": "255a6ed1",
   "metadata": {},
   "source": [
    "23. Utilize o pseudocódigo gerado pelo ChatGPT para criar um jogo da forca:\n",
    "- Definir a lista de palavras possíveis\n",
    "- Escolher uma palavra aleatória da lista\n",
    "- Criar uma lista vazia para armazenar as letras adivinhadas\n",
    "- Definir o número máximo de tentativas permitidas\n",
    "- Enquanto o número de tentativas não atingir o limite máximo:\n",
    "<p>a. Mostrar a palavra como uma série de underscores, com as letras adivinhadas preenchidas nos espaços corretos </br>\n",
    "b. Pedir ao jogador que adivinhe uma letra </br>\n",
    "c. Verificar se a letra adivinhada está na palavra </br>\n",
    "d. Se a letra adivinhada está na palavra, adicionar a letra à lista de letras adivinhadas e atualizar a exibição da palavra </br>\n",
    "e. Se a letra adivinhada não está na palavra, reduzir o número de tentativas restantes e exibir a mensagem \"Letra incorreta. Tentativas restantes: [número de tentativas restantes]\" </br>\n",
    "f. Verificar se todas as letras da palavra foram adivinhadas </br>\n",
    "g. Se todas as letras foram adivinhadas, exibir a mensagem \"Você venceu!\" </br>\n",
    "h. Se o número de tentativas restantes chegar a zero, exibir a mensagem \"Você perdeu. A palavra era [palavra escolhida]\" e encerrar o jogo.</p>"
   ]
  },
  {
   "cell_type": "code",
   "execution_count": 50,
   "id": "9647987c",
   "metadata": {},
   "outputs": [
    {
     "name": "stdout",
     "output_type": "stream",
     "text": [
      "-=-=-=-=-=-=-=-=-=-=-=-=-=-=-=-=-=-=-=-=\n",
      "     Bem-vindo(a) ao jogo da forca!     \n",
      "-=-=-=-=-=-=-=-=-=-=-=-=-=-=-=-=-=-=-=-=\n",
      "Adivinhe a palavra abaixo:\n",
      "\n",
      "\n",
      "           +---+\n",
      "           |   |\n",
      "               |\n",
      "               |\n",
      "               |\n",
      "               |\n",
      "        =========\n",
      "        \n",
      "\tPalavra: _ _ _ _ _ _ _\n",
      "\n",
      "\tChances restantes: \t6\n",
      "\tLetras erradas:  \n",
      "----------------------------------------\n",
      "Tente adivinhar uma letra: m\n",
      "\n",
      "           +---+\n",
      "           |   |\n",
      "           O   |\n",
      "               |\n",
      "               |\n",
      "               |\n",
      "        =========\n",
      "        \n",
      "\tPalavra: _ _ _ _ _ _ _\n",
      "\n",
      "\tChances restantes: \t5\n",
      "\tLetras erradas:  M\n",
      "----------------------------------------\n",
      "Tente adivinhar uma letra: n\n",
      "\n",
      "           +---+\n",
      "           |   |\n",
      "           O   |\n",
      "               |\n",
      "               |\n",
      "               |\n",
      "        =========\n",
      "        \n",
      "\tPalavra: _ _ _ _ N _ _\n",
      "\n",
      "\tChances restantes: \t5\n",
      "\tLetras erradas:  M\n",
      "----------------------------------------\n",
      "Tente adivinhar uma letra: b\n",
      "\n",
      "           +---+\n",
      "           |   |\n",
      "           O   |\n",
      "           |   |\n",
      "               |\n",
      "               |\n",
      "        =========\n",
      "        \n",
      "\tPalavra: _ _ _ _ N _ _\n",
      "\n",
      "\tChances restantes: \t4\n",
      "\tLetras erradas:  M B\n",
      "----------------------------------------\n",
      "Tente adivinhar uma letra: a\n",
      "\n",
      "           +---+\n",
      "           |   |\n",
      "           O   |\n",
      "           |   |\n",
      "               |\n",
      "               |\n",
      "        =========\n",
      "        \n",
      "\tPalavra: _ A _ A N _ A\n",
      "\n",
      "\tChances restantes: \t4\n",
      "\tLetras erradas:  M B\n",
      "----------------------------------------\n",
      "Tente adivinhar uma letra: l\n",
      "\n",
      "           +---+\n",
      "           |   |\n",
      "           O   |\n",
      "           |   |\n",
      "               |\n",
      "               |\n",
      "        =========\n",
      "        \n",
      "\tPalavra: L A _ A N _ A\n",
      "\n",
      "\tChances restantes: \t4\n",
      "\tLetras erradas:  M B\n",
      "----------------------------------------\n",
      "Tente adivinhar uma letra: r\n",
      "\n",
      "           +---+\n",
      "           |   |\n",
      "           O   |\n",
      "           |   |\n",
      "               |\n",
      "               |\n",
      "        =========\n",
      "        \n",
      "\tPalavra: L A R A N _ A\n",
      "\n",
      "\tChances restantes: \t4\n",
      "\tLetras erradas:  M B\n",
      "----------------------------------------\n",
      "Tente adivinhar uma letra: j\n",
      "-=-=-=-=-=-=-=-=-=-=-=-=-=-=-=-=-=-=-=-=\n",
      "  Você venceu! A palavra era: LARANJA   \n",
      "-=-=-=-=-=-=-=-=-=-=-=-=-=-=-=-=-=-=-=-=\n"
     ]
    }
   ],
   "source": [
    "import random\n",
    "from os import system, name\n",
    "\n",
    "palavras = ['banana', 'abacate', 'uva', 'morango', 'laranja']\n",
    "\n",
    "# Função para limar a tela a cada execução\n",
    "def limpar_tela():\n",
    " \n",
    "    # Windows\n",
    "    if name == 'nt':\n",
    "        _ = system('cls')\n",
    " \n",
    "    # Mac ou Linux\n",
    "    else:\n",
    "        _ = system('clear')\n",
    "        \n",
    "def saudar()->str:\n",
    "    print('-='*20)\n",
    "    print(f'{\"Bem-vindo(a) ao jogo da forca!\":^40}')\n",
    "    print('-='*20)\n",
    "    print('Adivinhe a palavra abaixo:' + '\\n')\n",
    "    \n",
    "def desenhar_forca(tentativas:int = 0)->str:\n",
    "    desenhos = [\n",
    "        \"\"\"\n",
    "           +---+\n",
    "           |   |\n",
    "               |\n",
    "               |\n",
    "               |\n",
    "               |\n",
    "        =========\n",
    "        \"\"\",\n",
    "        \"\"\"\n",
    "           +---+\n",
    "           |   |\n",
    "           O   |\n",
    "               |\n",
    "               |\n",
    "               |\n",
    "        =========\n",
    "        \"\"\",\n",
    "        \"\"\"\n",
    "           +---+\n",
    "           |   |\n",
    "           O   |\n",
    "           |   |\n",
    "               |\n",
    "               |\n",
    "        =========\n",
    "        \"\"\",\n",
    "        \"\"\"\n",
    "           +---+\n",
    "           |   |\n",
    "           O   |\n",
    "          /|   |\n",
    "               |\n",
    "               |\n",
    "        =========\n",
    "        \"\"\",\n",
    "        \"\"\"\n",
    "           +---+\n",
    "           |   |\n",
    "           O   |\n",
    "          /|\\  |\n",
    "               |\n",
    "               |\n",
    "        =========\n",
    "        \"\"\",\n",
    "        \"\"\"\n",
    "           +---+\n",
    "           |   |\n",
    "           O   |\n",
    "          /|\\  |\n",
    "          /    |\n",
    "               |\n",
    "        =========\n",
    "        \"\"\",\n",
    "        \"\"\"\n",
    "           +---+\n",
    "           |   |\n",
    "           O   |\n",
    "          /|\\  |\n",
    "          / \\  |\n",
    "               |\n",
    "        =========\n",
    "        \"\"\"\n",
    "    ]\n",
    "    print(desenhos[tentativas])\n",
    "    \n",
    "def mostrar_status(letras_certas:str, chances:int, letras_erradas:list)->str:\n",
    "    print(f'\\tPalavra: {\" \".join(letras_certas)}' + '\\n') # espaço entre elementos da lista, p.e ['a', 'b']\n",
    "    print(f'\\tChances restantes: \\t{chances}')\n",
    "    print(f'\\tLetras erradas:  {\" \".join(letras_erradas)}')\n",
    "    print(40*'-')\n",
    "    \n",
    "def finalizar(texto:str)->str:\n",
    "    print('-='*20)\n",
    "    print(f'{texto:^40}')\n",
    "    print('-='*20)\n",
    "\n",
    "def jogar_forca(*args):\n",
    "    \n",
    "    limpar_tela()\n",
    "    saudar()\n",
    "    \n",
    "    palavra = random.choice(args).upper()\n",
    "    letras_certas = ['_' for letra in range(len(palavra))] # list comprehension\n",
    "    letras_erradas = []\n",
    "    \n",
    "    chances = 6\n",
    "    while chances > 0:\n",
    "        desenhar_forca(6 - chances)\n",
    "        mostrar_status(letras_certas, chances, letras_erradas)\n",
    "        \n",
    "        while True:\n",
    "            letra = str(input('Tente adivinhar uma letra: ')).strip().upper()\n",
    "            try:\n",
    "                letra = letra[0]\n",
    "            except IndexError:\n",
    "                letra = ' '\n",
    "            finally:\n",
    "                if letra.isalpha() and letra not in letras_certas and letra not in letras_erradas:\n",
    "                    break\n",
    "                else:\n",
    "                    print('ERRO: Informe uma letra do alfabeto (a-z) e que já não tenha sido tentada!')\n",
    "        \n",
    "        if letra in palavra:\n",
    "            for i in range(len(palavra)):\n",
    "                if letra == palavra[i]:\n",
    "                    letras_certas[i] = letra\n",
    "        else:\n",
    "            letras_erradas.append(letra)\n",
    "            chances -= 1\n",
    "            \n",
    "        if \"_\" not in letras_certas:\n",
    "            finalizar(f'Você venceu! A palavra era: {palavra}')\n",
    "            break\n",
    "    \n",
    "    if \"_\" in letras_certas:\n",
    "        desenhar_forca(6)\n",
    "        finalizar(f'A palavra era: {palavra}, você perdeu. =(')\n",
    "\n",
    "# programa principal\n",
    "\n",
    "jogar_forca(*palavras)"
   ]
  },
  {
   "cell_type": "code",
   "execution_count": null,
   "id": "e8811931",
   "metadata": {},
   "outputs": [],
   "source": []
  }
 ],
 "metadata": {
  "kernelspec": {
   "display_name": "Python 3 (ipykernel)",
   "language": "python",
   "name": "python3"
  },
  "language_info": {
   "codemirror_mode": {
    "name": "ipython",
    "version": 3
   },
   "file_extension": ".py",
   "mimetype": "text/x-python",
   "name": "python",
   "nbconvert_exporter": "python",
   "pygments_lexer": "ipython3",
   "version": "3.9.13"
  }
 },
 "nbformat": 4,
 "nbformat_minor": 5
}
