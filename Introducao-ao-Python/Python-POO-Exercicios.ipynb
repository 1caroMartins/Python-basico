{
 "cells": [
  {
   "cell_type": "markdown",
   "id": "d3c79283",
   "metadata": {},
   "source": [
    "# Python Orientado a Objetos"
   ]
  },
  {
   "cell_type": "markdown",
   "id": "d845e47d",
   "metadata": {},
   "source": [
    "## Lista de Exercícios"
   ]
  },
  {
   "cell_type": "markdown",
   "id": "36f329f8",
   "metadata": {},
   "source": [
    "1. Crie um programa que tenha uma classe chamada AnaliseDados que receba o parâmetro \"dados\" em uma lista. A classe deve possuir um método mágico, além dos métodos para calcular média, mediana e desvio-padrão. Ao final passe uma lista para criar um objeto e faça chamada dos métodos."
   ]
  },
  {
   "cell_type": "code",
   "execution_count": 26,
   "id": "0a695615",
   "metadata": {},
   "outputs": [],
   "source": [
    "class AnaliseDados(object):\n",
    "    \n",
    "    def __init__(self, dados:list):\n",
    "        self.dados = dados\n",
    "\n",
    "    def calcular_media(self):\n",
    "        if not self.dados:\n",
    "            raise ValueError(\"Nenhum dado fornecido para cálculo da média.\")\n",
    "        return sum(self.dados) / len(self.dados)\n",
    "\n",
    "    def calcular_mediana(self):\n",
    "        if not self.dados:\n",
    "            raise ValueError(\"Nenhum dado fornecido para cálculo da mediana.\")\n",
    "        dados_ordenados = sorted(self.dados)\n",
    "        n = len(dados_ordenados)\n",
    "        if n % 2 == 0:\n",
    "            mediana = (dados_ordenados[n / 2 - 1] + dados_ordenados[n / 2]) / 2\n",
    "        else:\n",
    "            mediana = dados_ordenados[n // 2]\n",
    "        return mediana\n",
    "\n",
    "    def calcular_desvio_padrao(self):\n",
    "        if not self.dados:\n",
    "            raise ValueError(\"Nenhum dado fornecido para cálculo do desvio padrão.\")\n",
    "        media = self.calcular_media()\n",
    "        variancia = sum(map(lambda x: (x - media)**2, self.dados)) / (len(self.dados) - 1)\n",
    "        return variancia ** 0.5"
   ]
  },
  {
   "cell_type": "code",
   "execution_count": 27,
   "id": "dd1c5d62",
   "metadata": {},
   "outputs": [
    {
     "name": "stdout",
     "output_type": "stream",
     "text": [
      "Média: 79167.53\n",
      "Mediana: 83616.00\n",
      "Desvio Padrão: 24462.36\n"
     ]
    }
   ],
   "source": [
    "# criando objeto salarios a partir da classe AnaliseDados\n",
    "\n",
    "dados = []\n",
    "\n",
    "with open(file='salarios2.csv', mode='r', encoding='utf8') as arquivo:\n",
    "    linha = arquivo.readline().strip() # lê cabeçalho\n",
    "    linha = arquivo.readline().strip() # lê a primeira linha\n",
    "    while linha:\n",
    "        linha_separada = linha.split(',')\n",
    "        salario = float(linha_separada[3])\n",
    "        dados.append(salario)\n",
    "        linha = arquivo.readline().strip()\n",
    "\n",
    "\n",
    "salarios = AnaliseDados(dados=dados)\n",
    "\n",
    "media = salarios.calcular_media()\n",
    "mediana = salarios.calcular_mediana()\n",
    "desvio_padrao = salarios.calcular_desvio_padrao()\n",
    "\n",
    "print(f'Média: {media:.2f}')\n",
    "print(f'Mediana: {mediana:.2f}')\n",
    "print(f'Desvio Padrão: {desvio_padrao:.2f}')"
   ]
  },
  {
   "cell_type": "markdown",
   "id": "ba8e8a57",
   "metadata": {},
   "source": [
    "criando arquivo musica.txt"
   ]
  },
  {
   "cell_type": "code",
   "execution_count": 1,
   "id": "2304307c",
   "metadata": {},
   "outputs": [
    {
     "name": "stdout",
     "output_type": "stream",
     "text": [
      "Writing musica.txt\n"
     ]
    }
   ],
   "source": [
    "%%writefile musica.txt\n",
    "Todos os dias quando acordo\n",
    "Não tenho mais\n",
    "O tempo que passou\n",
    "Mas tenho muito tempo\n",
    "Temos todo o tempo do mundo\n",
    "Todos os dias\n",
    "Antes de dormir\n",
    "Lembro e esqueço\n",
    "Como foi o dia\n",
    "Sempre em frente\n",
    "Não temos tempo a perder\n",
    "Nosso suor sagrado\n",
    "É bem mais belo\n",
    "Que esse sangue amargo\n",
    "E tão sério\n",
    "E selvagem! Selvagem!\n",
    "Selvagem!\n",
    "Veja o sol\n",
    "Dessa manhã tão cinza\n",
    "A tempestade que chega\n",
    "É da cor dos teus olhos\n",
    "Castanhos\n",
    "Então me abraça forte\n",
    "E diz mais uma vez\n",
    "Que já estamos\n",
    "Distantes de tudo\n",
    "Temos nosso próprio tempo\n",
    "Temos nosso próprio tempo\n",
    "Temos nosso próprio tempo\n",
    "Não tenho medo do escuro\n",
    "Mas deixe as luzes\n",
    "Acesas agora\n",
    "O que foi escondido\n",
    "É o que se escondeu\n",
    "E o que foi prometido\n",
    "Ninguém prometeu\n",
    "Nem foi tempo perdido\n",
    "Somos tão jovens\n",
    "Tão jovens! Tão jovens!"
   ]
  },
  {
   "cell_type": "markdown",
   "id": "f8cc2e52",
   "metadata": {},
   "source": [
    "2. Crie a classe ArquivoTexto que contenha os atributos self.arquivo e self.conteudo. A classe também deve possuir um método de extrair linha que recebe como parâmetro o número da linha a ser extraída do conteúdo do arquivo. Ao final, crie um objeto com o arquivo musica.txt e extraia uma linha de seu conteúdo, utilizando o método da classe.\n",
    "\n",
    "Dica: utilize um método protegido para extrair conteúdo."
   ]
  },
  {
   "cell_type": "code",
   "execution_count": 1,
   "id": "53894956",
   "metadata": {},
   "outputs": [],
   "source": [
    "class ArquivoTexto(object):\n",
    "    \n",
    "    def __init__(self, arquivo:str):\n",
    "        self.arquivo = arquivo\n",
    "        self.conteudo = self._extrair_conteudo()\n",
    "        \n",
    "    def _extrair_conteudo(self):\n",
    "        conteudo = []\n",
    "        with open(file=self.arquivo, mode='r', encoding='utf8') as arq:\n",
    "            linha = arq.readline()\n",
    "            while linha:\n",
    "                conteudo.append(linha)\n",
    "                linha = arq.readline()\n",
    "        return conteudo\n",
    "    \n",
    "    def extrair_linha(self, numero_linha:int):\n",
    "        numero_linha -= 1\n",
    "        try:\n",
    "            linha = self.conteudo[numero_linha].strip()\n",
    "        except IndexError:\n",
    "            raise IndexError(f'O arquivo contém {len(self.conteudo)} linhas!')\n",
    "        return linha"
   ]
  },
  {
   "cell_type": "code",
   "execution_count": 24,
   "id": "4c414749",
   "metadata": {},
   "outputs": [
    {
     "data": {
      "text/plain": [
       "'Tão jovens! Tão jovens!'"
      ]
     },
     "execution_count": 24,
     "metadata": {},
     "output_type": "execute_result"
    }
   ],
   "source": [
    "# criando objeto musica a partir da classe ArquivoTexto\n",
    "\n",
    "musica = ArquivoTexto(arquivo='musica.txt')\n",
    "\n",
    "musica.extrair_linha(39)"
   ]
  },
  {
   "cell_type": "markdown",
   "id": "bf98fd23",
   "metadata": {},
   "source": [
    "3. Crie um programa com a subclasse ArquivoCSV que extenda a superclasse ArquivoTexto criada no exercício anterior. A classe deve conter o atributo self.colunas em que os elementos da lista são os nomes das colunas, além de possuir um método para extrair coluna da linha com os parâmetros de número da linha e número da coluna. Ao final, crie um objeto com o arquivo salarios2.csv, faça a chamada do atributo que mostra o nome das colunas e as chamadas dos métodos que uma linha do arquivo e que extrai uma coluna da linha.\n",
    "\n",
    "Dica: Utilize um método protegido para extrair nome das colunas."
   ]
  },
  {
   "cell_type": "code",
   "execution_count": 16,
   "id": "00a70d91",
   "metadata": {},
   "outputs": [],
   "source": [
    "class ArquivoCSV(ArquivoTexto):\n",
    "    \n",
    "    def __init__(self, arquivo:str):\n",
    "        super().__init__(arquivo=arquivo)\n",
    "        self.colunas = self._extrair_nome_colunas()\n",
    "        \n",
    "    def _extrair_nome_colunas(self):\n",
    "        return self.conteudo[0].strip().split(',')\n",
    "       \n",
    "    def extrair_coluna_da_linha(self, numero_linha: int, numero_coluna: int):\n",
    "        numero_linha -= 1\n",
    "        linha = self.conteudo[numero_linha].strip().split(',')\n",
    "        numero_coluna -= 1\n",
    "        coluna = linha[numero_coluna]\n",
    "        return coluna"
   ]
  },
  {
   "cell_type": "code",
   "execution_count": 17,
   "id": "4c691640",
   "metadata": {},
   "outputs": [
    {
     "name": "stdout",
     "output_type": "stream",
     "text": [
      "['Name', 'Position Title', 'Department', 'Employee Annual Salary']\n"
     ]
    }
   ],
   "source": [
    "# criando objeto arquivo_csv a partir da classe ArquivoCSV\n",
    "\n",
    "arquivo_csv = ArquivoCSV(arquivo='salarios2.csv')\n",
    "print(arquivo_csv.colunas)"
   ]
  },
  {
   "cell_type": "code",
   "execution_count": 18,
   "id": "2b233068",
   "metadata": {},
   "outputs": [
    {
     "name": "stdout",
     "output_type": "stream",
     "text": [
      "\"AARON JEFFERY M\",POLICE OFFICER,POLICE,80778.00\n",
      "POLICE OFFICER\n"
     ]
    }
   ],
   "source": [
    "numero_linha = 3\n",
    "numero_coluna = 2\n",
    "\n",
    "print(arquivo_csv.extrair_linha(numero_linha))\n",
    "print(arquivo_csv.extrair_coluna_da_linha(numero_linha, numero_coluna))"
   ]
  },
  {
   "cell_type": "markdown",
   "id": "5d806fce",
   "metadata": {},
   "source": [
    "4. Crie um programa com a classe Coluna que tenha como parâmetros o nome que recebe um tipo str e o arquivo que recebe o tipo personalizado ArquivoCSV. Esta classe deverá possuir, além do atributo self.nome, atributos privados de self.conteudo e self.colunas (ou seja, o usuário não poderá alterar esses atributos). A classe também deve possuir o método contar_valores() que conta as variáveis qualitativas da coluna nomeada. Ao final, chame esses atributos e o método."
   ]
  },
  {
   "cell_type": "code",
   "execution_count": 28,
   "id": "bdd1a271",
   "metadata": {},
   "outputs": [],
   "source": [
    "class Coluna(object):\n",
    "    \n",
    "    def __init__(self, nome:str, arquivo: ArquivoCSV):\n",
    "        self.nome = nome\n",
    "        self.__conteudo = arquivo.conteudo\n",
    "        self.__colunas = arquivo.colunas\n",
    "        self.coluna = self._extrair_coluna()\n",
    "        \n",
    "    @property\n",
    "    def conteudo(self):\n",
    "        return self.__conteudo\n",
    "    \n",
    "    @property\n",
    "    def colunas(self):\n",
    "        return self.__colunas\n",
    "    \n",
    "    def _extrair_coluna(self):\n",
    "        try:\n",
    "            numero_coluna = self.__colunas.index(self.nome)\n",
    "        except ValueError:\n",
    "            raise ValueError(f'Coluna inexistente. Escolha uma das colunas abaixo: \\n{self.__colunas}')\n",
    "        else:\n",
    "            valores = []\n",
    "            for linha in self.__conteudo[1:]:\n",
    "                linha_separada = linha.strip().split(',')\n",
    "                valores.append(linha_separada[numero_coluna])\n",
    "            return valores\n",
    "    \n",
    "    def contar_valores(self):\n",
    "        freq_valores = {valor: self.coluna.count(valor) for valor in set(self.coluna)}\n",
    "        \n",
    "        freq_ordenada = sorted(freq_valores.items(), key=lambda valor: valor[1], reverse=True)\n",
    "        for tupla in freq_ordenada[:5]:\n",
    "            print(f'\\t{tupla[0]:<40} \\t{tupla[1]:<5}')\n",
    "        print(f'{\"...\":>55}')\n",
    "        for tupla in freq_ordenada[-5:]:\n",
    "            print(f'\\t{tupla[0]:<40} \\t{tupla[1]:<5}')"
   ]
  },
  {
   "cell_type": "code",
   "execution_count": 29,
   "id": "7b28533d",
   "metadata": {},
   "outputs": [
    {
     "name": "stdout",
     "output_type": "stream",
     "text": [
      "Position Title\n",
      "['Name', 'Position Title', 'Department', 'Employee Annual Salary']\n"
     ]
    }
   ],
   "source": [
    "# criando objeto position_title a partir da classe Coluna\n",
    "\n",
    "arquivo_csv = ArquivoCSV(arquivo='salarios2.csv')\n",
    "\n",
    "position_title = Coluna(nome='Position Title', arquivo= arquivo_csv)\n",
    "\n",
    "print(position_title.nome)\n",
    "print(position_title.colunas)"
   ]
  },
  {
   "cell_type": "code",
   "execution_count": 24,
   "id": "6b8509cc",
   "metadata": {},
   "outputs": [
    {
     "name": "stdout",
     "output_type": "stream",
     "text": [
      "\tPOLICE OFFICER                           \t9489 \n",
      "\tFIREFIGHTER-EMT                          \t1191 \n",
      "\tSERGEANT                                 \t1138 \n",
      "\tFIREFIGHTER                              \t970  \n",
      "\tPOLICE OFFICER (ASSIGNED AS DETECTIVE)   \t808  \n",
      "                                                    ...\n",
      "\tCORPORATION COUNSEL                      \t1    \n",
      "\tSUPVSR OF PAYROLLS                       \t1    \n",
      "\tOFFSET PRESS OPERATOR                    \t1    \n",
      "\tCOMMISSIONER OF BUILDINGS                \t1    \n",
      "\tCOORD OF PAYMENT SERVICES                \t1    \n"
     ]
    }
   ],
   "source": [
    "position_title.contar_valores()"
   ]
  },
  {
   "cell_type": "code",
   "execution_count": null,
   "id": "944fa334",
   "metadata": {},
   "outputs": [],
   "source": []
  }
 ],
 "metadata": {
  "kernelspec": {
   "display_name": "Python 3 (ipykernel)",
   "language": "python",
   "name": "python3"
  },
  "language_info": {
   "codemirror_mode": {
    "name": "ipython",
    "version": 3
   },
   "file_extension": ".py",
   "mimetype": "text/x-python",
   "name": "python",
   "nbconvert_exporter": "python",
   "pygments_lexer": "ipython3",
   "version": "3.9.13"
  }
 },
 "nbformat": 4,
 "nbformat_minor": 5
}
