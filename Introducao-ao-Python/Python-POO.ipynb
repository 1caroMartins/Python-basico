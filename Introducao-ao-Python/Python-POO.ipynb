{
 "cells": [
  {
   "cell_type": "markdown",
   "id": "212084cd",
   "metadata": {},
   "source": [
    "# Python: Programação Orientada a Objetos\n",
    "O Python é uma linguagem multi-paradigmas. Na POO o programador é responsável por moldar o mundo dos objetos e explicar para estes objetos como eles devem interagir entre si."
   ]
  },
  {
   "cell_type": "markdown",
   "id": "1e6df5a0",
   "metadata": {},
   "source": [
    "## Classe\n",
    "Uma representação de um elemento, real ou não. Uma receita/molde para criar objetos (instâncias)."
   ]
  },
  {
   "cell_type": "code",
   "execution_count": 1,
   "id": "4fdef5ea",
   "metadata": {},
   "outputs": [],
   "source": [
    "class NomeClasse(object): # normalmente usa-se letra maiúscula no início e não se separa por _\n",
    "    \n",
    "    # __init__ é o construtor da classe\n",
    "    def __init__(self):\n",
    "        # self é um parâmetro que se refere ao próprio objeto e chama o atributo (características próprias)\n",
    "        pass "
   ]
  },
  {
   "cell_type": "markdown",
   "id": "5c20eec2",
   "metadata": {},
   "source": [
    "### Atributos (características das classes)"
   ]
  },
  {
   "cell_type": "code",
   "execution_count": 5,
   "id": "74f74a5e",
   "metadata": {},
   "outputs": [],
   "source": [
    "class Veiculo(object):\n",
    "    \n",
    "    def __init__(self, tipo: str, marca: str, modelo: str, ano: int, chassi: str): \n",
    "        # atributos:\n",
    "        self.tipo = tipo\n",
    "        self.marca = marca\n",
    "        self.modelo = modelo\n",
    "        self.ano = ano\n",
    "        self.chassi = chassi"
   ]
  },
  {
   "cell_type": "code",
   "execution_count": 6,
   "id": "e865b75c",
   "metadata": {},
   "outputs": [
    {
     "name": "stdout",
     "output_type": "stream",
     "text": [
      "{'tipo': 'carro', 'marca': 'Hyundai', 'modelo': 'HB20', 'ano': 2017, 'chassi': '9BW ZZZ377 VT 004251'}\n",
      "2017\n"
     ]
    }
   ],
   "source": [
    "carro = Veiculo('carro', 'Hyundai', 'HB20', 2017, '9BW ZZZ377 VT 004251') # instância da classe\n",
    "print(vars(carro)) #dicionário do objeto\n",
    "print(carro.ano) #atributo"
   ]
  },
  {
   "cell_type": "markdown",
   "id": "432a01b1",
   "metadata": {},
   "source": [
    "### Métodos (ações que as classes executam)"
   ]
  },
  {
   "cell_type": "code",
   "execution_count": 44,
   "id": "1606f052",
   "metadata": {},
   "outputs": [],
   "source": [
    "class Circulo(object):\n",
    "    \n",
    "    pi = 3.14\n",
    "\n",
    "    def __init__(self):\n",
    "        self.raio = 5\n",
    "\n",
    "    def area(self):\n",
    "        return (self.raio * self.raio) * Circulo.pi # não é self.pi\n",
    "\n",
    "    def set_raio(self, novo_raio):\n",
    "        self.raio = novo_raio\n",
    "\n",
    "    def get_raio(self):\n",
    "        return self.raio"
   ]
  },
  {
   "cell_type": "code",
   "execution_count": 45,
   "id": "c5da26c7",
   "metadata": {},
   "outputs": [],
   "source": [
    "circ = Circulo()"
   ]
  },
  {
   "cell_type": "code",
   "execution_count": 46,
   "id": "e163d585",
   "metadata": {},
   "outputs": [
    {
     "data": {
      "text/plain": [
       "5"
      ]
     },
     "execution_count": 46,
     "metadata": {},
     "output_type": "execute_result"
    }
   ],
   "source": [
    "circ.get_raio()"
   ]
  },
  {
   "cell_type": "code",
   "execution_count": 47,
   "id": "1c6d9c76",
   "metadata": {},
   "outputs": [
    {
     "data": {
      "text/plain": [
       "3"
      ]
     },
     "execution_count": 47,
     "metadata": {},
     "output_type": "execute_result"
    }
   ],
   "source": [
    "circ.set_raio(3)\n",
    "circ.get_raio()"
   ]
  },
  {
   "cell_type": "code",
   "execution_count": 38,
   "id": "81b6c02b",
   "metadata": {},
   "outputs": [
    {
     "data": {
      "text/plain": [
       "28.26"
      ]
     },
     "execution_count": 38,
     "metadata": {},
     "output_type": "execute_result"
    }
   ],
   "source": [
    "circ.area()"
   ]
  },
  {
   "cell_type": "code",
   "execution_count": 10,
   "id": "e79120d0",
   "metadata": {},
   "outputs": [],
   "source": [
    "class Veiculo(object):\n",
    "    \n",
    "    def __init__(self, tipo: str, marca: str, modelo: str, ano: int, chassi: str):\n",
    "        self.tipo = tipo\n",
    "        self.marca = marca\n",
    "        self.modelo = modelo\n",
    "        self.ano = ano\n",
    "        self.chassi = chassi\n",
    "    \n",
    "    # métodos:\n",
    "    def andar(self, velocidade: int, tempo: int) -> int:\n",
    "        distancia = velocidade * tempo\n",
    "        print(f'Na velocidade de {velocidade} Km/h, o veículo percorre {distancia} Km em {tempo} horas')\n",
    "    \n",
    "    def __str__(self) -> str: # método string (método mágico, assim como __init__) instrui o Python como imprimir o objeto\n",
    "        return f'{self.tipo}: {self.modelo} ({self.marca}) / {self.ano}, chassi: {self.chassi}'"
   ]
  },
  {
   "cell_type": "code",
   "execution_count": 16,
   "id": "3bdc74cd",
   "metadata": {},
   "outputs": [
    {
     "name": "stdout",
     "output_type": "stream",
     "text": [
      "carro: CL-300 (Mercedes) / 2020, chassi: 9BW ZZZ377 VT 004251\n",
      "Na velocidade de 100 Km/h, o veículo percorre 200 Km em 2 horas\n"
     ]
    }
   ],
   "source": [
    "carro = Veiculo('carro', 'Mercedes', 'CL-300', 2020, '9BW ZZZ377 VT 004251') # instância da classe\n",
    "print(carro) # método string\n",
    "carro.andar(100, 2) # método"
   ]
  },
  {
   "cell_type": "markdown",
   "id": "d5d919fe",
   "metadata": {},
   "source": [
    "## Objeto\n",
    "Uma instancia de uma classe. Dá vida a receita (classe)."
   ]
  },
  {
   "cell_type": "code",
   "execution_count": 1,
   "id": "157bec5b",
   "metadata": {},
   "outputs": [],
   "source": [
    "class Pessoa(object):\n",
    "    \n",
    "    def __init__(self, nome: str, idade: int, documento: str = None):\n",
    "        self.nome = nome\n",
    "        self.idade = idade\n",
    "        self.documento = documento\n",
    "        \n",
    "    def falar(self, texto: str):\n",
    "        print(texto)\n",
    "    \n",
    "    def __str__(self): # método mágico (também conhecido como método especial ou dunder method)\n",
    "        return f'Nome: {self.nome}; Idade: {self.idade} anos; e Documento: {self.documento}'"
   ]
  },
  {
   "cell_type": "code",
   "execution_count": 12,
   "id": "dada0013",
   "metadata": {},
   "outputs": [
    {
     "name": "stdout",
     "output_type": "stream",
     "text": [
      "Ykaro\n"
     ]
    }
   ],
   "source": [
    "icaro = Pessoa(nome = 'Ykaro', idade = 39, documento = '1234-DF') # instância da classe, ou seja, objeto\n",
    "lucca = Pessoa(nome = 'Lucca', idade = 6) # instância da classe, ou seja, objeto\n",
    "print(icaro.nome)"
   ]
  },
  {
   "cell_type": "code",
   "execution_count": 13,
   "id": "2e5cab9f",
   "metadata": {},
   "outputs": [
    {
     "data": {
      "text/plain": [
       "True"
      ]
     },
     "execution_count": 13,
     "metadata": {},
     "output_type": "execute_result"
    }
   ],
   "source": [
    "# função built-in do Python para atributos\n",
    "\n",
    "hasattr(icaro, \"nome\") # tem atributo nome ?"
   ]
  },
  {
   "cell_type": "code",
   "execution_count": 18,
   "id": "1dd48086",
   "metadata": {},
   "outputs": [
    {
     "data": {
      "text/plain": [
       "'Icaro'"
      ]
     },
     "execution_count": 18,
     "metadata": {},
     "output_type": "execute_result"
    }
   ],
   "source": [
    "setattr(icaro, \"nome\", \"Icaro\") # alterando o atributo \"nome\" do objeto\n",
    "getattr(icaro, \"nome\") # chama o atributo \"nome\" do objeto"
   ]
  },
  {
   "cell_type": "code",
   "execution_count": 6,
   "id": "b3f33842",
   "metadata": {},
   "outputs": [
    {
     "name": "stdout",
     "output_type": "stream",
     "text": [
      "6\n",
      "7\n"
     ]
    }
   ],
   "source": [
    "print(lucca.idade)\n",
    "lucca.idade = 7 # o valor do atributo do objeto pode ser alterado diretamente dessa forma\n",
    "print(lucca.idade)"
   ]
  },
  {
   "cell_type": "markdown",
   "id": "5b535b37",
   "metadata": {},
   "source": [
    "### Manipulação de objeto"
   ]
  },
  {
   "cell_type": "code",
   "execution_count": 3,
   "id": "74bd63e4",
   "metadata": {},
   "outputs": [
    {
     "name": "stdout",
     "output_type": "stream",
     "text": [
      "O documento de Icaro é 1234-DF\n"
     ]
    }
   ],
   "source": [
    "# função que mostra quem é maior de idade utilizando atributo de um objeto\n",
    "\n",
    "def maior_de_idade(idade: int) -> bool:\n",
    "    return idade >= 18\n",
    "\n",
    "if maior_de_idade(idade= icaro.idade):\n",
    "    print(f'O documento de {icaro.nome} é {icaro.documento}')"
   ]
  },
  {
   "cell_type": "code",
   "execution_count": 4,
   "id": "595be9df",
   "metadata": {},
   "outputs": [
    {
     "name": "stdout",
     "output_type": "stream",
     "text": [
      "Olá mundo!\n",
      "Nome: Icaro; Idade: 39; e Documento: 1234-DF\n"
     ]
    }
   ],
   "source": [
    "# utilizando um método (função interna) de um objeto\n",
    "\n",
    "icaro.falar('Olá mundo!')\n",
    "print(icaro)"
   ]
  },
  {
   "cell_type": "code",
   "execution_count": 5,
   "id": "6d502829",
   "metadata": {},
   "outputs": [
    {
     "data": {
      "text/plain": [
       "__main__.Pessoa"
      ]
     },
     "execution_count": 5,
     "metadata": {},
     "output_type": "execute_result"
    }
   ],
   "source": [
    "type(lucca) # objeto do tipo Pessoa (classe: Pessoa)"
   ]
  },
  {
   "cell_type": "code",
   "execution_count": 7,
   "id": "6279222e",
   "metadata": {},
   "outputs": [
    {
     "name": "stdout",
     "output_type": "stream",
     "text": [
      "<class 'int'>\n",
      "<class 'float'>\n",
      "<class 'str'>\n",
      "<class 'bool'>\n",
      "<class 'NoneType'>\n",
      "<class 'list'>\n",
      "<class 'set'>\n",
      "<class 'dict'>\n",
      "<class 'function'>\n"
     ]
    }
   ],
   "source": [
    "# tudo no Python é um objeto (note: class):\n",
    "\n",
    "tipos = [type(10), type(1.1), type('abc'), type(True), type(None), type([1, 2, 3]), type({1, 2, 3}), type({'janeiro': 1}), type(lambda x: x)]\n",
    "\n",
    "for tipo in tipos:\n",
    "    print(tipo)"
   ]
  },
  {
   "cell_type": "code",
   "execution_count": 2,
   "id": "9873fe78",
   "metadata": {},
   "outputs": [
    {
     "name": "stdout",
     "output_type": "stream",
     "text": [
      "<class 'str'>\n",
      "Icaro Martins\n"
     ]
    }
   ],
   "source": [
    "nome = 'ICARO MARTINS'\n",
    "print(type(nome))\n",
    "print(nome.title()) # método (função interna) da classe string"
   ]
  },
  {
   "cell_type": "code",
   "execution_count": 2,
   "id": "23dd4901",
   "metadata": {},
   "outputs": [],
   "source": [
    "# definindo uma classe para ler arquivos csv e extrair suas colunas\n",
    "\n",
    "class ArquivoCSV(object):\n",
    "    def __init__(self, arquivo: str):\n",
    "        self.arquivo = arquivo\n",
    "        # executando métodos da classe (ao invés de usar parâmetros) para atribuir valores aos atributos\n",
    "        self.conteudo = self._extrair_conteudo() # o _ no início indica que o método não foi feito para ser utilizado pelo objeto\n",
    "        self.colunas = self._extrair_nome_colunas() # o _ é um açucar sintático para indicar que o método não pode ser utilizado\n",
    "    \n",
    "    def _extrair_conteudo(self):\n",
    "        conteudo = None\n",
    "        # o arquivo já foi atribuido em self.arquivo\n",
    "        with open(file=self.arquivo, mode='r', encoding='utf8') as arquivo:\n",
    "            conteudo = arquivo.readlines() # readlines() é igual ao readline() com append em uma lista.\n",
    "        return conteudo\n",
    "    \n",
    "    def _extrair_nome_colunas(self):\n",
    "        # a variável conteudo vem da função anterior e foi atribuida a self.conteudo\n",
    "        return self.conteudo[0].strip().split(sep=',') # strip() retira o \\n\n",
    "    \n",
    "    def extrair_coluna(self, indice_coluna: str):\n",
    "        coluna = list()\n",
    "        for linha in self.conteudo:\n",
    "            conteudo_linha = linha.strip().split(sep=',')\n",
    "            coluna.append(conteudo_linha[indice_coluna])\n",
    "        coluna.pop(0)\n",
    "        return coluna\n",
    "    \n",
    "# Obs.: Ao usar somente um \"_\" antes do nome do atributo ou classe, ele é considerado um membro protegido."
   ]
  },
  {
   "cell_type": "markdown",
   "id": "7a6b1b12",
   "metadata": {},
   "source": [
    "Gravando arquivo pelo Jupyter Notebook (a célula abaixo não é Python):"
   ]
  },
  {
   "cell_type": "code",
   "execution_count": 10,
   "id": "d0eb2676",
   "metadata": {},
   "outputs": [
    {
     "name": "stdout",
     "output_type": "stream",
     "text": [
      "Writing banco.csv\n"
     ]
    }
   ],
   "source": [
    "%%writefile banco.csv\n",
    "age,job,marital,education,default,balance,housing,loan\n",
    "30,unemployed,married,primary,no,1787,no,no\n",
    "33,services,married,secondary,no,4789,yes,yes\n",
    "35,management,single,tertiary,no,1350,yes,no\n",
    "30,management,married,tertiary,no,1476,yes,yes\n",
    "59,blue-collar,married,secondary,no,0,yes,no\n",
    "35,management,single,tertiary,no,747,no,no\n",
    "36,self-employed,married,tertiary,no,307,yes,no\n",
    "39,technician,married,secondary,no,147,yes,no\n",
    "41,entrepreneur,married,tertiary,no,221,yes,no\n",
    "43,services,married,primary,no,-88,yes,yes"
   ]
  },
  {
   "cell_type": "code",
   "execution_count": 7,
   "id": "ee8d700e",
   "metadata": {},
   "outputs": [
    {
     "name": "stdout",
     "output_type": "stream",
     "text": [
      "['age,job,marital,education,default,balance,housing,loan\\n', '30,unemployed,married,primary,no,1787,no,no\\n', '33,services,married,secondary,no,4789,yes,yes\\n', '35,management,single,tertiary,no,1350,yes,no\\n', '30,management,married,tertiary,no,1476,yes,yes\\n', '59,blue-collar,married,secondary,no,0,yes,no\\n', '35,management,single,tertiary,no,747,no,no\\n', '36,self-employed,married,tertiary,no,307,yes,no\\n', '39,technician,married,secondary,no,147,yes,no\\n', '41,entrepreneur,married,tertiary,no,221,yes,no\\n', '43,services,married,primary,no,-88,yes,yes\\n']\n"
     ]
    }
   ],
   "source": [
    "arquivo_banco = ArquivoCSV(arquivo='./banco.csv')\n",
    "print(arquivo_banco.conteudo) # visualizar a lista"
   ]
  },
  {
   "cell_type": "code",
   "execution_count": 8,
   "id": "0cfc2ff9",
   "metadata": {},
   "outputs": [
    {
     "name": "stdout",
     "output_type": "stream",
     "text": [
      "['age', 'job', 'marital', 'education', 'default', 'balance', 'housing', 'loan']\n"
     ]
    }
   ],
   "source": [
    "# cabeçalho das colunas\n",
    "\n",
    "print(arquivo_banco.colunas)"
   ]
  },
  {
   "cell_type": "code",
   "execution_count": 9,
   "id": "60e528a1",
   "metadata": {},
   "outputs": [
    {
     "name": "stdout",
     "output_type": "stream",
     "text": [
      "['unemployed', 'services', 'management', 'management', 'blue-collar', 'management', 'self-employed', 'technician', 'entrepreneur', 'services']\n"
     ]
    }
   ],
   "source": [
    "job = arquivo_banco.extrair_coluna(indice_coluna=1)\n",
    "print(job)"
   ]
  },
  {
   "cell_type": "markdown",
   "id": "7dd8f106",
   "metadata": {},
   "source": [
    "## Extra: Métodos Mágicos (dunder methods)\n",
    "Em Python, métodos mágicos (também conhecidos como métodos especiais ou dunder methods) são funções predefinidas que permitem que você controle o comportamento de objetos quando ocorrem certas operações. Esses métodos são identificados por começarem e terminarem com dois underscores (dunder).</br>\n",
    "</br>\n",
    "Aqui estão alguns dos métodos mágicos mais utilizados ao definir uma classe em Python:\n",
    "1. __init__(self, ...): O construtor da classe. É chamado quando um novo objeto é criado a partir da classe e é usado para inicializar os atributos do objeto.\n",
    "\n",
    "2. __str__(self): Retorna uma representação em string do objeto. Usado para exibir informações sobre o objeto quando você usa a função print().\n",
    "\n",
    "3. __repr__(self): Retorna uma representação em string do objeto que é principalmente usada para depuração e desenvolvimento.\n",
    "\n",
    "4. __len__(self): Retorna o tamanho do objeto. É chamado quando a função len() é usada no objeto.\n",
    "\n",
    "5. __getitem__(self, key): Permite acessar os elementos do objeto usando a notação de colchetes, como obj[chave].\n",
    "\n",
    "6. __setitem__(self, key, value): Permite atribuir valor aos elementos do objeto usando a notação de colchetes, como obj[chave] = valor.\n",
    "\n",
    "7. __delitem__(self, key): Permite excluir um elemento do objeto usando a instrução del obj[chave].\n",
    "\n",
    "8. __iter__(self): Retorna um iterador para o objeto, permitindo que ele seja iterado usando loops.\n",
    "\n",
    "9. __contains__(self, item): Verifica se um determinado item está contido no objeto. É usado quando você utiliza o operador in.\n",
    "\n",
    "10. __add__(self, other): Define o comportamento do operador + para o objeto.\n",
    "\n",
    "11. __sub__(self, other): Define o comportamento do operador - para o objeto.\n",
    "\n",
    "12. __eq__(self, other): Define o comportamento do operador de igualdade == para o objeto.\n",
    "\n",
    "13. __lt__(self, other): Define o comportamento do operador de comparação < para o objeto.\n",
    "\n",
    "14. __gt__(self, other): Define o comportamento do operador de comparação > para o objeto.\n",
    "\n",
    "15. __call__(self, ...): Permite que o objeto seja chamado como uma função.\n",
    "\n",
    "Esses são apenas alguns exemplos de métodos mágicos em Python descritos utilizando o ChatGPT. "
   ]
  },
  {
   "cell_type": "markdown",
   "id": "e28c030f",
   "metadata": {},
   "source": [
    "## Herança\n",
    "Uma especialização de uma classe. A subclasse pode se concentrar em fornecer funcionalidades adicionais sem precisar se preocupar com as características básicas da classe. Exemplo: Pessoa -> Funcionário"
   ]
  },
  {
   "cell_type": "code",
   "execution_count": 3,
   "id": "e2af2e91",
   "metadata": {},
   "outputs": [],
   "source": [
    "class Pessoa(object):\n",
    "    \n",
    "    def __init__(self, nome: str, idade: int, documento: str = None):\n",
    "        self.nome = nome\n",
    "        self.idade = idade\n",
    "        self.documento = documento\n",
    "        \n",
    "    def falar(self, texto: str):\n",
    "        print(texto)\n",
    "    \n",
    "    def __str__(self): # dunder que instrui o Python como imprimir o objeto\n",
    "        return f'Nome: {self.nome}; Idade: {self.idade} anos; e Documento: {self.documento}'"
   ]
  },
  {
   "cell_type": "code",
   "execution_count": 16,
   "id": "77fe1c80",
   "metadata": {},
   "outputs": [],
   "source": [
    "from time import sleep\n",
    "\n",
    "class Funcionario(Pessoa): # usa a classe pai (Pessoa) ao invés de object\n",
    "    \n",
    "    def __init__(self, nome: str, idade: int, documento: str, salario: float): # salário é o novo parâmetro da classe filha\n",
    "        super().__init__(nome=nome, idade=idade, documento=documento) # inicia a classe pai, usando o super() para referenciar\n",
    "        self.salario = salario\n",
    "        \n",
    "    def trabalhar(self, horas: int) -> str: # novo método pertencente somente a classe filha\n",
    "        for hora in range(1, horas+1):\n",
    "            print(f'Trabalhando por {hora} horas')\n",
    "            sleep(1) # 1 segundo"
   ]
  },
  {
   "cell_type": "code",
   "execution_count": 17,
   "id": "c9dc2a66",
   "metadata": {},
   "outputs": [
    {
     "name": "stdout",
     "output_type": "stream",
     "text": [
      "<class '__main__.Funcionario'>\n",
      "{'nome': 'Icaro Martins', 'idade': 39, 'documento': '1234-DF', 'salario': 5000}\n"
     ]
    }
   ],
   "source": [
    "icaro = Funcionario(nome='Icaro Martins', idade= 39, documento= '1234-DF', salario= 5000) # instanciando \n",
    "print(type(icaro)) # objeto do tipo Funcionario\n",
    "print(vars(icaro))"
   ]
  },
  {
   "cell_type": "code",
   "execution_count": 4,
   "id": "b415dcae",
   "metadata": {},
   "outputs": [
    {
     "name": "stdout",
     "output_type": "stream",
     "text": [
      "Nome: Icaro Martins; Idade: 39 anos; e Documento: 1234-DF\n"
     ]
    }
   ],
   "source": [
    "print(icaro) # executa a função da classe pai, pois herdou"
   ]
  },
  {
   "cell_type": "code",
   "execution_count": 20,
   "id": "3c8994f8",
   "metadata": {},
   "outputs": [
    {
     "name": "stdout",
     "output_type": "stream",
     "text": [
      "5000\n",
      "Trabalhando por 1 horas\n",
      "Trabalhando por 2 horas\n",
      "Trabalhando por 3 horas\n",
      "Trabalhando por 4 horas\n",
      "Trabalhando por 5 horas\n",
      "Trabalhando por 6 horas\n",
      "Trabalhando por 7 horas\n",
      "Trabalhando por 8 horas\n"
     ]
    }
   ],
   "source": [
    "print(icaro.salario)\n",
    "icaro.trabalhar(horas=8) # método do objeto icaro que é do tipo Funcionário"
   ]
  },
  {
   "cell_type": "code",
   "execution_count": 1,
   "id": "c67a1cb9",
   "metadata": {},
   "outputs": [],
   "source": [
    "# Superclasse não precisa do parênteses (object)\n",
    "\n",
    "class Animal:\n",
    "    \n",
    "    def __init__(self):\n",
    "        print(\"Animal criado.\")\n",
    "        \n",
    "    def emitir_som(self):\n",
    "        pass"
   ]
  },
  {
   "cell_type": "code",
   "execution_count": 4,
   "id": "ae1a1d97",
   "metadata": {},
   "outputs": [],
   "source": [
    "# uma subclasse pode herdar os atributos e métodos da superclasse e substituí-los ou estendê-los\n",
    "\n",
    "class Cachorro(Animal):\n",
    "    \n",
    "    def __init__(self):\n",
    "        Animal.__init__(self) # pode usar o nome da classe ao invés de super(), mas precisa do parâmetro self\n",
    "        print(\"Objeto Cachorro criado.\")\n",
    "    \n",
    "    def emitir_som(self): # substitui\n",
    "        print(\"Au au!\")"
   ]
  },
  {
   "cell_type": "code",
   "execution_count": 5,
   "id": "4049f1a1",
   "metadata": {},
   "outputs": [
    {
     "name": "stdout",
     "output_type": "stream",
     "text": [
      "Animal criado.\n",
      "Objeto Cachorro criado.\n"
     ]
    }
   ],
   "source": [
    "cao = Cachorro()"
   ]
  },
  {
   "cell_type": "code",
   "execution_count": 6,
   "id": "587d7466",
   "metadata": {},
   "outputs": [
    {
     "name": "stdout",
     "output_type": "stream",
     "text": [
      "Au au!\n"
     ]
    }
   ],
   "source": [
    "cao.emitir_som()"
   ]
  },
  {
   "cell_type": "markdown",
   "id": "808f24eb",
   "metadata": {},
   "source": [
    "### Manipulação"
   ]
  },
  {
   "cell_type": "code",
   "execution_count": 1,
   "id": "ac7d5e29",
   "metadata": {},
   "outputs": [],
   "source": [
    "class Universidade(object):\n",
    "    \n",
    "    def __init__(self, nome: str):\n",
    "        self.nome = nome"
   ]
  },
  {
   "cell_type": "code",
   "execution_count": 4,
   "id": "bca60811",
   "metadata": {},
   "outputs": [],
   "source": [
    "class Estudante(Pessoa):\n",
    "    # usando tipo customizado ao invés de um tipo nativo do Python\n",
    "    def __init__(self, nome: str, idade: int, documento: str, universidade: Universidade): # tipo Universidade\n",
    "        super().__init__(nome= nome, idade = idade, documento = documento)\n",
    "        self.universidade = universidade"
   ]
  },
  {
   "cell_type": "code",
   "execution_count": 5,
   "id": "7b25e14c",
   "metadata": {},
   "outputs": [],
   "source": [
    "ufv = Universidade('Universidade Federal de Viçosa') # ufv é objeto do tipo/classe Universidade\n",
    "icaro = Estudante(nome= 'Icaro Martins', idade= 39, documento= '1234-DF', universidade= ufv)"
   ]
  },
  {
   "cell_type": "code",
   "execution_count": 9,
   "id": "df295df1",
   "metadata": {},
   "outputs": [
    {
     "name": "stdout",
     "output_type": "stream",
     "text": [
      "Universidade Federal de Viçosa\n"
     ]
    }
   ],
   "source": [
    "print(ufv.nome) # atributo do objeto do tipo universidade"
   ]
  },
  {
   "cell_type": "code",
   "execution_count": 10,
   "id": "280995a6",
   "metadata": {},
   "outputs": [
    {
     "name": "stdout",
     "output_type": "stream",
     "text": [
      "Nome: Icaro Martins; Idade: 39 anos; e Documento: 1234-DF\n",
      "Icaro Martins\n",
      "Universidade Federal de Viçosa\n"
     ]
    }
   ],
   "source": [
    "print(icaro) # executa função da classe pai\n",
    "print(icaro.nome) # atributo para tipo str (tipo nativo)"
   ]
  },
  {
   "cell_type": "code",
   "execution_count": 6,
   "id": "66d8fb09",
   "metadata": {},
   "outputs": [
    {
     "name": "stdout",
     "output_type": "stream",
     "text": [
      "<__main__.Universidade object at 0x0000024DD80A1940>\n"
     ]
    }
   ],
   "source": [
    "print(icaro.universidade) # objeto do tipo universidade"
   ]
  },
  {
   "cell_type": "code",
   "execution_count": 7,
   "id": "b9ce8be7",
   "metadata": {},
   "outputs": [
    {
     "name": "stdout",
     "output_type": "stream",
     "text": [
      "Universidade Federal de Viçosa\n",
      "Universidade Federal de Viçosa\n"
     ]
    }
   ],
   "source": [
    "faculdade = icaro.universidade\n",
    "print(faculdade.nome) # atrbuto do objeto do tipo universidade\n",
    "print(icaro.universidade.nome) # acessando o atributo diretamente"
   ]
  },
  {
   "cell_type": "markdown",
   "id": "30aa4178",
   "metadata": {},
   "source": [
    "## Encapsulamento\n",
    "Termo utilizado quando esconde atributos ou métodos para que não sejam acessados por outras classes ou usuários."
   ]
  },
  {
   "cell_type": "code",
   "execution_count": 1,
   "id": "59ada402",
   "metadata": {},
   "outputs": [],
   "source": [
    "class Pessoa(object):\n",
    "    \n",
    "    def __init__(self, nome, idade, cpf):\n",
    "        self.nome = nome\n",
    "        self.idade = idade\n",
    "        self.__cpf = cpf # private = dois underlines\n",
    "        \n",
    "    def apresentar_documento(self):\n",
    "        print(self.__cpf)"
   ]
  },
  {
   "cell_type": "code",
   "execution_count": 10,
   "id": "2cd9c321",
   "metadata": {},
   "outputs": [
    {
     "name": "stdout",
     "output_type": "stream",
     "text": [
      "Ronaldo\n",
      "34\n"
     ]
    },
    {
     "ename": "AttributeError",
     "evalue": "'Pessoa' object has no attribute '__cpf'",
     "output_type": "error",
     "traceback": [
      "\u001b[1;31m---------------------------------------------------------------------------\u001b[0m",
      "\u001b[1;31mAttributeError\u001b[0m                            Traceback (most recent call last)",
      "\u001b[1;32m~\\AppData\\Local\\Temp\\ipykernel_12272\\3249480043.py\u001b[0m in \u001b[0;36m<module>\u001b[1;34m\u001b[0m\n\u001b[0;32m      5\u001b[0m \u001b[0mprint\u001b[0m\u001b[1;33m(\u001b[0m\u001b[0mronaldo\u001b[0m\u001b[1;33m.\u001b[0m\u001b[0mnome\u001b[0m\u001b[1;33m)\u001b[0m\u001b[1;33m\u001b[0m\u001b[1;33m\u001b[0m\u001b[0m\n\u001b[0;32m      6\u001b[0m \u001b[0mprint\u001b[0m\u001b[1;33m(\u001b[0m\u001b[0mronaldo\u001b[0m\u001b[1;33m.\u001b[0m\u001b[0midade\u001b[0m\u001b[1;33m)\u001b[0m\u001b[1;33m\u001b[0m\u001b[1;33m\u001b[0m\u001b[0m\n\u001b[1;32m----> 7\u001b[1;33m \u001b[0mprint\u001b[0m\u001b[1;33m(\u001b[0m\u001b[0mronaldo\u001b[0m\u001b[1;33m.\u001b[0m\u001b[0m__cpf\u001b[0m\u001b[1;33m)\u001b[0m \u001b[1;31m# erro, vai dizer que não possui este atributo, pois está restrito ao contexto interno\u001b[0m\u001b[1;33m\u001b[0m\u001b[1;33m\u001b[0m\u001b[0m\n\u001b[0m",
      "\u001b[1;31mAttributeError\u001b[0m: 'Pessoa' object has no attribute '__cpf'"
     ]
    }
   ],
   "source": [
    "# acessando atributos\n",
    "\n",
    "ronaldo = Pessoa('Ronaldo', 34, '123.456.789-10')\n",
    "\n",
    "print(ronaldo.nome)\n",
    "print(ronaldo.idade)\n",
    "print(ronaldo.__cpf) # erro, vai dizer que não possui este atributo, pois está restrito ao contexto interno"
   ]
  },
  {
   "cell_type": "code",
   "execution_count": 5,
   "id": "1008344a",
   "metadata": {},
   "outputs": [
    {
     "name": "stdout",
     "output_type": "stream",
     "text": [
      "123.456.789-10\n"
     ]
    }
   ],
   "source": [
    "# internamente o atributo é acessível\n",
    "\n",
    "ronaldo.apresentar_documento()"
   ]
  },
  {
   "cell_type": "code",
   "execution_count": 6,
   "id": "bef10d43",
   "metadata": {},
   "outputs": [],
   "source": [
    "class Pessoa(object):\n",
    "    \n",
    "    def __init__(self, nome, idade, cpf):\n",
    "        self.nome = nome\n",
    "        self.idade = idade\n",
    "        self.__cpf = cpf # atributo privado\n",
    "        \n",
    "    def beber(self, bebida):\n",
    "        if bebida == 'cerveja':\n",
    "            self.__apresentar_documento()\n",
    "        print('Bebendo..')\n",
    "        \n",
    "    def __apresentar_documento(self): # método privado\n",
    "        print(self.__cpf)"
   ]
  },
  {
   "cell_type": "code",
   "execution_count": 9,
   "id": "cfd0e05f",
   "metadata": {},
   "outputs": [
    {
     "ename": "AttributeError",
     "evalue": "'Pessoa' object has no attribute '__apresentar_documento'",
     "output_type": "error",
     "traceback": [
      "\u001b[1;31m---------------------------------------------------------------------------\u001b[0m",
      "\u001b[1;31mAttributeError\u001b[0m                            Traceback (most recent call last)",
      "\u001b[1;32m~\\AppData\\Local\\Temp\\ipykernel_12272\\1654029050.py\u001b[0m in \u001b[0;36m<module>\u001b[1;34m\u001b[0m\n\u001b[0;32m      1\u001b[0m \u001b[0mronaldo\u001b[0m \u001b[1;33m=\u001b[0m \u001b[0mPessoa\u001b[0m\u001b[1;33m(\u001b[0m\u001b[1;34m'Ronaldo'\u001b[0m\u001b[1;33m,\u001b[0m \u001b[1;36m34\u001b[0m\u001b[1;33m,\u001b[0m \u001b[1;34m'123.456.789-10'\u001b[0m\u001b[1;33m)\u001b[0m\u001b[1;33m\u001b[0m\u001b[1;33m\u001b[0m\u001b[0m\n\u001b[0;32m      2\u001b[0m \u001b[1;33m\u001b[0m\u001b[0m\n\u001b[1;32m----> 3\u001b[1;33m \u001b[0mronaldo\u001b[0m\u001b[1;33m.\u001b[0m\u001b[0m__apresentar_documento\u001b[0m\u001b[1;33m(\u001b[0m\u001b[1;33m)\u001b[0m \u001b[1;31m# erro, pois agora a função também só é acessível no contexto da classe\u001b[0m\u001b[1;33m\u001b[0m\u001b[1;33m\u001b[0m\u001b[0m\n\u001b[0m",
      "\u001b[1;31mAttributeError\u001b[0m: 'Pessoa' object has no attribute '__apresentar_documento'"
     ]
    }
   ],
   "source": [
    "# tentando acessar uma função privada\n",
    "\n",
    "ronaldo = Pessoa('Ronaldo', 34, '123.456.789-10')\n",
    "\n",
    "ronaldo.__apresentar_documento() # erro, pois agora a função também só é acessível no contexto da classe"
   ]
  },
  {
   "cell_type": "code",
   "execution_count": 12,
   "id": "35f143e1",
   "metadata": {},
   "outputs": [
    {
     "name": "stdout",
     "output_type": "stream",
     "text": [
      "123.456.789-10\n",
      "Bebendo..\n",
      "\n",
      "Bebendo..\n"
     ]
    }
   ],
   "source": [
    "# acessando a função que utiliza a função privada que utiliza o atributo privado\n",
    "\n",
    "ronaldo.beber('cerveja')\n",
    "print()\n",
    "ronaldo.beber('coca-cola') # não precisa de documento"
   ]
  },
  {
   "cell_type": "code",
   "execution_count": 13,
   "id": "d77691ac",
   "metadata": {},
   "outputs": [],
   "source": [
    "# definindo getter e setter para atributo privado\n",
    "\n",
    "class Alarme(object):\n",
    "    \n",
    "    def __init__(self, estado: bool) -> None:\n",
    "        self.__estado = estado\n",
    "    \n",
    "    def get_estado(self) -> bool:\n",
    "        return self.__estado\n",
    "    \n",
    "    def set_estado(self, valor: bool) -> None:\n",
    "        if isinstance(valor, bool):\n",
    "            self.__estado = valor"
   ]
  },
  {
   "cell_type": "code",
   "execution_count": 15,
   "id": "a11c4eec",
   "metadata": {},
   "outputs": [
    {
     "name": "stdout",
     "output_type": "stream",
     "text": [
      "False\n",
      "\n",
      "True\n",
      "\n",
      "True\n"
     ]
    }
   ],
   "source": [
    "al = Alarme(False)\n",
    "\n",
    "resultado = al.get_estado() # recebendo valor do atributo\n",
    "print(resultado)\n",
    "print()\n",
    "\n",
    "al.set_estado(True) # alterando valor do atributo\n",
    "resultado = al.get_estado()\n",
    "print(resultado)\n",
    "print()\n",
    "\n",
    "al.set_estado('Olá') # não dá erro, porém não altera por não ser booleano\n",
    "resultado = al.get_estado()\n",
    "print(resultado)"
   ]
  },
  {
   "cell_type": "code",
   "execution_count": 16,
   "id": "773a716d",
   "metadata": {},
   "outputs": [],
   "source": [
    "class Funcionario(object):\n",
    "    \n",
    "    def __init__(self, nome: str, cargo: str, valor_hora_trabalhada: float):\n",
    "        self.nome = nome\n",
    "        self.cargo = cargo\n",
    "        self.valor_hora_trabalhada = valor_hora_trabalhada\n",
    "        # nos atributos abaixo os parâmetros não são fornecidos para o usuário\n",
    "        self.__salario = 0 \n",
    "        self.__horas_trabalhadas = 0\n",
    "    \n",
    "    # getter:\n",
    "    @property # decorator integrado à função property().\n",
    "    def salario(self):\n",
    "        return self.__salario\n",
    "    \n",
    "    # setter:\n",
    "    @salario.setter # usado para definir o valor do atributo\n",
    "    def salario(self, novo_salario):\n",
    "        raise ValueError('Impossível alterar salário manualmente. Use a função calcular_salario()')\n",
    "        \n",
    "    # deleter:\n",
    "    @salario.deleter # usado para apagar valor atribuído\n",
    "    def salario(self):\n",
    "        del self.__salario\n",
    "        \n",
    "    def registrar_horas_trabalhadas(self):\n",
    "        self.__horas_trabalhadas += 1\n",
    "        \n",
    "    def calcular_salario(self):\n",
    "        self.__salario = self.__horas_trabalhadas * self.valor_hora_trabalhada\n",
    "        \n",
    "# Obs.: Ao usar dois \"__\" antes do nome do atributo ou classe, ele é um membro privado. Decoradores controlam o acesso."
   ]
  },
  {
   "cell_type": "code",
   "execution_count": 32,
   "id": "a8f3e6f4",
   "metadata": {},
   "outputs": [
    {
     "name": "stdout",
     "output_type": "stream",
     "text": [
      "{'nome': 'Icaro Martins', 'cargo': 'Engenheiro', 'valor_hora_trabalhada': 60, '_Funcionario__salario': 0, '_Funcionario__horas_trabalhadas': 0}\n"
     ]
    }
   ],
   "source": [
    "icaro = Funcionario(nome= 'Icaro Martins', cargo= 'Engenheiro', valor_hora_trabalhada = 60)\n",
    "print(vars(icaro))"
   ]
  },
  {
   "cell_type": "code",
   "execution_count": 33,
   "id": "91d8e1a4",
   "metadata": {},
   "outputs": [
    {
     "name": "stdout",
     "output_type": "stream",
     "text": [
      "0\n"
     ]
    }
   ],
   "source": [
    "print(icaro.salario) # acessível por conta do getter, não é icaro.__salario"
   ]
  },
  {
   "cell_type": "code",
   "execution_count": 34,
   "id": "63595d81",
   "metadata": {},
   "outputs": [
    {
     "ename": "ValueError",
     "evalue": "Impossível alterar salário manualmente. Use a função calcular_salario()",
     "output_type": "error",
     "traceback": [
      "\u001b[1;31m---------------------------------------------------------------------------\u001b[0m",
      "\u001b[1;31mValueError\u001b[0m                                Traceback (most recent call last)",
      "\u001b[1;32m~\\AppData\\Local\\Temp\\ipykernel_12272\\2759509423.py\u001b[0m in \u001b[0;36m<module>\u001b[1;34m\u001b[0m\n\u001b[1;32m----> 1\u001b[1;33m \u001b[0micaro\u001b[0m\u001b[1;33m.\u001b[0m\u001b[0msalario\u001b[0m \u001b[1;33m=\u001b[0m \u001b[1;36m10000\u001b[0m \u001b[1;31m# erro, pois o atributo está protegido. O setter não define e mostra o erro.\u001b[0m\u001b[1;33m\u001b[0m\u001b[1;33m\u001b[0m\u001b[0m\n\u001b[0m",
      "\u001b[1;32m~\\AppData\\Local\\Temp\\ipykernel_12272\\2053521377.py\u001b[0m in \u001b[0;36msalario\u001b[1;34m(self, novo_salario)\u001b[0m\n\u001b[0;32m     17\u001b[0m     \u001b[1;33m@\u001b[0m\u001b[0msalario\u001b[0m\u001b[1;33m.\u001b[0m\u001b[0msetter\u001b[0m \u001b[1;31m# usado para definir o valor do atributo\u001b[0m\u001b[1;33m\u001b[0m\u001b[1;33m\u001b[0m\u001b[0m\n\u001b[0;32m     18\u001b[0m     \u001b[1;32mdef\u001b[0m \u001b[0msalario\u001b[0m\u001b[1;33m(\u001b[0m\u001b[0mself\u001b[0m\u001b[1;33m,\u001b[0m \u001b[0mnovo_salario\u001b[0m\u001b[1;33m)\u001b[0m\u001b[1;33m:\u001b[0m\u001b[1;33m\u001b[0m\u001b[1;33m\u001b[0m\u001b[0m\n\u001b[1;32m---> 19\u001b[1;33m         \u001b[1;32mraise\u001b[0m \u001b[0mValueError\u001b[0m\u001b[1;33m(\u001b[0m\u001b[1;34m'Impossível alterar salário manualmente. Use a função calcular_salario()'\u001b[0m\u001b[1;33m)\u001b[0m\u001b[1;33m\u001b[0m\u001b[1;33m\u001b[0m\u001b[0m\n\u001b[0m\u001b[0;32m     20\u001b[0m \u001b[1;33m\u001b[0m\u001b[0m\n\u001b[0;32m     21\u001b[0m     \u001b[1;31m# deleter:\u001b[0m\u001b[1;33m\u001b[0m\u001b[1;33m\u001b[0m\u001b[0m\n",
      "\u001b[1;31mValueError\u001b[0m: Impossível alterar salário manualmente. Use a função calcular_salario()"
     ]
    }
   ],
   "source": [
    "icaro.salario = 10000 # erro, pois o atributo está protegido. O setter não define e mostra o erro."
   ]
  },
  {
   "cell_type": "code",
   "execution_count": 35,
   "id": "5d691bb6",
   "metadata": {},
   "outputs": [
    {
     "name": "stdout",
     "output_type": "stream",
     "text": [
      "{'nome': 'Icaro Martins', 'cargo': 'Engenheiro', 'valor_hora_trabalhada': 60, '_Funcionario__salario': 0, '_Funcionario__horas_trabalhadas': 8}\n"
     ]
    }
   ],
   "source": [
    "horas_trabalhadas = 8\n",
    "for hora in range(horas_trabalhadas):\n",
    "    icaro.registrar_horas_trabalhadas()\n",
    "    \n",
    "print(vars(icaro))"
   ]
  },
  {
   "cell_type": "code",
   "execution_count": 36,
   "id": "f3679521",
   "metadata": {},
   "outputs": [
    {
     "name": "stdout",
     "output_type": "stream",
     "text": [
      "{'nome': 'Icaro Martins', 'cargo': 'Engenheiro', 'valor_hora_trabalhada': 60, '_Funcionario__salario': 480, '_Funcionario__horas_trabalhadas': 8}\n"
     ]
    }
   ],
   "source": [
    "icaro.calcular_salario()\n",
    "print(vars(icaro))"
   ]
  },
  {
   "cell_type": "code",
   "execution_count": 37,
   "id": "4c4f4f3f",
   "metadata": {},
   "outputs": [
    {
     "name": "stdout",
     "output_type": "stream",
     "text": [
      "480\n"
     ]
    }
   ],
   "source": [
    "print(icaro.salario) # atributo definido com o getter\n",
    "# print(icaro.horas_trabalhadas) daria erro pois não foi definido. E icaro.__horas_trabalhadas é atributo privado."
   ]
  },
  {
   "cell_type": "code",
   "execution_count": 40,
   "id": "43d3963e",
   "metadata": {},
   "outputs": [
    {
     "name": "stdout",
     "output_type": "stream",
     "text": [
      "{'nome': 'Icaro Martins', 'cargo': 'Engenheiro', 'valor_hora_trabalhada': 60, '_Funcionario__horas_trabalhadas': 8}\n"
     ]
    }
   ],
   "source": [
    "del icaro.salario # apaga o atributo, pois foi definido pelo deleter\n",
    "print(vars(icaro))"
   ]
  },
  {
   "cell_type": "markdown",
   "id": "cbbb08bf",
   "metadata": {},
   "source": [
    "## Associação\n",
    "- Relacionamento entre duas classes em que uma classe está relacionada com a outra, mas não há uma dependência forte entre elas.\n",
    "- As classes podem existir independentemente uma da outra.\n",
    "- O atributo é uma instância de outra classe."
   ]
  },
  {
   "cell_type": "code",
   "execution_count": 24,
   "id": "2682105f",
   "metadata": {},
   "outputs": [],
   "source": [
    "class Escritor(object):\n",
    "    \n",
    "    def __init__(self, nome: str):\n",
    "        self.__nome = nome # private\n",
    "        self.__ferramenta = None # private\n",
    "        \n",
    "    # getter\n",
    "    @property\n",
    "    def nome(self):\n",
    "        return self.__nome\n",
    "    \n",
    "    # getter\n",
    "    @property\n",
    "    def ferramenta(self):\n",
    "        return self.__ferramenta\n",
    "    \n",
    "    @ferramenta.setter # permite definir diretamente\n",
    "    def ferramenta(self, ferramenta):\n",
    "        self.__ferramenta = ferramenta"
   ]
  },
  {
   "cell_type": "code",
   "execution_count": 25,
   "id": "96159980",
   "metadata": {},
   "outputs": [],
   "source": [
    "class Caneta(object):\n",
    "    def __init__(self, marca: str):\n",
    "        self.__marca = marca # private\n",
    "    \n",
    "    # getter\n",
    "    @property\n",
    "    def marca(self):\n",
    "        return self.__marca\n",
    "    \n",
    "    def escrever(self):\n",
    "        print('A caneta está escrevendo...')"
   ]
  },
  {
   "cell_type": "code",
   "execution_count": 26,
   "id": "b8fbdf44",
   "metadata": {},
   "outputs": [],
   "source": [
    "escritor = Escritor('Icaro Martins') # nome é parâmetro da classe Escritor\n",
    "caneta = Caneta('BIC') # marca é parâmetro da classe Caneta"
   ]
  },
  {
   "cell_type": "code",
   "execution_count": 27,
   "id": "6a03742b",
   "metadata": {},
   "outputs": [
    {
     "name": "stdout",
     "output_type": "stream",
     "text": [
      "Icaro Martins\n",
      "BIC\n"
     ]
    }
   ],
   "source": [
    "print(escritor.nome)\n",
    "print(caneta.marca)"
   ]
  },
  {
   "cell_type": "code",
   "execution_count": 28,
   "id": "83a23fc7",
   "metadata": {},
   "outputs": [],
   "source": [
    "escritor.ferramenta = caneta # associação onde ferramenta recebe um objeto do tipo Caneta"
   ]
  },
  {
   "cell_type": "code",
   "execution_count": 33,
   "id": "1f19bebd",
   "metadata": {},
   "outputs": [
    {
     "name": "stdout",
     "output_type": "stream",
     "text": [
      "BIC\n"
     ]
    }
   ],
   "source": [
    "print(escritor.ferramenta.marca) # atributo do objeto recebido em ferramenta"
   ]
  },
  {
   "cell_type": "code",
   "execution_count": 34,
   "id": "9c7ac8d7",
   "metadata": {},
   "outputs": [
    {
     "name": "stdout",
     "output_type": "stream",
     "text": [
      "A caneta está escrevendo...\n"
     ]
    }
   ],
   "source": [
    "escritor.ferramenta.escrever() # função do objeto recebido em ferramenta"
   ]
  },
  {
   "cell_type": "markdown",
   "id": "0730d430",
   "metadata": {},
   "source": [
    "## Composição\n",
    "- Permite que um objeto seja composto de outros objetos, e esses objetos compostos são essenciais para o funcionamento correto do objeto principal.\n",
    "- Quando o objeto principal é criado ou destruído, os objetos compostos também são criados ou destruídos."
   ]
  },
  {
   "cell_type": "code",
   "execution_count": 44,
   "id": "8bfacbc9",
   "metadata": {},
   "outputs": [],
   "source": [
    "class Endereco(object):\n",
    "    def __init__(self, cidade: str):\n",
    "        self.__cidade = cidade\n",
    "        \n",
    "    @property\n",
    "    def cidade(self):\n",
    "        return self.__cidade\n",
    "    \n",
    "    @cidade.setter\n",
    "    def cidade(self, cidade):\n",
    "        self.__cidade = cidade"
   ]
  },
  {
   "cell_type": "code",
   "execution_count": 45,
   "id": "99bb3613",
   "metadata": {},
   "outputs": [],
   "source": [
    "class Cliente(object):\n",
    "    def __init__(self, nome: str):\n",
    "        self.__nome = nome\n",
    "        self.__enderecos = []\n",
    "    \n",
    "    @property\n",
    "    def nome(self):\n",
    "        return self.__nome\n",
    "    \n",
    "    @nome.setter\n",
    "    def nome(self, nome: str):\n",
    "        self.__nome = nome\n",
    "        \n",
    "    def inserir_endereco(self, cidade):\n",
    "        self.__enderecos.append(Endereco(cidade))\n",
    "        \n",
    "    def lista_enderecos(self):\n",
    "        for endereco in self.__enderecos:\n",
    "            print(endereco.cidade)"
   ]
  },
  {
   "cell_type": "code",
   "execution_count": 46,
   "id": "ff511d48",
   "metadata": {},
   "outputs": [
    {
     "name": "stdout",
     "output_type": "stream",
     "text": [
      "Icaro Martins\n",
      "Brasília\n",
      "Viçosa\n"
     ]
    }
   ],
   "source": [
    "icaro = Cliente('Icaro Martins')\n",
    "icaro.inserir_endereco('Brasília')\n",
    "icaro.inserir_endereco('Viçosa')\n",
    "print(icaro.nome)\n",
    "icaro.lista_enderecos()"
   ]
  },
  {
   "cell_type": "code",
   "execution_count": 47,
   "id": "7d4eb4c3",
   "metadata": {},
   "outputs": [],
   "source": [
    "del icaro # o endereço também será deletado (composição)"
   ]
  },
  {
   "cell_type": "markdown",
   "id": "ef818360",
   "metadata": {},
   "source": [
    "## Agregação\n",
    "- Tipo especial de associação que denota uma relação \"todo-parte\" entre duas classes. Uma classe representa um \"todo\" e contém uma ou mais instâncias de outra classe, que são as \"partes\".\n",
    "- As partes podem existir independentemente do todo, mas o todo é responsável por criar ou destruir as partes."
   ]
  },
  {
   "cell_type": "code",
   "execution_count": 48,
   "id": "0fa5f6fe",
   "metadata": {},
   "outputs": [],
   "source": [
    "class Produto(object):\n",
    "    def __init__(self, nome: str, valor: float):\n",
    "        self.nome = nome\n",
    "        self.valor = valor"
   ]
  },
  {
   "cell_type": "code",
   "execution_count": 60,
   "id": "64e321c2",
   "metadata": {},
   "outputs": [],
   "source": [
    "class CarrinhoCompras(object):\n",
    "    def __init__(self):\n",
    "        self.produtos = []\n",
    "        \n",
    "    def inserir_produto(self, produto):\n",
    "        self.produtos.append(produto)\n",
    "        \n",
    "    def lista_produtos(self):\n",
    "        for produto in self.produtos:\n",
    "            print(f'{produto.nome}: R${produto.valor}')\n",
    "            \n",
    "    def soma_total(self):\n",
    "        total = 0\n",
    "        for produto in self.produtos:\n",
    "            total += produto.valor\n",
    "        return f'R${total}'"
   ]
  },
  {
   "cell_type": "code",
   "execution_count": 61,
   "id": "f7b4e0ca",
   "metadata": {},
   "outputs": [],
   "source": [
    "carrinho = CarrinhoCompras()\n",
    "p1 = Produto('camisa', 90)\n",
    "p2 = Produto('calça', 120)\n",
    "p3 = Produto('tênis', 350)"
   ]
  },
  {
   "cell_type": "code",
   "execution_count": 62,
   "id": "b80bc443",
   "metadata": {},
   "outputs": [
    {
     "name": "stdout",
     "output_type": "stream",
     "text": [
      "[]\n"
     ]
    }
   ],
   "source": [
    "print(carrinho.produtos)"
   ]
  },
  {
   "cell_type": "code",
   "execution_count": 63,
   "id": "6c1a1edf",
   "metadata": {},
   "outputs": [
    {
     "name": "stdout",
     "output_type": "stream",
     "text": [
      "[<__main__.Produto object at 0x0000017C8593F010>, <__main__.Produto object at 0x0000017C8593C7C0>, <__main__.Produto object at 0x0000017C8593CCD0>]\n"
     ]
    }
   ],
   "source": [
    "carrinho.inserir_produto(p1)\n",
    "carrinho.inserir_produto(p2)\n",
    "carrinho.inserir_produto(p3)\n",
    "print(carrinho.produtos) # objetos"
   ]
  },
  {
   "cell_type": "code",
   "execution_count": 65,
   "id": "c6d2b0d7",
   "metadata": {},
   "outputs": [
    {
     "name": "stdout",
     "output_type": "stream",
     "text": [
      "camisa: R$90\n",
      "calça: R$120\n",
      "tênis: R$350\n",
      "Valor total: R$560\n"
     ]
    }
   ],
   "source": [
    "carrinho.lista_produtos()\n",
    "print(f'Valor total: {carrinho.soma_total()}')"
   ]
  },
  {
   "cell_type": "markdown",
   "id": "f231d866",
   "metadata": {},
   "source": [
    "## Classe Abstrata\n",
    "Classe que servirá de modelo para outras classes. A classe abstrata não pode ser instanciada diretamente."
   ]
  },
  {
   "cell_type": "code",
   "execution_count": 71,
   "id": "8fcf61c5",
   "metadata": {},
   "outputs": [],
   "source": [
    "from abc import ABC, abstractmethod\n",
    "\n",
    "class letras(object):\n",
    "    @abstractmethod\n",
    "    def mostrar_tipo(self):\n",
    "        print('Eu sou uma classe abstrata!')"
   ]
  },
  {
   "cell_type": "code",
   "execution_count": 72,
   "id": "383e23a0",
   "metadata": {},
   "outputs": [],
   "source": [
    "class A(letras):\n",
    "    def __init__(self, descricao):\n",
    "        # não há inicialização da classe pai\n",
    "        self.descricao = descricao\n",
    "    \n",
    "    def imprimir(self):\n",
    "        print('Método comum da classe.')"
   ]
  },
  {
   "cell_type": "code",
   "execution_count": 73,
   "id": "6011ec1c",
   "metadata": {},
   "outputs": [
    {
     "name": "stdout",
     "output_type": "stream",
     "text": [
      "Letra A\n"
     ]
    }
   ],
   "source": [
    "letraa = A('Letra A')\n",
    "print(letraa.descricao)"
   ]
  },
  {
   "cell_type": "code",
   "execution_count": 74,
   "id": "1b253098",
   "metadata": {},
   "outputs": [
    {
     "name": "stdout",
     "output_type": "stream",
     "text": [
      "Eu sou uma classe abstrata!\n",
      "Método comum da classe.\n"
     ]
    }
   ],
   "source": [
    "letraa.mostrar_tipo() # método da classe abstrata\n",
    "letraa.imprimir()"
   ]
  },
  {
   "cell_type": "markdown",
   "id": "da706c50",
   "metadata": {},
   "source": [
    "## Polimorfismo\n",
    "Existem diversas formas de polimofirmos na programação orientada a objetos, porém no Python o único polimorfismo que a linguagem suporta é por **sobreposição**, que é o princípio que permite que classes derivadas de uma mesma superclasse\n",
    "tenham métodos iguais (de mesma assinatura) mas comportamentos diferentes."
   ]
  },
  {
   "cell_type": "code",
   "execution_count": 1,
   "id": "c7345be9",
   "metadata": {},
   "outputs": [],
   "source": [
    "# Superclasse\n",
    "class Veiculo(object):\n",
    "    \n",
    "    def __init__(self, marca:str, modelo:str):\n",
    "        self.marca = marca\n",
    "        self.modelo = modelo\n",
    "\n",
    "    def acelerar(self):\n",
    "        pass\n",
    "\n",
    "    def frear(self):\n",
    "        pass\n",
    "    \n",
    "# Subclasse\n",
    "class Carro(Veiculo):\n",
    "    \n",
    "    def acelerar(self):\n",
    "        print(\"O carro está acelerando.\")\n",
    "\n",
    "    def frear(self):\n",
    "        print(\"O carro está freando.\")\n",
    "        \n",
    "# Subclasse\n",
    "class Moto(Veiculo):\n",
    "    \n",
    "    def acelerar(self):\n",
    "        print(\"A moto está acelerando.\")\n",
    "\n",
    "    def frear(self):\n",
    "        print(\"A moto está freando.\")\n",
    "        \n",
    "# Subclasse\n",
    "class Aviao(Veiculo):\n",
    "    \n",
    "    def acelerar(self):\n",
    "        print(\"O avião está acelerando.\")\n",
    "\n",
    "    def frear(self):\n",
    "        print(\"O avião está freando.\")\n",
    "\n",
    "    def decolar(self):\n",
    "        print(\"O avião está decolando.\")"
   ]
  },
  {
   "cell_type": "code",
   "execution_count": 2,
   "id": "655a00a9",
   "metadata": {},
   "outputs": [
    {
     "name": "stdout",
     "output_type": "stream",
     "text": [
      "O carro está acelerando.\n",
      "O carro está freando.\n",
      "---\n",
      "A moto está acelerando.\n",
      "A moto está freando.\n",
      "---\n",
      "O avião está acelerando.\n",
      "O avião está freando.\n",
      "O avião está decolando.\n",
      "---\n"
     ]
    }
   ],
   "source": [
    "lista_veiculos = [Carro(\"Porsche\", \"911 Turbo\"), Moto(\"Honda\", \"CB 1000R Black Edition\"), Aviao(\"Boeing\", \"757\")]\n",
    "\n",
    "for item in lista_veiculos:\n",
    "    item.acelerar()\n",
    "    item.frear()\n",
    "    if isinstance(item, Aviao):\n",
    "        item.decolar()\n",
    "    print(\"---\")"
   ]
  },
  {
   "cell_type": "code",
   "execution_count": 78,
   "id": "04722cd8",
   "metadata": {},
   "outputs": [],
   "source": [
    "from abc import ABC, abstractmethod\n",
    "\n",
    "class A(ABC): # classe abstrata\n",
    "    @abstractmethod\n",
    "    def falar(self, texto: str):\n",
    "        pass\n",
    "    \n",
    "class B(A): # classe filha da classe A\n",
    "    def falar(self, texto: str): # sobrepõe a classe pai\n",
    "        print(f'B está falando {texto}')\n",
    "        \n",
    "class C(A): # classe filha da classe A\n",
    "    def falar(self, texto: str): # sobrepõe a classe pai\n",
    "        print(f'C está falando {texto}')"
   ]
  },
  {
   "cell_type": "code",
   "execution_count": 79,
   "id": "980e963e",
   "metadata": {},
   "outputs": [],
   "source": [
    "# não pode criar objeto a partir de classe abstrata\n",
    "b = B()\n",
    "c = C()"
   ]
  },
  {
   "cell_type": "code",
   "execution_count": 80,
   "id": "7cee8d49",
   "metadata": {},
   "outputs": [
    {
     "name": "stdout",
     "output_type": "stream",
     "text": [
      "B está falando de futebol\n",
      "C está falando de basquete\n"
     ]
    }
   ],
   "source": [
    "b.falar('de futebol')\n",
    "c.falar('de basquete')"
   ]
  },
  {
   "cell_type": "code",
   "execution_count": null,
   "id": "f7ccc91b",
   "metadata": {},
   "outputs": [],
   "source": []
  }
 ],
 "metadata": {
  "kernelspec": {
   "display_name": "Python 3 (ipykernel)",
   "language": "python",
   "name": "python3"
  },
  "language_info": {
   "codemirror_mode": {
    "name": "ipython",
    "version": 3
   },
   "file_extension": ".py",
   "mimetype": "text/x-python",
   "name": "python",
   "nbconvert_exporter": "python",
   "pygments_lexer": "ipython3",
   "version": "3.9.13"
  }
 },
 "nbformat": 4,
 "nbformat_minor": 5
}
