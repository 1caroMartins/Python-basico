{
 "cells": [
  {
   "cell_type": "markdown",
   "id": "949b5a1b",
   "metadata": {},
   "source": [
    "# Funções"
   ]
  },
  {
   "cell_type": "markdown",
   "id": "91c3045b",
   "metadata": {},
   "source": [
    "## Paradigmas de Programação"
   ]
  },
  {
   "cell_type": "markdown",
   "id": "08d2696f",
   "metadata": {},
   "source": [
    "O Python é uma linguagem [multi-paradigma](https://en.wikipedia.org/wiki/Python_(programming_language)).</br>\n",
    "Estilos de programação:\n",
    "\n",
    "1.   Imperativa;\n",
    "2.   Funcional;\n",
    "3.   Orientada a objetos."
   ]
  },
  {
   "cell_type": "markdown",
   "id": "664d0b37",
   "metadata": {},
   "source": [
    "## Funções são rotinas"
   ]
  },
  {
   "cell_type": "code",
   "execution_count": 27,
   "id": "7ee1b848",
   "metadata": {},
   "outputs": [],
   "source": [
    "# definindo função (mesmo com print, só aparece quando usada)\n",
    "\n",
    "def mostrarlinha():\n",
    "    print('-'*30)"
   ]
  },
  {
   "cell_type": "code",
   "execution_count": 29,
   "id": "1a80012a",
   "metadata": {},
   "outputs": [
    {
     "name": "stdout",
     "output_type": "stream",
     "text": [
      "------------------------------\n",
      "             MENU             \n",
      "------------------------------\n",
      "------------------------------\n",
      "            Frase             \n",
      "------------------------------\n"
     ]
    }
   ],
   "source": [
    "# definindo e usando função\n",
    "\n",
    "def mostrarlinha():\n",
    "    print('-'*30)\n",
    "\n",
    "mostrarlinha()\n",
    "print(f'{\"MENU\":^30}')\n",
    "mostrarlinha()\n",
    "mostrarlinha()\n",
    "print(f'{\"Frase\":^30}')\n",
    "mostrarlinha()"
   ]
  },
  {
   "cell_type": "markdown",
   "id": "dedfdc97",
   "metadata": {},
   "source": [
    "## Parâmetros em Funções"
   ]
  },
  {
   "cell_type": "code",
   "execution_count": 33,
   "id": "e7d20110",
   "metadata": {},
   "outputs": [
    {
     "name": "stdout",
     "output_type": "stream",
     "text": [
      "------------------------------\n",
      "             MENU             \n",
      "------------------------------\n",
      "------------------------------\n",
      "            Frase             \n",
      "------------------------------\n"
     ]
    }
   ],
   "source": [
    "# função contendo parâmetro\n",
    "\n",
    "def titulo(txt):\n",
    "    print('-'*30)\n",
    "    print(f'{txt:^30}')\n",
    "    print('-'*30)\n",
    "\n",
    "mostrartitulo('MENU')\n",
    "mostrartitulo('Frase')"
   ]
  },
  {
   "cell_type": "code",
   "execution_count": 9,
   "id": "1c1cc624",
   "metadata": {},
   "outputs": [
    {
     "name": "stdout",
     "output_type": "stream",
     "text": [
      "a = 10 e b = 5\n",
      "a / b = 2.0\n",
      "a = 5 e b = 10\n",
      "a / b = 0.5\n"
     ]
    }
   ],
   "source": [
    "# parâmetros posicionais\n",
    "\n",
    "def divisao(a, b):\n",
    "    print(f'a = {a} e b = {b}')\n",
    "    divisao = a / b\n",
    "    print(f'a / b = {divisao}')\n",
    "\n",
    "# programa principal\n",
    "\n",
    "divisao(10, 5)\n",
    "divisao(b=10, a=5) # nomeando argumentos (necessário passar todos)"
   ]
  },
  {
   "cell_type": "code",
   "execution_count": 14,
   "id": "1c99c4d7",
   "metadata": {},
   "outputs": [
    {
     "ename": "TypeError",
     "evalue": "divisao() got some positional-only arguments passed as keyword arguments: 'a, b'",
     "output_type": "error",
     "traceback": [
      "\u001b[1;31m---------------------------------------------------------------------------\u001b[0m",
      "\u001b[1;31mTypeError\u001b[0m                                 Traceback (most recent call last)",
      "\u001b[1;32m~\\AppData\\Local\\Temp\\ipykernel_3588\\3901785778.py\u001b[0m in \u001b[0;36m<module>\u001b[1;34m\u001b[0m\n\u001b[0;32m      6\u001b[0m     \u001b[0mprint\u001b[0m\u001b[1;33m(\u001b[0m\u001b[1;34mf'a / b = {divisao}'\u001b[0m\u001b[1;33m)\u001b[0m\u001b[1;33m\u001b[0m\u001b[1;33m\u001b[0m\u001b[0m\n\u001b[0;32m      7\u001b[0m \u001b[1;33m\u001b[0m\u001b[0m\n\u001b[1;32m----> 8\u001b[1;33m \u001b[0mdivisao\u001b[0m\u001b[1;33m(\u001b[0m\u001b[0mb\u001b[0m\u001b[1;33m=\u001b[0m\u001b[1;36m2\u001b[0m\u001b[1;33m,\u001b[0m \u001b[0ma\u001b[0m\u001b[1;33m=\u001b[0m\u001b[1;36m4\u001b[0m\u001b[1;33m)\u001b[0m \u001b[1;31m# erro\u001b[0m\u001b[1;33m\u001b[0m\u001b[1;33m\u001b[0m\u001b[0m\n\u001b[0m",
      "\u001b[1;31mTypeError\u001b[0m: divisao() got some positional-only arguments passed as keyword arguments: 'a, b'"
     ]
    }
   ],
   "source": [
    "# parâmetros excluisvamente posicionais\n",
    "\n",
    "def divisao(a, b, /): # antes da /\n",
    "    print(f'a = {a} e b = {b}')\n",
    "    divisao = a / b\n",
    "    print(f'a / b = {divisao}')\n",
    "    \n",
    "divisao(b=2, a=4) # erro: não aceita argumentos nomeados"
   ]
  },
  {
   "cell_type": "code",
   "execution_count": 46,
   "id": "3d583e69",
   "metadata": {},
   "outputs": [
    {
     "ename": "TypeError",
     "evalue": "divisao() got some positional-only arguments passed as keyword arguments: 'a'",
     "output_type": "error",
     "traceback": [
      "\u001b[1;31m---------------------------------------------------------------------------\u001b[0m",
      "\u001b[1;31mTypeError\u001b[0m                                 Traceback (most recent call last)",
      "\u001b[1;32m~\\AppData\\Local\\Temp\\ipykernel_3588\\3089036444.py\u001b[0m in \u001b[0;36m<module>\u001b[1;34m\u001b[0m\n\u001b[0;32m      4\u001b[0m     \u001b[0mprint\u001b[0m\u001b[1;33m(\u001b[0m\u001b[1;34mf'a / b = {divisao}'\u001b[0m\u001b[1;33m)\u001b[0m\u001b[1;33m\u001b[0m\u001b[1;33m\u001b[0m\u001b[0m\n\u001b[0;32m      5\u001b[0m \u001b[1;33m\u001b[0m\u001b[0m\n\u001b[1;32m----> 6\u001b[1;33m \u001b[0mdivisao\u001b[0m\u001b[1;33m(\u001b[0m\u001b[0ma\u001b[0m\u001b[1;33m=\u001b[0m\u001b[1;36m4\u001b[0m\u001b[1;33m,\u001b[0m\u001b[0mb\u001b[0m\u001b[1;33m=\u001b[0m\u001b[1;36m2\u001b[0m\u001b[1;33m)\u001b[0m\u001b[1;33m\u001b[0m\u001b[1;33m\u001b[0m\u001b[0m\n\u001b[0m\u001b[0;32m      7\u001b[0m \u001b[0mdivisao\u001b[0m\u001b[1;33m\u001b[0m\u001b[1;33m\u001b[0m\u001b[0m\n",
      "\u001b[1;31mTypeError\u001b[0m: divisao() got some positional-only arguments passed as keyword arguments: 'a'"
     ]
    }
   ],
   "source": [
    "# usando a flag / em outra posição\n",
    "\n",
    "def divisao(a, /, b):\n",
    "    print(f'a = {a} e b = {b}')\n",
    "    divisao = a / b\n",
    "    print(f'a / b = {divisao}')\n",
    "    \n",
    "divisao(a=4,b=2) # erro: a é exclusivamente posicional"
   ]
  },
  {
   "cell_type": "code",
   "execution_count": 1,
   "id": "16f1c5a4",
   "metadata": {},
   "outputs": [
    {
     "name": "stdout",
     "output_type": "stream",
     "text": [
      "a = 2 e b = 3\n",
      "a + b = 5\n",
      "\n",
      "a = 1 e b = 3\n",
      "a + b = 4\n",
      "\n",
      "a = 1 e b = 2\n",
      "a + b = 3\n",
      "\n",
      "a = 2 e b = 4\n",
      "a + b = 6\n"
     ]
    }
   ],
   "source": [
    "# parâmetros nomeados\n",
    "\n",
    "def soma(a=2, b=3): # valores associados por default\n",
    "    print(f'a = {a} e b = {b}')\n",
    "    soma = a + b\n",
    "    print(f'a + b = {soma}')\n",
    "    \n",
    "soma() # valores default\n",
    "print()\n",
    "soma(1) # argumento posicional e valor default\n",
    "print()\n",
    "soma(1,2) # argumentos posicionais\n",
    "print()\n",
    "soma(b=4) # valor default e argumento nomeado"
   ]
  },
  {
   "cell_type": "code",
   "execution_count": 2,
   "id": "66cc62e3",
   "metadata": {},
   "outputs": [
    {
     "name": "stdout",
     "output_type": "stream",
     "text": [
      "a = 2 e b = 3\n",
      "a + b = 5\n",
      "\n",
      "a = 4 e b = 5\n",
      "a + b = 9\n",
      "\n",
      "a = 5 e b = 3\n",
      "a + b = 8\n",
      "\n"
     ]
    },
    {
     "ename": "TypeError",
     "evalue": "soma() takes 0 positional arguments but 1 was given",
     "output_type": "error",
     "traceback": [
      "\u001b[1;31m---------------------------------------------------------------------------\u001b[0m",
      "\u001b[1;31mTypeError\u001b[0m                                 Traceback (most recent call last)",
      "\u001b[1;32m~\\AppData\\Local\\Temp\\ipykernel_12136\\3249951838.py\u001b[0m in \u001b[0;36m<module>\u001b[1;34m\u001b[0m\n\u001b[0;32m     12\u001b[0m \u001b[0msoma\u001b[0m\u001b[1;33m(\u001b[0m\u001b[0ma\u001b[0m\u001b[1;33m=\u001b[0m\u001b[1;36m5\u001b[0m\u001b[1;33m)\u001b[0m \u001b[1;31m# argumento nomeado e valor default\u001b[0m\u001b[1;33m\u001b[0m\u001b[1;33m\u001b[0m\u001b[0m\n\u001b[0;32m     13\u001b[0m \u001b[0mprint\u001b[0m\u001b[1;33m(\u001b[0m\u001b[1;33m)\u001b[0m\u001b[1;33m\u001b[0m\u001b[1;33m\u001b[0m\u001b[0m\n\u001b[1;32m---> 14\u001b[1;33m \u001b[0msoma\u001b[0m\u001b[1;33m(\u001b[0m\u001b[1;36m7\u001b[0m\u001b[1;33m)\u001b[0m \u001b[1;31m# erro: não aceita argumento posicional\u001b[0m\u001b[1;33m\u001b[0m\u001b[1;33m\u001b[0m\u001b[0m\n\u001b[0m",
      "\u001b[1;31mTypeError\u001b[0m: soma() takes 0 positional arguments but 1 was given"
     ]
    }
   ],
   "source": [
    "# parâmetros explicitamente nomeados\n",
    "\n",
    "def soma(*, a=2, b=3): # após o *\n",
    "    print(f'a = {a} e b = {b}')\n",
    "    soma = a + b\n",
    "    print(f'a + b = {soma}')\n",
    "    \n",
    "soma() # valores default\n",
    "print()\n",
    "soma(b=5,a=4) # argumentos nomeados\n",
    "print()\n",
    "soma(a=5) # argumento nomeado e valor default \n",
    "print()\n",
    "soma(7) # erro: não aceita argumento posicional"
   ]
  },
  {
   "cell_type": "code",
   "execution_count": 43,
   "id": "877d44cf",
   "metadata": {},
   "outputs": [
    {
     "ename": "TypeError",
     "evalue": "soma() takes from 0 to 1 positional arguments but 2 were given",
     "output_type": "error",
     "traceback": [
      "\u001b[1;31m---------------------------------------------------------------------------\u001b[0m",
      "\u001b[1;31mTypeError\u001b[0m                                 Traceback (most recent call last)",
      "\u001b[1;32m~\\AppData\\Local\\Temp\\ipykernel_3588\\729730764.py\u001b[0m in \u001b[0;36m<module>\u001b[1;34m\u001b[0m\n\u001b[0;32m      4\u001b[0m     \u001b[0mprint\u001b[0m\u001b[1;33m(\u001b[0m\u001b[1;34mf'a / b = {soma}'\u001b[0m\u001b[1;33m)\u001b[0m\u001b[1;33m\u001b[0m\u001b[1;33m\u001b[0m\u001b[0m\n\u001b[0;32m      5\u001b[0m \u001b[1;33m\u001b[0m\u001b[0m\n\u001b[1;32m----> 6\u001b[1;33m \u001b[0msoma\u001b[0m\u001b[1;33m(\u001b[0m\u001b[1;36m1\u001b[0m\u001b[1;33m,\u001b[0m\u001b[1;36m9\u001b[0m\u001b[1;33m)\u001b[0m\u001b[1;33m\u001b[0m\u001b[1;33m\u001b[0m\u001b[0m\n\u001b[0m",
      "\u001b[1;31mTypeError\u001b[0m: soma() takes from 0 to 1 positional arguments but 2 were given"
     ]
    }
   ],
   "source": [
    "# usando a flag * em outra posição\n",
    "\n",
    "def soma(a=7, *, b=6):\n",
    "    print(f'a = {a} e b = {b}')\n",
    "    soma = a + b\n",
    "    print(f'a / b = {soma}')\n",
    "\n",
    "soma(1,9) # erro: b precisa ser explicitamente nomeado (não pode ser posicional)"
   ]
  },
  {
   "cell_type": "markdown",
   "id": "b4becf28",
   "metadata": {},
   "source": [
    "## DES | EMPACOTAMENTO"
   ]
  },
  {
   "cell_type": "code",
   "execution_count": 6,
   "id": "7908f8a4",
   "metadata": {},
   "outputs": [
    {
     "name": "stdout",
     "output_type": "stream",
     "text": [
      "(2, 1, 7)\n",
      "São ao todo 3 números\n",
      "(8, 0)\n",
      "São ao todo 2 números\n",
      "(4, 4, 7, 6, 2)\n",
      "São ao todo 5 números\n",
      "(3, 5, 4, 8)\n",
      "São ao todo 4 números\n"
     ]
    }
   ],
   "source": [
    "# empacotamento (útil para não precisar definir a quantidade de argumentos)\n",
    "\n",
    "tupla = (8, 0)\n",
    "lista = [4, 4, 7, 6, 2]\n",
    "dicionario = {'a':3, 'b':5, 'c':4, 'd':8}\n",
    "\n",
    "def contador(*args): # empacotamento usa * para indicar que os parâmetros serão armazenaos em apenas uma variável\n",
    "    print(args) # empacotamento agrupa múltiplos valores em uma única estrutura de dados, comumente conhecida como tupla.\n",
    "    print(f'São ao todo {len(args)} números')\n",
    "\n",
    "# Programa principal    \n",
    "    \n",
    "contador(2, 1, 7) # só recebe argumentos posicionais\n",
    "\n",
    "# Não é a melhor forma de se utilizar:\n",
    "\n",
    "contador(tupla[0], tupla[1]) \n",
    "contador(lista[0], lista[1], lista[2], lista[3], lista[4]) \n",
    "contador(dicionario['a'], dicionario['b'], dicionario['c'], dicionario['d'])"
   ]
  },
  {
   "cell_type": "code",
   "execution_count": 32,
   "id": "d7075b82",
   "metadata": {},
   "outputs": [
    {
     "name": "stdout",
     "output_type": "stream",
     "text": [
      "Somando os valores (5, 2, 8) temos 15\n",
      "Somando os valores (4, 9, 10) temos 23\n",
      "Somando os valores (3, 7, 11) temos 21\n"
     ]
    }
   ],
   "source": [
    "def soma(*args): # empacotamento\n",
    "    soma = 0\n",
    "    for valor in args: # desempacotamento\n",
    "        soma += valor\n",
    "    print(f'Somando os valores {args} temos {soma}')\n",
    "\n",
    "soma(5, 2, 8)"
   ]
  },
  {
   "cell_type": "code",
   "execution_count": 9,
   "id": "e4e97d7e",
   "metadata": {},
   "outputs": [
    {
     "name": "stdout",
     "output_type": "stream",
     "text": [
      "{'a': 2, 'b': 9, 'c': 4}\n",
      "Somando os valores de ('a', 'b', 'c') temos 15\n"
     ]
    }
   ],
   "source": [
    "# des | empacotamento com argumentos nominais (keyword arguments)\n",
    "\n",
    "def dicionario(**kwargs): # empacotamento usa **\n",
    "    print(kwargs) # empacotamento agrupa múltiplos valores em um dicionário\n",
    "    soma = 0\n",
    "    for valor in kwargs.values(): # desempacotamento\n",
    "        soma += valor\n",
    "    print(f'Somando os valores de {tuple(kwargs.keys())} temos {soma}')\n",
    "\n",
    "dicionario(a=2, b=9, c=4) # só recebe argumentos nomeados"
   ]
  },
  {
   "cell_type": "code",
   "execution_count": 29,
   "id": "a82286aa",
   "metadata": {},
   "outputs": [
    {
     "name": "stdout",
     "output_type": "stream",
     "text": [
      "1 2 3 4 () {}\n",
      "2 5 8 4 () {}\n",
      "\n",
      "1 2 3 4 (5,) {}\n",
      "1 2 3 4 (5, 6) {}\n",
      "\n",
      "1 2 3 4 (5, 6) {'c': 7, 'd': 8}\n",
      "1 2 7 6 () {'c': 7, 'd': 8}\n"
     ]
    }
   ],
   "source": [
    "# comportamento do args e kwargs com outros parâmetros\n",
    "\n",
    "def minha_funcao(x, y, a=7, b= 6, *grupo_pos, **grupo_nom):\n",
    "    print(x, y, a, b, grupo_pos, grupo_nom)\n",
    "    \n",
    "minha_funcao(1,2,3,4)\n",
    "minha_funcao(y=5,a=8,x=2,b=4)\n",
    "print()\n",
    "minha_funcao(1,2,3,4,5)\n",
    "minha_funcao(1,2,3,4,5,6)\n",
    "print()\n",
    "minha_funcao(1,2,3,4,5,6,c=7,d=8)\n",
    "minha_funcao(1,2,c=7,d=8)"
   ]
  },
  {
   "cell_type": "code",
   "execution_count": 32,
   "id": "ac5c117e",
   "metadata": {},
   "outputs": [
    {
     "ename": "TypeError",
     "evalue": "minha_funcao() got multiple values for argument 'a'",
     "output_type": "error",
     "traceback": [
      "\u001b[1;31m---------------------------------------------------------------------------\u001b[0m",
      "\u001b[1;31mTypeError\u001b[0m                                 Traceback (most recent call last)",
      "\u001b[1;32m~\\AppData\\Local\\Temp\\ipykernel_6056\\2600960875.py\u001b[0m in \u001b[0;36m<module>\u001b[1;34m\u001b[0m\n\u001b[0;32m      5\u001b[0m \u001b[1;33m\u001b[0m\u001b[0m\n\u001b[0;32m      6\u001b[0m \u001b[1;31m#minha_funcao(1,2,x=7) # erro\u001b[0m\u001b[1;33m\u001b[0m\u001b[1;33m\u001b[0m\u001b[0m\n\u001b[1;32m----> 7\u001b[1;33m \u001b[0mminha_funcao\u001b[0m\u001b[1;33m(\u001b[0m\u001b[1;36m1\u001b[0m\u001b[1;33m,\u001b[0m\u001b[1;36m2\u001b[0m\u001b[1;33m,\u001b[0m\u001b[1;36m3\u001b[0m\u001b[1;33m,\u001b[0m\u001b[1;36m4\u001b[0m\u001b[1;33m,\u001b[0m\u001b[0ma\u001b[0m\u001b[1;33m=\u001b[0m\u001b[1;36m9\u001b[0m\u001b[1;33m)\u001b[0m\u001b[1;33m\u001b[0m\u001b[1;33m\u001b[0m\u001b[0m\n\u001b[0m",
      "\u001b[1;31mTypeError\u001b[0m: minha_funcao() got multiple values for argument 'a'"
     ]
    }
   ],
   "source": [
    "# limitação do kwargs\n",
    "\n",
    "def minha_funcao(x, y, a=7, b= 6, *grupo_pos, **grupo_nom):\n",
    "    print(x, y, a, b, grupo_pos, grupo_nom)\n",
    "    \n",
    "minha_funcao(1,2,x=7) # erro: multiplos argumentos, pois x já foi nomeado antes\n",
    "minha_funcao(1,2,3,4,a=9) # erro: multiplos argumentos, pois a já foi nomeado antes\n",
    "\n",
    "# dica: se for usar grupos, não use argumentos e flags * ou /"
   ]
  },
  {
   "cell_type": "code",
   "execution_count": 31,
   "id": "23228e78",
   "metadata": {},
   "outputs": [
    {
     "name": "stdout",
     "output_type": "stream",
     "text": [
      "A divisão é 2.0\n",
      "A divisão é 5.0\n",
      "A divisão é 0.3333333333333333\n"
     ]
    }
   ],
   "source": [
    "# desempacotando uma tupla (mesma quantidade de argumentos)\n",
    "\n",
    "tupla = (8,4)\n",
    "\n",
    "def divisao(a=0, b=1): # divisao(tupla[0], tupla[1]) ou divisao(lista[0], lista[1])\n",
    "    divisao = a/b\n",
    "    print(f'A divisão é {divisao}')\n",
    "\n",
    "divisao(*tupla) # empacotado\n",
    "\n",
    "# desempacotando uma lista (mesma quantidade de argumentos)\n",
    "\n",
    "lista = [10,2]\n",
    "\n",
    "divisao(*lista) # empacotado\n",
    "\n",
    "# desempacotando um conjunto (mesma quantidade de argumentos)\n",
    "\n",
    "conjunto = {15,5}\n",
    "\n",
    "divisao(*conjunto) # ATENÇÃO: conjunto é desordenado e o resultado pode não ser esperado (não recomendado para esta função)"
   ]
  },
  {
   "cell_type": "code",
   "execution_count": 9,
   "id": "9b6aa59d",
   "metadata": {},
   "outputs": [
    {
     "name": "stdout",
     "output_type": "stream",
     "text": [
      "A soma é 10\n"
     ]
    }
   ],
   "source": [
    "# desempacotando um dicionário (mesma quantidade de argumentos)\n",
    "\n",
    "dicionario = {'a': 1, 'b': 2, 'c': 3, 'd': 4}  \n",
    "\n",
    "def soma(a=0, b=0, c=0, d=0): # soma(dicionario['a'], dicionario['b'], dicionario['c'], dicionario['d'])\n",
    "    soma = a + b + c + d\n",
    "    print(f'A soma é {soma}')\n",
    "\n",
    "soma(**dicionario) # empacotado"
   ]
  },
  {
   "cell_type": "code",
   "execution_count": 29,
   "id": "b2ecae59",
   "metadata": {},
   "outputs": [
    {
     "name": "stdout",
     "output_type": "stream",
     "text": [
      "O total de elementos é 1: ((1, 2, 3),)\n",
      "O total de elementos é 3: (1, 2, 3)\n",
      "O total de elementos é 1: ([1, 2, 3, 4, 5],)\n",
      "O total de elementos é 5: (1, 2, 3, 4, 5)\n",
      "O total de elementos é 1: ({1, 2, 3, 4},)\n",
      "O total de elementos é 4: (1, 2, 3, 4)\n",
      "\n",
      "O total de elementos é 1: ({'a': 1, 'b': 2, 'c': 3, 'd': 4, 'e': 5},)\n",
      "\n",
      "O total de elementos é 5: {'a': 1, 'b': 2, 'c': 3, 'd': 4, 'e': 5}\n"
     ]
    }
   ],
   "source": [
    "tupla = (1, 2, 3)\n",
    "lista = [1, 2, 3, 4, 5]\n",
    "conjunto={1,2,3,4}\n",
    "dicionario = {'a':1, 'b': 2, 'c': 3, 'd': 4, 'e': 5}\n",
    "\n",
    "def contar_elementos(*args):\n",
    "    print(f'O total de elementos é {len(args)}: ', end='')\n",
    "    print(args)\n",
    "    \n",
    "contar_elementos(tupla) # recebe somente 1 argumento\n",
    "contar_elementos(*tupla)\n",
    "contar_elementos(lista) # recebe somente 1 argumento\n",
    "contar_elementos(*lista)\n",
    "contar_elementos(conjunto) # recebe somente 1 argumento\n",
    "contar_elementos(*conjunto)\n",
    "print()\n",
    "contar_elementos(dicionario) # recebe o argumento posicional que é um dicionário \n",
    "print()\n",
    "\n",
    "def contar_elementos_dicio(**kwargs):\n",
    "    print(f'O total de elementos é {len(kwargs)}: ', end='')\n",
    "    print(kwargs)\n",
    "\n",
    "contar_elementos_dicio(**dicionario)"
   ]
  },
  {
   "cell_type": "code",
   "execution_count": 25,
   "id": "fa28631a",
   "metadata": {},
   "outputs": [
    {
     "name": "stdout",
     "output_type": "stream",
     "text": [
      "1 2 3 0 0\n",
      "1 2 3 4 5\n",
      "\n",
      "(1, 2, 3)\n",
      "(4, 5)\n",
      "(1, 2, 3) (4, 5)\n"
     ]
    }
   ],
   "source": [
    "l = [1,2,3]\n",
    "d = {'d':4,'e':5}\n",
    "\n",
    "def mostrar_elementos_mix(a,b,c,d=0,e=0):\n",
    "    print(a, b, c, d, e)\n",
    "\n",
    "mostrar_elementos_mix(*l)\n",
    "mostrar_elementos_mix(*l, **d)\n",
    "print()\n",
    "\n",
    "d = {'homems':4,'mulheres':5}\n",
    "\n",
    "def mostrar_elementos_mix2(*args, **kwargs):\n",
    "    if len(args) == 0 and len(kwargs) != 0:\n",
    "        print(tuple(kwargs.values()))\n",
    "    elif len(args) != 0 and len(kwargs) == 0:\n",
    "        print(args)\n",
    "    else:\n",
    "        print(args, tuple(kwargs.values()))\n",
    "    \n",
    "mostrar_elementos_mix2(*l)\n",
    "mostrar_elementos_mix2(**d)\n",
    "mostrar_elementos_mix2(*l, **d)"
   ]
  },
  {
   "cell_type": "code",
   "execution_count": 48,
   "id": "f88fe4c6",
   "metadata": {},
   "outputs": [
    {
     "name": "stdout",
     "output_type": "stream",
     "text": [
      "[6, 3, 9, 1, 0, 2]\n",
      "[12, 6, 18, 2, 0, 4]\n"
     ]
    }
   ],
   "source": [
    "# alterando valores de uma lista\n",
    "\n",
    "def dobra(lst): # não é empacotamento\n",
    "    pos = 0\n",
    "    while pos < len(lst): # não é desempacotamento (ainda gera uma lista)\n",
    "        lst[pos] *= 2\n",
    "        pos += 1\n",
    "\n",
    "valores = [6, 3, 9, 1, 0, 2]\n",
    "print(valores)\n",
    "dobra(valores)\n",
    "print(valores)"
   ]
  },
  {
   "cell_type": "markdown",
   "id": "2d9a3e8a",
   "metadata": {},
   "source": [
    "<mark> Fazer os exercícios do 1 ao 6.</mark>"
   ]
  },
  {
   "cell_type": "markdown",
   "id": "e5a6bbc3",
   "metadata": {},
   "source": [
    "## Interactive help"
   ]
  },
  {
   "cell_type": "code",
   "execution_count": 33,
   "id": "b25a0ce5",
   "metadata": {},
   "outputs": [
    {
     "name": "stdout",
     "output_type": "stream",
     "text": [
      "\n",
      "Welcome to Python 3.9's help utility!\n",
      "\n",
      "If this is your first time using Python, you should definitely check out\n",
      "the tutorial on the Internet at https://docs.python.org/3.9/tutorial/.\n",
      "\n",
      "Enter the name of any module, keyword, or topic to get help on writing\n",
      "Python programs and using Python modules.  To quit this help utility and\n",
      "return to the interpreter, just type \"quit\".\n",
      "\n",
      "To get a list of available modules, keywords, symbols, or topics, type\n",
      "\"modules\", \"keywords\", \"symbols\", or \"topics\".  Each module also comes\n",
      "with a one-line summary of what it does; to list the modules whose name\n",
      "or summary contain a given string such as \"spam\", type \"modules spam\".\n",
      "\n",
      "help> print\n",
      "Help on built-in function print in module builtins:\n",
      "\n",
      "print(...)\n",
      "    print(value, ..., sep=' ', end='\\n', file=sys.stdout, flush=False)\n",
      "    \n",
      "    Prints the values to a stream, or to sys.stdout by default.\n",
      "    Optional keyword arguments:\n",
      "    file:  a file-like object (stream); defaults to the current sys.stdout.\n",
      "    sep:   string inserted between values, default a space.\n",
      "    end:   string appended after the last value, default a newline.\n",
      "    flush: whether to forcibly flush the stream.\n",
      "\n",
      "help> quit\n",
      "\n",
      "You are now leaving help and returning to the Python interpreter.\n",
      "If you want to ask for help on a particular object directly from the\n",
      "interpreter, you can type \"help(object)\".  Executing \"help('string')\"\n",
      "has the same effect as typing a particular string at the help> prompt.\n"
     ]
    }
   ],
   "source": [
    "# ajuda interativa\n",
    "\n",
    "help() # digite \"quit\" para sair"
   ]
  },
  {
   "cell_type": "code",
   "execution_count": 24,
   "id": "09d7bac5",
   "metadata": {},
   "outputs": [
    {
     "name": "stdout",
     "output_type": "stream",
     "text": [
      "Help on built-in function print in module builtins:\n",
      "\n",
      "print(...)\n",
      "    print(value, ..., sep=' ', end='\\n', file=sys.stdout, flush=False)\n",
      "    \n",
      "    Prints the values to a stream, or to sys.stdout by default.\n",
      "    Optional keyword arguments:\n",
      "    file:  a file-like object (stream); defaults to the current sys.stdout.\n",
      "    sep:   string inserted between values, default a space.\n",
      "    end:   string appended after the last value, default a newline.\n",
      "    flush: whether to forcibly flush the stream.\n",
      "\n"
     ]
    }
   ],
   "source": [
    "# outra maneira de obter ajuda interativa\n",
    "\n",
    "help(print)"
   ]
  },
  {
   "cell_type": "code",
   "execution_count": 28,
   "id": "ee7b42c8",
   "metadata": {},
   "outputs": [
    {
     "name": "stdout",
     "output_type": "stream",
     "text": [
      "print(value, ..., sep=' ', end='\\n', file=sys.stdout, flush=False)\n",
      "\n",
      "Prints the values to a stream, or to sys.stdout by default.\n",
      "Optional keyword arguments:\n",
      "file:  a file-like object (stream); defaults to the current sys.stdout.\n",
      "sep:   string inserted between values, default a space.\n",
      "end:   string appended after the last value, default a newline.\n",
      "flush: whether to forcibly flush the stream.\n"
     ]
    }
   ],
   "source": [
    "# Sem o uso do help(), outra maneira é imprimir o doc\n",
    "\n",
    "print(print.__doc__) # imprime a documentação da função, neste caso do print. "
   ]
  },
  {
   "cell_type": "markdown",
   "id": "35723233",
   "metadata": {},
   "source": [
    "## Docstrings\n",
    "PEP-257"
   ]
  },
  {
   "cell_type": "code",
   "execution_count": 1,
   "id": "a904eb39",
   "metadata": {},
   "outputs": [
    {
     "name": "stdout",
     "output_type": "stream",
     "text": [
      "Help on function contador in module __main__:\n",
      "\n",
      "contador(i, f, p)\n",
      "    Faz uma contagem e mostra na tela.\n",
      "    \n",
      "    Args:\n",
      "        i: início da contagem\n",
      "        f: fim da contagem\n",
      "        p: passo da contagem\n",
      "        \n",
      "    Returns:\n",
      "        Sem retorno\n",
      "\n"
     ]
    }
   ],
   "source": [
    "# criando docstring de uma função\n",
    "\n",
    "def contador(i, f, p):\n",
    "    \"\"\"\n",
    "    Faz uma contagem e mostra na tela.\n",
    "    \n",
    "    Args:\n",
    "        i: início da contagem\n",
    "        f: fim da contagem\n",
    "        p: passo da contagem\n",
    "        \n",
    "    Returns:\n",
    "        Sem retorno\n",
    "    \"\"\"\n",
    "    c = i\n",
    "    while c <= f:\n",
    "        print(f'{c} ', end='')\n",
    "        c += p\n",
    "    print('FIM!')\n",
    "\n",
    "\n",
    "help(contador)"
   ]
  },
  {
   "cell_type": "markdown",
   "id": "f761fd34",
   "metadata": {},
   "source": [
    "## Anotações de tipo\n",
    "PEP-484\n",
    "\n",
    "- As anotações de tipo em Python melhoram a legibilidade, facilitam a manutenção do código, ajudam na detecção precoce de erros de tipo e permitem integração mais eficiente com outras ferramentas e sistemas.\n",
    "- O Python possui tipos básicos embutidos, como int, float, str, bool etc. Esses tipos podem ser usados diretamente nas anotações de tipo sem a necessidade de importar módulos adicionais.\n",
    "- É necessário importar módulos para fazer anotações de tipo em Python quando você está usando tipos definidos pelo usuário, tipos fornecidos por bibliotecas externas ou tipos especiais disponíveis em módulos de anotação de tipo."
   ]
  },
  {
   "cell_type": "code",
   "execution_count": 1,
   "id": "2ab01fb8",
   "metadata": {},
   "outputs": [
    {
     "name": "stdout",
     "output_type": "stream",
     "text": [
      "10\n"
     ]
    }
   ],
   "source": [
    "# forma de documentar e especificar os tipos de dados esperados para os argumentos\n",
    "\n",
    "def soma(x:int, y:int) -> int:\n",
    "    print(x+y)\n",
    "\n",
    "soma(4,6)\n",
    "# Obs.: Essas anotações são opcionais e não têm impacto direto no tempo de execução do código."
   ]
  },
  {
   "cell_type": "markdown",
   "id": "cb74478d",
   "metadata": {},
   "source": [
    "## Escopo de variáveis"
   ]
  },
  {
   "cell_type": "code",
   "execution_count": 44,
   "id": "16ed988c",
   "metadata": {},
   "outputs": [
    {
     "name": "stdout",
     "output_type": "stream",
     "text": [
      "No programa principal, n vale 2\n",
      "Na função teste, n vale 2\n",
      "Na função teste, x vale 8\n"
     ]
    },
    {
     "ename": "NameError",
     "evalue": "name 'x' is not defined",
     "output_type": "error",
     "traceback": [
      "\u001b[1;31m---------------------------------------------------------------------------\u001b[0m",
      "\u001b[1;31mNameError\u001b[0m                                 Traceback (most recent call last)",
      "\u001b[1;32m~\\AppData\\Local\\Temp\\ipykernel_2180\\515652718.py\u001b[0m in \u001b[0;36m<module>\u001b[1;34m\u001b[0m\n\u001b[0;32m     10\u001b[0m \u001b[0mprint\u001b[0m\u001b[1;33m(\u001b[0m\u001b[1;34mf'No programa principal, n vale {n}'\u001b[0m\u001b[1;33m)\u001b[0m\u001b[1;33m\u001b[0m\u001b[1;33m\u001b[0m\u001b[0m\n\u001b[0;32m     11\u001b[0m \u001b[0mtest\u001b[0m\u001b[1;33m(\u001b[0m\u001b[1;33m)\u001b[0m\u001b[1;33m\u001b[0m\u001b[1;33m\u001b[0m\u001b[0m\n\u001b[1;32m---> 12\u001b[1;33m \u001b[0mprint\u001b[0m\u001b[1;33m(\u001b[0m\u001b[1;34mf'No programa principal, x vale {x}'\u001b[0m\u001b[1;33m)\u001b[0m\u001b[1;33m\u001b[0m\u001b[1;33m\u001b[0m\u001b[0m\n\u001b[0m",
      "\u001b[1;31mNameError\u001b[0m: name 'x' is not defined"
     ]
    }
   ],
   "source": [
    "# escopo de variáveis/declarações\n",
    "\n",
    "def test():\n",
    "    x = 8 # variável local, pois faz parte do escopo local\n",
    "    print(f'Na função teste, n vale {n}')\n",
    "    print(f'Na função teste, x vale {x}')\n",
    "\n",
    "# Programa principal\n",
    "\n",
    "n = 2 # variável global, pois faz parte do escopo global\n",
    "\n",
    "print(f'No programa principal, n vale {n}')\n",
    "test()\n",
    "print(f'No programa principal, x vale {x}') # erro, pois x só funciona dentro do escopo local."
   ]
  },
  {
   "cell_type": "code",
   "execution_count": 46,
   "id": "6a9bdd12",
   "metadata": {},
   "outputs": [
    {
     "name": "stdout",
     "output_type": "stream",
     "text": [
      "A dentro vale 8\n",
      "A fora vale 5\n"
     ]
    }
   ],
   "source": [
    "# duas variáveis a, uma local e outra global\n",
    "\n",
    "def teste():\n",
    "    a = 8\n",
    "    print(f'A dentro vale {a}')\n",
    "\n",
    "# programa principal\n",
    "\n",
    "a = 5\n",
    "\n",
    "teste()\n",
    "print(f'A fora vale {a}')"
   ]
  },
  {
   "cell_type": "code",
   "execution_count": 4,
   "id": "73fd82b7",
   "metadata": {},
   "outputs": [
    {
     "name": "stdout",
     "output_type": "stream",
     "text": [
      "A dentro vale 5\n",
      "B dentro vale 9\n",
      "A fora vale 5\n",
      "----------\n",
      "A dentro vale 8\n",
      "B dentro vale 9\n",
      "A fora vale 5\n"
     ]
    }
   ],
   "source": [
    "# funcionamento das variáveis\n",
    "\n",
    "def teste(b):\n",
    "    b += 4\n",
    "    print(f'A dentro vale {a}') # usa a variável global\n",
    "    print(f'B dentro vale {b}')\n",
    "\n",
    "# programa principal\n",
    "\n",
    "a = 5\n",
    "\n",
    "teste(a) # teste(5)\n",
    "print(f'A fora vale {a}')\n",
    "\n",
    "print('-'*10)\n",
    "\n",
    "def teste(b):\n",
    "    a = 8\n",
    "    b += 4 # soma 4 ao valor recebido no parâmetro\n",
    "    print(f'A dentro vale {a}') # usa a variável local\n",
    "    print(f'B dentro vale {b}')\n",
    "\n",
    "# programa principal\n",
    "\n",
    "a = 5\n",
    "\n",
    "teste(a) # teste(5)\n",
    "print(f'A fora vale {a}')"
   ]
  },
  {
   "cell_type": "code",
   "execution_count": 3,
   "id": "fe1b79ab",
   "metadata": {},
   "outputs": [
    {
     "name": "stdout",
     "output_type": "stream",
     "text": [
      "A dentro vale 8\n",
      "B dentro vale 9\n",
      "A fora vale 8\n"
     ]
    }
   ],
   "source": [
    "# declarando variável global localmente\n",
    "\n",
    "def teste(b):\n",
    "    global a # transforma a em global\n",
    "    a = 8 # atribuiu 8 a variável global que era 5\n",
    "    b += 4 # soma 4 ao valor recebido no parâmetro\n",
    "    print(f'A dentro vale {a}')\n",
    "    print(f'B dentro vale {b}')\n",
    "\n",
    "# programa principal\n",
    "\n",
    "a = 5\n",
    "\n",
    "teste(a) # teste(5)\n",
    "print(f'A fora vale {a}') "
   ]
  },
  {
   "cell_type": "markdown",
   "id": "6487d8c3",
   "metadata": {},
   "source": [
    "## Retorno de valores"
   ]
  },
  {
   "cell_type": "code",
   "execution_count": 7,
   "id": "17e30fed",
   "metadata": {},
   "outputs": [
    {
     "name": "stdout",
     "output_type": "stream",
     "text": [
      "17\n",
      "17\n",
      "Meus cálculos deram 10, 8 e 4\n"
     ]
    }
   ],
   "source": [
    "# utilizando return\n",
    "\n",
    "def soma(a=0, b=0, c=0):\n",
    "    soma = a + b + c\n",
    "    return soma\n",
    "\n",
    "# programa principal\n",
    "\n",
    "print(soma(4, 7, 6))\n",
    "\n",
    "resp = soma(8, 9) # atribuindo o retorno a uma variável\n",
    "\n",
    "print(resp)\n",
    "\n",
    "r1 = soma(3, 2, 5)\n",
    "r2 = soma(1, 7)\n",
    "r3 = soma(4)\n",
    "\n",
    "print(f'Meus cálculos deram {r1}, {r2} e {r3}')"
   ]
  },
  {
   "cell_type": "code",
   "execution_count": 2,
   "id": "749ced3e",
   "metadata": {},
   "outputs": [
    {
     "name": "stdout",
     "output_type": "stream",
     "text": [
      "Digite um número: 5\n",
      "O fatorial de 5 é igual a 120\n"
     ]
    }
   ],
   "source": [
    "def fatorial(num:int =1)->int:\n",
    "    fat = 1\n",
    "    for c in range(num, 0, -1):\n",
    "        fat *= c \n",
    "    return fat\n",
    "\n",
    "num = int(input('Digite um número: '))\n",
    "print(f'O fatorial de {num} é igual a {fatorial(num)}')"
   ]
  },
  {
   "cell_type": "code",
   "execution_count": 3,
   "id": "f613fbae",
   "metadata": {},
   "outputs": [
    {
     "name": "stdout",
     "output_type": "stream",
     "text": [
      "[1, 2, 5, 9]\n"
     ]
    }
   ],
   "source": [
    "# Algoritmo Quick sort, usado para ordenar lista (mais eficiente que Bubble sort)\n",
    "\n",
    "def quick_sort(lst:list)->list:\n",
    "    if len(lst) <= 1:\n",
    "        return lst\n",
    "    else:\n",
    "        pivot = lst[0] # escolhe um número da lista para ser o pivot, geralmente o primeiro\n",
    "        menores = [num for num in lst[1:] if num <= pivot] # list comprehension de lista de valores menores que o pivot\n",
    "        maiores = [num for num in lst[1:] if num > pivot] # list comprehension de lista de valores maiores que o pivot\n",
    "        return quick_sort(menores) + [pivot] + quick_sort(maiores)\n",
    "\n",
    "# programa principal\n",
    "\n",
    "num = [9, 2, 5, 1]\n",
    "\n",
    "print(quick_sort(num))\n",
    "\n",
    "# Obs.: O algoritmo Merge Sort também usa a tática de dividir as listas para depois junstar ordenadamente, mas o código é maior"
   ]
  },
  {
   "cell_type": "markdown",
   "id": "869cd086",
   "metadata": {},
   "source": [
    "<mark> Fazer os exercícios do 7 ao 12.</mark>"
   ]
  },
  {
   "cell_type": "markdown",
   "id": "73b1a6b1",
   "metadata": {},
   "source": [
    "## Função anônima\n",
    "- Também conhecida como função lambda, toma uma ou mais variáveis de entrada (argumentos) e retorna o resultado da expressão.\n",
    "- No caso de expressões lambda, a PEP 8 recomenda que você evite usá-las para funções complexas ou longas. Elas devem ser usadas principalmente para funções simples e anônimas, que são usadas como argumentos para outras funções ou operações."
   ]
  },
  {
   "cell_type": "code",
   "execution_count": 1,
   "id": "9042cd3e",
   "metadata": {},
   "outputs": [
    {
     "name": "stdout",
     "output_type": "stream",
     "text": [
      "4\n",
      "4\n",
      "6\n",
      "hotmail.com\n",
      "radar arara reviver "
     ]
    }
   ],
   "source": [
    "# lambda argumentos: expressão\n",
    "\n",
    "soma = lambda x: x + 2 # f(x) = x + 2\n",
    "print(soma(2))\n",
    "\n",
    "soma2 = (lambda x: x + 2)(2)\n",
    "print(soma2)\n",
    "\n",
    "multiplicacao = lambda x, y: x*y # usando dois parâmetros\n",
    "print(multiplicacao(2,3))\n",
    "\n",
    "email = 'icaro_dm@hotmail.com'\n",
    "\n",
    "extrair_provedor_email = lambda email: email.split(sep='@')[-1] # usando método interno das strings\n",
    "print(extrair_provedor_email(email))\n",
    "\n",
    "palavras = [\"radar\", \"python\", \"arara\", \"programa\", \"reviver\"]\n",
    "\n",
    "e_palindromo = lambda word: word == word[::-1] # retorna bool\n",
    "\n",
    "for palavra in palavras:\n",
    "    if e_palindromo(palavra):\n",
    "        print(f'{palavra} ', end='')"
   ]
  },
  {
   "cell_type": "code",
   "execution_count": 3,
   "id": "904d6602",
   "metadata": {},
   "outputs": [
    {
     "name": "stdout",
     "output_type": "stream",
     "text": [
      "[0, 2, 4, 6, 8]\n"
     ]
    }
   ],
   "source": [
    "# lambda com estruturas condicionais\n",
    "\n",
    "e_par = lambda numero: True if numero % 2 == 0 else False\n",
    "lista = [num for num in range(10) if e_par(num)]\n",
    "print(lista)\n",
    "\n",
    "# ATENÇÃO: Embora possível, as funções lambdas não costumam ser armazenadas em variáveis (nomeadas). Não é uma boa prática."
   ]
  },
  {
   "cell_type": "markdown",
   "id": "1a34bd56",
   "metadata": {},
   "source": [
    "## Função geradora\n",
    "Função que usa a declaração **yield** em vez de **return** para retornar um valor."
   ]
  },
  {
   "cell_type": "code",
   "execution_count": 1,
   "id": "be0fe10a",
   "metadata": {},
   "outputs": [
    {
     "data": {
      "text/plain": [
       "<generator object gen_print at 0x00000237A4026E40>"
      ]
     },
     "execution_count": 1,
     "metadata": {},
     "output_type": "execute_result"
    }
   ],
   "source": [
    "# definindo uma função geradora\n",
    "\n",
    "def gen_print():\n",
    "    print('começou')\n",
    "    print('antes do 1')\n",
    "    yield 1\n",
    "    print('depois do 1')\n",
    "    print('antes do 2')\n",
    "    yield 2\n",
    "    print('depois do 2')\n",
    "    \n",
    "gen_print() # retorna um objeto gerador"
   ]
  },
  {
   "cell_type": "code",
   "execution_count": 2,
   "id": "c7866ef0",
   "metadata": {},
   "outputs": [
    {
     "name": "stdout",
     "output_type": "stream",
     "text": [
      "começou\n",
      "antes do 1\n",
      "1\n",
      "depois do 1\n",
      "antes do 2\n",
      "2\n",
      "depois do 2\n"
     ]
    },
    {
     "ename": "StopIteration",
     "evalue": "",
     "output_type": "error",
     "traceback": [
      "\u001b[1;31m---------------------------------------------------------------------------\u001b[0m",
      "\u001b[1;31mStopIteration\u001b[0m                             Traceback (most recent call last)",
      "\u001b[1;32m~\\AppData\\Local\\Temp\\ipykernel_13032\\3964886265.py\u001b[0m in \u001b[0;36m<module>\u001b[1;34m\u001b[0m\n\u001b[0;32m      4\u001b[0m \u001b[0mprint\u001b[0m\u001b[1;33m(\u001b[0m\u001b[0mnext\u001b[0m\u001b[1;33m(\u001b[0m\u001b[0mg\u001b[0m\u001b[1;33m)\u001b[0m\u001b[1;33m)\u001b[0m \u001b[1;31m# para no Yield 1\u001b[0m\u001b[1;33m\u001b[0m\u001b[1;33m\u001b[0m\u001b[0m\n\u001b[0;32m      5\u001b[0m \u001b[0mprint\u001b[0m\u001b[1;33m(\u001b[0m\u001b[0mnext\u001b[0m\u001b[1;33m(\u001b[0m\u001b[0mg\u001b[0m\u001b[1;33m)\u001b[0m\u001b[1;33m)\u001b[0m \u001b[1;31m# printa o que vem depois de Yield 1 e para no Yield 2\u001b[0m\u001b[1;33m\u001b[0m\u001b[1;33m\u001b[0m\u001b[0m\n\u001b[1;32m----> 6\u001b[1;33m \u001b[0mprint\u001b[0m\u001b[1;33m(\u001b[0m\u001b[0mnext\u001b[0m\u001b[1;33m(\u001b[0m\u001b[0mg\u001b[0m\u001b[1;33m)\u001b[0m\u001b[1;33m)\u001b[0m \u001b[1;31m# printa o que vem depois de Yield 2 e para no StopIteration\u001b[0m\u001b[1;33m\u001b[0m\u001b[1;33m\u001b[0m\u001b[0m\n\u001b[0m",
      "\u001b[1;31mStopIteration\u001b[0m: "
     ]
    }
   ],
   "source": [
    "# acessando valores da função\n",
    "\n",
    "g = gen_print()\n",
    "print(next(g)) # para no Yield 1\n",
    "print(next(g)) # printa o que vem depois de Yield 1 e para no Yield 2\n",
    "print(next(g)) # printa o que vem depois de Yield 2 e para no StopIteration"
   ]
  },
  {
   "cell_type": "code",
   "execution_count": 4,
   "id": "ec916a2c",
   "metadata": {},
   "outputs": [
    {
     "name": "stdout",
     "output_type": "stream",
     "text": [
      "começou\n",
      "antes do 1\n",
      "1\n",
      "depois do 1\n",
      "antes do 2\n",
      "2\n",
      "depois do 2\n"
     ]
    }
   ],
   "source": [
    "# reutilizando uma função geradora\n",
    "\n",
    "g = gen_print() # atribui novamente a uma variável, pois não há um método para resetar como seek(0)\n",
    "\n",
    "for num in g:\n",
    "    print(num)\n",
    "\n",
    "for num in g: # não imprime nada, pois é necessário atribuir a função a uma variável novamente e não existe g.seek(0)\n",
    "    print(num)"
   ]
  },
  {
   "cell_type": "code",
   "execution_count": 10,
   "id": "911d55f3",
   "metadata": {},
   "outputs": [
    {
     "name": "stdout",
     "output_type": "stream",
     "text": [
      "1, 3, 5, 7, 9, 11, 13, 15, 17, 19, 21, 23, 25, 27, 29, 31, 33, 35, 37, 39, 41\n",
      "0 -1 -2 -3 -4 \n",
      "0 1 1 2 3 5 8 13 21 34 "
     ]
    }
   ],
   "source": [
    "# função geradora não armazena sequência na memória, por isso é possível gerar uma sequência infinita\n",
    "\n",
    "def impares():\n",
    "    valor = 1\n",
    "    while True:\n",
    "        yield valor\n",
    "        valor += 2\n",
    "        \n",
    "numeros_impares = impares()\n",
    "\n",
    "for numero in numeros_impares:\n",
    "    if numero == 41: # flag para não produzir infinitamente\n",
    "        break\n",
    "    print(f'{numero}, ', end='')\n",
    "print(41)\n",
    "\n",
    "# Criando uma função range() como função geradora\n",
    "\n",
    "def meu_range(inicio, fim=None, passo=1):\n",
    "    if fim == None:\n",
    "        inicio, fim = 0, inicio\n",
    "    while inicio < fim:\n",
    "        if passo <= 0:\n",
    "            break\n",
    "        yield inicio\n",
    "        inicio += passo\n",
    "    while inicio > fim:\n",
    "        if passo >=0:\n",
    "            break\n",
    "        yield inicio\n",
    "        inicio += passo\n",
    "        \n",
    "for num in meu_range(0,-5,-1):\n",
    "    print(f'{num} ', end='')\n",
    "    \n",
    "print()\n",
    "# função geradora de termos de fibonacci\n",
    "\n",
    "def fibonacci(termos):\n",
    "    a1 = 0\n",
    "    a2 = 1\n",
    "    fibo = a1\n",
    "    c = 1\n",
    "    while c <= termos:\n",
    "        yield fibo\n",
    "        a1 = a2\n",
    "        a2 = fibo\n",
    "        fibo = a1 + a2\n",
    "        c += 1\n",
    "\n",
    "termos10 = fibonacci(10)\n",
    "\n",
    "for num in termos10:\n",
    "    print(f'{num} ', end='')"
   ]
  },
  {
   "cell_type": "markdown",
   "id": "0a350406",
   "metadata": {},
   "source": [
    "### Função enumerate()\n",
    "Função geradora que retorna um objeto enumerado que pode ser iterado para obter tuplas contendo o índice e o valor correspondente de um iterável."
   ]
  },
  {
   "cell_type": "code",
   "execution_count": 55,
   "id": "9413c638",
   "metadata": {},
   "outputs": [
    {
     "data": {
      "text/plain": [
       "<enumerate at 0x1b3efe050c0>"
      ]
     },
     "execution_count": 55,
     "metadata": {},
     "output_type": "execute_result"
    }
   ],
   "source": [
    "seq = ['a','b','c']\n",
    "\n",
    "enumerate(seq)"
   ]
  },
  {
   "cell_type": "code",
   "execution_count": 56,
   "id": "fd86630a",
   "metadata": {},
   "outputs": [
    {
     "data": {
      "text/plain": [
       "[(0, 'a'), (1, 'b'), (2, 'c')]"
      ]
     },
     "execution_count": 56,
     "metadata": {},
     "output_type": "execute_result"
    }
   ],
   "source": [
    "list(enumerate(seq))"
   ]
  },
  {
   "cell_type": "markdown",
   "id": "21987ff6",
   "metadata": {},
   "source": [
    "## Subgeradores (geradores de geradores)\n",
    "Função que usa a declaração **yield from**"
   ]
  },
  {
   "cell_type": "code",
   "execution_count": 4,
   "id": "aa57b244",
   "metadata": {},
   "outputs": [
    {
     "name": "stdout",
     "output_type": "stream",
     "text": [
      "1\n",
      "1.1\n",
      "1.2\n",
      "1.3\n",
      "2\n",
      "\n",
      "1 2 3 4 5 \n",
      "0 1 2 3 4 5 6 7 8 9 \n"
     ]
    }
   ],
   "source": [
    "# Entrando em outra função iteradora dentro de uma função iteradora\n",
    "\n",
    "def subcapitulos():\n",
    "    yield 1.1\n",
    "    yield 1.2\n",
    "    yield 1.3\n",
    "    \n",
    "def capitulos():\n",
    "    yield 1\n",
    "    yield from subcapitulos()\n",
    "    yield 2\n",
    "    \n",
    "c = capitulos()\n",
    "\n",
    "print(next(c))\n",
    "print(next(c))\n",
    "print(next(c))\n",
    "print(next(c))\n",
    "print(next(c))\n",
    "print()\n",
    "\n",
    "\n",
    "# gerando a partir de uma lista\n",
    "\n",
    "def meu_gerador(x):\n",
    "    yield from x\n",
    "    \n",
    "cinco = meu_gerador([1,2,3,4,5])\n",
    "\n",
    "for num in cinco:\n",
    "    print(f'{num} ', end='')\n",
    "    \n",
    "print()\n",
    "\n",
    "# usando gerador range dentro do meu gerador\n",
    "\n",
    "def meu_range(ate):\n",
    "    yield from range(ate)\n",
    "    \n",
    "range10 = meu_range(10)\n",
    "\n",
    "for num in range10:\n",
    "    print(f'{num} ', end='')\n",
    "print()"
   ]
  },
  {
   "cell_type": "code",
   "execution_count": 37,
   "id": "0374ccab",
   "metadata": {},
   "outputs": [
    {
     "name": "stdout",
     "output_type": "stream",
     "text": [
      "1 2 3 4 5 \n",
      "1 2 3 4 5 "
     ]
    }
   ],
   "source": [
    "# yield from equivale ao for\n",
    "\n",
    "def meu_gerador():\n",
    "    yield from [1,2,3,4,5]\n",
    "    \n",
    "def gerador_sem_from():\n",
    "    for num in [1,2,3,4,5]:\n",
    "        yield num\n",
    "        \n",
    "cincofrom = meu_gerador()\n",
    "cincosem = gerador_sem_from()\n",
    "\n",
    "for num in cincofrom:\n",
    "    print(f'{num} ', end='')\n",
    "print()\n",
    "for num in cincosem:\n",
    "    print(f'{num} ', end='')"
   ]
  },
  {
   "cell_type": "code",
   "execution_count": 38,
   "id": "3384b328",
   "metadata": {},
   "outputs": [
    {
     "name": "stdout",
     "output_type": "stream",
     "text": [
      "1\n",
      "2\n",
      "3\n"
     ]
    },
    {
     "ename": "StopIteration",
     "evalue": "é 3",
     "output_type": "error",
     "traceback": [
      "\u001b[1;31m---------------------------------------------------------------------------\u001b[0m",
      "\u001b[1;31mStopIteration\u001b[0m                             Traceback (most recent call last)",
      "\u001b[1;32m~\\AppData\\Local\\Temp\\ipykernel_12136\\2564131285.py\u001b[0m in \u001b[0;36m<module>\u001b[1;34m\u001b[0m\n\u001b[0;32m     12\u001b[0m \u001b[0mprint\u001b[0m\u001b[1;33m(\u001b[0m\u001b[0mnext\u001b[0m\u001b[1;33m(\u001b[0m\u001b[0mtres\u001b[0m\u001b[1;33m)\u001b[0m\u001b[1;33m)\u001b[0m\u001b[1;33m\u001b[0m\u001b[1;33m\u001b[0m\u001b[0m\n\u001b[0;32m     13\u001b[0m \u001b[0mprint\u001b[0m\u001b[1;33m(\u001b[0m\u001b[0mnext\u001b[0m\u001b[1;33m(\u001b[0m\u001b[0mtres\u001b[0m\u001b[1;33m)\u001b[0m\u001b[1;33m)\u001b[0m\u001b[1;33m\u001b[0m\u001b[1;33m\u001b[0m\u001b[0m\n\u001b[1;32m---> 14\u001b[1;33m \u001b[0mprint\u001b[0m\u001b[1;33m(\u001b[0m\u001b[0mnext\u001b[0m\u001b[1;33m(\u001b[0m\u001b[0mtres\u001b[0m\u001b[1;33m)\u001b[0m\u001b[1;33m)\u001b[0m \u001b[1;31m# stopIteration\u001b[0m\u001b[1;33m\u001b[0m\u001b[1;33m\u001b[0m\u001b[0m\n\u001b[0m",
      "\u001b[1;31mStopIteration\u001b[0m: é 3"
     ]
    }
   ],
   "source": [
    "# condição de parada\n",
    "\n",
    "def gerador_sem_from():\n",
    "    for num in [1,2,3,4,5]:\n",
    "        yield num\n",
    "        \n",
    "        if num == 3:\n",
    "            return 'é 3' # gera o stopIteration\n",
    "    \n",
    "tres = gerador_sem_from()\n",
    "print(next(tres))\n",
    "print(next(tres))\n",
    "print(next(tres))\n",
    "print(next(tres)) # stopIteration"
   ]
  },
  {
   "cell_type": "code",
   "execution_count": 10,
   "id": "a05226c7",
   "metadata": {},
   "outputs": [
    {
     "name": "stdout",
     "output_type": "stream",
     "text": [
      "1\n",
      "3\n",
      "5\n",
      "<class 'generator'>\n"
     ]
    }
   ],
   "source": [
    "# generator comprehension\n",
    "\n",
    "gen = (num for num in range(50) if num %2 == 1)\n",
    "\n",
    "print(next(gen))\n",
    "print(next(gen))\n",
    "print(next(gen))\n",
    "print(type(gen))"
   ]
  },
  {
   "cell_type": "code",
   "execution_count": 7,
   "id": "6103719a",
   "metadata": {},
   "outputs": [
    {
     "name": "stdout",
     "output_type": "stream",
     "text": [
      "1 3 5 7 9 11 13 15 17 19 21 23 25 27 29 31 33 35 37 39 41 43 45 47 49 \n",
      "2 3 5 7 11 13 17 19 23 29 31 37 41 43 47 "
     ]
    }
   ],
   "source": [
    "# função geradora com generator comprehension\n",
    "\n",
    "def impares(ate):\n",
    "    yield from (num for num in range(ate) if num %2 == 1)\n",
    "    \n",
    "impares50 = impares(50)\n",
    "\n",
    "for num in impares50:\n",
    "    print(f'{num} ', end='')\n",
    "    \n",
    "print()\n",
    "# função geradora de números primos com generator comprehension\n",
    "\n",
    "def primos(ate):\n",
    "    yield from (valor for valor in range(2, ate) if all(valor % num != 0 for num in range(2, int(valor ** 0.5) + 1)))\n",
    "    \n",
    "primos50 = primos(50)\n",
    "\n",
    "for num in primos50:\n",
    "    print(f'{num} ', end='')"
   ]
  },
  {
   "cell_type": "markdown",
   "id": "b6cb6497",
   "metadata": {},
   "source": [
    "### Função open()"
   ]
  },
  {
   "cell_type": "code",
   "execution_count": 51,
   "id": "318b1d06",
   "metadata": {},
   "outputs": [
    {
     "name": "stdout",
     "output_type": "stream",
     "text": [
      "Name,Position Title,Department,Employee Annual Salary\n",
      "\"AARON,  ELVIA J\",WATER RATE TAKER,WATER MGMNT,$88967.00\n"
     ]
    }
   ],
   "source": [
    "# não é uma função geradora, mas possui métodos internos (__iter__ e __next__), métodos mágicos, que a faz iterar\n",
    "\n",
    "with open(file='salarios.csv', mode='r') as arquivo:\n",
    "    cabecalho = next(arquivo).strip() # = arquivo.readline().strip()\n",
    "    linha1 = next(arquivo).strip()\n",
    "    \n",
    "print(cabecalho)\n",
    "print(linha1)"
   ]
  },
  {
   "cell_type": "markdown",
   "id": "03839d36",
   "metadata": {},
   "source": [
    "### Função zip()\n",
    "Agrupa elementos de múltiplas estruturas de dados iteráveis (como listas, tuplas ou outros objetos iteráveis) juntos em pares."
   ]
  },
  {
   "cell_type": "code",
   "execution_count": 41,
   "id": "aaf6a2a6",
   "metadata": {},
   "outputs": [
    {
     "data": {
      "text/plain": [
       "<zip at 0x1b3efdd2d80>"
      ]
     },
     "execution_count": 41,
     "metadata": {},
     "output_type": "execute_result"
    }
   ],
   "source": [
    "# não é uma função geradora, mas possui métodos mágicos (__iter__ e __next__) que a faz iterar assim como a função open()\n",
    "\n",
    "valores_x = [1,2,3]\n",
    "valores_y = [4,5,6]\n",
    "\n",
    "zip(valores_x, valores_y) # objeto"
   ]
  },
  {
   "cell_type": "code",
   "execution_count": 44,
   "id": "f21c61db",
   "metadata": {},
   "outputs": [
    {
     "data": {
      "text/plain": [
       "[(1, 4), (2, 5), (3, 6)]"
      ]
     },
     "execution_count": 44,
     "metadata": {},
     "output_type": "execute_result"
    }
   ],
   "source": [
    "list(zip(valores_x,valores_y))\n",
    "\n",
    "# [(x,y) for i, x in enumerate(valores_x) for j, y in enumerate(valores_y) if i == j]"
   ]
  },
  {
   "cell_type": "code",
   "execution_count": 59,
   "id": "dcae4ceb",
   "metadata": {},
   "outputs": [
    {
     "name": "stdout",
     "output_type": "stream",
     "text": [
      "1,4\n",
      "2,5\n",
      "3,6\n"
     ]
    }
   ],
   "source": [
    "for x, y in zip(valores_x, valores_y):\n",
    "    print(f'{x},{y}')"
   ]
  },
  {
   "cell_type": "code",
   "execution_count": 54,
   "id": "6b4ce381",
   "metadata": {},
   "outputs": [
    {
     "name": "stdout",
     "output_type": "stream",
     "text": [
      "{'a': 4, 'b': 5}\n"
     ]
    }
   ],
   "source": [
    "# atualizando chaves ou valores de um dicionário a partir de outro dicionário\n",
    "\n",
    "dicio = {'a':1,'b':2}\n",
    "novo_dicio = {'c':4,'d':5}\n",
    "\n",
    "for diciok, novo_diciov in zip(dicio, novo_dicio.values()):\n",
    "        dicio[diciok] = novo_diciov\n",
    "\n",
    "print(dicio)"
   ]
  },
  {
   "cell_type": "markdown",
   "id": "09570ea8",
   "metadata": {},
   "source": [
    "<mark> Fazer os exercícios do 13 ao 15.</mark>"
   ]
  },
  {
   "cell_type": "markdown",
   "id": "4e5fe21d",
   "metadata": {},
   "source": [
    "## Função de alta ordem\n",
    "São funções que recebem outras funções para parâmetro ou retornam outra função."
   ]
  },
  {
   "cell_type": "code",
   "execution_count": 9,
   "id": "00975bf3",
   "metadata": {},
   "outputs": [
    {
     "name": "stdout",
     "output_type": "stream",
     "text": [
      "105.00\n",
      "134.01\n",
      "110.00\n"
     ]
    }
   ],
   "source": [
    "# cálculo de juros compostos\n",
    "\n",
    "def retorno(juros: float):\n",
    "    return lambda investimento: investimento * (1 + juros)\n",
    "\n",
    "# instanciação\n",
    "retorno_5_porcento = retorno(juros=0.05)\n",
    "retorno_10_porcento = retorno(juros=0.10)\n",
    "\n",
    "valor_final = retorno_5_porcento(investimento=100)\n",
    "print(f'{valor_final:.2f}')\n",
    "\n",
    "valor_final = retorno_10_porcento(investimento=100)\n",
    "print(f'{valor_final:.2f}')"
   ]
  },
  {
   "cell_type": "code",
   "execution_count": 11,
   "id": "c98aac09",
   "metadata": {},
   "outputs": [
    {
     "name": "stdout",
     "output_type": "stream",
     "text": [
      "127.63\n"
     ]
    }
   ],
   "source": [
    "# investimento recebe valor final do ano anterior\n",
    "\n",
    "anos = 5\n",
    "valor_inicial = 100\n",
    "valor_final = valor_inicial\n",
    "\n",
    "for ano in range(anos):\n",
    "    valor_final = retorno_5_porcento(investimento=valor_final)\n",
    "\n",
    "print(f'{valor_final:.2f}')"
   ]
  },
  {
   "cell_type": "code",
   "execution_count": 2,
   "id": "341e9b0d",
   "metadata": {},
   "outputs": [
    {
     "name": "stdout",
     "output_type": "stream",
     "text": [
      "['radar', 'arara', 'python', 'reviver', 'programa']\n"
     ]
    }
   ],
   "source": [
    "# sorted() aceitando função lambda como argumento\n",
    "\n",
    "palavras = [\"radar\", \"python\", \"arara\", \"programa\", \"reviver\"]\n",
    "\n",
    "palavras_ordenadas = sorted(palavras, key=lambda x: len(x)) # gerando lista ordenada pelo comprimento das strings\n",
    "print(palavras_ordenadas)"
   ]
  },
  {
   "cell_type": "markdown",
   "id": "efba7fa4",
   "metadata": {},
   "source": [
    "### Função map()\n",
    "Aplica uma função em todos os elementos de uma coleção (list, dict, etc.) e retorna todos os elementos transformados."
   ]
  },
  {
   "cell_type": "code",
   "execution_count": 17,
   "id": "ce07f38e",
   "metadata": {},
   "outputs": [
    {
     "name": "stdout",
     "output_type": "stream",
     "text": [
      "[1, 8, 27, 64, 125, 216, 343, 512, 729, 1000]\n"
     ]
    }
   ],
   "source": [
    "# variavel = map(função, coleção)\n",
    "\n",
    "numeros = range(1, 10+1)\n",
    "\n",
    "cubo = map(lambda num: num ** 3, numeros)\n",
    "\n",
    "print(list(cubo))\n",
    "\n",
    "# Obs.: Não é uma função geradora, mas possui métodos internos (__iter__ e __next__), dunder methods, que a faz iterar"
   ]
  },
  {
   "cell_type": "code",
   "execution_count": 3,
   "id": "c6948702",
   "metadata": {},
   "outputs": [
    {
     "name": "stdout",
     "output_type": "stream",
     "text": [
      "<map object at 0x0000020C88208CD0>\n"
     ]
    }
   ],
   "source": [
    "# Parece com funções geradoras, pois utiliza listas e gera objeto (um iterador)\n",
    "\n",
    "emails = ['icaro_dm@gmail.com', 'icaro_dm@hotmail.com', 'icaro_dm@yahoo.com']\n",
    "\n",
    "provedores = map(lambda email: email.split(sep='@')[-1], emails)\n",
    "print(provedores)"
   ]
  },
  {
   "cell_type": "code",
   "execution_count": 4,
   "id": "d4275ee9",
   "metadata": {},
   "outputs": [
    {
     "name": "stdout",
     "output_type": "stream",
     "text": [
      "['gmail.com', 'hotmail.com', 'yahoo.com']\n",
      "['gmail.com', 'hotmail.com', 'yahoo.com']\n"
     ]
    }
   ],
   "source": [
    "# produz o resultado quando necessário\n",
    "\n",
    "print(list(provedores))\n",
    "\n",
    "# utilizando o for, seria necessário armazenar o resultado na memória\n",
    "\n",
    "emails = ['icaro_dm@gmail.com', 'icaro_dm@hotmail.com', 'icaro_dm@yahoo.com']\n",
    "\n",
    "provedores = []\n",
    "for email in emails:\n",
    "    provedor = extrair_provedor_email(email)\n",
    "    provedores.append(provedor)\n",
    "\n",
    "print(provedores)\n",
    "\n",
    "# Obs.: Outra vantagem é que o map produz o resultado em paralelo, enquanto o for produz sequencialmente."
   ]
  },
  {
   "cell_type": "code",
   "execution_count": 5,
   "id": "5d42cbe7",
   "metadata": {},
   "outputs": [
    {
     "name": "stdout",
     "output_type": "stream",
     "text": [
      "[127.63, 161.05, 201.14]\n"
     ]
    }
   ],
   "source": [
    "# embora seja comum o uso de lambda, pode usar qualquer função\n",
    "\n",
    "anos = [5, 5, 5]\n",
    "taxas_juros = [0.05, 0.10, 0.15]\n",
    "valores_iniciais = [100, 100, 100]\n",
    "\n",
    "def retorno(valor_inicial: float, taxa_juros: float, anos: int) -> float:\n",
    "    valor_final = valor_inicial\n",
    "    for ano in range(anos):\n",
    "        valor_final = valor_final * (1+taxa_juros)\n",
    "    return round(valor_final, 2)\n",
    "\n",
    "cenarios = list(map(retorno, valores_iniciais, taxas_juros, anos)) # é possível usar mais de 1 parâmetro/coleção\n",
    "print(cenarios)"
   ]
  },
  {
   "cell_type": "markdown",
   "id": "b86a92d4",
   "metadata": {},
   "source": [
    "### Função filter()\n",
    "Aplica uma função lógica (que retorna um booleano) em todos os elementos de uma coleção (list, dict, etc.) e retorna apenas aqueles que resultaram em verdadeiro (True)."
   ]
  },
  {
   "cell_type": "code",
   "execution_count": 16,
   "id": "475942c5",
   "metadata": {},
   "outputs": [
    {
     "name": "stdout",
     "output_type": "stream",
     "text": [
      "[2, 4, 6, 8, 10]\n"
     ]
    }
   ],
   "source": [
    "# variavel = filter(função, coleção)\n",
    "\n",
    "numeros = range(1, 10+1)\n",
    "\n",
    "pares = filter(lambda num: num % 2 == 0, numeros) # A função retorna bool (True or False) para filtrar\n",
    "\n",
    "print(list(pares))\n",
    "\n",
    "# Obs.: Não é uma função geradora, mas possui dunder methods (__iter__ e __next__) que a faz iterar"
   ]
  },
  {
   "cell_type": "code",
   "execution_count": 6,
   "id": "a3038457",
   "metadata": {},
   "outputs": [
    {
     "name": "stdout",
     "output_type": "stream",
     "text": [
      "['icaro_dm@hotmail.com']\n"
     ]
    }
   ],
   "source": [
    "# Assim como a função map(), filter() também retorna um objeto (um iterador) e produz resultados em paralelo\n",
    "\n",
    "emails = ['icaro_dm@gmail.com', 'icaro_dm@hotmail.com', 'icaro_dm@yahoo.com']\n",
    "\n",
    "emails_hotmail = filter(lambda email: 'hotmail' in email, emails)\n",
    "print(list(emails_hotmail))"
   ]
  },
  {
   "cell_type": "markdown",
   "id": "affd4f94",
   "metadata": {},
   "source": [
    "### Função reduce()"
   ]
  },
  {
   "cell_type": "code",
   "execution_count": 8,
   "id": "7a0b2e87",
   "metadata": {},
   "outputs": [
    {
     "name": "stdout",
     "output_type": "stream",
     "text": [
      "14\n"
     ]
    }
   ],
   "source": [
    "# variavel = reduce(função, coleção)\n",
    "\n",
    "from functools import reduce # o módulo functools é nativo do Python\n",
    "\n",
    "numeros = [2, 4, 8]\n",
    "\n",
    "soma = reduce(lambda x, y: x + y, numeros) # redução cumulativa em sequência (2 elementos por vez) \n",
    "print(soma) # 2 + 4 = 6 (armazena na variável), depois 6 + 8 = 14 (substitui o armazenamento na variável)"
   ]
  },
  {
   "cell_type": "code",
   "execution_count": 9,
   "id": "0a7ad984",
   "metadata": {},
   "outputs": [
    {
     "name": "stdout",
     "output_type": "stream",
     "text": [
      "95\n"
     ]
    }
   ],
   "source": [
    "# encontrar o maior valor em uma lista\n",
    "\n",
    "from random import random\n",
    "\n",
    "def maior_entre(primeiro: int, segundo: int) -> int:\n",
    "    return primeiro if primeiro >= segundo else segundo\n",
    "\n",
    "numeros = [round(100 * random()) for _ in range(30)] # list comprehension de números aleatórios\n",
    "# Obs.: usa \"_\" quando não está interessado em consumir esse elemento, mas apenas rodar 30 vezes, nesse caso\n",
    "\n",
    "maior_numero = reduce(maior_entre, numeros)\n",
    "print(maior_numero)"
   ]
  },
  {
   "cell_type": "markdown",
   "id": "55d82766",
   "metadata": {},
   "source": [
    "## Compossibilidade"
   ]
  },
  {
   "cell_type": "code",
   "execution_count": 2,
   "id": "aa3ac8be",
   "metadata": {},
   "outputs": [
    {
     "name": "stdout",
     "output_type": "stream",
     "text": [
      "45431\n"
     ]
    }
   ],
   "source": [
    "# compondo funções\n",
    "\n",
    "from random import random\n",
    "from functools import reduce\n",
    "\n",
    "numeros = [round(100 * random()) for _ in range(30)]\n",
    "\n",
    "quadrados = map(lambda numero: numero ** 2, numeros)\n",
    "\n",
    "impares = filter(lambda numero: numero % 2 != 0, quadrados)\n",
    "\n",
    "soma = reduce(lambda x, y: x + y, impares)\n",
    "\n",
    "print(soma) # soma dos quadrados dos números ímpares de uma lista"
   ]
  },
  {
   "cell_type": "code",
   "execution_count": 3,
   "id": "3ab6427c",
   "metadata": {},
   "outputs": [
    {
     "name": "stdout",
     "output_type": "stream",
     "text": [
      "45571\n"
     ]
    }
   ],
   "source": [
    "# composição em uma linha\n",
    "\n",
    "from random import random\n",
    "from functools import reduce\n",
    "\n",
    "numeros = [round(100 * random()) for _ in range(30)]\n",
    "\n",
    "soma = reduce(lambda x, y: x + y, filter(lambda numero: numero % 2 != 0, map(lambda numero: numero ** 2, numeros)))\n",
    "print(soma)"
   ]
  },
  {
   "cell_type": "markdown",
   "id": "4099f21a",
   "metadata": {},
   "source": [
    "<mark> Fazer os exercícios do 16 ao 21.</mark>"
   ]
  },
  {
   "cell_type": "markdown",
   "id": "94f8127c",
   "metadata": {},
   "source": [
    "## Tratamento de erros em Python"
   ]
  },
  {
   "cell_type": "markdown",
   "id": "87f0d644",
   "metadata": {},
   "source": [
    "### Erros e Exceções\n",
    "- O try e catch são blocos de código utilizados para lidar com exceções durante a execução do programa. O try define um bloco de código onde você suspeita que uma exceção possa ocorrer, enquanto o catch (também conhecido como except) define o bloco de código que trata a exceção caso ela ocorra."
   ]
  },
  {
   "cell_type": "code",
   "execution_count": 1,
   "id": "f32efbb3",
   "metadata": {},
   "outputs": [
    {
     "name": "stdout",
     "output_type": "stream",
     "text": [
      "Numerador: 5\n",
      "Denominador: 0\n",
      "Infelizmente tivemos um problema. =(\n",
      "Volte sempre! Muito obrigado!\n"
     ]
    }
   ],
   "source": [
    "# erros são sintáticos, exceções são erros semânticos\n",
    "\n",
    "try:\n",
    "    a = int(input('Numerador: '))\n",
    "    b = int(input('Denominador: '))\n",
    "    r = a/b\n",
    "except: # falhou\n",
    "    print('Infelizmente tivemos um problema. =(')\n",
    "else: # deu certo (opcional)\n",
    "    print(f'O resultado é {r:.1f}')\n",
    "finally: # imprime sempre\n",
    "    print('Volte sempre! Muito obrigado!')\n",
    "    \n",
    "# Obs.: Não é uma boa prática utilizar o except de forma genérica"
   ]
  },
  {
   "cell_type": "code",
   "execution_count": 2,
   "id": "cf8b131a",
   "metadata": {},
   "outputs": [
    {
     "name": "stdout",
     "output_type": "stream",
     "text": [
      "Número de clientes inválido. Espera-se um valor maior que 0 e obteve-se um valor igual a 0\n",
      "A lista dos anos é menor que o valor escolhido. Espera-se um valor entre 0 e 2\n",
      "O nome dele é Lucca e ele tem 8 anos\n"
     ]
    }
   ],
   "source": [
    "# exceções comuns\n",
    "\n",
    "vendas = 1342.50\n",
    "clientes = 0\n",
    "\n",
    "try:\n",
    "    vendas_por_cliente = vendas/clientes # operações numéricas impossíveis\n",
    "    print(vendas_por_cliente)\n",
    "except ZeroDivisionError:\n",
    "    print(f'Número de clientes inválido. Espera-se um valor maior que 0 e obteve-se um valor igual a {clientes}')\n",
    "\n",
    "anos = [2021, 2022, 2023]\n",
    "\n",
    "try:\n",
    "    ano_atual = anos[3] # erro de indexação\n",
    "    print(ano_atual)\n",
    "except Exception:\n",
    "    print(f'A lista dos anos é menor que o valor escolhido. Espera-se um valor entre 0 e {len(anos) - 1}')\n",
    "    \n",
    "nome = 'Lucca'\n",
    "idade = 8\n",
    "\n",
    "try:\n",
    "    apresentacao = 'O nome dela é ' + nome + ' e ele tem ' + idade + ' anos' # erro de tipos diferentes\n",
    "    print(apresentacao)\n",
    "except TypeError:\n",
    "    idade = str(idade) # tratando o erro com cast\n",
    "finally:\n",
    "    apresentacao = 'O nome dele é ' + nome + ' e ele tem ' + idade + ' anos'\n",
    "    print(apresentacao)"
   ]
  },
  {
   "cell_type": "code",
   "execution_count": 3,
   "id": "c7552922",
   "metadata": {},
   "outputs": [
    {
     "name": "stdout",
     "output_type": "stream",
     "text": [
      "Numerador: 5\n",
      "Denominador: 0\n",
      "Não é possível dividir um número por zero\n"
     ]
    }
   ],
   "source": [
    "# Multiplos blocos de except (erros específicos)\n",
    "\n",
    "try:\n",
    "    a = int(input('Numerador: '))\n",
    "    b = int(input('Denominador: '))\n",
    "    r = a/b\n",
    "except (ValueError, TypeError):\n",
    "    print('Infelizmente tivemos um problema com os tipos de dados que você digitou. =(')\n",
    "except ZeroDivisionError:\n",
    "    print('Não é possível dividir um número por zero')\n",
    "except KeyboardInterrupt:\n",
    "    print('O usuário preferiu não informar os dados') # quando clica em stop\n",
    "except Exception as exc:\n",
    "    print(f'O erro encontrado foi {exc.__cause__}')"
   ]
  },
  {
   "cell_type": "code",
   "execution_count": 4,
   "id": "b0faa2f4",
   "metadata": {},
   "outputs": [
    {
     "name": "stdout",
     "output_type": "stream",
     "text": [
      "Numerador: 5\n",
      "Denominador: 0\n",
      "O problema encontrado foi <class 'ZeroDivisionError'>\n"
     ]
    }
   ],
   "source": [
    "# Capturando o tipo de erro\n",
    "\n",
    "try:\n",
    "    a = int(input('Numerador: '))\n",
    "    b = int(input('Denominador: '))\n",
    "    r = a/b\n",
    "except Exception as exc: #falhou\n",
    "    print(f'O problema encontrado foi {exc.__class__}') # não é pra mostrar isso pro usuário"
   ]
  },
  {
   "cell_type": "code",
   "execution_count": 11,
   "id": "aec83ab1",
   "metadata": {},
   "outputs": [
    {
     "ename": "Exception",
     "evalue": "Lista de anos é menor que o valor escolhido. Espera-se um valor entre 0 e 2",
     "output_type": "error",
     "traceback": [
      "\u001b[1;31m---------------------------------------------------------------------------\u001b[0m",
      "\u001b[1;31mIndexError\u001b[0m                                Traceback (most recent call last)",
      "\u001b[1;32m~\\AppData\\Local\\Temp\\ipykernel_2192\\1493663500.py\u001b[0m in \u001b[0;36m<module>\u001b[1;34m\u001b[0m\n\u001b[0;32m      5\u001b[0m \u001b[1;32mtry\u001b[0m\u001b[1;33m:\u001b[0m\u001b[1;33m\u001b[0m\u001b[1;33m\u001b[0m\u001b[0m\n\u001b[1;32m----> 6\u001b[1;33m     \u001b[0mano_atual\u001b[0m \u001b[1;33m=\u001b[0m \u001b[0manos\u001b[0m\u001b[1;33m[\u001b[0m\u001b[1;36m3\u001b[0m\u001b[1;33m]\u001b[0m\u001b[1;33m\u001b[0m\u001b[1;33m\u001b[0m\u001b[0m\n\u001b[0m\u001b[0;32m      7\u001b[0m     \u001b[0mprint\u001b[0m\u001b[1;33m(\u001b[0m\u001b[0mano_atual\u001b[0m\u001b[1;33m)\u001b[0m\u001b[1;33m\u001b[0m\u001b[1;33m\u001b[0m\u001b[0m\n",
      "\u001b[1;31mIndexError\u001b[0m: list index out of range",
      "\nDuring handling of the above exception, another exception occurred:\n",
      "\u001b[1;31mException\u001b[0m                                 Traceback (most recent call last)",
      "\u001b[1;32m~\\AppData\\Local\\Temp\\ipykernel_2192\\1493663500.py\u001b[0m in \u001b[0;36m<module>\u001b[1;34m\u001b[0m\n\u001b[0;32m      7\u001b[0m     \u001b[0mprint\u001b[0m\u001b[1;33m(\u001b[0m\u001b[0mano_atual\u001b[0m\u001b[1;33m)\u001b[0m\u001b[1;33m\u001b[0m\u001b[1;33m\u001b[0m\u001b[0m\n\u001b[0;32m      8\u001b[0m \u001b[1;32mexcept\u001b[0m \u001b[0mIndexError\u001b[0m\u001b[1;33m:\u001b[0m\u001b[1;33m\u001b[0m\u001b[1;33m\u001b[0m\u001b[0m\n\u001b[1;32m----> 9\u001b[1;33m     \u001b[1;32mraise\u001b[0m \u001b[0mException\u001b[0m\u001b[1;33m(\u001b[0m\u001b[1;34m'Lista de anos é menor que o valor escolhido. Espera-se um valor entre 0 e '\u001b[0m \u001b[1;33m+\u001b[0m \u001b[0mstr\u001b[0m\u001b[1;33m(\u001b[0m\u001b[0mlen\u001b[0m\u001b[1;33m(\u001b[0m\u001b[0manos\u001b[0m\u001b[1;33m)\u001b[0m \u001b[1;33m-\u001b[0m \u001b[1;36m1\u001b[0m\u001b[1;33m)\u001b[0m\u001b[1;33m)\u001b[0m\u001b[1;33m\u001b[0m\u001b[1;33m\u001b[0m\u001b[0m\n\u001b[0m\u001b[0;32m     10\u001b[0m \u001b[1;32mexcept\u001b[0m \u001b[0mException\u001b[0m \u001b[1;32mas\u001b[0m \u001b[0mexc\u001b[0m\u001b[1;33m:\u001b[0m\u001b[1;33m\u001b[0m\u001b[1;33m\u001b[0m\u001b[0m\n\u001b[0;32m     11\u001b[0m     \u001b[1;32mraise\u001b[0m \u001b[0mexc\u001b[0m\u001b[1;33m\u001b[0m\u001b[1;33m\u001b[0m\u001b[0m\n",
      "\u001b[1;31mException\u001b[0m: Lista de anos é menor que o valor escolhido. Espera-se um valor entre 0 e 2"
     ]
    }
   ],
   "source": [
    "# passar o erro para frente com a estrutura raise (mais detalhado)\n",
    "\n",
    "anos = [2021, 2022, 2023]\n",
    "\n",
    "try:\n",
    "    ano_atual = anos[3]\n",
    "    print(ano_atual)\n",
    "except IndexError:\n",
    "    raise Exception('Lista de anos é menor que o valor escolhido. Espera-se um valor entre 0 e ' + str(len(anos) - 1))\n",
    "except Exception as exc:\n",
    "    raise exc"
   ]
  },
  {
   "cell_type": "markdown",
   "id": "648747fb",
   "metadata": {},
   "source": [
    "<mark> Fazer os exercícios 22 e 23.</mark>"
   ]
  },
  {
   "cell_type": "code",
   "execution_count": null,
   "id": "03b9e9cd",
   "metadata": {},
   "outputs": [],
   "source": []
  }
 ],
 "metadata": {
  "kernelspec": {
   "display_name": "Python 3 (ipykernel)",
   "language": "python",
   "name": "python3"
  },
  "language_info": {
   "codemirror_mode": {
    "name": "ipython",
    "version": 3
   },
   "file_extension": ".py",
   "mimetype": "text/x-python",
   "name": "python",
   "nbconvert_exporter": "python",
   "pygments_lexer": "ipython3",
   "version": "3.9.13"
  }
 },
 "nbformat": 4,
 "nbformat_minor": 5
}
