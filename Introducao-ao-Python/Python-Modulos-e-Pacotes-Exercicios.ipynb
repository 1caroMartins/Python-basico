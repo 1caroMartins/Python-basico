{
 "cells": [
  {
   "cell_type": "markdown",
   "id": "3970428b",
   "metadata": {},
   "source": [
    "# Python Módulos e Pacotes"
   ]
  },
  {
   "cell_type": "markdown",
   "id": "b9dc26b6",
   "metadata": {},
   "source": [
    "## Lista de Exercícios"
   ]
  },
  {
   "cell_type": "markdown",
   "id": "0039b95b",
   "metadata": {},
   "source": [
    "1. Crie um programa que leia um número real qualquer pelo teclado e mostre na tela a sua porção inteira."
   ]
  },
  {
   "cell_type": "code",
   "execution_count": 1,
   "id": "4638b276",
   "metadata": {},
   "outputs": [
    {
     "name": "stdout",
     "output_type": "stream",
     "text": [
      "Digite um valor: 6.127\n",
      "O valor digitado foi 6.127 e a sua porção inteira é 6.\n"
     ]
    }
   ],
   "source": [
    "from math import trunc\n",
    "\n",
    "num = float(input('Digite um valor: '))\n",
    "print(f'O valor digitado foi {num} e a sua porção inteira é {trunc(num)}.') # poderia usar int\n",
    "# obs.: round arredonda pra baixo ou pra cima e ceil pra cima."
   ]
  },
  {
   "cell_type": "markdown",
   "id": "f50d9698",
   "metadata": {},
   "source": [
    "2. Faça um programa que leia o comprimento do cateto oposto e do cateto adjacente de um triângulo retângulo, calcule e mostre o comprimento da hipotenusa."
   ]
  },
  {
   "cell_type": "code",
   "execution_count": 5,
   "id": "3b722429",
   "metadata": {},
   "outputs": [
    {
     "name": "stdout",
     "output_type": "stream",
     "text": [
      "comprimento do cateto oposto: 3\n",
      "comprimento do cateto adjacente: 4\n",
      "A hipotenusa vale 5.0\n",
      "A hipotenusa vale 5.0\n",
      "A hipotenusa vale 5.0\n"
     ]
    }
   ],
   "source": [
    "from math import hypot\n",
    "\n",
    "co = float(input('comprimento do cateto oposto: '))\n",
    "ca = float(input('comprimento do cateto adjacente: '))\n",
    "h = (co**2 + ca**2)**(1/2)\n",
    "hi = sqrt(pow(co,2) + pow(ca,2))\n",
    "hip = hypot(co,ca)\n",
    "print(f'A hipotenusa vale {h}')\n",
    "print(f'A hipotenusa vale {hi}')\n",
    "print(f'A hipotenusa vale {hip}')"
   ]
  },
  {
   "cell_type": "markdown",
   "id": "f77e5d8e",
   "metadata": {},
   "source": [
    "3. Faça um programa que leia um ângulo qualquer e mostre na tela o valor do seu seno, cosseno e tangente."
   ]
  },
  {
   "cell_type": "code",
   "execution_count": 7,
   "id": "2ad3df4f",
   "metadata": {},
   "outputs": [
    {
     "name": "stdout",
     "output_type": "stream",
     "text": [
      "Digite um ângulo em radianos: 0\n",
      "O seno de 0.0 é 0.0.\n",
      "O cosseno de 0.0 é 1.0.\n",
      "A tangente de 0.0 é 0.0.\n"
     ]
    }
   ],
   "source": [
    "from math import sin, cos, tan\n",
    "\n",
    "angulo = float(input('Digite um ângulo em radianos: '))\n",
    "print(f'O seno de {angulo} é {sin(angulo)}.')\n",
    "print(f'O cosseno de {angulo} é {cos(angulo)}.')\n",
    "print(f'A tangente de {angulo} é {tan(angulo)}.')"
   ]
  },
  {
   "cell_type": "markdown",
   "id": "b5cd4fc9",
   "metadata": {},
   "source": [
    "4. O professor quer sortear um de seus quatro alunos para apagar o quadro. Faça um programa que o ajude, lendo o nome deles e escrevendo o nome escolhido."
   ]
  },
  {
   "cell_type": "code",
   "execution_count": 8,
   "id": "83e0a511",
   "metadata": {},
   "outputs": [
    {
     "name": "stdout",
     "output_type": "stream",
     "text": [
      "Digite o primeiro nome: Ana\n",
      "Digite o segundo nome: Carlos\n",
      "Digite o terceiro nome: Bia\n",
      "Digite o quarto nome: Icaro\n",
      "O nome sorteado é Bia\n"
     ]
    }
   ],
   "source": [
    "from random import choice\n",
    "\n",
    "n1 = input('Digite o primeiro nome: ')\n",
    "n2 = input('Digite o segundo nome: ')\n",
    "n3 = input('Digite o terceiro nome: ')\n",
    "n4 = input('Digite o quarto nome: ')\n",
    "\n",
    "lista = [n1, n2, n3, n4] #no python, listas ficam entre colchetes\n",
    "escolhido = choice(lista)\n",
    "\n",
    "print(f'O nome sorteado é {escolhido}')"
   ]
  },
  {
   "cell_type": "markdown",
   "id": "ac571b17",
   "metadata": {},
   "source": [
    "5. O professor agora deseja sortear a ordem de apresentação de trabalhos dos alunos. Faça um programa que leia o nome dos quatro alunos e mostre a ordem sorteada."
   ]
  },
  {
   "cell_type": "code",
   "execution_count": 12,
   "id": "41154b7e",
   "metadata": {},
   "outputs": [
    {
     "name": "stdout",
     "output_type": "stream",
     "text": [
      "Digite o primeiro nome: Ana\n",
      "Digite o segundo nome: Carlos\n",
      "Digite o terceiro nome: Bia\n",
      "Digite o quarto nome: Icaro\n",
      "A ordem será ['Carlos', 'Bia', 'Icaro', 'Ana']\n",
      "\n",
      "Os escolhidos são: ['Bia', 'Icaro']\n"
     ]
    }
   ],
   "source": [
    "from random import shuffle\n",
    "from random import sample\n",
    "\n",
    "n1 = input('Digite o primeiro nome: ')\n",
    "n2 = input('Digite o segundo nome: ')\n",
    "n3 = input('Digite o terceiro nome: ')\n",
    "n4 = input('Digite o quarto nome: ')\n",
    "\n",
    "lista = [n1, n2, n3, n4]\n",
    "shuffle(lista) #muda a ordem da lista\n",
    "\n",
    "print(f'A ordem será {lista}')\n",
    "\n",
    "# extra: escolhendo uma amostra da lista:\n",
    "\n",
    "k = 2 #tamanho da amostra\n",
    "nova_lista = sample(lista,k) #pegou a amostra de 2\n",
    "\n",
    "print()\n",
    "print(f'Os escolhidos são: {nova_lista}')"
   ]
  },
  {
   "cell_type": "markdown",
   "id": "6cad2537",
   "metadata": {},
   "source": [
    "6. Crie um código em Python que teste, através do uso de try-catch, se o site pudim.com.br está acessível pelo computador usado.\n",
    "\n",
    "Dica: use o módulo urllib.request nativo do do Python "
   ]
  },
  {
   "cell_type": "code",
   "execution_count": 1,
   "id": "78881435",
   "metadata": {},
   "outputs": [
    {
     "name": "stdout",
     "output_type": "stream",
     "text": [
      "Consegui acessar o site Pudim com sucesso!\n"
     ]
    }
   ],
   "source": [
    "import urllib.request\n",
    "\n",
    "try:\n",
    "    site = urllib.request.urlopen('http://www.pudim.com.br')\n",
    "except urllib.error.URLError:\n",
    "    print('O site Pudim não está acessível no momento.')\n",
    "except Exception as exc:\n",
    "    print(exc)\n",
    "else:\n",
    "    print('Consegui acessar o site Pudim com sucesso!')"
   ]
  },
  {
   "cell_type": "markdown",
   "id": "40b660e3",
   "metadata": {},
   "source": [
    "7. Crie um módulo chamado moeda.py que tenha as funções incorporadas aumentar(), diminuir(), dobro() e metade(). Faça também um programa que importe esse módulo e use algumas dessas funções."
   ]
  },
  {
   "cell_type": "code",
   "execution_count": 5,
   "id": "fb8512cb",
   "metadata": {},
   "outputs": [
    {
     "name": "stdout",
     "output_type": "stream",
     "text": [
      "Digite o preço: R$120.10\n",
      "A metade de R$120.1 é R$60.05\n",
      "O dobro de R$120.1 é R$240.2\n",
      "Aumentando o preço em 10%, temos R$132.11\n",
      "Reduzindo o preço em 13%, temos R$104.49\n"
     ]
    }
   ],
   "source": [
    "from moeda import metade, dobro, aumentar, diminuir\n",
    "\n",
    "preco = float(input('Digite o preço: R$'))\n",
    "print(f'A metade de R${preco} é R${metade(preco)}')\n",
    "print(f'O dobro de R${preco} é R${dobro(preco)}')\n",
    "print(f'Aumentando o preço em 10%, temos R${aumentar(preco, 10)}')\n",
    "print(f'Reduzindo o preço em 13%, temos R${diminuir(preco, 13)}')"
   ]
  },
  {
   "cell_type": "markdown",
   "id": "250f15c7",
   "metadata": {},
   "source": [
    "8. Adapte o exercício anterior criando uma função adicional chamada moeda() que consiga mostrar os números como um valor monetário formatado."
   ]
  },
  {
   "cell_type": "code",
   "execution_count": 2,
   "id": "40b90391",
   "metadata": {},
   "outputs": [
    {
     "name": "stdout",
     "output_type": "stream",
     "text": [
      "Digite o preço: R$120.10\n",
      "A metade de R$R$120,10 é R$R$60,05\n",
      "O dobro de R$R$120,10 é R$R$240,20\n",
      "Aumentando o preço em 10%, temos R$R$132,11\n",
      "Reduzindo o preço em 13%, temos R$R$104,49\n"
     ]
    }
   ],
   "source": [
    "from moeda import metade, dobro, aumentar, diminuir, moeda\n",
    "\n",
    "preco = float(input('Digite o preço: R$'))\n",
    "print(f'A metade de R${moeda(preco)} é R${moeda(metade(preco))}')\n",
    "print(f'O dobro de R${moeda(preco)} é R${moeda(dobro(preco))}')\n",
    "print(f'Aumentando o preço em 10%, temos R${moeda(aumentar(preco, 10))}')\n",
    "print(f'Reduzindo o preço em 13%, temos R${moeda(diminuir(preco, 13))}')"
   ]
  },
  {
   "cell_type": "markdown",
   "id": "b13ffcb6",
   "metadata": {},
   "source": [
    "9. Modifique as funções que foram criadas anteriormente para que elas aceitem um parâmetro a mais, informando se o valor retornado por elas vai ser ou não formatado pela função moeda(), desenvolvida no desafio anterior."
   ]
  },
  {
   "cell_type": "code",
   "execution_count": 1,
   "id": "ccac165c",
   "metadata": {},
   "outputs": [
    {
     "name": "stdout",
     "output_type": "stream",
     "text": [
      "Digite o preço: R$120.10\n",
      "Aumentando o preço em 10%, temos R$R$132,11\n",
      "Reduzindo o preço em 13%, temos R$R$104,49\n"
     ]
    }
   ],
   "source": [
    "from moeda2 import aumentar, diminuir\n",
    "\n",
    "preco = float(input('Digite o preço: R$'))\n",
    "print(f'Aumentando o preço em 10%, temos R${aumentar(preco, 10, True)}') # não precisa importar a função moeda\n",
    "print(f'Reduzindo o preço em 13%, temos R${diminuir(preco, 13, True)}') # não precisa importar a função moeda"
   ]
  },
  {
   "cell_type": "markdown",
   "id": "1e956c65",
   "metadata": {},
   "source": [
    "10. Adicione ao módulo moeda.py criado nos desafios anteriores, uma função chamada resumo(), que mostre na tela algumas informações geradas pelas funções que já temos no módulo criado até aqui."
   ]
  },
  {
   "cell_type": "code",
   "execution_count": 1,
   "id": "9cd3b805",
   "metadata": {},
   "outputs": [
    {
     "name": "stdout",
     "output_type": "stream",
     "text": [
      "Digite o preço: R$120.10\n",
      "------------------------------\n",
      "       RESUMO DO VALOR        \n",
      "------------------------------\n",
      "Preço analisado: \tR$120,10\n",
      "Dobro do preço: \tR$240,20\n",
      "Metade do preço: \tR$60,05\n",
      "Com 10% de aumento: \tR$132,11\n",
      "Com 5% de redução: \tR$114,09\n",
      "------------------------------\n",
      "       RESUMO DO VALOR        \n",
      "------------------------------\n",
      "Preço analisado: \tR$120,10\n",
      "Dobro do preço: \tR$240,20\n",
      "Metade do preço: \tR$60,05\n",
      "Com 10% de aumento: \tR$138,11\n",
      "Com 5% de redução: \tR$104,49\n"
     ]
    }
   ],
   "source": [
    "from moeda2 import resumo\n",
    "\n",
    "preco = float(input('Digite o preço: R$'))\n",
    "resumo(preco)\n",
    "resumo(preco, 15, 13)"
   ]
  },
  {
   "cell_type": "markdown",
   "id": "7062560b",
   "metadata": {},
   "source": [
    "11. Crie um pacote chamado utilidades que tenha dois módulos internos chamados moeda e dado. Transfira todas as funções utilizadas nos desafios para o primeiro pacote e mantenha tudo funcionando. Dentro do módulo dado, crie uma função chamada leiaDinheiro() que seja capaz de funcionar como a função imput(), mas com uma validação de dados para aceitar apenas valores que seja monetários."
   ]
  },
  {
   "cell_type": "code",
   "execution_count": 1,
   "id": "2bf12ba8",
   "metadata": {},
   "outputs": [
    {
     "name": "stdout",
     "output_type": "stream",
     "text": [
      "Digite o preço: R$aa\n",
      "ERRO: valor inválido!\n",
      "Digite o preço: R$a1\n",
      "ERRO: valor inválido!\n",
      "Digite o preço: R$2a\n",
      "ERRO: valor inválido!\n",
      "Digite o preço: R$@#\n",
      "ERRO: valor inválido!\n",
      "Digite o preço: R$\n",
      "ERRO: valor inválido!\n",
      "Digite o preço: R$  \n",
      "ERRO: valor inválido!\n",
      "Digite o preço: R$  120,30  \n",
      "------------------------------\n",
      "       RESUMO DO VALOR        \n",
      "------------------------------\n",
      "Preço analisado: \tR$120,30\n",
      "Dobro do preço: \tR$240,60\n",
      "Metade do preço: \tR$60,15\n",
      "Com 10% de aumento: \tR$162,41\n",
      "Com 5% de redução: \tR$93,83\n"
     ]
    }
   ],
   "source": [
    "from utilidades import moeda, dado\n",
    "\n",
    "preco = dado.leiaDinheiro('Digite o preço: R$')\n",
    "moeda.resumo(preco, 35, 22)"
   ]
  },
  {
   "cell_type": "markdown",
   "id": "1bd126ac",
   "metadata": {},
   "source": [
    "12. Crie um pequeno sistema modularizado (interface.py para o menu, arquivo.py para abrir arquivo de texto, e) que permita cadastrar pessoas pelo seu nome e idade em um arquivo de texto simples. O sistema só vai ter duas opções: cadastrar uma nova pessoa e listar todas as pesssoas cadastradas. Utilize o Try-catch."
   ]
  },
  {
   "cell_type": "code",
   "execution_count": 1,
   "id": "354fee35",
   "metadata": {},
   "outputs": [
    {
     "name": "stdout",
     "output_type": "stream",
     "text": [
      "------------------------------------------\n",
      "              Menu Principal              \n",
      "------------------------------------------\n",
      "\u001b[33m1 - \u001b[34mVer pessoas cadastradas\u001b[m\n",
      "\u001b[33m2 - \u001b[34mCadastrar nova pessoa\u001b[m\n",
      "\u001b[33m3 - \u001b[34mSair do sistema\u001b[m\n",
      "------------------------------------------\n",
      "Sua opção: 1\n",
      "------------------------------------------\n",
      "           Pessoas cadastradas            \n",
      "------------------------------------------\n",
      "Gustavo                        41 anos\n",
      "Ana                            22 anos\n",
      "Pedro                          35 anos\n",
      "Paulo                          95 anos\n",
      "Maria                          77 anos\n",
      "José                           55 anos\n",
      "------------------------------------------\n",
      "              Menu Principal              \n",
      "------------------------------------------\n",
      "\u001b[33m1 - \u001b[34mVer pessoas cadastradas\u001b[m\n",
      "\u001b[33m2 - \u001b[34mCadastrar nova pessoa\u001b[m\n",
      "\u001b[33m3 - \u001b[34mSair do sistema\u001b[m\n",
      "------------------------------------------\n",
      "Sua opção: 2\n",
      "------------------------------------------\n",
      "              Novo Cadastro               \n",
      "------------------------------------------\n",
      "Nome: Icaro\n",
      "Idade: 38\n",
      "Novo registro de Icaro adicionado\n",
      "------------------------------------------\n",
      "              Menu Principal              \n",
      "------------------------------------------\n",
      "\u001b[33m1 - \u001b[34mVer pessoas cadastradas\u001b[m\n",
      "\u001b[33m2 - \u001b[34mCadastrar nova pessoa\u001b[m\n",
      "\u001b[33m3 - \u001b[34mSair do sistema\u001b[m\n",
      "------------------------------------------\n",
      "Sua opção: Hélio\n",
      "\u001b[0;31mERRO! Digite um número inteiro válido.\u001b[m\n",
      "Sua opção: 2\n",
      "------------------------------------------\n",
      "              Novo Cadastro               \n",
      "------------------------------------------\n",
      "Nome: Hélio\n",
      "Idade: 40\n",
      "Novo registro de Hélio adicionado\n",
      "------------------------------------------\n",
      "              Menu Principal              \n",
      "------------------------------------------\n",
      "\u001b[33m1 - \u001b[34mVer pessoas cadastradas\u001b[m\n",
      "\u001b[33m2 - \u001b[34mCadastrar nova pessoa\u001b[m\n",
      "\u001b[33m3 - \u001b[34mSair do sistema\u001b[m\n",
      "------------------------------------------\n",
      "Sua opção: 1\n",
      "------------------------------------------\n",
      "           Pessoas cadastradas            \n",
      "------------------------------------------\n",
      "Gustavo                        41 anos\n",
      "Ana                            22 anos\n",
      "Pedro                          35 anos\n",
      "Paulo                          95 anos\n",
      "Maria                          77 anos\n",
      "José                           55 anos\n",
      "Icaro                          38 anos\n",
      "Hélio                          40 anos\n",
      "------------------------------------------\n",
      "              Menu Principal              \n",
      "------------------------------------------\n",
      "\u001b[33m1 - \u001b[34mVer pessoas cadastradas\u001b[m\n",
      "\u001b[33m2 - \u001b[34mCadastrar nova pessoa\u001b[m\n",
      "\u001b[33m3 - \u001b[34mSair do sistema\u001b[m\n",
      "------------------------------------------\n",
      "Sua opção: 3\n",
      "------------------------------------------\n",
      "      Saindo do sistema... Até logo!      \n",
      "------------------------------------------\n"
     ]
    }
   ],
   "source": [
    "from lib import interface\n",
    "from lib import arquivo\n",
    "\n",
    "arq = 'exercício12.txt'\n",
    "\n",
    "if not arquivo.arquivo_existe(arq):\n",
    "    arquivo.criar_arquivo(arq)\n",
    "\n",
    "while True:\n",
    "    resposta = interface.menu(['Ver pessoas cadastradas','Cadastrar nova pessoa', 'Sair do sistema'])\n",
    "    if resposta == 1:\n",
    "        # opção para ler o conteúdo do arquivo\n",
    "        arquivo.ler_arquivo(arq)\n",
    "    elif resposta == 2:\n",
    "        # opção de cadastrar uma nova pessoa\n",
    "        interface.cabecalho('Novo Cadastro')\n",
    "        nome = str(input('Nome: '))\n",
    "        idade = interface.leiaInt('Idade: ')\n",
    "        arquivo.cadastrar(arq, nome, idade)\n",
    "    elif resposta == 3:\n",
    "        interface.cabecalho('Saindo do sistema... Até logo!')\n",
    "        break\n",
    "    else:\n",
    "        print('\\033[0;31mERRO! Digite uma opção válida\\033[m')"
   ]
  },
  {
   "cell_type": "code",
   "execution_count": null,
   "id": "37b6b70b",
   "metadata": {},
   "outputs": [],
   "source": []
  }
 ],
 "metadata": {
  "kernelspec": {
   "display_name": "Python 3 (ipykernel)",
   "language": "python",
   "name": "python3"
  },
  "language_info": {
   "codemirror_mode": {
    "name": "ipython",
    "version": 3
   },
   "file_extension": ".py",
   "mimetype": "text/x-python",
   "name": "python",
   "nbconvert_exporter": "python",
   "pygments_lexer": "ipython3",
   "version": "3.9.13"
  }
 },
 "nbformat": 4,
 "nbformat_minor": 5
}
