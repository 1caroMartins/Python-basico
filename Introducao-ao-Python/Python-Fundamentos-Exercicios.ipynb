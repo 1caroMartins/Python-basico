{
 "cells": [
  {
   "cell_type": "markdown",
   "id": "c93c8e62",
   "metadata": {},
   "source": [
    "# Python Fundamentos"
   ]
  },
  {
   "cell_type": "markdown",
   "id": "949b5a1b",
   "metadata": {},
   "source": [
    "## Lista de Exercícios"
   ]
  },
  {
   "cell_type": "markdown",
   "id": "a7dc86c1",
   "metadata": {},
   "source": [
    "1. Crie um script Python que leia o nome de uma pessoa e mostre uma mensagem de boas vindas de acordo com o valor digitado."
   ]
  },
  {
   "cell_type": "code",
   "execution_count": 2,
   "id": "67072594",
   "metadata": {},
   "outputs": [
    {
     "name": "stdout",
     "output_type": "stream",
     "text": [
      "====== DESAFIO 01 ======\n",
      "Qual é o seu nome? Icaro\n",
      "Olá Icaro! Prazer em te conhecer!\n"
     ]
    }
   ],
   "source": [
    "print('====== DESAFIO 01 ======')\n",
    "nome = input('Qual é o seu nome? ')\n",
    "print('Olá ' + nome + '! Prazer em te conhecer!') # se usar vírgulas ao invés de +, haverá espaços."
   ]
  },
  {
   "cell_type": "markdown",
   "id": "54ff5330",
   "metadata": {},
   "source": [
    "2. Crie um script Python que leia o ano, o dia e o mês de nascimento de uma pessoa e mostre uma mensagem com a data formatada."
   ]
  },
  {
   "cell_type": "code",
   "execution_count": 7,
   "id": "93be6331",
   "metadata": {},
   "outputs": [
    {
     "name": "stdout",
     "output_type": "stream",
     "text": [
      "====== DESAFIO 02 ======\n",
      "Dia: 14\n",
      "Mês: Fev\n",
      "Ano: 1984\n",
      "Você nasceu no dia 14 de Fev de 1984. Correto?\n"
     ]
    }
   ],
   "source": [
    "print('====== DESAFIO 02 ======')\n",
    "dia = input('Dia: ')\n",
    "mes = input('Mês: ')\n",
    "ano = input('Ano: ')\n",
    "print('Você nasceu no dia ' + dia + ' de ' + mes + ' de ' + ano + '. Correto?')"
   ]
  },
  {
   "cell_type": "markdown",
   "id": "b2ac516b",
   "metadata": {},
   "source": [
    "3. Crie um script Python que leia dis números e tente mostrar a soma entre eles."
   ]
  },
  {
   "cell_type": "code",
   "execution_count": 9,
   "id": "634b57ab",
   "metadata": {},
   "outputs": [
    {
     "name": "stdout",
     "output_type": "stream",
     "text": [
      "Digite um valor: 5\n",
      "Digite outro valor: 9\n",
      "A soma entre 5 e 9 é igual a 14 !\n"
     ]
    }
   ],
   "source": [
    "num1 = int(input('Digite um valor: '))\n",
    "num2 = int(input('Digite outro valor: '))\n",
    "soma = num1 + num2\n",
    "print('A soma entre', num1, 'e', num2, 'é igual a', soma, '!') # tipos diferentes exige vírgula ao invés de +"
   ]
  },
  {
   "cell_type": "markdown",
   "id": "6c50f906",
   "metadata": {},
   "source": [
    "4. Faça um programa que leia algo pelo teclado e mostre na tela o seu tipo primitivo e todas as informações possíveis sobre ele."
   ]
  },
  {
   "cell_type": "code",
   "execution_count": 10,
   "id": "5a6c81c1",
   "metadata": {},
   "outputs": [
    {
     "name": "stdout",
     "output_type": "stream",
     "text": [
      "Digite algo: Programador\n",
      "O tipo primitivo desse valor é <class 'str'>\n",
      "Só tem espaços? False\n",
      "É um número? False\n",
      "É alfabético? True\n",
      "É alfanumérico? True\n",
      "Está em maiúsculas? False\n",
      "Está em minúsculas? False\n",
      "Está capitalizada? True\n"
     ]
    }
   ],
   "source": [
    "msg = input('Digite algo: ')\n",
    "print(f'O tipo primitivo desse valor é {type(msg)}')\n",
    "print(f'Só tem espaços? {msg.isspace()}')\n",
    "print(f'É um número? {msg.isnumeric()}')\n",
    "print(f'É alfabético? {msg.isalpha()}')\n",
    "print(f'É alfanumérico? {msg.isalnum()}')\n",
    "print(f'Está em maiúsculas? {msg.isupper()}')\n",
    "print(f'Está em minúsculas? {msg.islower()}')\n",
    "print(f'Está capitalizada? {msg.istitle()}')\n",
    "# obs.: msg é um objeto que aceita métodos da sua classe do tipo str"
   ]
  },
  {
   "cell_type": "markdown",
   "id": "afed1439",
   "metadata": {},
   "source": [
    "5. Faça um programa que leia um número inteiro e mostre seu sucessor e seu antecessor."
   ]
  },
  {
   "cell_type": "code",
   "execution_count": 12,
   "id": "344bff9e",
   "metadata": {},
   "outputs": [
    {
     "name": "stdout",
     "output_type": "stream",
     "text": [
      "Digite um número: 2\n",
      "Analizando o valor 2, seu antecessor é 1 e seu sucessor é 3\n"
     ]
    }
   ],
   "source": [
    "num = int(input('Digite um número: '))\n",
    "print(f'Analizando o valor {num}, seu antecessor é {num-1} e seu sucessor é {num+1}')"
   ]
  },
  {
   "cell_type": "markdown",
   "id": "b98e364f",
   "metadata": {},
   "source": [
    "6. Crie um algoritmo que leia um número inteiro e mostre seu dobro, seu triplo e sua raíz quadrada."
   ]
  },
  {
   "cell_type": "code",
   "execution_count": 15,
   "id": "da641140",
   "metadata": {},
   "outputs": [
    {
     "name": "stdout",
     "output_type": "stream",
     "text": [
      "Digite um número: 85\n",
      "O dobro de 85 vale 170.\n",
      "O triplo de 85 vale 255.\n",
      "A raíz quadrada de 85 é igual a 9.22.\n"
     ]
    }
   ],
   "source": [
    "num = int(input('Digite um número: '))\n",
    "\n",
    "print(f'O dobro de {num} vale {2*num}.')\n",
    "print(f'O triplo de {num} vale {3*num}.')\n",
    "print(f'A raíz quadrada de {num} é igual a {num**(1/2):.2f}.')"
   ]
  },
  {
   "cell_type": "markdown",
   "id": "a8371b43",
   "metadata": {},
   "source": [
    "7. Desenvolva um programa que leia as duas notas de um aluno, calcule e mostre a sua média."
   ]
  },
  {
   "cell_type": "code",
   "execution_count": 17,
   "id": "48597710",
   "metadata": {},
   "outputs": [
    {
     "name": "stdout",
     "output_type": "stream",
     "text": [
      "Primeira nota do aluno: 5.5\n",
      "Segunda nota do aluno: 2\n",
      "A média entre 5.5 e 2.0 é igual a 3.8\n"
     ]
    }
   ],
   "source": [
    "n1 = float(input('Primeira nota do aluno: '))\n",
    "n2 = float(input('Segunda nota do aluno: '))\n",
    "print(f'A média entre {n1} e {n2} é igual a {(n1 + n2)/2:.1f}')"
   ]
  },
  {
   "cell_type": "markdown",
   "id": "10b87973",
   "metadata": {},
   "source": [
    "8. Escreva um programa que leia um valor em metros e o exiba convertido em centímetros e milímetros."
   ]
  },
  {
   "cell_type": "code",
   "execution_count": 20,
   "id": "5880437e",
   "metadata": {},
   "outputs": [
    {
     "name": "stdout",
     "output_type": "stream",
     "text": [
      "Um distância em metros: 3\n",
      "A medida de 3.0m corresponde a\n",
      "0.003km\n",
      "0.03hm\n",
      "0.3dam\n",
      "30dm\n",
      "300cm\n",
      "3000mm\n"
     ]
    }
   ],
   "source": [
    "dist = float(input('Um distância em metros: '))\n",
    "print(f'''A medida de {dist:.1f}m corresponde a\n",
    "{dist/1000}km\n",
    "{dist/100}hm\n",
    "{dist/10}dam\n",
    "{dist*10:.0f}dm\n",
    "{dist*100:.0f}cm\n",
    "{dist*1000:.0f}mm''')"
   ]
  },
  {
   "cell_type": "markdown",
   "id": "6a4dd432",
   "metadata": {},
   "source": [
    "9. Faça um exercício que leia um número inteiro qualquer e mostre na tela a sua tabuada."
   ]
  },
  {
   "cell_type": "code",
   "execution_count": 22,
   "id": "57ff785e",
   "metadata": {},
   "outputs": [
    {
     "name": "stdout",
     "output_type": "stream",
     "text": [
      "Digite um número para ver a sua tabuada: 6\n",
      "------------\n",
      "6 x  1 = 6\n",
      "6 x  2 = 12\n",
      "6 x  3 = 18\n",
      "6 x  4 = 24\n",
      "6 x  5 = 30\n",
      "6 x  6 = 36\n",
      "6 x  7 = 42\n",
      "6 x  8 = 48\n",
      "6 x  9 = 54\n",
      "6 x 10 = 60\n",
      "============\n"
     ]
    }
   ],
   "source": [
    "num = int(input('Digite um número para ver a sua tabuada: '))\n",
    "print(f'''------------\n",
    "{num} x  1 = {num}\n",
    "{num} x  2 = {num*2}\n",
    "{num} x  3 = {num*3}\n",
    "{num} x  4 = {num*4}\n",
    "{num} x  5 = {num*5}\n",
    "{num} x  6 = {num*6}\n",
    "{num} x  7 = {num*7}\n",
    "{num} x  8 = {num*8}\n",
    "{num} x  9 = {num*9}\n",
    "{num} x 10 = {num*10}\n",
    "============''')"
   ]
  },
  {
   "cell_type": "markdown",
   "id": "4b6e2f70",
   "metadata": {},
   "source": [
    "10. Crie um programa que leia quanto dinheiro uma pessoa tenha na carteira e mostre quantos dólares ela pode comprar.\n",
    "</br>\n",
    "<code>cotação: US$1,00 = R$3,27</code> "
   ]
  },
  {
   "cell_type": "code",
   "execution_count": 24,
   "id": "e047196d",
   "metadata": {},
   "outputs": [
    {
     "name": "stdout",
     "output_type": "stream",
     "text": [
      "Quanto dinheiro você tem na carteira: R$19.88\n",
      "com R$19.88 você pode comprar US$6.08\n"
     ]
    }
   ],
   "source": [
    "real = float(input('Quanto dinheiro você tem na carteira: R$'))\n",
    "dolar = real/3.27\n",
    "print(f'com R${real} você pode comprar US${dolar:.2f}')"
   ]
  },
  {
   "cell_type": "markdown",
   "id": "e041a4e7",
   "metadata": {},
   "source": [
    "11. Faça um programa que leia a altura e a largura de uma parede em metros, calcule a área e a quantidade de tinta necessária para pintá-la, sabendo que cada litro de tinta pinta uma área de 2m²."
   ]
  },
  {
   "cell_type": "code",
   "execution_count": 1,
   "id": "d9428765",
   "metadata": {},
   "outputs": [
    {
     "name": "stdout",
     "output_type": "stream",
     "text": [
      "Largura da parede: 2.5\n",
      "Altura da parede: 1.75\n",
      "Sua parede tem dimensão de 2.5x1.75 e sua área é de 4.375m².\n",
      "Para pintar essa parede, você precisará de 2.1875l de tinta.\n"
     ]
    }
   ],
   "source": [
    "largura = float(input('Largura da parede: '))\n",
    "altura = float(input('Altura da parede: '))\n",
    "area = largura * altura\n",
    "litros_de_tinta = area/2\n",
    "\n",
    "print(f'Sua parede tem dimensão de {largura}x{altura} e sua área é de {area}m².')\n",
    "print(f'Para pintar essa parede, você precisará de {litros_de_tinta}l de tinta.')"
   ]
  },
  {
   "cell_type": "markdown",
   "id": "37dde6bc",
   "metadata": {},
   "source": [
    "12. Faça um algoritmo que leia o preço de um produto e mostre seu novo preço com 5% de desconto."
   ]
  },
  {
   "cell_type": "code",
   "execution_count": 3,
   "id": "8d04b048",
   "metadata": {},
   "outputs": [
    {
     "name": "stdout",
     "output_type": "stream",
     "text": [
      "Qual o preço do produto? R$123.95\n",
      "O produto que custava R$123.95, na promoção com 5% de desconto vai custar R$117.75\n"
     ]
    }
   ],
   "source": [
    "preco = float(input('Qual o preço do produto? R$'))\n",
    "novo_preco = 0.95*preco\n",
    "\n",
    "print(f'O produto que custava R${preco}, na promoção com 5% de desconto vai custar R${novo_preco:.2f}.')"
   ]
  },
  {
   "cell_type": "markdown",
   "id": "7bfdabf7",
   "metadata": {},
   "source": [
    "13. Faça um algoritmo que leia o salário de um fincionário e mostre seu novo salário com 15% de aumento."
   ]
  },
  {
   "cell_type": "code",
   "execution_count": 4,
   "id": "813477a7",
   "metadata": {},
   "outputs": [
    {
     "name": "stdout",
     "output_type": "stream",
     "text": [
      "Qual é o salário do funcionário? R$4319.43\n",
      "Um funcionário que ganhava R$4319.43, com 15% de aumento, passa a receber 4967.34.\n"
     ]
    }
   ],
   "source": [
    "salario = float(input('Qual é o salário do funcionário? R$'))\n",
    "novo_salario = 1.15*salario\n",
    "\n",
    "print(f'Um funcionário que ganhava R${salario}, com 15% de aumento, passa a receber {novo_salario:.2f}.')"
   ]
  },
  {
   "cell_type": "markdown",
   "id": "8ead740c",
   "metadata": {},
   "source": [
    "14. Escreva um programa que converta uma temperatura digitando em graus Celsius e converta para graus Fahrenheit."
   ]
  },
  {
   "cell_type": "code",
   "execution_count": 6,
   "id": "dd02e264",
   "metadata": {},
   "outputs": [
    {
     "name": "stdout",
     "output_type": "stream",
     "text": [
      "Informe a temperatura em °C: 31.5\n",
      "A temperatura de 31.5°C corresponde a 88.7°F.\n"
     ]
    }
   ],
   "source": [
    "temp_c = float(input('Informe a temperatura em °C: '))\n",
    "temp_f = 9*temp_c/5 + 32\n",
    "\n",
    "print(f'A temperatura de {temp_c}°C corresponde a {temp_f}°F.')"
   ]
  },
  {
   "cell_type": "markdown",
   "id": "d0254220",
   "metadata": {},
   "source": [
    "15. Escreva um programa que pergunte a quantidade de Km percorridos por um carro alugado e a quantidade de dias pelos quais ele foi alugado. Calcule o preço a pagar, sabendo que o carro custa RS60 por dia e RS0,15 por Km rodado."
   ]
  },
  {
   "cell_type": "code",
   "execution_count": 8,
   "id": "fd5f11bc",
   "metadata": {},
   "outputs": [
    {
     "name": "stdout",
     "output_type": "stream",
     "text": [
      "Quantos dias alugado? 8\n",
      "Quantos Km rodados? 720\n",
      "O total a pagar é de 588.00.\n"
     ]
    }
   ],
   "source": [
    "dias = int(input('Quantos dias alugado? '))\n",
    "km = float(input('Quantos Km rodados? '))\n",
    "total = 60*dias + 0.15*km\n",
    "\n",
    "print(f'O total a pagar é de {total:.2f}.')"
   ]
  },
  {
   "cell_type": "markdown",
   "id": "f2e91658",
   "metadata": {},
   "source": [
    "16. Crie um programa que leia o nome completo de uma pessoa e mostre:\n",
    "- Nome com todas as letras em maiúsculo\n",
    "- Nome com todas as letras em minúsculo\n",
    "- Quantas letras ao todo (sem considerar espaços)?\n",
    "- Quantas letras tem o primeiro nome?"
   ]
  },
  {
   "cell_type": "code",
   "execution_count": 1,
   "id": "506b253c",
   "metadata": {},
   "outputs": [
    {
     "name": "stdout",
     "output_type": "stream",
     "text": [
      "Digite seu nome completo:    Icaro Duarte    Martins  \n",
      "ICARO DUARTE    MARTINS\n",
      "icaro duarte    martins\n",
      "O nome completo possui 18 letras\n",
      "O primeiro nome possui 5 letras\n"
     ]
    }
   ],
   "source": [
    "nome = input('Digite seu nome completo: ').strip() #retira espaços do início e do fim\n",
    "print(nome.upper())\n",
    "print(nome.lower())\n",
    "\n",
    "print(f'O nome completo possui {len(nome) - nome.count(\" \")} letras')\n",
    "print(f'O primeiro nome possui {nome.find(\" \")} letras') #não conta as letras mas a posição do primeiro espaço\n",
    "\n",
    "# outra forma:\n",
    "dividido = nome.split()\n",
    "juntado = ''.join(dividido)\n",
    "# print(f'O nome completo possui {len(juntado)} letras')\n",
    "# print(f'O primeiro nome é {dividido[0]} e ele possui {len(dividido[0])} letras')"
   ]
  },
  {
   "cell_type": "markdown",
   "id": "272a513d",
   "metadata": {},
   "source": [
    "17. Faça um programa que leia um número de 0 a 9999 e mostre na tela cada um dos dígitos separados."
   ]
  },
  {
   "cell_type": "code",
   "execution_count": 7,
   "id": "14107bba",
   "metadata": {},
   "outputs": [
    {
     "name": "stdout",
     "output_type": "stream",
     "text": [
      "Digite um número de 0 a 9999: 1234\n",
      "Unidade: 4\n",
      "Dezena: 3\n",
      "Centena: 2\n",
      "Milhar: 1\n"
     ]
    }
   ],
   "source": [
    "num = int(input('Digite um número de 0 a 9999: '))\n",
    "u = num // 1 % 10 #o resto é o próprio número\n",
    "d = num // 10 % 10\n",
    "c = num // 100 % 10\n",
    "m = num // 1000 % 10\n",
    "\n",
    "print(f'Unidade: {u}')\n",
    "print(f'Dezena: {d}')\n",
    "print(f'Centena: {c}')\n",
    "print(f'Milhar: {m}')"
   ]
  },
  {
   "cell_type": "code",
   "execution_count": 62,
   "id": "e56c1bbb",
   "metadata": {},
   "outputs": [
    {
     "name": "stdout",
     "output_type": "stream",
     "text": [
      "Digite um número de 0 a 9999: 1984\n",
      "Unidade: 4\n",
      "Dezena: 8\n",
      "Centena: 9\n",
      "Milhar: 1\n"
     ]
    }
   ],
   "source": [
    "# outra forma:\n",
    "\n",
    "num = f'{input(\"Digite um número de 0 a 9999: \"):0>4}'\n",
    "# num = f'{num:0>4}' #acrescenta caracteres '0's ao número alinhado à direita\n",
    "\n",
    "print(f'Unidade: {num[3]}')\n",
    "print(f'Dezena: {num[2]}')\n",
    "print(f'Centena: {num[1]}')\n",
    "print(f'Milhar: {num[0]}')"
   ]
  },
  {
   "cell_type": "markdown",
   "id": "1afa1044",
   "metadata": {},
   "source": [
    "18. Crie um programa que leia o nome de uma cidade e diga se ela começa ou não com o nome 'Santo'?"
   ]
  },
  {
   "cell_type": "code",
   "execution_count": 66,
   "id": "03c22e40",
   "metadata": {},
   "outputs": [
    {
     "name": "stdout",
     "output_type": "stream",
     "text": [
      "Em que cidade você nasceu? Santo Amaro\n",
      "True\n"
     ]
    }
   ],
   "source": [
    "cid = input('Em que cidade você nasceu? ').strip()\n",
    "\n",
    "print(f'{cid[:5].upper() == \"SANTO\"}')"
   ]
  },
  {
   "cell_type": "markdown",
   "id": "72f8dba6",
   "metadata": {},
   "source": [
    "19. Crie um programa que leia o nome de uma pessoa e diga se ela tem 'Silva' no nome."
   ]
  },
  {
   "cell_type": "code",
   "execution_count": 74,
   "id": "b4d18ed5",
   "metadata": {},
   "outputs": [
    {
     "name": "stdout",
     "output_type": "stream",
     "text": [
      "Digite seu nome completo: Alisson Silva\n",
      "True\n"
     ]
    }
   ],
   "source": [
    "nome = input('Digite seu nome completo: ').strip()\n",
    "\n",
    "print('silva' in nome.lower())"
   ]
  },
  {
   "cell_type": "markdown",
   "id": "7b880aef",
   "metadata": {},
   "source": [
    "20. Faça um programa que leia uma frase pelo teclado e mostre:\n",
    "- Quantas vezes aparece a letra 'a'.\n",
    "- Em que posição ela aparece pela primeira vez.\n",
    "- Em que posição ela a aparece pela última vez."
   ]
  },
  {
   "cell_type": "code",
   "execution_count": 79,
   "id": "11412b1b",
   "metadata": {},
   "outputs": [
    {
     "name": "stdout",
     "output_type": "stream",
     "text": [
      "Digite uma frase: Arara Azul\n",
      "4\n",
      "1\n",
      "7\n"
     ]
    }
   ],
   "source": [
    "frase = input('Digite uma frase: ').lower().strip()\n",
    "print(frase.count('a'))\n",
    "print(frase.find('a')+1)\n",
    "print(frase.rfind('a')+1)"
   ]
  },
  {
   "cell_type": "markdown",
   "id": "48a2c31e",
   "metadata": {},
   "source": [
    "21. Faça um programa que leia o nome completo de uma pessoa, mostrando em seguida o primeiro e o último separadamente."
   ]
  },
  {
   "cell_type": "code",
   "execution_count": 85,
   "id": "95404303",
   "metadata": {},
   "outputs": [
    {
     "name": "stdout",
     "output_type": "stream",
     "text": [
      "Escreva seu nome completo: Icaro Duarte Martins\n",
      "Seu primeiro nome é Icaro\n",
      "Seu último nome é Martins\n"
     ]
    }
   ],
   "source": [
    "nome = input('Escreva seu nome completo: ').strip().split()\n",
    "print(f'Seu primeiro nome é {nome[0]}')\n",
    "print(f'Seu último nome é {nome[-1]}')\n",
    "#print(f'Seu último nome é {nome[len(nome)-1]}')"
   ]
  },
  {
   "cell_type": "markdown",
   "id": "d04464f4",
   "metadata": {},
   "source": [
    "22. Escreva um programa que faça o computador \"pensar\" em um número inteiro entre 0 e 5 e peça para o usuário tentar descobrir qual foi o número escolhido pelo computador. O programa deverá escrever na tela se o usuário venceu ou perdeu. \n",
    "\n",
    "Dica: Importar a função randint do módulo random (from random import randint) "
   ]
  },
  {
   "cell_type": "code",
   "execution_count": 1,
   "id": "b4d4370a",
   "metadata": {},
   "outputs": [
    {
     "name": "stdout",
     "output_type": "stream",
     "text": [
      "-=--=--=--=--=--=--=--=--=--=--=--=--=--=--=--=--=--=--=--=-\n",
      "Vou pensar em um número inteiro entre 0 e 5. Tente adivinhar...\n",
      "-=--=--=--=--=--=--=--=--=--=--=--=--=--=--=--=--=--=--=--=-\n",
      "Em que número eu pensei? 4\n",
      "PROCESSANDO...\n",
      "GANHEI! Eu pensei no 1 e não no 4!\n"
     ]
    }
   ],
   "source": [
    "from random import randint # O uso de módulos será melhor explicado no caderno de módulos e pacotes.\n",
    "from time import sleep\n",
    "\n",
    "print('-=-'*20)\n",
    "print('Vou pensar em um número inteiro entre 0 e 5. Tente adivinhar...')\n",
    "print('-=-'*20)\n",
    "x = randint(0,5) # armazena um número inteiro do intervalo [0,5]\n",
    "y = int(input('Em que número eu pensei? '))\n",
    "\n",
    "print('PROCESSANDO...')\n",
    "sleep(2) # espera 2 segundos antes de executar o próximo comando\n",
    "print('PARABÉNS! Você conseguiu me vencer!' if y == x else f'GANHEI! Eu pensei no {x} e não no {y}!')"
   ]
  },
  {
   "cell_type": "markdown",
   "id": "7bacc021",
   "metadata": {},
   "source": [
    "23. Escreva um programa que leia a velocidade de um carro.\n",
    "- Se ele ultrapassar 80km/h, mostre uma mensagem dizendo que ele foi multado.\n",
    "- A multa vai custar R$7 por cada km/h acima do limite."
   ]
  },
  {
   "cell_type": "code",
   "execution_count": 49,
   "id": "d6627ba6",
   "metadata": {},
   "outputs": [
    {
     "name": "stdout",
     "output_type": "stream",
     "text": [
      "Qual é velocidade atual do veículo? 100\n",
      "MULTADO! Você excedeu o limite permitido que é de 80km/h\n",
      "Você deve pagar a multa de R$140.00\n",
      "Tenha um bom dia! Dirija com segurança!\n"
     ]
    }
   ],
   "source": [
    "velocidade = float(input('Qual é velocidade atual do veículo? '))\n",
    "multa = (velocidade - 80)*7\n",
    "\n",
    "# condição simples\n",
    "if velocidade > 80:\n",
    "    print(f'MULTADO! Você excedeu o limite permitido que é de 80km/h')\n",
    "    print(f'Você deve pagar a multa de R${multa:.2f}')\n",
    "print('Tenha um bom dia! Dirija com segurança!')"
   ]
  },
  {
   "cell_type": "markdown",
   "id": "b0fa1909",
   "metadata": {},
   "source": [
    "24. Crie um programa que leia um número e mostre na tela se ele é par ou ímpar."
   ]
  },
  {
   "cell_type": "code",
   "execution_count": 2,
   "id": "a56ce01b",
   "metadata": {},
   "outputs": [
    {
     "name": "stdout",
     "output_type": "stream",
     "text": [
      "Me diga um número qualquer: 11\n",
      "Este número é ímpar!\n"
     ]
    }
   ],
   "source": [
    "num = int(input('Me diga um número qualquer: '))\n",
    "\n",
    "# condição composta\n",
    "if num%2 == 0:\n",
    "    print('Este número é par!')\n",
    "else:\n",
    "    print('Este número é ímpar!')"
   ]
  },
  {
   "cell_type": "markdown",
   "id": "01ed1439",
   "metadata": {},
   "source": [
    "25. Desenvolva um programa que pergunte a distância de uma viagem em km.\n",
    "- Calcule o preço da passagem, cobrando 0,50 por km até 200km e 0,45 para viagens mais longas."
   ]
  },
  {
   "cell_type": "code",
   "execution_count": 5,
   "id": "baf587b5",
   "metadata": {},
   "outputs": [
    {
     "name": "stdout",
     "output_type": "stream",
     "text": [
      "Qual a distância da sua viagem? 500\n",
      "Você está prestes a começar uma viagem de 500.0km\n",
      "E o preço da sua passagem será de R$225.00\n"
     ]
    }
   ],
   "source": [
    "distancia = float(input('Qual a distância da sua viagem? '))\n",
    "print(f'Você está prestes a começar uma viagem de {distancia}km')\n",
    "if distancia <= 200:\n",
    "    preco = distancia*0.5\n",
    "else:\n",
    "    preco = distancia*0.45\n",
    "print(f'E o preço da sua passagem será de R${preco:.2f}')"
   ]
  },
  {
   "cell_type": "markdown",
   "id": "7895baaa",
   "metadata": {},
   "source": [
    "26. Faça um programa que leia um ano qualquer e mostre se ele é bissexto."
   ]
  },
  {
   "cell_type": "code",
   "execution_count": 78,
   "id": "40b6cfd1",
   "metadata": {},
   "outputs": [
    {
     "name": "stdout",
     "output_type": "stream",
     "text": [
      "Que ano quer analisar? Coloque 0 para analisar o ano atual: 2100\n",
      "O ano 2100 não é bissexto!\n"
     ]
    }
   ],
   "source": [
    "from datetime import date # função importada para adicionar condição extra\n",
    "\n",
    "ano = int(input('Que ano quer analisar? Coloque 0 para analisar o ano atual: '))\n",
    "\n",
    "# condição simples (extra)\n",
    "if ano == 0:\n",
    "    ano = date.today().year # atributo da classe, isso será melhor explicado no caderno de funções\n",
    "\n",
    "# condição composta\n",
    "if ano % 4 == 0 and ano % 100 != 0 or ano % 400 == 0:\n",
    "    print(f'O ano {ano} é bissexto!')\n",
    "else:\n",
    "    print(f'O ano {ano} não é bissexto!')"
   ]
  },
  {
   "cell_type": "markdown",
   "id": "3337e8dc",
   "metadata": {},
   "source": [
    "27. Faça um programa que leia 3 números e mostre qual é o maior e qual é o menor."
   ]
  },
  {
   "cell_type": "code",
   "execution_count": 83,
   "id": "5a9d0368",
   "metadata": {},
   "outputs": [
    {
     "name": "stdout",
     "output_type": "stream",
     "text": [
      "Digite o primeiro número: 12\n",
      "Digite o segundo número: 90\n",
      "Digite o terceiro número: 22\n",
      "O maior número é 90\n",
      "O menor número é 12\n"
     ]
    }
   ],
   "source": [
    "x = int(input('Digite o primeiro número: '))\n",
    "y = int(input('Digite o segundo número: '))\n",
    "z = int(input('Digite o terceiro número: '))\n",
    "\n",
    "menor = x # define o menor como x e depois o compara\n",
    "if y < x and y < z:\n",
    "    menor = y\n",
    "if z < x and z < y:\n",
    "    menor = z\n",
    "\n",
    "maior = x # define o maior como x e depois o compara\n",
    "if y > x and y > z:\n",
    "    maior = y\n",
    "if z > x and z > y:\n",
    "    maior = z\n",
    "print(f'O maior número é {maior}')\n",
    "print(f'O menor número é {menor}')"
   ]
  },
  {
   "cell_type": "markdown",
   "id": "87041296",
   "metadata": {},
   "source": [
    "28. Escreva um programa que pergunte o salário de um funcionário e calcule o valor do seu aumento.\n",
    "- Para salários superiores a R$1.250,00, calcule um aumento de 10%.\n",
    "- Para os inferiores ou iguais, o aumento é de 15%."
   ]
  },
  {
   "cell_type": "code",
   "execution_count": 95,
   "id": "59079b78",
   "metadata": {},
   "outputs": [
    {
     "name": "stdout",
     "output_type": "stream",
     "text": [
      "Qual é o salário do funcionário? R$5000\n",
      "Passará a ganhar R$5500.00\n"
     ]
    }
   ],
   "source": [
    "salario = float(input('Qual é o salário do funcionário? R$'))\n",
    "\n",
    "if salario <= 1250.00:\n",
    "    salario = salario*1.15\n",
    "else:\n",
    "    salario = salario*1.1\n",
    "\n",
    "print(f'Passará a ganhar R${salario:.2f}')"
   ]
  },
  {
   "cell_type": "markdown",
   "id": "f71b4730",
   "metadata": {},
   "source": [
    "29. Desenvolva um programa que leia o comprimento de 3 segmentos de reta e diga ao usuário se eles podem ou não formar um triângulo.\n",
    "\n",
    "Dica: Para formar um triângulo, caada segmento é menor que a soma dos outros dois segmentos."
   ]
  },
  {
   "cell_type": "code",
   "execution_count": 99,
   "id": "b80377c2",
   "metadata": {},
   "outputs": [
    {
     "name": "stdout",
     "output_type": "stream",
     "text": [
      "-=--=--=--=--=--=--=--=--=--=--=--=--=--=--=--=--=--=--=--=-\n",
      "Analisador de Triângulos\n",
      "-=--=--=--=--=--=--=--=--=--=--=--=--=--=--=--=--=--=--=--=-\n",
      "Primeiro segmento: 3.5\n",
      "Segundo segmento: 5.6\n",
      "Terceiro segmento: 2.2\n",
      "Os segmentos acima PODEM FORMAR triângulo\n"
     ]
    }
   ],
   "source": [
    "print('-=-'*20)\n",
    "print('Analisador de Triângulos')\n",
    "print('-=-'*20)\n",
    "a = float(input('Primeiro segmento: '))\n",
    "b = float(input('Segundo segmento: '))\n",
    "c = float(input('Terceiro segmento: '))\n",
    "\n",
    "if a < b+c and b < a+c and c < a+b:\n",
    "    print('Os segmentos acima PODEM FORMAR triângulo')\n",
    "else:\n",
    "    print('Os segmentos acima NÃO PODEM FORMAR triângulo')"
   ]
  },
  {
   "cell_type": "markdown",
   "id": "3b313451",
   "metadata": {},
   "source": [
    "30. Escreva um programa para aprovar o empréstimo bancário para compra de uma casa. O programa vai perguntar o **valor da casa**, o **salário** do comprador e em **quantos anos** ele vai pagar.\n",
    "- Calcule o valor da pestação mensal, sabendo que ele não pode exceder 30% do salário ou então o empréstimo será negado."
   ]
  },
  {
   "cell_type": "code",
   "execution_count": 6,
   "id": "c1c7e9fa",
   "metadata": {},
   "outputs": [
    {
     "name": "stdout",
     "output_type": "stream",
     "text": [
      "Qual o valor da casa? R$80000\n",
      "Qual o salário do comprador? R$4000\n",
      "Quantos anos de financiamento? 7\n",
      "Pra pegar uma casa de R$80000.0 em 7 anos, a prestação será de R$952.38\n",
      "30% do seu orçamento mensal corresponde a R$1200.00\n",
      "Empréstimo pode ser CONCEDIDO!\n"
     ]
    }
   ],
   "source": [
    "casa = float(input('Qual o valor da casa? R$'))\n",
    "salario = float(input('Qual o salário do comprador? R$'))\n",
    "anos = int(input('Quantos anos de financiamento? '))\n",
    "prestacao = casa/(anos * 12)\n",
    "minimo = salario*0.3\n",
    "\n",
    "print(f'Pra pegar uma casa de R${casa} em {anos} anos, a prestação será de R${prestacao:.2f}')\n",
    "print(f'30% do seu orçamento mensal corresponde a R${minimo:.2f}')\n",
    "if prestacao <= minimo:\n",
    "    print('Empréstimo pode ser CONCEDIDO!')\n",
    "else:\n",
    "    print('Empréstimo NEGADO!')"
   ]
  },
  {
   "cell_type": "markdown",
   "id": "d0c305d5",
   "metadata": {},
   "source": [
    "31. Escreva um programa que leia um número inteiro qualquer e peça para usuário escolher qual será a **base de conversão**:\n",
    "- 1 para Binário\n",
    "- 2 para Octal\n",
    "- 3 para Hexadecimal"
   ]
  },
  {
   "cell_type": "code",
   "execution_count": 34,
   "id": "86bc74da",
   "metadata": {},
   "outputs": [
    {
     "name": "stdout",
     "output_type": "stream",
     "text": [
      "Digite um numero inteiro qualquer: 834\n",
      "\n",
      "Escolha uma das bases para conversão:\n",
      "[ 1 ] Converter para BINÁRIO\n",
      "[ 2 ] Converter para OCTAL\n",
      "[ 3 ] Converter para HEXADECIMAL\n",
      "Sua opção: 3\n",
      "834 convertido para HEXADECIMAL é igual a 342\n"
     ]
    }
   ],
   "source": [
    "num = int(input('Digite um numero inteiro qualquer: '))\n",
    "opcao = int(input('''\n",
    "Escolha uma das bases para conversão:\n",
    "[ 1 ] Converter para BINÁRIO\n",
    "[ 2 ] Converter para OCTAL\n",
    "[ 3 ] Converter para HEXADECIMAL\n",
    "Sua opção: '''))\n",
    "\n",
    "if opcao == 1:\n",
    "    print(f'{num} convertido para BINÁRIO é igual a {bin(num)[2:]}') #aparece 0b então fatia\n",
    "elif opcao == 2:\n",
    "    print(f'{num} convertido para OCTAL é igual a {oct(num)[2:]}') #aparece 0o então fatia\n",
    "elif opcao == 3:\n",
    "    print(f'{num} convertido para HEXADECIMAL é igual a {hex(num)[2:]}') #aparece 0x então fatia\n",
    "else:\n",
    "    print('Opção inválida! Tente novamente.')"
   ]
  },
  {
   "cell_type": "markdown",
   "id": "6c1bb4e6",
   "metadata": {},
   "source": [
    "32. Escreva um programa que leia dois números inteiros e compare-os mostrando na tela uma mensagem:\n",
    "- O primeiro valor é maior\n",
    "- O segundo valor é maior\n",
    "- Não existe valor maior, os dois são iguais."
   ]
  },
  {
   "cell_type": "code",
   "execution_count": 22,
   "id": "3258ded6",
   "metadata": {},
   "outputs": [
    {
     "name": "stdout",
     "output_type": "stream",
     "text": [
      "Digite o primeiro número: 4\n",
      "Digite o segundo número: 4\n",
      "Não existe valor maior. Os dois números são iguais a 4!\n"
     ]
    }
   ],
   "source": [
    "a = int(input('Digite o primeiro número: '))\n",
    "b = int(input('Digite o segundo número: '))\n",
    "\n",
    "if a > b:\n",
    "    print(f'O primeiro valor ({a}) é o maior!')\n",
    "elif a < b:\n",
    "    print(f'O segundo valor ({b}) é o maior!')\n",
    "else:\n",
    "    print(f'Não existe valor maior. Os dois números são iguais a {a}!')"
   ]
  },
  {
   "cell_type": "markdown",
   "id": "9145e014",
   "metadata": {},
   "source": [
    "33. Faça um programa que leia o ano de nascimento de um jovem e informe, de acordo com a sua idade:\n",
    "- Se ele ainda vai se alistar no serviço militar.\n",
    "- Se é a hora de se alistar.\n",
    "- Se passou do tempo de alistamento.\n",
    "\n",
    "Seu programa também deverá mostrar o tempo que falta ou que passou do prazo. </br>\n",
    "Dica: Importe a função date do módulo datetime (from datetime import date)"
   ]
  },
  {
   "cell_type": "code",
   "execution_count": 42,
   "id": "952751de",
   "metadata": {},
   "outputs": [
    {
     "name": "stdout",
     "output_type": "stream",
     "text": [
      "Ano de nascimento: 2004\n",
      "Quem nasceu em 2004 tem 18 anos em 2022. \n",
      "Você tem que se alistar IMEDIATAMENTE\n"
     ]
    }
   ],
   "source": [
    "from datetime import date\n",
    "\n",
    "ano = int(input('Ano de nascimento: '))\n",
    "idade = date.today().year - ano\n",
    "\n",
    "if idade < 18:\n",
    "    print(f'Quem nasceu em {ano} tem {idade} anos em {date.today().year}. \\nAinda faltam {18 - idade} anos para o alistamento')\n",
    "    print(f'Seu alistamento será em {ano+18}!')\n",
    "elif idade == 18:\n",
    "    print(f'Quem nasceu em {ano} tem {idade} anos em {date.today().year}. \\nVocê tem que se alistar IMEDIATAMENTE')\n",
    "else:\n",
    "    print(f'Quem nasceu em {ano} tem {idade} anos em {date.today().year}. \\nVocê já deveria ter se alistado há {idade-18} anos')\n",
    "    print(f'Seu alistamento foi em {ano+18}')"
   ]
  },
  {
   "cell_type": "markdown",
   "id": "1aae36a1",
   "metadata": {},
   "source": [
    "34. Crie um programa que leia duas notas de um aluno e calcule sua média, mostrando uma mensagem no final, de acordo com a média atingida:\n",
    "- Média abaixo de 5.0: Reprovado\n",
    "- Média entre 5.0 e 6.9: Recuperação\n",
    "- Média 7.0 ou superior: Aprovado."
   ]
  },
  {
   "cell_type": "code",
   "execution_count": 44,
   "id": "30986b0d",
   "metadata": {},
   "outputs": [
    {
     "name": "stdout",
     "output_type": "stream",
     "text": [
      "Primeira nota: 3\n",
      "Segunda nota: 2\n",
      "Tirando 3.0 e 2.0 média do aluno é 2.5\n",
      "O aluno está REPROVADO!\n"
     ]
    }
   ],
   "source": [
    "n1 = float(input('Primeira nota: '))\n",
    "n2 = float(input('Segunda nota: '))\n",
    "media = (n1 + n2)/2\n",
    "\n",
    "if media < 5.0:\n",
    "    print(f'Tirando {n1} e {n2} média do aluno é {media}\\nO aluno está REPROVADO!')\n",
    "elif media < 7.0:\n",
    "    print(f'Tirando {n1} e {n2} média do aluno é {media}\\nO aluno está em RECUPERAÇÃO!')\n",
    "else:\n",
    "    print(f'Tirando {n1} e {n2} média do aluno é {media}\\nO aluno está APROVADO!')"
   ]
  },
  {
   "cell_type": "markdown",
   "id": "9694bb56",
   "metadata": {},
   "source": [
    "35. A Confederação Nacional de Natação precisa de um programa que leia o ano de nascimento de um atleta e mostre sua categoria, de acordo com a idade:\n",
    "- Até 9 anos: Mirim\n",
    "- Até 14 anos: Infantil\n",
    "- Até 19 anos: Júnior\n",
    "- Até 20 anos: Sênior\n",
    "- Acima: Master\n",
    "\n",
    "Dica: Importe a função date do módulo datetime (from datetime import date)"
   ]
  },
  {
   "cell_type": "code",
   "execution_count": 46,
   "id": "0038890b",
   "metadata": {},
   "outputs": [
    {
     "name": "stdout",
     "output_type": "stream",
     "text": [
      "Ano de nascimento: 2004\n",
      "O atleta tem 19 anos. \n",
      "Classificação: JÚNIOR\n"
     ]
    }
   ],
   "source": [
    "from datetime import date\n",
    "\n",
    "ano = int(input('Ano de nascimento: '))\n",
    "idade = date.today().year - ano\n",
    "\n",
    "if idade <= 9:\n",
    "    print(f'O atleta tem {idade} anos. \\nClassificação: MIRIM')\n",
    "elif idade <= 14:\n",
    "    print(f'O atleta tem {idade} anos. \\nClassificação: INFANTIL')\n",
    "elif idade <= 19:\n",
    "    print(f'O atleta tem {idade} anos. \\nClassificação: JÚNIOR')\n",
    "elif idade <= 20:\n",
    "    print(f'O atleta tem {idade} anos. \\nClassificação: SÊNIOR')\n",
    "else:\n",
    "    print(f'O atleta tem {idade} anos. \\nClassificação: MASTER')"
   ]
  },
  {
   "cell_type": "markdown",
   "id": "00740f42",
   "metadata": {},
   "source": [
    "36. Refaça o exercício 30 (do triângulo), acrescentando o recurso de mostrar que tipo de triângulo será formado:\n",
    "- Equilátero: todos os lados iguais\n",
    "- Isóceles: dois lados igiais\n",
    "- Escaleno: todos os lados diferentes"
   ]
  },
  {
   "cell_type": "code",
   "execution_count": 52,
   "id": "5d631c35",
   "metadata": {},
   "outputs": [
    {
     "name": "stdout",
     "output_type": "stream",
     "text": [
      "Primeiro segmento: 3\n",
      "Segundo segmento: 4\n",
      "Terceiro segmento: 3\n",
      "Os segmentos PODEM FORMAR um triângulo ISÓCELES!\n"
     ]
    }
   ],
   "source": [
    "a = float(input('Primeiro segmento: '))\n",
    "b = float(input('Segundo segmento: '))\n",
    "c = float(input('Terceiro segmento: '))\n",
    "\n",
    "if a < b + c and b < a + c and c < a + b:\n",
    "    print('Os segmentos PODEM FORMAR um triângulo', end = ' ')\n",
    "    if a == b and a == c:\n",
    "        print('EQUILÁTERO!')\n",
    "    elif a != b and a != c and b != c:\n",
    "        print('ESCALENO!')\n",
    "    else:\n",
    "        print('ISÓCELES!')\n",
    "else:\n",
    "    print('Os segmentos NÃO PODEM FORMAR um triângulo!')"
   ]
  },
  {
   "cell_type": "markdown",
   "id": "ae1a5be9",
   "metadata": {},
   "source": [
    "37. Desenvolva uma lógica que leia o peso e altura de uma pessoa, calcule seu IMC e mostre seu status, de acordo com a tabela abaixo:\n",
    "- Abaixo de 18.5: Abaixo do peso\n",
    "- Entre 18.5 e 25: Peso ideal\n",
    "- 25 até 30: Sobrepeso\n",
    "- 30 até 40: Obesidade\n",
    "- Acima de 40: Obesidade mórbida."
   ]
  },
  {
   "cell_type": "code",
   "execution_count": 56,
   "id": "12b76412",
   "metadata": {},
   "outputs": [
    {
     "name": "stdout",
     "output_type": "stream",
     "text": [
      "Qual é o seu peso? (Kg) 97\n",
      "Qual é a sua altura? (m) 1.96\n",
      "O IMC dessa pessoa é de 25.2! \n",
      "Você está com sobrepeso!\n"
     ]
    }
   ],
   "source": [
    "peso = float(input('Qual é o seu peso? (Kg) '))\n",
    "altura = float(input('Qual é a sua altura? (m) '))\n",
    "imc = peso/altura**2\n",
    "\n",
    "if imc < 18.5:\n",
    "    print(f'O IMC dessa pessoa é de {imc:.1f}! \\nVocê está ABAIXO DO PESO normal.')\n",
    "elif imc < 25:\n",
    "    print(f'O IMC dessa pessoa é de {imc:.1f}! \\nPARABÉNS, você está na faixa de PESO NORMAL.')\n",
    "elif imc < 30:\n",
    "    print(f'O IMC dessa pessoa é de {imc:.1f}! \\nVocê está com sobrepeso!')\n",
    "elif imc < 40:\n",
    "    print(f'O IMC dessa pessoa é de {imc:.1f}! \\nVocê está em OBESIDADE!')\n",
    "else:\n",
    "    print(f'O IMC dessa pessoa é de {imc:.1f}! \\nVocê está em OBESIDADE MÓRBIDA, cuidado!')"
   ]
  },
  {
   "cell_type": "markdown",
   "id": "8788f3de",
   "metadata": {},
   "source": [
    "38. Elabore um programa que Calcule o valor a ser pago por um produto, considerando seu **preço normal** e a **condição de pagamento**:\n",
    "- À vista (dinheiro/cheque): 10% de desconto\n",
    "- À vista no cartão: 5% de desconto\n",
    "- Em até 2x no cartão: preço normal\n",
    "- 3x ou mais no cartão: 20% de juros"
   ]
  },
  {
   "cell_type": "code",
   "execution_count": 66,
   "id": "3dc9195d",
   "metadata": {},
   "outputs": [
    {
     "name": "stdout",
     "output_type": "stream",
     "text": [
      "===== LOJAS =====\n",
      "Preço das compras? R$500\n",
      "\n",
      "FORMAS DE PAGAMENTO\n",
      "[ 1 ] à vista dinheiro/cheque\n",
      "[ 2 ] à vista cartão\n",
      "[ 3 ] 2x no cartão\n",
      "[ 4 ] 3x ou mais no cartão\n",
      "Qual é a opção? 4\n",
      "Quantas parcelas? 7\n",
      "Sua compra será parcelada em 7x de 85.71 COM JUROS\n",
      "Sua compra de 500.00 vai custar 600.00 no final\n"
     ]
    }
   ],
   "source": [
    "print('='*5, 'LOJAS', '='*5)\n",
    "preco = float(input('Preço das compras? R$'))\n",
    "opcao = int(input('''\n",
    "FORMAS DE PAGAMENTO\n",
    "[ 1 ] à vista dinheiro/cheque\n",
    "[ 2 ] à vista cartão\n",
    "[ 3 ] 2x no cartão\n",
    "[ 4 ] 3x ou mais no cartão\n",
    "Qual é a opção? '''))\n",
    "\n",
    "if opcao == 1:\n",
    "    compra = preco*0.9\n",
    "elif opcao == 2:\n",
    "    compra = preco*0.95\n",
    "elif opcao == 3:\n",
    "    compra = preco\n",
    "    parcelas = 2\n",
    "    print(f'Sua compra será parcelada em {parcelas}x de {compra/parcelas:.2f} SEM JUROS')\n",
    "elif opcao == 4:\n",
    "    compra = preco*1.2\n",
    "    parcelas = int(input('Quantas parcelas? '))\n",
    "    print(f'Sua compra será parcelada em {parcelas}x de {compra/parcelas:.2f} COM JUROS')\n",
    "print(f'Sua compra de {preco:.2f} vai custar {compra:.2f} no final')"
   ]
  },
  {
   "cell_type": "markdown",
   "id": "41dbbfbe",
   "metadata": {},
   "source": [
    "39. Crie um programa que faça o computador jogar jokenpô com você.\n",
    "\n",
    "Dica: Importe a função randint do módulo random (from random import randint)"
   ]
  },
  {
   "cell_type": "code",
   "execution_count": 7,
   "id": "0ec6d441",
   "metadata": {},
   "outputs": [
    {
     "name": "stdout",
     "output_type": "stream",
     "text": [
      "\n",
      "Suas opções:\n",
      "[ 1 ] PEDRA\n",
      "[ 2 ] PAPEL\n",
      "[ 3 ] TESOURA\n",
      "Qual é a sua jogada?3\n",
      "JO\n",
      "KEN\n",
      "PO!!!\n",
      "-=-=-=-=-=-=-=-=-=-=-=-=\n",
      "Computador jogou Tesoura \n",
      "Jogador jogou Tesoura!\n",
      "-=-=-=-=-=-=-=-=-=-=-=-=\n",
      "EMPATE\n"
     ]
    }
   ],
   "source": [
    "from random import randint\n",
    "from time import sleep\n",
    "\n",
    "itens = ('Pedra', 'Papel', 'Tesoura') # tupla\n",
    "computador = randint(0,2)\n",
    "jogador = int(input('''\n",
    "Suas opções:\n",
    "[ 1 ] PEDRA\n",
    "[ 2 ] PAPEL\n",
    "[ 3 ] TESOURA\n",
    "Qual é a sua jogada?''')) - 1 # é necessário subtrair 1, pois o índice começa em 0\n",
    "\n",
    "print('JO')\n",
    "sleep(1)\n",
    "print('KEN')\n",
    "sleep(1)\n",
    "print('PO!!!')\n",
    "print('-='*12)\n",
    "print(f'Computador jogou {itens[computador]} \\nJogador jogou {itens[jogador]}!')\n",
    "print('-='*12)\n",
    "\n",
    "if computador == 0:\n",
    "    if jogador == 0:\n",
    "        print('EMPATE')\n",
    "    elif jogador == 1:\n",
    "        print('JOGADOR VENCE')\n",
    "    elif jogador ==2:\n",
    "        print('COMPUTADOR VENCE')\n",
    "    else:\n",
    "        print('JOGADA INVÁLIDA!')\n",
    "elif computador == 1:\n",
    "    if jogador == 0:\n",
    "        print('COMPUTADOR VENCE')\n",
    "    elif jogador == 1:\n",
    "        print('EMPATE')\n",
    "    elif jogador ==2:\n",
    "        print('JOGADOR VENCE')\n",
    "    else:\n",
    "        print('JOGADA INVÁLIDA!')\n",
    "elif computador ==2:\n",
    "    if jogador == 0:\n",
    "        print('JOGADOR VENCE')\n",
    "    elif jogador == 1:\n",
    "        print('COMPUTADOR VENCE')\n",
    "    elif jogador ==2:\n",
    "        print('EMPATE')\n",
    "    else:\n",
    "        print('JOGADA INVÁLIDA!')        "
   ]
  },
  {
   "cell_type": "markdown",
   "id": "3b2a3b82",
   "metadata": {},
   "source": [
    "40. Faça um programa que mostre na tela uma contagem regressiva para estouro de fogos de artifício, indo de 10 até 0, com pausa de 1 segundo entre eles.\n",
    "\n",
    "Dica: Importe a função sleep do módulo time (from time import sleep)"
   ]
  },
  {
   "cell_type": "code",
   "execution_count": 33,
   "id": "ad1024e2",
   "metadata": {},
   "outputs": [
    {
     "name": "stdout",
     "output_type": "stream",
     "text": [
      "10\n",
      "9\n",
      "8\n",
      "7\n",
      "6\n",
      "5\n",
      "4\n",
      "3\n",
      "2\n",
      "1\n",
      "0\n",
      "BUM! BUM! POOOW! 🎆\n"
     ]
    }
   ],
   "source": [
    "from time import sleep\n",
    "from emoji import emojize # necessário instalar\n",
    "\n",
    "for c in range(10,-1,-1):\n",
    "    print(c)\n",
    "    sleep(1)\n",
    "print(emojize('BUM! BUM! POOOW! :fireworks:'))"
   ]
  },
  {
   "cell_type": "markdown",
   "id": "54c9a39a",
   "metadata": {},
   "source": [
    "41. Crie um programa que mostre na tela todos os números pares entre 1 e 50."
   ]
  },
  {
   "cell_type": "code",
   "execution_count": 37,
   "id": "93d5c291",
   "metadata": {},
   "outputs": [
    {
     "name": "stdout",
     "output_type": "stream",
     "text": [
      "2 4 6 8 10 12 14 16 18 20 22 24 26 28 30 32 34 36 38 40 42 44 46 48 50 Acabou\n"
     ]
    }
   ],
   "source": [
    "for c in range(2, 51, 2): # começa de 0 e soma 2, portanto: pares\n",
    "    print(c, end=' ')\n",
    "print('Acabou')"
   ]
  },
  {
   "cell_type": "markdown",
   "id": "0ecf6f3b",
   "metadata": {},
   "source": [
    "42. Faça um programa que calcule a soma entre todos os números ímpares que são múltiplos de três e que se encontram no intervalo de 1 até 500."
   ]
  },
  {
   "cell_type": "code",
   "execution_count": 41,
   "id": "431c2a38",
   "metadata": {},
   "outputs": [
    {
     "name": "stdout",
     "output_type": "stream",
     "text": [
      "A soma de todos os 83 valores solicitados é 20667\n"
     ]
    }
   ],
   "source": [
    "soma = 0 # acumulador\n",
    "cont = 0 # contador\n",
    "\n",
    "for c in range(1, 501, 2): # começa de 1 e soma 2, portanto: ímpares\n",
    "    if c % 3 == 0:\n",
    "        soma += c #s = s + c\n",
    "        cont += 1\n",
    "print(f'A soma de todos os {cont} valores solicitados é {soma}')"
   ]
  },
  {
   "cell_type": "markdown",
   "id": "c4579d2c",
   "metadata": {},
   "source": [
    "43. Refaça o exercício 9, mostrando a tabuada de um número que o usuário escolhe, só que agora utilizando o laço for."
   ]
  },
  {
   "cell_type": "code",
   "execution_count": 1,
   "id": "6da8733b",
   "metadata": {},
   "outputs": [
    {
     "name": "stdout",
     "output_type": "stream",
     "text": [
      "Digite um número para ver sua tabuada: 7\n",
      "7 x 1 = 7\n",
      "7 x 2 = 14\n",
      "7 x 3 = 21\n",
      "7 x 4 = 28\n",
      "7 x 5 = 35\n",
      "7 x 6 = 42\n",
      "7 x 7 = 49\n",
      "7 x 8 = 56\n",
      "7 x 9 = 63\n",
      "7 x 10 = 70\n"
     ]
    }
   ],
   "source": [
    "n = int(input('Digite um número para ver sua tabuada: '))\n",
    "\n",
    "for c in range(1, 11):\n",
    "    print(f'{n} x {c} = {n*c}')"
   ]
  },
  {
   "cell_type": "markdown",
   "id": "bd727c95",
   "metadata": {},
   "source": [
    "44. Desenvolva um programa que leia 6 números inteiros e mostre a soma apenas daqueles que forem pares. Se o valor digitado for ímpar, desconsidere-o."
   ]
  },
  {
   "cell_type": "code",
   "execution_count": 2,
   "id": "ddcce339",
   "metadata": {},
   "outputs": [
    {
     "name": "stdout",
     "output_type": "stream",
     "text": [
      "Digite o 1º número: 2\n",
      "Digite o 2º número: 3\n",
      "Digite o 3º número: 4\n",
      "Digite o 4º número: 5\n",
      "Digite o 5º número: 6\n",
      "Digite o 6º número: 7\n",
      "A soma dos 3 números pares é 12\n"
     ]
    }
   ],
   "source": [
    "soma = 0\n",
    "cont = 0\n",
    "\n",
    "for c in range(1, 7):\n",
    "    num = int(input(f'Digite o {c}º número: '))\n",
    "    if num % 2 == 0:\n",
    "        soma += num\n",
    "        cont += 1\n",
    "print(f'A soma dos {cont} números pares é {soma}')"
   ]
  },
  {
   "cell_type": "markdown",
   "id": "9055fb88",
   "metadata": {},
   "source": [
    "45. Desenvolva um programa que leia o **primeiro termo** e a **razão** de uma PA. No final mostre os 10 primeiros termos da progressão."
   ]
  },
  {
   "cell_type": "code",
   "execution_count": 56,
   "id": "720bd23a",
   "metadata": {},
   "outputs": [
    {
     "name": "stdout",
     "output_type": "stream",
     "text": [
      "==============================\n",
      "     10 TERMOS DE UMA PA      \n",
      "==============================\n",
      "Primeiro termo: 5\n",
      "Razão: 5\n",
      "5 ➝ 10 ➝ 15 ➝ 20 ➝ 25 ➝ 30 ➝ 35 ➝ 40 ➝ 45 ➝ 50 ➝ Acabou\n"
     ]
    }
   ],
   "source": [
    "print('='*30)\n",
    "print(f'{\"10 TERMOS DE UMA PA\":^30}')\n",
    "print('='*30)\n",
    "a1 = int(input('Primeiro termo: '))\n",
    "r = int(input('Razão: '))\n",
    "a10 = a1 + (10 - 1) * r #fórmula de an\n",
    "\n",
    "for c in range(a1, a10 + r, r): # [a1, a10 + r)\n",
    "    print(c, end=' ➝ ')\n",
    "print('Acabou')"
   ]
  },
  {
   "cell_type": "markdown",
   "id": "a447c492",
   "metadata": {},
   "source": [
    "46. Faça um programa que leia um número inteiro e diga se ele é ou não um número primo."
   ]
  },
  {
   "cell_type": "code",
   "execution_count": 67,
   "id": "130f1866",
   "metadata": {},
   "outputs": [
    {
     "name": "stdout",
     "output_type": "stream",
     "text": [
      "Digite um número: 14\n",
      "\u001b[34m 1 \u001b[34m 2 \u001b[31m 3 \u001b[31m 4 \u001b[31m 5 \u001b[31m 6 \u001b[34m 7 \u001b[31m 8 \u001b[31m 9 \u001b[31m 10 \u001b[31m 11 \u001b[31m 12 \u001b[31m 13 \u001b[34m 14 \n",
      "\u001b[mO número 14 foi divisível 4 vezes!\n",
      "O número 14 NÃO É PRIMO!\n"
     ]
    }
   ],
   "source": [
    "n = int(input('Digite um número: '))\n",
    "cont = 0\n",
    "\n",
    "for c in range(1, n+1):\n",
    "    if n % c ==0:\n",
    "        print('\\033[34m', end=' ') #azul\n",
    "        cont += 1\n",
    "    else:\n",
    "        print('\\033[31m', end=' ') #vermelho\n",
    "    print(c, end=' ')\n",
    "print(f'\\n\\033[mO número {n} foi divisível {cont} vezes!')\n",
    "\n",
    "if cont == 2:\n",
    "    print(f'O número {n} é PRIMO!')\n",
    "else:\n",
    "    print(f'O número {n} NÃO É PRIMO!')"
   ]
  },
  {
   "cell_type": "markdown",
   "id": "a5cb7d16",
   "metadata": {},
   "source": [
    "47. Crie um programa que leia uma frase qualquer e diga se ela é um palíndromo, desconsiderando os espaços e acentos.\n",
    "\n",
    "Exemplo: Apos a sopa (leia de trás pra frente)"
   ]
  },
  {
   "cell_type": "code",
   "execution_count": 3,
   "id": "71924c0d",
   "metadata": {},
   "outputs": [
    {
     "name": "stdout",
     "output_type": "stream",
     "text": [
      "Digite uma frase: Anotaram a data da maratona\n",
      "O inverso de ANOTARAMADATADAMARATONA é ANOTARAMADATADAMARATONA\n",
      "Temos um palíndromo!\n"
     ]
    }
   ],
   "source": [
    "frase = str(input('Digite uma frase: ')).upper().strip().replace(' ', '')\n",
    "inverso = ''\n",
    "\n",
    "'''\n",
    "for letra in range(len(frase) -1, -1, -1):\n",
    "    inverso += frase[letra]\n",
    "'''\n",
    "\n",
    "inverso = frase[::-1] # fatiamento de string (particularidade do python)\n",
    "\n",
    "print(f'O inverso de {frase} é {inverso}')\n",
    "if inverso == frase:\n",
    "    print('Temos um palíndromo!')\n",
    "else:\n",
    "    print('A frase digitada não é um palíndromo!')"
   ]
  },
  {
   "cell_type": "markdown",
   "id": "48f22a54",
   "metadata": {},
   "source": [
    "48. Crie um programa que leia o ano de nascimento de sete pessoas. No final, mostre quantas pessoas ainda não atingiram a maioridade e quantas já são maiores.\n",
    "\n",
    "Dica: Importe a função date do módulo datetime (from datetime import date)"
   ]
  },
  {
   "cell_type": "code",
   "execution_count": 85,
   "id": "76b0d19b",
   "metadata": {},
   "outputs": [
    {
     "name": "stdout",
     "output_type": "stream",
     "text": [
      "Em que ano a 1ª pessoa nasceu? 2010\n",
      "Em que ano a 2ª pessoa nasceu? 1960\n",
      "Em que ano a 3ª pessoa nasceu? 2011\n",
      "Em que ano a 4ª pessoa nasceu? 1970\n",
      "Em que ano a 5ª pessoa nasceu? 2015\n",
      "Em que ano a 6ª pessoa nasceu? 1940\n",
      "Em que ano a 7ª pessoa nasceu? 2016\n",
      "Ao todo tivemos 3 pessoas maiores de idade \n",
      "E também tivemos 4 pessoas menores de idade\n"
     ]
    }
   ],
   "source": [
    "from datetime import date\n",
    "\n",
    "maior, menor = 0, 0\n",
    "\n",
    "for c in range(1, 8):\n",
    "    nasc = int(input(f'Em que ano a {c}ª pessoa nasceu? '))\n",
    "    idade = date.today().year - nasc\n",
    "    if idade >= 21:\n",
    "        maior +=1\n",
    "    else:\n",
    "        menor +=1\n",
    "print(f'Ao todo tivemos {maior} pessoas maiores de idade \\nE também tivemos {menor} pessoas menores de idade')"
   ]
  },
  {
   "cell_type": "markdown",
   "id": "c29ca264",
   "metadata": {},
   "source": [
    "49. Faça um programa que leia o peso de 5 pessoas. No final, mostre qual foi o maior e o menor peso lidos."
   ]
  },
  {
   "cell_type": "code",
   "execution_count": 5,
   "id": "3bc17ad1",
   "metadata": {},
   "outputs": [
    {
     "name": "stdout",
     "output_type": "stream",
     "text": [
      "Peso(kg) da 1ª pessoa: 32.5\n",
      "Peso(kg) da 2ª pessoa: 69.3\n",
      "Peso(kg) da 3ª pessoa: 54.8\n",
      "Peso(kg) da 4ª pessoa: 86.5\n",
      "Peso(kg) da 5ª pessoa: 42.5\n",
      "O maior peso lido foi de 86.5kg \n",
      "E o menor peso lido foi de 32.5kg\n"
     ]
    }
   ],
   "source": [
    "for c in range(1, 6):\n",
    "    peso = float(input(f'Peso(kg) da {c}ª pessoa: '))\n",
    "    if c == 1:\n",
    "        maior = peso\n",
    "        menor = peso\n",
    "    else:\n",
    "        if peso > maior:\n",
    "            maior = peso\n",
    "        elif peso < menor:\n",
    "            menor = peso\n",
    "print(f'O maior peso lido foi de {maior}kg \\nE o menor peso lido foi de {menor}kg')"
   ]
  },
  {
   "cell_type": "markdown",
   "id": "4c84b486",
   "metadata": {},
   "source": [
    "50. Desenvolva um programa que leia nome, idade e sexo de 4 pessoas. No final do programa, mostre:\n",
    "- A média de idade do grupo\n",
    "- Qual é o nome do homem mais velho\n",
    "- Quantas mulheres têm menos de 20 anos."
   ]
  },
  {
   "cell_type": "code",
   "execution_count": 11,
   "id": "13887d7b",
   "metadata": {},
   "outputs": [
    {
     "name": "stdout",
     "output_type": "stream",
     "text": [
      "----- 1ª pessoa -----\n",
      "Nome: Jéssica\n",
      "Idade: 23\n",
      "Sexo [M/F]: F\n",
      "----- 2ª pessoa -----\n",
      "Nome: Cláudio\n",
      "Idade: 12\n",
      "Sexo [M/F]: M\n",
      "----- 3ª pessoa -----\n",
      "Nome: Pedro\n",
      "Idade: 75\n",
      "Sexo [M/F]: M\n",
      "----- 4ª pessoa -----\n",
      "Nome: Maria\n",
      "Idade: 15\n",
      "Sexo [M/F]: F\n",
      "A média de idade do grupo é de 31.2 anos\n",
      "O homem mais velho tem 75 anos e se chama Pedro\n",
      "Ao todo são 1 mulheres com menos de 20 anos\n"
     ]
    }
   ],
   "source": [
    "soma_idade = 0\n",
    "maior_idade_homem = 0\n",
    "nome_velho = ''\n",
    "count_mulher_20 = 0\n",
    "\n",
    "for c in range(1, 5):\n",
    "    print('-'*5, f'{c}ª pessoa','-'*5)\n",
    "    nome = str(input('Nome: ')).strip()\n",
    "    idade = int(input('Idade: '))\n",
    "    sexo = str(input('Sexo [M/F]: ')).strip()\n",
    "    soma_idade += idade\n",
    "    if sexo in 'Mm' and idade > maior_idade_homem:\n",
    "        maior_idade_homem = idade\n",
    "        nome_velho = nome\n",
    "    if sexo in 'Ff' and idade < 20:\n",
    "        count_mulher_20 += 1\n",
    "\n",
    "media = soma_idade/c\n",
    "\n",
    "print(f'A média de idade do grupo é de {media:.1f} anos')\n",
    "print(f'O homem mais velho tem {maior_idade_homem} anos e se chama {nome_velho}')\n",
    "print(f'Ao todo são {count_mulher_20} mulheres com menos de 20 anos')"
   ]
  },
  {
   "cell_type": "markdown",
   "id": "d9b0e44e",
   "metadata": {},
   "source": [
    "51. Faça um programa que leia sexo de uma pessoa, mas só aceite os valores M ou F. Caso esteja errado, peça a digitação novamente até ter um valor correto."
   ]
  },
  {
   "cell_type": "code",
   "execution_count": 5,
   "id": "68a863f9",
   "metadata": {},
   "outputs": [
    {
     "name": "stdout",
     "output_type": "stream",
     "text": [
      "Informe seu sexo [M/F]: n\n",
      "Dados inválidos. Por favor, informe seu sexo [M/F]:    l\n",
      "Dados inválidos. Por favor, informe seu sexo [M/F]: k   \n",
      "Dados inválidos. Por favor, informe seu sexo [M/F]:   Feminino\n",
      "Sexo F registrado com sucesso\n"
     ]
    }
   ],
   "source": [
    "sexo = str(input('Informe seu sexo [M/F]: ')).strip().upper()[0]\n",
    "\n",
    "while sexo not in 'MmFf': # validação\n",
    "    sexo = str(input('Dados inválidos. Por favor, informe seu sexo [M/F]: ')).strip().upper()[0]\n",
    "print(f'Sexo {sexo} registrado com sucesso')"
   ]
  },
  {
   "cell_type": "markdown",
   "id": "e3c8ff52",
   "metadata": {},
   "source": [
    "52. Melhore o jogo do exercício 22, onde o computador vai \"pensar\" em um número entre 0 e 10. Só que agora o jogador vai tentar advinhar até acertar, mostrando no final quantos palpites foram necessários para vencer."
   ]
  },
  {
   "cell_type": "code",
   "execution_count": 14,
   "id": "64f5e43f",
   "metadata": {},
   "outputs": [
    {
     "name": "stdout",
     "output_type": "stream",
     "text": [
      "Sou seu computador...\n",
      "Acabei de pensar em um número entre 0 e 10.\n",
      "Será que você consegue advinhar qual foi?\n",
      "Qual é o seu palpite? 2\n",
      "Mais... tente mais uma vez.\n",
      "Qual é o seu palpite? 9\n",
      "Menos... tente mais uma vez.\n",
      "Qual é o seu palpite? 5\n",
      "Menos... tente mais uma vez.\n",
      "Qual é o seu palpite? 4\n",
      "Acertou com 4 tentativas. Parabéns!\n"
     ]
    }
   ],
   "source": [
    "from random import randint\n",
    "\n",
    "computador = randint(0, 10)\n",
    "print('''Sou seu computador...\n",
    "Acabei de pensar em um número entre 0 e 10.\n",
    "Será que você consegue advinhar qual foi?''')\n",
    "acertou = False\n",
    "palpites = 0\n",
    "\n",
    "while not acertou: # validação\n",
    "    jogador = int(input('Qual é o seu palpite? '))\n",
    "    palpites += 1\n",
    "    if jogador == computador:\n",
    "        acertou = True\n",
    "    else:\n",
    "        if jogador < computador:\n",
    "            print('Mais... tente mais uma vez.')\n",
    "        else:\n",
    "            print('Menos... tente mais uma vez.')\n",
    "print(f'Acertou com {palpites} tentativas. Parabéns!')"
   ]
  },
  {
   "cell_type": "markdown",
   "id": "0032c5b1",
   "metadata": {},
   "source": [
    "53. Crie um programa que leia 2 valores e mostre um menu na tela:\n",
    "- [1] Somar\n",
    "- [2] multiplicar\n",
    "- [3] maior\n",
    "- [4] novos números\n",
    "- [5] sair\n",
    "\n",
    "Seu programa deverá realizar a operação solicitada em cada caso."
   ]
  },
  {
   "cell_type": "code",
   "execution_count": 22,
   "id": "ce022263",
   "metadata": {},
   "outputs": [
    {
     "name": "stdout",
     "output_type": "stream",
     "text": [
      "Primeiro valor: 6\n",
      "Segundo valor: 0\n",
      "O que deseja fazer?\n",
      "    [ 1 ] Somar\n",
      "    [ 2 ] Multiplicar\n",
      "    [ 3 ] Maior\n",
      "    [ 4 ] Novos números\n",
      "    [ 5 ] Sair\n",
      ">>> Qual é a sua opção? 1\n",
      "A soma de 6 + 0 é 6\n",
      "=-==-==-==-==-==-==-==-==-==-=\n",
      "O que deseja fazer?\n",
      "    [ 1 ] Somar\n",
      "    [ 2 ] Multiplicar\n",
      "    [ 3 ] Maior\n",
      "    [ 4 ] Novos números\n",
      "    [ 5 ] Sair\n",
      ">>> Qual é a sua opção? 2\n",
      "O produto entre 6 x 0 é 0\n",
      "=-==-==-==-==-==-==-==-==-==-=\n",
      "O que deseja fazer?\n",
      "    [ 1 ] Somar\n",
      "    [ 2 ] Multiplicar\n",
      "    [ 3 ] Maior\n",
      "    [ 4 ] Novos números\n",
      "    [ 5 ] Sair\n",
      ">>> Qual é a sua opção? 3\n",
      "O maior valor entre 6 e 0 é 6\n",
      "=-==-==-==-==-==-==-==-==-==-=\n",
      "O que deseja fazer?\n",
      "    [ 1 ] Somar\n",
      "    [ 2 ] Multiplicar\n",
      "    [ 3 ] Maior\n",
      "    [ 4 ] Novos números\n",
      "    [ 5 ] Sair\n",
      ">>> Qual é a sua opção? 4\n",
      "Informe os números novamente:\n",
      "Primeiro valor: 3\n",
      "Segundo valor: 5\n",
      "=-==-==-==-==-==-==-==-==-==-=\n",
      "O que deseja fazer?\n",
      "    [ 1 ] Somar\n",
      "    [ 2 ] Multiplicar\n",
      "    [ 3 ] Maior\n",
      "    [ 4 ] Novos números\n",
      "    [ 5 ] Sair\n",
      ">>> Qual é a sua opção? 5\n",
      "Saindo...\n",
      "=-==-==-==-==-==-==-==-==-==-=\n",
      "Fim do programa. Volte sempre.\n"
     ]
    }
   ],
   "source": [
    "from time import sleep\n",
    "\n",
    "n1 = int(input('Primeiro valor: '))\n",
    "n2 = int(input('Segundo valor: '))\n",
    "opcao = 0\n",
    "\n",
    "while opcao != 5:\n",
    "    print('''O que deseja fazer?\n",
    "    [ 1 ] Somar\n",
    "    [ 2 ] Multiplicar\n",
    "    [ 3 ] Maior\n",
    "    [ 4 ] Novos números\n",
    "    [ 5 ] Sair''')\n",
    "    opcao = int(input('>>> Qual é a sua opção? '))\n",
    "    if opcao == 1:\n",
    "        soma = n1 + n2\n",
    "        print(f'A soma de {n1} + {n2} é {soma}')\n",
    "    elif opcao == 2:\n",
    "        produto = n1 * n2\n",
    "        print(f'O produto entre {n1} x {n2} é {produto}')\n",
    "    elif opcao == 3:\n",
    "        if n1 > n2:\n",
    "            maior = n1\n",
    "        else:\n",
    "            maior = n2\n",
    "        print(f'O maior valor entre {n1} e {n2} é {maior}')\n",
    "    elif opcao == 4:\n",
    "        print('Informe os números novamente:')\n",
    "        n1 = int(input('Primeiro valor: '))\n",
    "        n2 = int(input('Segundo valor: '))\n",
    "    elif menu == 5:\n",
    "        print('Saindo...')\n",
    "    else:\n",
    "        print('Opção inválida. Tente novamente.')\n",
    "    print('=-='*10)\n",
    "    sleep(2)\n",
    "print('Fim do programa. Volte sempre.')"
   ]
  },
  {
   "cell_type": "markdown",
   "id": "880eaecf",
   "metadata": {},
   "source": [
    "54. Faça um programa que leia um número qualquer e mostre seu fatorial."
   ]
  },
  {
   "cell_type": "code",
   "execution_count": 26,
   "id": "97dd385f",
   "metadata": {},
   "outputs": [
    {
     "name": "stdout",
     "output_type": "stream",
     "text": [
      "Digite um número para \n",
      "calcular seu fatorial: 5\n",
      "O fatorial de 5 é 120\n"
     ]
    }
   ],
   "source": [
    "# usando módulo math\n",
    "\n",
    "from math import factorial\n",
    "\n",
    "num = int(input('Digite um número para \\ncalcular seu fatorial: '))\n",
    "fat = factorial(num)\n",
    "\n",
    "print(f'O fatorial de {num} é {fat}')"
   ]
  },
  {
   "cell_type": "code",
   "execution_count": 1,
   "id": "09754667",
   "metadata": {},
   "outputs": [
    {
     "name": "stdout",
     "output_type": "stream",
     "text": [
      "Digite um número para calcular seu fatorial: 5\n",
      "Calculando 5! = 5 x 4 x 3 x 2 x 1 x 0! = 120\n"
     ]
    }
   ],
   "source": [
    "from time import sleep\n",
    "\n",
    "num = c = int(input('Digite um número para calcular seu fatorial: '))\n",
    "fat = 1\n",
    "\n",
    "print(f'Calculando {num}! = ', end='')\n",
    "sleep(2)\n",
    "while c > 0:\n",
    "    print(c, end=' ')\n",
    "    print('x ' if c > 1 else 'x 0! = ', end='')\n",
    "    fat *= c\n",
    "    c -= 1\n",
    "print(fat)"
   ]
  },
  {
   "cell_type": "markdown",
   "id": "55a82f8c",
   "metadata": {},
   "source": [
    "55. Refaça o exercício 45, lendo o **primeiro termo** e a **razão** de uma PA, mostrando os 10 primeiros termos da progressão usando a estrutura while."
   ]
  },
  {
   "cell_type": "code",
   "execution_count": 53,
   "id": "447dd3ab",
   "metadata": {},
   "outputs": [
    {
     "name": "stdout",
     "output_type": "stream",
     "text": [
      "==============================\n",
      "     10 TERMOS DE UMA PA      \n",
      "==============================\n",
      "Primeiro termo: 2\n",
      "Razão: 4\n",
      "2 ➝ 6 ➝ 10 ➝ 14 ➝ 18 ➝ 22 ➝ 26 ➝ 30 ➝ 34 ➝ 38 ➝ Acabou\n"
     ]
    }
   ],
   "source": [
    "print('='*30)\n",
    "print(f'{\"10 TERMOS DE UMA PA\":^30}')\n",
    "print('='*30)\n",
    "a1 = int(input('Primeiro termo: '))\n",
    "r = int(input('Razão: '))\n",
    "termo = a1 # inicializando\n",
    "cont = 1 # contador\n",
    "\n",
    "while cont <= 10:\n",
    "    print(termo, end=' ➝ ')\n",
    "    termo += r\n",
    "    cont +=1\n",
    "print('Acabou')"
   ]
  },
  {
   "cell_type": "markdown",
   "id": "2530b0b4",
   "metadata": {},
   "source": [
    "56. Melhore o exercício 55, perguntando para o usuário se ele quer mostrar mais alguns termos. O programa encerra quando ele disser que quer mostrar 0 termos."
   ]
  },
  {
   "cell_type": "code",
   "execution_count": 60,
   "id": "4bbea134",
   "metadata": {},
   "outputs": [
    {
     "name": "stdout",
     "output_type": "stream",
     "text": [
      "==============================\n",
      "        GERADOR DE PA         \n",
      "==============================\n",
      "Primeiro termo: 0\n",
      "Razão: 5\n",
      "0 ➝ 5 ➝ 10 ➝ 15 ➝ 20 ➝ 25 ➝ 30 ➝ 35 ➝ 40 ➝ 45 ➝ PAUSA\n",
      "Quantos termos você quer mostrar a mais? 5\n",
      "50 ➝ 55 ➝ 60 ➝ 65 ➝ 70 ➝ PAUSA\n",
      "Quantos termos você quer mostrar a mais? 10\n",
      "75 ➝ 80 ➝ 85 ➝ 90 ➝ 95 ➝ 100 ➝ 105 ➝ 110 ➝ 115 ➝ 120 ➝ PAUSA\n",
      "Quantos termos você quer mostrar a mais? 2\n",
      "125 ➝ 130 ➝ PAUSA\n",
      "Quantos termos você quer mostrar a mais? 0\n",
      "A progressão foi finalizada com 27 termos mostrados.\n"
     ]
    }
   ],
   "source": [
    "print('='*30)\n",
    "print(f'{\"GERADOR DE PA\":^30}')\n",
    "print('='*30)\n",
    "a1 = int(input('Primeiro termo: '))\n",
    "r = int(input('Razão: '))\n",
    "termo = a1 # inicializando\n",
    "cont = 1 # contador\n",
    "mais = 10 # continua mostrando os 10 primeiros termos\n",
    "total = 0\n",
    "\n",
    "while mais != 0:\n",
    "    total += mais\n",
    "    while cont <= total:\n",
    "        print(termo, end=' ➝ ')\n",
    "        termo += r\n",
    "        cont +=1\n",
    "    print('PAUSA')\n",
    "    mais = int(input('Quantos termos você quer mostrar a mais? '))\n",
    "print(f'A progressão foi finalizada com {total} termos mostrados.')"
   ]
  },
  {
   "cell_type": "markdown",
   "id": "fe0cb6f3",
   "metadata": {},
   "source": [
    "57. Escreva um programa que leia um número inteiro n qualquer e mostre na tela os n primeiros elementos de uma sequência de fibonacci."
   ]
  },
  {
   "cell_type": "code",
   "execution_count": 1,
   "id": "f98da882",
   "metadata": {},
   "outputs": [
    {
     "name": "stdout",
     "output_type": "stream",
     "text": [
      "------------------------------\n",
      "Sequência de Fibonacci\n",
      "------------------------------\n",
      "Quantos termos deseja mostrar? 8\n",
      "~~~~~~~~~~~~~~~~~~~~~~~~~~~~~~\n",
      "0 ➝ 1 ➝ 1 ➝ 2 ➝ 3 ➝ 5 ➝ 8 ➝ 13 ➝ FIM\n",
      "~~~~~~~~~~~~~~~~~~~~~~~~~~~~~~\n"
     ]
    }
   ],
   "source": [
    "print('-'*30)\n",
    "print('Sequência de Fibonacci')\n",
    "print('-'*30)\n",
    "n = int(input('Quantos termos deseja mostrar? '))\n",
    "\n",
    "a1 = 0\n",
    "a2 = 1\n",
    "fibo = a1 # inicializando\n",
    "cont = 1 # contador\n",
    "print('~'*30)\n",
    "\n",
    "while cont <= n:\n",
    "    print(fibo, end=' ➝ ')\n",
    "    a1 = a2\n",
    "    a2 = fibo\n",
    "    fibo = a1 + a2\n",
    "    cont += 1\n",
    "print('FIM')\n",
    "print('~'*30)"
   ]
  },
  {
   "cell_type": "markdown",
   "id": "37bdd3b0",
   "metadata": {},
   "source": [
    "58. Crie um programa que leia vários números inteiros pelo teclado. O programa só vai parar quando o usuário digitar 999, que é a condição de parada. No final, mostre quantos números foram digitados e qual foi a soma entre eles (desconsiderando o flag)."
   ]
  },
  {
   "cell_type": "code",
   "execution_count": 22,
   "id": "0bbab533",
   "metadata": {},
   "outputs": [
    {
     "name": "stdout",
     "output_type": "stream",
     "text": [
      "Digite um número [999 para parar]: 8\n",
      "Digite um número [999 para parar]: 2\n",
      "Digite um número [999 para parar]: 1\n",
      "Digite um número [999 para parar]: 7\n",
      "Digite um número [999 para parar]: 999\n",
      "Você digitou 4 números e a soma entre eles foi 18\n"
     ]
    }
   ],
   "source": [
    "soma = cont = 0\n",
    "num = int(input('Digite um número [999 para parar]: '))\n",
    "\n",
    "while num != 999:\n",
    "    soma += num\n",
    "    cont +=1\n",
    "    num = int(input('Digite um número [999 para parar]: '))\n",
    "print(f'Você digitou {cont} números e a soma entre eles foi {soma}')"
   ]
  },
  {
   "cell_type": "markdown",
   "id": "11c350f7",
   "metadata": {},
   "source": [
    "59. Crie um programa que leia vários números inteiros pelo teclado. No final da execução, mostre a média entre todos os valores e quais foram o maior e menor valores lidos. O programa deve perguntar ao usuário se ele quer ou não continuar a digitar os valores."
   ]
  },
  {
   "cell_type": "code",
   "execution_count": 27,
   "id": "a7f150f9",
   "metadata": {},
   "outputs": [
    {
     "name": "stdout",
     "output_type": "stream",
     "text": [
      "Digite um número: 4\n",
      "Deseja continuar? [S/N]s\n",
      "Digite um número: 2\n",
      "Deseja continuar? [S/N]s\n",
      "Digite um número: 8\n",
      "Deseja continuar? [S/N]s\n",
      "Digite um número: 9\n",
      "Deseja continuar? [S/N]n\n",
      "Você digitou 4 números e a média foi de 5.75\n",
      "O maior valor foi 9 e o menor foi 2\n"
     ]
    }
   ],
   "source": [
    "soma = cont = 0\n",
    "resp = 'S'\n",
    "\n",
    "while resp in 'Ss':\n",
    "    num = int(input('Digite um número: '))\n",
    "    soma += num\n",
    "    cont += 1\n",
    "    if cont == 1:\n",
    "        maior = menor = num\n",
    "    else:\n",
    "        if num > maior:\n",
    "            maior = num\n",
    "        if num < menor:\n",
    "            menor = num\n",
    "    resp = str(input('Deseja continuar? [S/N]')).upper().strip()[0]\n",
    "\n",
    "media = soma/cont # calcular media no final para não ficar calculando na repetição\n",
    "\n",
    "print(f'Você digitou {cont} números e a média foi de {media:.2f}')\n",
    "print(f'O maior valor foi {maior} e o menor foi {menor}')"
   ]
  },
  {
   "cell_type": "markdown",
   "id": "f20f4866",
   "metadata": {},
   "source": [
    "60. Crie um programa que leia vários números inteiros pelo teclado. O programa só vai parar quando o usuário digitar o valor 999, que é a condição de parada. No final, mostre quantos números foram digitados e qual foi a soma entre eles (desconsiderando o flag)."
   ]
  },
  {
   "cell_type": "code",
   "execution_count": 2,
   "id": "7f0be8c1",
   "metadata": {},
   "outputs": [
    {
     "name": "stdout",
     "output_type": "stream",
     "text": [
      "Digite um valor [999 para parar]: 3\n",
      "Digite um valor [999 para parar]: 8\n",
      "Digite um valor [999 para parar]: 1\n",
      "Digite um valor [999 para parar]: 7\n",
      "Digite um valor [999 para parar]: 999\n",
      "A soma dos 4 valores foi 19\n"
     ]
    }
   ],
   "source": [
    "cont = soma = 0\n",
    "\n",
    "while True:\n",
    "    num = int(input('Digite um valor [999 para parar]: '))\n",
    "    if num == 999: # flag\n",
    "        break\n",
    "    cont += 1 # vem depois, pois assim não conta o flag\n",
    "    soma += num # vem depois, pois assim não soma o flag\n",
    "print(f'A soma dos {cont} valores foi {soma}')"
   ]
  },
  {
   "cell_type": "markdown",
   "id": "1343dda2",
   "metadata": {},
   "source": [
    "61. Faça um programa que mostre a tabuada de vários números, um de cada vez, para cada valor digitado pelo usuário. O programa será interrompido quando o número solicitado for negativo."
   ]
  },
  {
   "cell_type": "code",
   "execution_count": 11,
   "id": "ed69e9ca",
   "metadata": {},
   "outputs": [
    {
     "name": "stdout",
     "output_type": "stream",
     "text": [
      "Quer ver a tabuada de qual valor? 6\n",
      "--------------------\n",
      "6 x 1 = 6\n",
      "6 x 2 = 12\n",
      "6 x 3 = 18\n",
      "6 x 4 = 24\n",
      "6 x 5 = 30\n",
      "6 x 6 = 36\n",
      "6 x 7 = 42\n",
      "6 x 8 = 48\n",
      "6 x 9 = 54\n",
      "6 x 10 = 60\n",
      "--------------------\n",
      "Quer ver a tabuada de qual valor? 9\n",
      "--------------------\n",
      "9 x 1 = 9\n",
      "9 x 2 = 18\n",
      "9 x 3 = 27\n",
      "9 x 4 = 36\n",
      "9 x 5 = 45\n",
      "9 x 6 = 54\n",
      "9 x 7 = 63\n",
      "9 x 8 = 72\n",
      "9 x 9 = 81\n",
      "9 x 10 = 90\n",
      "--------------------\n",
      "Quer ver a tabuada de qual valor? -9\n",
      "--------------------\n",
      "PROGRAMA DE TABUADA ENCERRADO. Volte sempre!\n"
     ]
    }
   ],
   "source": [
    "while True:\n",
    "    num = int(input('Quer ver a tabuada de qual valor? '))\n",
    "    print('-'*20)\n",
    "    if num < 0: #flag\n",
    "        break\n",
    "    for c in range(1, 11):\n",
    "        print(f'{num} x {c} = {num*c}')\n",
    "    print('-'*20)\n",
    "print('PROGRAMA DE TABUADA ENCERRADO. Volte sempre!')"
   ]
  },
  {
   "cell_type": "markdown",
   "id": "d41bd297",
   "metadata": {},
   "source": [
    "62. Faça um programa que jogue par ou ímpar com o computador. O jogo será interrompido quando o jogador perder, mostrando o total de vitórias consecutivas que ele conquistou no final do jogo."
   ]
  },
  {
   "cell_type": "code",
   "execution_count": 3,
   "id": "21c244c6",
   "metadata": {},
   "outputs": [
    {
     "name": "stdout",
     "output_type": "stream",
     "text": [
      "=-=-=-=-=-=-=-=-=-=-=-=-=-=-=-=-=-=-=-=-\n",
      "VAMOS JOGAR PAR OU ÍMPAR\n",
      "=-=-=-=-=-=-=-=-=-=-=-=-=-=-=-=-=-=-=-=-\n",
      "Diga um valor: 10\n",
      "Par ou Ímpar? [P/I] par\n",
      "Você jogou 10 e o computador 10. A soma é 20. DEU PAR\n",
      "Você VENCEU!\n",
      "Vamos jogar novamente...\n",
      "Diga um valor: 9\n",
      "Par ou Ímpar? [P/I] par\n",
      "Você jogou 9 e o computador 6. A soma é 15. DEU ÍMPAR\n",
      "Você PERDEU!\n",
      "GAME OVER! Você venceu 1 vezes\n"
     ]
    }
   ],
   "source": [
    "from random import randint\n",
    "\n",
    "print('=-'*20)\n",
    "print('VAMOS JOGAR PAR OU ÍMPAR')\n",
    "print('=-'*20)\n",
    "vitorias = 0\n",
    "\n",
    "while True:\n",
    "    jogador = int(input('Diga um valor: '))\n",
    "    computador = randint(0, 10)\n",
    "    soma = jogador + computador\n",
    "    escolha = ' ' # esvaziar escolha quando reiniciar\n",
    "    while escolha not in 'PI':\n",
    "        escolha = str(input('Par ou Ímpar? [P/I] ')).upper().strip()[0]\n",
    "    print(f'Você jogou {jogador} e o computador {computador}. A soma é {soma}. ', end ='')\n",
    "    print('DEU PAR' if soma % 2 == 0 else 'DEU ÍMPAR')\n",
    "    if escolha == 'P':\n",
    "        if soma % 2 == 0:\n",
    "            print('Você VENCEU!')\n",
    "            vitorias += 1\n",
    "        else:\n",
    "            print('Você PERDEU!')\n",
    "            break\n",
    "    elif escolha == 'I':\n",
    "        if soma % 2 == 1:\n",
    "            print('Você VENCEU!')\n",
    "            vitorias += 1\n",
    "        else:\n",
    "            print('Você PERDEU!')\n",
    "            break\n",
    "    print('Vamos jogar novamente...')\n",
    "print(f'GAME OVER! Você venceu {vitorias} vezes')"
   ]
  },
  {
   "cell_type": "markdown",
   "id": "8764e2a1",
   "metadata": {},
   "source": [
    "63. Crie um programa que leia a idade e o sexo de várias pessoas. A cada pessoa cadastrada, o programa deverá perguntar se o usuário quer ou não continuar. No final, mostre:\n",
    "- Quantas pessoas tem mais de 18 anos.\n",
    "- Quantos homens foram cadastrados.\n",
    "- Quantas mulheres tem menos de 20 anos."
   ]
  },
  {
   "cell_type": "code",
   "execution_count": 23,
   "id": "c1077a1c",
   "metadata": {},
   "outputs": [
    {
     "name": "stdout",
     "output_type": "stream",
     "text": [
      "------------------------------\n",
      "     CADASTRE UMA PESSOA      \n",
      "------------------------------\n",
      "Idade: 22\n",
      "Sexo: [M/F] m\n",
      "------------------------------\n",
      "Quer continuar? [S/N] s\n",
      "------------------------------\n",
      "     CADASTRE UMA PESSOA      \n",
      "------------------------------\n",
      "Idade: 16\n",
      "Sexo: [M/F] f\n",
      "------------------------------\n",
      "Quer continuar? [S/N] s\n",
      "------------------------------\n",
      "     CADASTRE UMA PESSOA      \n",
      "------------------------------\n",
      "Idade: 45\n",
      "Sexo: [M/F] f\n",
      "------------------------------\n",
      "Quer continuar? [S/N] s\n",
      "------------------------------\n",
      "     CADASTRE UMA PESSOA      \n",
      "------------------------------\n",
      "Idade: 12\n",
      "Sexo: [M/F] m\n",
      "------------------------------\n",
      "Quer continuar? [S/N] n\n",
      "O total de pessoas com mais de 18 anos é 2.\n",
      "Ao todo temos 2 homens cadastrados.\n",
      "E temos 1 mulheres com menos de 20 anos.\n"
     ]
    }
   ],
   "source": [
    "tot18 = toth = totm20 = 0\n",
    "\n",
    "while True:\n",
    "    print('-'*30)\n",
    "    print(f'{\"CADASTRE UMA PESSOA\":^30}')\n",
    "    print('-'*30)\n",
    "    idade = int(input('Idade: '))\n",
    "    sexo = ' ' # limpa a variável quando reiniciar o loop\n",
    "    while sexo not in 'MF':\n",
    "        sexo = str(input('Sexo: [M/F] ')).strip().upper()[0]\n",
    "    print('-'*30)\n",
    "    if idade >= 18:\n",
    "        tot18 += 1\n",
    "    if sexo == 'M':\n",
    "        toth += 1\n",
    "    if sexo == 'F' and idade < 20:\n",
    "        totm20 += 1\n",
    "    resp = ' ' # limpa a variável quando reiniciar o loop\n",
    "    while resp not in 'SN':\n",
    "        resp = str(input('Quer continuar? [S/N] ')).strip().upper()[0]\n",
    "    if resp == 'N':\n",
    "        break # não reinicia o loop\n",
    "\n",
    "print(f'O total de pessoas com mais de 18 anos é {tot18}.')\n",
    "print(f'Ao todo temos {toth} homens cadastrados.')\n",
    "print(f'E temos {totm20} mulheres com menos de 20 anos.')"
   ]
  },
  {
   "cell_type": "markdown",
   "id": "80c8b5a4",
   "metadata": {},
   "source": [
    "64. Crie um programa que leia o nome e o preço de vários produtos. O programa deverá perguntar se o usuário vai continuar. No final, mostre:\n",
    "- Qual é o total gasto na compra.\n",
    "- Quantos produtos custam mais de 1000.\n",
    "- Qual é o nome do produto mais barato."
   ]
  },
  {
   "cell_type": "code",
   "execution_count": 31,
   "id": "1253ec04",
   "metadata": {},
   "outputs": [
    {
     "name": "stdout",
     "output_type": "stream",
     "text": [
      "------------------------------\n",
      "      LOJA SUPER BARATÃO      \n",
      "------------------------------\n",
      "Nome do Produto: Lapiseira\n",
      "Preço: R$6\n",
      "Quer continuar? [S/N]s\n",
      "Nome do Produto: Caderno\n",
      "Preço: R$25\n",
      "Quer continuar? [S/N]s\n",
      "Nome do Produto: Computador\n",
      "Preço: R$12000\n",
      "Quer continuar? [S/N]s\n",
      "Nome do Produto: Impressora\n",
      "Preço: R$750\n",
      "Quer continuar? [S/N]n\n",
      "----------- FIM DO PROGRAMA ------------\n",
      "O total da compra foi R$12781.00\n",
      "Temos 1 produtos custando mais de R$1000\n",
      "O produto mais barato foi Lapiseira que custa R$6.00\n"
     ]
    }
   ],
   "source": [
    "total = totmil = cont = 0\n",
    "\n",
    "print('-'*30)\n",
    "print(f'{\"LOJA SUPER BARATÃO\":^30}')\n",
    "print('-'*30)\n",
    "\n",
    "while True:\n",
    "    produto = str(input('Nome do Produto: ')).strip()\n",
    "    preco = float(input('Preço: R$'))\n",
    "    cont += 1 # necessário para saber se é o primeiro\n",
    "    total += preco\n",
    "    if preco > 1000:\n",
    "        totmil += 1\n",
    "    if cont == 1 or preco < menor: #usa o or para simplificar e não ter 2 blocos iguais\n",
    "        menor = preco\n",
    "        barato = produto\n",
    "    resp = ' '\n",
    "    while resp not in 'SN':\n",
    "        resp = str(input('Quer continuar? [S/N]')).upper().strip()[0]\n",
    "    if resp == 'N':\n",
    "        break\n",
    "\n",
    "print(f'{\" FIM DO PROGRAMA \":-^40}')\n",
    "print(f'O total da compra foi R${total:.2f}')\n",
    "print(f'Temos {totmil} produtos custando mais de R$1000')\n",
    "print(f'O produto mais barato foi {barato} que custa R${menor:.2f}')"
   ]
  },
  {
   "cell_type": "markdown",
   "id": "6c49b7fe",
   "metadata": {},
   "source": [
    "65. Crie um programa que simule o funcionamento de um caixa eletrônico. No início, pergunte ao usuário qual será o valor a ser sacado (número inteiro) e o programa vai informar quantas cédulas de cada valor serão entregues. \n",
    "\n",
    "Obs.: Considere que o caixa possui cédulas de RS50, RS20, RS10 e RS1."
   ]
  },
  {
   "cell_type": "code",
   "execution_count": 10,
   "id": "0556fb82",
   "metadata": {},
   "outputs": [
    {
     "name": "stdout",
     "output_type": "stream",
     "text": [
      "==============================\n",
      "          BANCO CEV           \n",
      "==============================\n",
      "Que valor você quer sacar? R$134\n",
      "Total de 2 cédulas de R$50\n",
      "Total de 1 cédulas de R$20\n",
      "Total de 1 cédulas de R$10\n",
      "Total de 4 cédulas de R$1\n",
      "==============================\n",
      "Volte sempre ao BANCO CEV! Tenha um bom dia!\n"
     ]
    }
   ],
   "source": [
    "print('='*30)\n",
    "print(f'{\"BANCO CEV\":^30}')\n",
    "print('='*30)\n",
    "valor = int(input('Que valor você quer sacar? R$'))\n",
    "total = valor\n",
    "cedula = 50\n",
    "total_cedula = 0\n",
    "\n",
    "while True:\n",
    "    if total >= cedula: \n",
    "        total -= cedula \n",
    "        total_cedula += 1 \n",
    "    else:\n",
    "        if total_cedula > 0:\n",
    "            print(f'Total de {total_cedula} cédulas de R${cedula}')\n",
    "        if cedula == 50:\n",
    "            cedula = 20\n",
    "        elif cedula == 20:\n",
    "            cedula = 10\n",
    "        elif cedula == 10:\n",
    "            cedula = 1\n",
    "        total_cedula = 0\n",
    "        if total == 0:\n",
    "            break\n",
    "\n",
    "print('='*30)\n",
    "print('Volte sempre ao BANCO CEV! Tenha um bom dia!')    "
   ]
  },
  {
   "cell_type": "code",
   "execution_count": 9,
   "id": "d1069fa0",
   "metadata": {},
   "outputs": [
    {
     "name": "stdout",
     "output_type": "stream",
     "text": [
      "==============================\n",
      "          BANCO CEV           \n",
      "==============================\n",
      "Que valor você quer sacar? R$134\n",
      "Total de 2 cédulas de R$50\n",
      "Total de 1 cédulas de R$20\n",
      "Total de 1 cédulas de R$10\n",
      "Total de 4 cédulas de R$1\n",
      "==============================\n",
      "Volte sempre ao BANCO CEV! Tenha um bom dia!\n"
     ]
    }
   ],
   "source": [
    "print('='*30)\n",
    "print(f'{\"BANCO CEV\":^30}')\n",
    "print('='*30)\n",
    "valor = int(input('Que valor você quer sacar? R$'))\n",
    "cedula = 50\n",
    "\n",
    "while True:\n",
    "    if valor >= cedula:\n",
    "        total_cedula = valor // cedula\n",
    "        valor %= cedula\n",
    "        print(f'Total de {total_cedula} cédulas de R${cedula}')\n",
    "        if valor == 0:\n",
    "            break\n",
    "    else:\n",
    "        if cedula == 50:\n",
    "            cedula = 20\n",
    "        elif cedula == 20:\n",
    "            cedula = 10\n",
    "        elif cedula == 10:\n",
    "            cedula = 1\n",
    "\n",
    "print('='*30)\n",
    "print('Volte sempre ao BANCO CEV! Tenha um bom dia!')"
   ]
  },
  {
   "cell_type": "code",
   "execution_count": 13,
   "id": "08d12699",
   "metadata": {},
   "outputs": [
    {
     "name": "stdout",
     "output_type": "stream",
     "text": [
      "==============================\n",
      "          BANCO CEV           \n",
      "==============================\n",
      "Que valor você quer sacar? R$134\n",
      "Total de 2 cédulas de R$50\n",
      "Total de 1 cédulas de R$20\n",
      "Total de 1 cédulas de R$10\n",
      "Total de 4 cédulas de R$1\n",
      "==============================\n",
      "Volte sempre ao BANCO CEV! Tenha um bom dia!\n"
     ]
    }
   ],
   "source": [
    "# utilizando for e lista\n",
    "\n",
    "print('='*30)\n",
    "print(f'{\"BANCO CEV\":^30}')\n",
    "print('='*30)\n",
    "valor = int(input('Que valor você quer sacar? R$'))\n",
    "\n",
    "for cedula in [50, 20, 10, 1]: # percorrendo lista\n",
    "    if valor >= cedula:\n",
    "        total_cedula = valor // cedula\n",
    "        valor %= cedula\n",
    "        print(f'Total de {total_cedula} cédulas de R${cedula}')\n",
    "        if valor == 0:\n",
    "            break\n",
    "\n",
    "print('='*30)\n",
    "print('Volte sempre ao BANCO CEV! Tenha um bom dia!')"
   ]
  },
  {
   "cell_type": "markdown",
   "id": "58c50f90",
   "metadata": {},
   "source": [
    "66. Crie uma tupla totalmente preenchida com um contagem por extenso, de zero até vinte. Seu programa deverá ler um número pelo teclado (entre 0 e 20) e mostrá-lo por extenso."
   ]
  },
  {
   "cell_type": "code",
   "execution_count": 63,
   "id": "86fcfe0b",
   "metadata": {},
   "outputs": [
    {
     "name": "stdout",
     "output_type": "stream",
     "text": [
      "Digite um número entre 0 e 20: 90\n",
      "Tente novamente. Digite um número entre 0 e 20: 13\n",
      "Você digitou o número treze\n"
     ]
    }
   ],
   "source": [
    "cont = ('zero', 'um', 'dois', 'três', 'quatro', 'cinco',\n",
    "        'seis', 'sete', 'oito', 'nove', 'dez',\n",
    "        'onze', 'doze', 'treze', 'catorze', 'quinze',\n",
    "        'dezesseis', 'dezessete', 'dezoito', 'dezenove', 'vinte')\n",
    "\n",
    "while True:\n",
    "    num = int(input('Digite um número entre 0 e 20: '))\n",
    "    if 0 <= num <= 20:\n",
    "        break\n",
    "    print('Tente novamente. ', end='')\n",
    "\n",
    "print(f'Você digitou o número {cont[num]}')"
   ]
  },
  {
   "cell_type": "code",
   "execution_count": 77,
   "id": "582ed453",
   "metadata": {},
   "outputs": [
    {
     "name": "stdout",
     "output_type": "stream",
     "text": [
      "Digite um número entre 0 e 20: 21\n",
      "Tente novamente. Digite um número entre 0 e 20: 19\n",
      "Você digitou o número dezenove\n",
      "Quer continuar? [S/N] n\n"
     ]
    }
   ],
   "source": [
    "cont = ('zero', 'um', 'dois', 'três', 'quatro', 'cinco',\n",
    "        'seis', 'sete', 'oito', 'nove', 'dez',\n",
    "        'onze', 'doze', 'treze', 'catorze', 'quinze',\n",
    "        'dezesseis', 'dezessete', 'dezoito', 'dezenove', 'vinte')\n",
    "\n",
    "while True:\n",
    "    while True:\n",
    "        num = int(input('Digite um número entre 0 e 20: '))\n",
    "        if 0 <= num < len(cont):\n",
    "            break\n",
    "        print('Tente novamente. ', end='')\n",
    "    print(f'Você digitou o número {cont[num]}')\n",
    "    resp = str(input('Quer continuar? [S/N] ')).strip().upper()[0]\n",
    "    if resp == 'N':\n",
    "        break"
   ]
  },
  {
   "cell_type": "markdown",
   "id": "eb40e08c",
   "metadata": {},
   "source": [
    "67. Crie uma tupla preenchida com os 20 primeiros colocados no campeonato brasileiro de futebol, na ordem de colocação. Depois mostre:\n",
    "- Apenas os 5 primeiros colocados\n",
    "- Os últimos 4 colocados da tabela\n",
    "- Uma lista com os times em ordem alfabética\n",
    "- Em que posição na tabela está o time do São Paulo"
   ]
  },
  {
   "cell_type": "code",
   "execution_count": 81,
   "id": "c678d021",
   "metadata": {},
   "outputs": [
    {
     "name": "stdout",
     "output_type": "stream",
     "text": [
      "-=-=-=-=-=-=-=-=-=-=-=-=-=-=-=-=-=-=-=-=\n",
      "Lista de times do Brasileirão: ('Palmeiras', 'Internacional', 'Fluminense', 'Corinthians', 'Flamengo', 'Athletico-PR', 'Atlético-MG', 'Fortaleza', 'São Paulo', 'América-MG', 'Botafogo', 'Santos', 'Goiás', 'Bragantino', 'Coritiba', 'Cuiabá', 'Ceará', 'Atlético-GO', 'Avaí', 'Juventude')\n",
      "-=-=-=-=-=-=-=-=-=-=-=-=-=-=-=-=-=-=-=-=\n",
      "Os 5 primeiros são: ('Palmeiras', 'Internacional', 'Fluminense', 'Corinthians', 'Flamengo')\n",
      "-=-=-=-=-=-=-=-=-=-=-=-=-=-=-=-=-=-=-=-=\n",
      "Os 4 últimos são: ('Ceará', 'Atlético-GO', 'Avaí', 'Juventude')\n",
      "-=-=-=-=-=-=-=-=-=-=-=-=-=-=-=-=-=-=-=-=\n",
      "Times em ordem alfabética: ['América-MG', 'Athletico-PR', 'Atlético-GO', 'Atlético-MG', 'Avaí', 'Botafogo', 'Bragantino', 'Ceará', 'Corinthians', 'Coritiba', 'Cuiabá', 'Flamengo', 'Fluminense', 'Fortaleza', 'Goiás', 'Internacional', 'Juventude', 'Palmeiras', 'Santos', 'São Paulo']\n",
      "-=-=-=-=-=-=-=-=-=-=-=-=-=-=-=-=-=-=-=-=\n",
      "O São Paulo está na 9ª posição\n"
     ]
    }
   ],
   "source": [
    "times = ('Palmeiras', 'Internacional', 'Fluminense', 'Corinthians', 'Flamengo',\n",
    "         'Athletico-PR', 'Atlético-MG', 'Fortaleza', 'São Paulo', 'América-MG',\n",
    "         'Botafogo', 'Santos', 'Goiás', 'Bragantino', 'Coritiba',\n",
    "         'Cuiabá', 'Ceará', 'Atlético-GO', 'Avaí', 'Juventude')\n",
    "\n",
    "print('-='*20)\n",
    "print(f'Lista de times do Brasileirão: {times}')\n",
    "\n",
    "print('-='*20)\n",
    "print(f'Os 5 primeiros são: {times[:5]}') # [0,5)\n",
    "\n",
    "print('-='*20)\n",
    "print(f'Os 4 últimos são: {times[-4:]}') # [-4,-1]\n",
    "\n",
    "print('-='*20)\n",
    "print(f'Times em ordem alfabética: {sorted(times)}')\n",
    "\n",
    "print('-='*20)\n",
    "print(f'O São Paulo está na {times.index(\"São Paulo\")+1}ª posição')"
   ]
  },
  {
   "cell_type": "code",
   "execution_count": 78,
   "id": "f11f67aa",
   "metadata": {},
   "outputs": [
    {
     "name": "stdout",
     "output_type": "stream",
     "text": [
      "-=-=-=-=-=-=-=-=-=-=-=-=-=-=-=-=-=-=-=-=\n",
      "Lista de times do Brasileirão: 1 Palmeiras 2 Internacional 3 Fluminense 4 Corinthians 5 Flamengo 6 Athletico-PR 7 Atlético-MG 8 Fortaleza 9 São Paulo 10 América-MG 11 Botafogo 12 Santos 13 Goiás 14 Bragantino 15 Coritiba 16 Cuiabá 17 Ceará 18 Atlético-GO 19 Avaí 20 Juventude \n",
      " -=-=-=-=-=-=-=-=-=-=-=-=-=-=-=-=-=-=-=-=\n",
      "Os 5 primeiros são: 1 Palmeiras 2 Internacional 3 Fluminense 4 Corinthians 5 Flamengo \n",
      " -=-=-=-=-=-=-=-=-=-=-=-=-=-=-=-=-=-=-=-=\n",
      "Os 4 últimos são: 17 Ceará 18 Atlético-GO 19 Avaí 20 Juventude \n",
      " -=-=-=-=-=-=-=-=-=-=-=-=-=-=-=-=-=-=-=-=\n",
      "Times em ordem alfabética: ['América-MG', 'Athletico-PR', 'Atlético-GO', 'Atlético-MG', 'Avaí', 'Botafogo', 'Bragantino', 'Ceará', 'Corinthians', 'Coritiba', 'Cuiabá', 'Flamengo', 'Fluminense', 'Fortaleza', 'Goiás', 'Internacional', 'Juventude', 'Palmeiras', 'Santos', 'São Paulo']\n",
      "-=-=-=-=-=-=-=-=-=-=-=-=-=-=-=-=-=-=-=-=\n",
      "O São Paulo está na 9ª posição\n"
     ]
    }
   ],
   "source": [
    "times = ('Palmeiras', 'Internacional', 'Fluminense', 'Corinthians', 'Flamengo',\n",
    "         'Athletico-PR', 'Atlético-MG', 'Fortaleza', 'São Paulo', 'América-MG',\n",
    "         'Botafogo', 'Santos', 'Goiás', 'Bragantino', 'Coritiba',\n",
    "         'Cuiabá', 'Ceará', 'Atlético-GO', 'Avaí', 'Juventude')\n",
    "\n",
    "print('-='*20)\n",
    "print('Lista de times do Brasileirão: ', end='')\n",
    "for pos, time in enumerate(times):\n",
    "    print(pos+1, time, end=' ')\n",
    "\n",
    "print('\\n', '-='*20)\n",
    "print('Os 5 primeiros são: ', end='')\n",
    "for pos, time in enumerate(times[0:5]):\n",
    "    print(pos+1, time, end =' ')\n",
    "\n",
    "print('\\n', '-='*20)\n",
    "print('Os 4 últimos são: ', end='')\n",
    "for pos in range(16, len(times)):\n",
    "    print(pos+1, times[pos], end=' ')\n",
    "\n",
    "print('\\n', '-='*20)\n",
    "print('Times em ordem alfabética:', sorted(times))\n",
    "\n",
    "print('-='*20)\n",
    "print(f'O São Paulo está na {times.index(\"São Paulo\")+1}ª posição')"
   ]
  },
  {
   "cell_type": "markdown",
   "id": "03583ce2",
   "metadata": {},
   "source": [
    "68. Crie um programa que vai gerar 5 números aleatórios e colocar em uma tupla. Depois disso, mostre a listagem de números gerados e também indique o menor e o maior valor que estão na tupla."
   ]
  },
  {
   "cell_type": "code",
   "execution_count": 7,
   "id": "3befee69",
   "metadata": {},
   "outputs": [
    {
     "name": "stdout",
     "output_type": "stream",
     "text": [
      "Os valores sorteados foram: 10 1 7 8 3 \n",
      "O maior valor sorteado foi 10\n",
      "O menor valor sorteado foi 1\n"
     ]
    }
   ],
   "source": [
    "from random import randint\n",
    "\n",
    "tupla = (randint(1, 10), randint(1, 10), randint(1, 10),\n",
    "         randint(1, 10), randint(1, 10))\n",
    "\n",
    "print('Os valores sorteados foram: ', end='')\n",
    "for c in range(0, len(tupla)):\n",
    "    print(f'{tupla[c]} ', end ='')\n",
    "'''\n",
    "    if c == 0:\n",
    "        maior = tupla[c]\n",
    "        menor = tupla[c]\n",
    "    if tupla[c] >= maior:\n",
    "        maior = tupla[c]\n",
    "    if tupla[c] <= menor:\n",
    "        menor = tupla[c]\n",
    "print(f'\\nO maior valor sorteado foi {maior}\\nO menor valor sorteado foi {menor}')\n",
    "'''\n",
    "\n",
    "print(f'\\nO maior valor sorteado foi {max(tupla)}') # método para listas e tuplas\n",
    "print(f'O menor valor sorteado foi {min(tupla)}') # método para listas e tuplas"
   ]
  },
  {
   "cell_type": "markdown",
   "id": "3ea345fe",
   "metadata": {},
   "source": [
    "69. Desenvolva um programa que leia quatro valores pelo teclado e guarde-os em uma tupla. No final, mostre:\n",
    "- Quantas vezes apareceu o valor 9\n",
    "- Em que posição foi digitado o primeiro valor 3\n",
    "- Quais foram os números pares"
   ]
  },
  {
   "cell_type": "code",
   "execution_count": 25,
   "id": "33a11ced",
   "metadata": {},
   "outputs": [
    {
     "name": "stdout",
     "output_type": "stream",
     "text": [
      "Digite um número: 9\n",
      "Digite outro número: 3\n",
      "Digite mais um número: 2\n",
      "Digite o último número: 9\n",
      "Você digitou os valores (9, 3, 2, 9)\n",
      "O valor 9 apareceu 2 vezes\n",
      "O valor 3 apareceu na 2ª posição\n",
      "Os valores pares digitados foram 2 "
     ]
    }
   ],
   "source": [
    "numeros = (\n",
    "    int(input('Digite um número: ')),\n",
    "    int(input('Digite outro número: ')),\n",
    "    int(input('Digite mais um número: ')),\n",
    "    int(input('Digite o último número: '))\n",
    ")\n",
    "\n",
    "print(f'Você digitou os valores {numeros}')\n",
    "\n",
    "print(f'O valor 9 apareceu {numeros.count(9)} vezes')\n",
    "\n",
    "if 3 in numeros:\n",
    "    print(f'O valor 3 apareceu na {numeros.index(3)+1}ª posição')\n",
    "else:\n",
    "    print('O valor 3 não foi digitado em nenhuma posição')\n",
    "\n",
    "print('Os valores pares digitados foram ', end='')\n",
    "for pares in numeros:\n",
    "    if pares % 2 == 0:\n",
    "        print(f'{pares} ', end='')"
   ]
  },
  {
   "cell_type": "markdown",
   "id": "ebd8cb8c",
   "metadata": {},
   "source": [
    "70. Crie um programa que tenha uma tupla única com nomes de produtos e seus respectivos preços, na sequência. No final, mostre a listagem de preços organizando os dados de forma tabular."
   ]
  },
  {
   "cell_type": "code",
   "execution_count": 19,
   "id": "f95d6c42",
   "metadata": {},
   "outputs": [
    {
     "name": "stdout",
     "output_type": "stream",
     "text": [
      "----------------------------------------\n",
      "            LISTA DE PREÇOS             \n",
      "----------------------------------------\n",
      "Lápis.........................R$   1.75\n",
      "Borracha......................R$   2.00\n",
      "Caderno.......................R$  15.90\n",
      "Estojo........................R$  25.00\n",
      "Transferidor..................R$   4.20\n",
      "Compasso......................R$   9.99\n",
      "Mochila.......................R$ 120.32\n",
      "Canetas.......................R$  22.30\n",
      "Livro.........................R$  34.90\n",
      "----------------------------------------\n"
     ]
    }
   ],
   "source": [
    "lista = ('Lápis', 1.75, 'Borracha', 2, 'Caderno', 15.90,\n",
    "         'Estojo', 25, 'Transferidor', 4.20, 'Compasso', 9.99,\n",
    "         'Mochila', 120.32, 'Canetas', 22.30, 'Livro', 34.90)\n",
    "\n",
    "print('-'*40)\n",
    "print(f'{\"LISTA DE PREÇOS\":^40}')\n",
    "print('-'*40)\n",
    "\n",
    "for i in range(0, len(lista)):\n",
    "    if i % 2 == 0:\n",
    "        print(f'{lista[i]:.<30}R${lista[i+1]:>7.2f}')\n",
    "print('-'*40)"
   ]
  },
  {
   "cell_type": "markdown",
   "id": "26aab6f2",
   "metadata": {},
   "source": [
    "71. Crie um programa que tenha uma tupla com várias palavras (não usar acentos). Depois disso, você deve mostrar, para cada palavra, quais são as suas vogais."
   ]
  },
  {
   "cell_type": "code",
   "execution_count": 26,
   "id": "db0d7606",
   "metadata": {},
   "outputs": [
    {
     "name": "stdout",
     "output_type": "stream",
     "text": [
      "\n",
      "Na palavra APRENDER temos a e e \n",
      "Na palavra PROGRAMAR temos o a a \n",
      "Na palavra LINGUAGEM temos i u a e \n",
      "Na palavra PYTHON temos o \n",
      "Na palavra CURSO temos u o \n",
      "Na palavra GRATIS temos a i \n",
      "Na palavra ESTUDAR temos e u a \n",
      "Na palavra PRATICAR temos a i a \n",
      "Na palavra TRABALHAR temos a a a \n",
      "Na palavra MERCADO temos e a o \n",
      "Na palavra PROGRAMADOR temos o a a o \n",
      "Na palavra FUTURO temos u u o "
     ]
    }
   ],
   "source": [
    "palavras = ('aprender', 'programar', 'linguagem', 'python',\n",
    "            'curso', 'gratis', 'estudar', 'praticar',\n",
    "            'trabalhar', 'mercado', 'programador', 'futuro')\n",
    "\n",
    "for palavra in palavras:\n",
    "    print(f'\\nNa palavra {palavra.upper()} temos ', end='')\n",
    "    for vogal in palavra:\n",
    "        if vogal.lower() in 'aeiou':\n",
    "            print(f'{vogal} ', end='')"
   ]
  },
  {
   "cell_type": "markdown",
   "id": "6f51ae7a",
   "metadata": {},
   "source": [
    "72. A partir da mesma lista de palavras do exercício anterior, crie um programa que armazene todas as vogais geradas em uma tupla, utilizando tuple comprehension. No final, mostre a quantidade de cada vogal."
   ]
  },
  {
   "cell_type": "code",
   "execution_count": 48,
   "id": "fa995153",
   "metadata": {},
   "outputs": [
    {
     "name": "stdout",
     "output_type": "stream",
     "text": [
      "letras a: 14\n",
      "letras e: 5\n",
      "letras i: 3\n",
      "letras o: 7\n",
      "letras u: 5\n"
     ]
    }
   ],
   "source": [
    "palavras = ('aprender', 'programar', 'linguagem', 'python',\n",
    "            'curso', 'gratis', 'estudar', 'praticar',\n",
    "            'trabalhar', 'mercado', 'programador', 'futuro')\n",
    "\n",
    "vogais = tuple(letra for palavra in palavras for letra in palavra if letra.lower() in 'aeiou')\n",
    "\n",
    "print(f'''letras a: {vogais.count('a')}\n",
    "letras e: {vogais.count('e')}\n",
    "letras i: {vogais.count('i')}\n",
    "letras o: {vogais.count('o')}\n",
    "letras u: {vogais.count('u')}''')"
   ]
  },
  {
   "cell_type": "markdown",
   "id": "6c60428c",
   "metadata": {},
   "source": [
    "73. João possui duas calças (uma calça de linho preta e uma calça jeans) e cinco camisas (social bege, social azul, camiseta branca, camiseta cinza e camiseta preta). Sabendo que João nunca deve usar camiseta com calça de linho, há quantas formas de João se vestir? Utilize tupple comprehension para fazer as combinações.\n",
    "\n",
    "Dica: Inicie o programa com 3 tuplas: calças, camisas sociais e camisetas."
   ]
  },
  {
   "cell_type": "code",
   "execution_count": 55,
   "id": "6784c5ee",
   "metadata": {},
   "outputs": [
    {
     "name": "stdout",
     "output_type": "stream",
     "text": [
      "Há 7 formas de João se vestir.\n"
     ]
    }
   ],
   "source": [
    "calcas = ('calça preta', 'calça jeans')\n",
    "camisas = ('social bege', 'social azul')\n",
    "camisetas = ('camiseta branca', 'camiseta cinza', 'camiseta preta')\n",
    "\n",
    "combinacao1 = tuple((calca, camisa) for calca in calcas for camisa in camisas)\n",
    "combinacao2 = tuple((calca, camiseta) for calca in calcas for camiseta in camisetas if calca != 'calça preta')\n",
    "\n",
    "print(f'Há {len(combinacao1) + len(combinacao2)} formas de João se vestir.')"
   ]
  },
  {
   "cell_type": "markdown",
   "id": "77508471",
   "metadata": {},
   "source": [
    "74. Pedro resolveu pintar sua casa e para isso ele deve escolher duas cores de tinta, uma para o teto e outra para as paredes. Mas na loja de tintas há 3 opções de cores (branco, cinza e amarelo) as quais Pedro gostou e que servem tanto para o teto como para as paredes. Utilizando tuple comprehension, gere todas as possibilidades de pintura dessa casa.\n",
    "\n",
    "Dica: Trata-se de um arranjo em que a resposta são 6 possibilidades. Formato da resposta: (('branco, 'cinza'), ..., ('amarelo', 'cinza'))."
   ]
  },
  {
   "cell_type": "code",
   "execution_count": 75,
   "id": "e37b23c1",
   "metadata": {},
   "outputs": [
    {
     "name": "stdout",
     "output_type": "stream",
     "text": [
      "(('branco', 'cinza'), ('branco', 'amarelo'), ('cinza', 'branco'), ('cinza', 'amarelo'), ('amarelo', 'branco'), ('amarelo', 'cinza'))\n"
     ]
    }
   ],
   "source": [
    "cores = ('branco', 'cinza', 'amarelo')\n",
    "\n",
    "arranjo = tuple((cor1,cor2) for cor1 in cores for cor2 in cores if cor1 != cor2)\n",
    "\n",
    "print(arranjo)"
   ]
  },
  {
   "cell_type": "markdown",
   "id": "d26b1cac",
   "metadata": {},
   "source": [
    "75. Pedro, Bia e Ana foram ao cinema e compraram três cadeiras em sequência. De quantas maneiras diferentes eles podem sentar-se nessas cadeiras? Utilizando tuple comprehension gere todas as possibilidades.\n",
    "\n",
    "Dica: Trata-se de uma permutação. Formato da resposta: (('Pedro', 'Bia', 'Ana'), ..., ('Ana', 'Bia', 'Pedro'))"
   ]
  },
  {
   "cell_type": "code",
   "execution_count": 12,
   "id": "69aa423a",
   "metadata": {},
   "outputs": [
    {
     "name": "stdout",
     "output_type": "stream",
     "text": [
      "A quantidade de maneiras distintas que eles podem sentar-se é 6.\n",
      "(('Pedro', 'Bia', 'Ana'), ('Pedro', 'Ana', 'Bia'), ('Bia', 'Pedro', 'Ana'), ('Bia', 'Ana', 'Pedro'), ('Ana', 'Pedro', 'Bia'), ('Ana', 'Bia', 'Pedro'))\n"
     ]
    }
   ],
   "source": [
    "pessoas = ('Pedro', 'Bia', 'Ana')\n",
    "\n",
    "permutacao = tuple((p1,p2,p3) for p1 in pessoas for p2 in pessoas for p3 in pessoas if p1 != p2 and p1 != p3 and p2 != p3)\n",
    "\n",
    "print(f'A quantidade de maneiras distintas que eles podem sentar-se é {len(permutacao)}.')\n",
    "print(permutacao)"
   ]
  },
  {
   "cell_type": "markdown",
   "id": "06267aa7",
   "metadata": {},
   "source": [
    "76. Um grupo de cinco amigos (Pedro, Bia, Ana, Carlos e Maria) foram para praia jogar volei de areia em duplas. A partir desse grupo, é possível formar quantas duplas distintas? Use tuple comprehension para gerar as possibilidades.\n",
    "\n",
    "Dica: Trata-se de uma combinação. Formato da resposta: (('Pedro', 'Bia'), ..., ('Carlos', 'Maria'))"
   ]
  },
  {
   "cell_type": "code",
   "execution_count": 78,
   "id": "24c0d983",
   "metadata": {},
   "outputs": [
    {
     "name": "stdout",
     "output_type": "stream",
     "text": [
      "É possível formar 10 duplas distintas\n",
      "(('Pedro', 'Bia'), ('Pedro', 'Ana'), ('Pedro', 'Carlos'), ('Pedro', 'Maria'), ('Bia', 'Ana'), ('Bia', 'Carlos'), ('Bia', 'Maria'), ('Ana', 'Carlos'), ('Ana', 'Maria'), ('Carlos', 'Maria'))\n"
     ]
    }
   ],
   "source": [
    "grupo = ('Pedro', 'Bia', 'Ana', 'Carlos', 'Maria')\n",
    "\n",
    "#duplas = tuple((grupo[i],grupo[j]) for i in range(0, len(grupo)) for j in range(0, len(grupo)) if i < j)\n",
    "duplas = tuple((p1,p2) for i, p1 in enumerate(grupo) for j, p2 in enumerate(grupo) if i < j)\n",
    "\n",
    "print(f'É possível formar {len(duplas)} duplas distintas')\n",
    "print(duplas)"
   ]
  },
  {
   "cell_type": "markdown",
   "id": "6f84dccc",
   "metadata": {},
   "source": [
    "77. Utilizando generator comprehension, gere as tabuadas de 7, 8 e 9 lado a lado."
   ]
  },
  {
   "cell_type": "code",
   "execution_count": 81,
   "id": "c7fb384c",
   "metadata": {},
   "outputs": [
    {
     "name": "stdout",
     "output_type": "stream",
     "text": [
      "7 x 1 = 7 | 8 x 1 = 8 | 9 x 1 = 9\n",
      "7 x 2 = 14 | 8 x 2 = 16 | 9 x 2 = 18\n",
      "7 x 3 = 21 | 8 x 3 = 24 | 9 x 3 = 27\n",
      "7 x 4 = 28 | 8 x 4 = 32 | 9 x 4 = 36\n",
      "7 x 5 = 35 | 8 x 5 = 40 | 9 x 5 = 45\n",
      "7 x 6 = 42 | 8 x 6 = 48 | 9 x 6 = 54\n",
      "7 x 7 = 49 | 8 x 7 = 56 | 9 x 7 = 63\n",
      "7 x 8 = 56 | 8 x 8 = 64 | 9 x 8 = 72\n",
      "7 x 9 = 63 | 8 x 9 = 72 | 9 x 9 = 81\n",
      "7 x 10 = 70 | 8 x 10 = 80 | 9 x 10 = 90\n"
     ]
    }
   ],
   "source": [
    "tabuadas = (f'7 x {i} = {7*i} | 8 x {i} = {8*i} | 9 x {i} = {9*i}' for i in range(1, 11))\n",
    "\n",
    "for linha in tabuadas:\n",
    "    print(linha)"
   ]
  },
  {
   "cell_type": "markdown",
   "id": "6d588525",
   "metadata": {},
   "source": [
    "78. Faça um programa que leia 5 valores numéricos e guarde em uma lista. No final, mostre qual foi o maior e o menor valor digitados e as suas respectivas posições."
   ]
  },
  {
   "cell_type": "code",
   "execution_count": 13,
   "id": "6cb78d21",
   "metadata": {},
   "outputs": [
    {
     "name": "stdout",
     "output_type": "stream",
     "text": [
      "Digite um valor para a posição 0: 1\n",
      "Digite um valor para a posição 1: 2\n",
      "Digite um valor para a posição 2: 1\n",
      "Digite um valor para a posição 3: 5\n",
      "Digite um valor para a posição 4: 5\n",
      "=-=-=-=-=-=-=-=-=-=-=-=-=-=-=-=-=-=-=-=-=-=-=-=-=-=-=-=-=-=-\n",
      "Você digitou os valores [1, 2, 1, 5, 5]\n",
      "\n",
      "O maior valor digitado foi 5 nas posições 3.. 4.. \n",
      "O menor valor digitado foi 1 nas posições 0.. 2.. "
     ]
    }
   ],
   "source": [
    "valores = []\n",
    "\n",
    "for v in range(0, 5):\n",
    "    valores.append(int(input(f'Digite um valor para a posição {v}: ')))\n",
    "print('=-'*30)\n",
    "print(f'Você digitou os valores {valores}')\n",
    "print()\n",
    "\n",
    "maior = max(valores)\n",
    "menor = min(valores)\n",
    "\n",
    "print(f'O maior valor digitado foi {maior} nas posições ', end='')\n",
    "for pos, valor in enumerate(valores):\n",
    "    if valor == maior:\n",
    "        print(f'{pos}.. ', end='')\n",
    "\n",
    "print(f'\\nO menor valor digitado foi {menor} nas posições ', end='')\n",
    "for pos, valor in enumerate(valores):\n",
    "    if valor == menor:\n",
    "        print(f'{pos}.. ', end='')"
   ]
  },
  {
   "cell_type": "markdown",
   "id": "e6748030",
   "metadata": {},
   "source": [
    "79. Crie um programa onde o usuário possa digitar vários valores numéricos e cadastre-os em uma lista. Caso o número já exista lá dentro, ele não será adicionado. No final, serão exibidos todos os **valores únicos** digitados, em ordem crescente."
   ]
  },
  {
   "cell_type": "code",
   "execution_count": 120,
   "id": "2fb97503",
   "metadata": {},
   "outputs": [
    {
     "name": "stdout",
     "output_type": "stream",
     "text": [
      "Digite um valor: 5\n",
      "Valor adicionado com sucesso...\n",
      "Quer continuar? [S/N]s\n",
      "Digite um valor: 9\n",
      "Valor adicionado com sucesso...\n",
      "Quer continuar? [S/N]s\n",
      "Digite um valor: 3\n",
      "Valor adicionado com sucesso...\n",
      "Quer continuar? [S/N]9\n",
      "Quer continuar? [S/N]s\n",
      "Digite um valor: 9\n",
      "Valor duplicado! Não vou adicionar...\n",
      "Quer continuar? [S/N]s\n",
      "Digite um valor: 3\n",
      "Valor duplicado! Não vou adicionar...\n",
      "Quer continuar? [S/N]s\n",
      "Digite um valor: 7\n",
      "Valor adicionado com sucesso...\n",
      "Quer continuar? [S/N]n\n",
      "-=-=-=-=-=-=-=-=-=-=-=-=-=-=-=-=-=-=-=-=\n",
      "Você digitou os valores [3, 5, 7, 9]\n"
     ]
    }
   ],
   "source": [
    "valores = []\n",
    "\n",
    "while True:\n",
    "    num = int(input('Digite um valor: '))\n",
    "    if num not in valores:\n",
    "        valores.append(num)\n",
    "        print('Valor adicionado com sucesso...')\n",
    "    else:\n",
    "        print('Valor duplicado! Não vou adicionar...')\n",
    "    \n",
    "    resp = ' '\n",
    "    while resp not in 'SN':\n",
    "        resp = str(input('Quer continuar? [S/N]')).upper().strip()[0]\n",
    "    if resp == 'N':\n",
    "        break\n",
    "\n",
    "valores.sort()\n",
    "print('-='*20)\n",
    "print(f'Você digitou os valores {valores}')"
   ]
  },
  {
   "cell_type": "code",
   "execution_count": 14,
   "id": "03f287f0",
   "metadata": {},
   "outputs": [
    {
     "name": "stdout",
     "output_type": "stream",
     "text": [
      "Digite um valor: 5\n",
      "Valor adicionado com sucesso...\n",
      "Quer continuar? [S/N]s\n",
      "Digite um valor: 9\n",
      "Valor adicionado com sucesso...\n",
      "Quer continuar? [S/N]3\n",
      "Quer continuar? [S/N]s\n",
      "Digite um valor: 3\n",
      "Valor adicionado com sucesso...\n",
      "Quer continuar? [S/N]s\n",
      "Digite um valor: 9\n",
      "Valor duplicado! Não vou adicionar...\n",
      "Quer continuar? [S/N]s\n",
      "Digite um valor: 3\n",
      "Valor duplicado! Não vou adicionar...\n",
      "Quer continuar? [S/N]s\n",
      "Digite um valor: 7\n",
      "Valor adicionado com sucesso...\n",
      "Quer continuar? [S/N]n\n",
      "-=-=-=-=-=-=-=-=-=-=-=-=-=-=-=-=-=-=-=-=\n",
      "Você digitou os valores [3, 5, 7, 9]\n"
     ]
    }
   ],
   "source": [
    "# menos eficiente\n",
    "\n",
    "valores = []\n",
    "index = -1\n",
    "\n",
    "while True:\n",
    "    valores.append(int(input('Digite um valor: ')))\n",
    "    \n",
    "    index += 1\n",
    "    if valores.count(valores[index]) > 1:\n",
    "        valores.pop()\n",
    "        index -= 1\n",
    "        print('Valor duplicado! Não vou adicionar...')\n",
    "    else:\n",
    "        print('Valor adicionado com sucesso...')\n",
    "    \n",
    "    resp = ' '\n",
    "    while resp not in 'SN':\n",
    "        resp = str(input('Quer continuar? [S/N]')).upper().strip()[0]\n",
    "    if resp == 'N':\n",
    "        break\n",
    "\n",
    "valores.sort()\n",
    "print('-='*20)\n",
    "print(f'Você digitou os valores {valores}')"
   ]
  },
  {
   "cell_type": "markdown",
   "id": "2a23e7fa",
   "metadata": {},
   "source": [
    "80. Crie um programa onde o usuário possa digitar 5 valores numéricos e cadastre-os em uma lista, já na posição correta de inserção (sem usar o sort()). No final, mostre a lista ordenada na tela."
   ]
  },
  {
   "cell_type": "code",
   "execution_count": 139,
   "id": "b0f22f34",
   "metadata": {},
   "outputs": [
    {
     "name": "stdout",
     "output_type": "stream",
     "text": [
      "Digite um valor: 9\n",
      "Adicionado ao final da lista...\n",
      "Digite um valor: 1\n",
      "Adicionado na posição 0...\n",
      "Digite um valor: 8\n",
      "Adicionado na posição 1...\n",
      "Digite um valor: 2\n",
      "Adicionado na posição 1...\n",
      "Digite um valor: 5\n",
      "Adicionado na posição 2...\n",
      "-=-=-=-=-=-=-=-=-=-=-=-=-=-=-=-=-=-=-=-=-=-=-=-=-=-=-=-=-=-=\n",
      "Os valores digitados em ordem foram [1, 2, 5, 8, 9]\n"
     ]
    }
   ],
   "source": [
    "valores = []\n",
    "\n",
    "for i in range(0, 5):\n",
    "    num = int(input(f'Digite um valor: '))\n",
    "    \n",
    "    if i == 0 or num > valores[-1]: # lista[-1] é o último elemento da lista\n",
    "        valores.append(n)\n",
    "        print('Adicionado ao final da lista...')\n",
    "    else:\n",
    "        for pos, valor in enumerate(valores): # percorre a lista para comparar\n",
    "            if num <= valor:\n",
    "                valores.insert(pos, num)\n",
    "                print(f'Adicionado na posição {pos}...')\n",
    "                break\n",
    "\n",
    "print('-='*30)\n",
    "print(f'Os valores digitados em ordem foram {valores}')"
   ]
  },
  {
   "cell_type": "markdown",
   "id": "493414cd",
   "metadata": {},
   "source": [
    "81. Crie um programa que vai ler vários números e colocar em uma lista. Depois disso, mostre:\n",
    "- Quantos números foram digitados.\n",
    "- Lista de valores, ordenada de forma decrescente. \n",
    "- Se o valor 5 foi digitado e está ou não na lista."
   ]
  },
  {
   "cell_type": "code",
   "execution_count": 4,
   "id": "0bc768c1",
   "metadata": {},
   "outputs": [
    {
     "name": "stdout",
     "output_type": "stream",
     "text": [
      "Digite um valor: 9\n",
      "Quer continuar? [S/N] s\n",
      "Digite um valor: 3\n",
      "Quer continuar? [S/N] s\n",
      "Digite um valor: 2\n",
      "Quer continuar? [S/N] n\n",
      "-=-=-=-=-=-=-=-=-=-=-=-=-=-=-=-=-=-=-=-=-=-=-=-=-=-=-=-=-=-=\n",
      "Você digitou 3 elementos\n",
      "Os valores em ordem descrescente são [9, 3, 2]\n",
      "O valor 5 não foi encontrado na lista!\n"
     ]
    }
   ],
   "source": [
    "lista = []\n",
    "\n",
    "while True:\n",
    "    lista.append(int(input('Digite um valor: ')))\n",
    "    \n",
    "    resp = ' '\n",
    "    while resp not in 'SN':\n",
    "        resp = str(input('Quer continuar? [S/N] ')).upper().strip()[0]\n",
    "    if resp == 'N':\n",
    "        break\n",
    "\n",
    "print('-='*30)\n",
    "print(f'Você digitou {len(lista)} elementos')\n",
    "\n",
    "lista.sort(reverse=True)\n",
    "print(f'Os valores em ordem descrescente são {lista}')\n",
    "\n",
    "if 5 in lista:\n",
    "    print('O valor 5 faz parte da lista!')\n",
    "else:\n",
    "    print('O valor 5 não foi encontrado na lista!')"
   ]
  },
  {
   "cell_type": "markdown",
   "id": "a657eaa6",
   "metadata": {},
   "source": [
    "82. Crie um programa que vai ler vários números e colocar em uma lista. Depois disso, crie duas listas extras que vão conter apenas os valores pares e os valores ímpares, digitados respectivamente. Ao final, mostre o conteúdo das três listas geradas.\n",
    "\n",
    "Obs.: Não alimente as três listas já no primeiro laço. Leia a primeira para gerar as outras duas."
   ]
  },
  {
   "cell_type": "code",
   "execution_count": 16,
   "id": "d906c0dc",
   "metadata": {},
   "outputs": [
    {
     "name": "stdout",
     "output_type": "stream",
     "text": [
      "Digite um valor: 5\n",
      "Quer continuar? [S/N] s\n",
      "Digite um valor: 9\n",
      "Quer continuar? [S/N] s\n",
      "Digite um valor: 2\n",
      "Quer continuar? [S/N] s\n",
      "Digite um valor: 6\n",
      "Quer continuar? [S/N] s\n",
      "Digite um valor: 13\n",
      "Quer continuar? [S/N] n\n",
      "-=-=-=-=-=-=-=-=-=-=-=-=-=-=-=-=-=-=-=-=-=-=-=-=-=-=-=-=-=-=\n",
      "A lista completa é [5, 9, 2, 6, 13]\n",
      "A lista de pares é [2, 6]\n",
      "A lista de ímpares é [5, 9, 13]\n"
     ]
    }
   ],
   "source": [
    "valores = []\n",
    "pares = []\n",
    "impares = []\n",
    "\n",
    "while True:\n",
    "    valores.append(int(input('Digite um valor: ')))\n",
    "    resp = ' '\n",
    "    \n",
    "    while resp not in 'SN':\n",
    "        resp = str(input('Quer continuar? [S/N] ')).upper().strip()[0]\n",
    "    if resp == 'N':\n",
    "        break\n",
    "\n",
    "for valor in valores:\n",
    "    if valor % 2 == 0:\n",
    "        pares.append(valor)\n",
    "    elif valor % 2 == 1:\n",
    "        impares.append(valor)\n",
    "\n",
    "print('-='*30)\n",
    "print(f'A lista completa é {valores}')\n",
    "print(f'A lista de pares é {pares}')\n",
    "print(f'A lista de ímpares é {impares}')"
   ]
  },
  {
   "cell_type": "markdown",
   "id": "701e8c56",
   "metadata": {},
   "source": [
    "83. Crie um programa onde o usuário digite uma expressão matemática qualquer que use parênteses. Seu aplicativo deverá analisar se a expressão passada está com os parênteses abertos e fechados na ordem correta."
   ]
  },
  {
   "cell_type": "code",
   "execution_count": 24,
   "id": "cf3e0968",
   "metadata": {},
   "outputs": [
    {
     "name": "stdout",
     "output_type": "stream",
     "text": [
      "Digite uma expressão: (a-a)*(A)/(b+c)\n",
      "Sua expressão está válida!\n"
     ]
    }
   ],
   "source": [
    "exp = str(input('Digite uma expressão: '))\n",
    "aberto = fechado = 0\n",
    "\n",
    "for p in exp:\n",
    "    if p == '(':\n",
    "        aberto += 1\n",
    "    elif p == ')':\n",
    "        fechado += 1\n",
    "        \n",
    "    if fechado > aberto: # quando fechado ficar maior que aberto, ele quebra\n",
    "        break\n",
    "        \n",
    "if aberto == fechado:\n",
    "    print('Sua expressão está válida!')\n",
    "else:\n",
    "    print('Sua expressão está errada!')"
   ]
  },
  {
   "cell_type": "code",
   "execution_count": 13,
   "id": "87d7ca97",
   "metadata": {},
   "outputs": [
    {
     "name": "stdout",
     "output_type": "stream",
     "text": [
      "Digite uma expressão: (a-a)*(A)/(b+c)\n",
      "Sua expressão está válida!\n"
     ]
    }
   ],
   "source": [
    "exp = str(input('Digite uma expressão: '))\n",
    "pilha = []\n",
    "\n",
    "for p in exp:\n",
    "    if p == '(':\n",
    "        pilha.append('(') # adiciona '(' à lista\n",
    "    elif p == ')':\n",
    "        if len(pilha) > 0:\n",
    "            pilha.pop() # retira '(' da lista\n",
    "        else:\n",
    "            pilha.append(')') # adiciona ')' à lista zerada\n",
    "            break # interrompe o loop pois encontrou erro\n",
    "\n",
    "if len(pilha) == 0:\n",
    "    print('Sua expressão está válida!') # retirou todos '('\n",
    "else:\n",
    "    print('Sua expressão está errada!')"
   ]
  },
  {
   "cell_type": "markdown",
   "id": "93fbadff",
   "metadata": {},
   "source": [
    "84. Crie um programa que gere uma lista, utilizando list comprehension, com os números ímpares de 1 a 50 que são divisíveis por 3."
   ]
  },
  {
   "cell_type": "code",
   "execution_count": 82,
   "id": "11bf680e",
   "metadata": {},
   "outputs": [
    {
     "name": "stdout",
     "output_type": "stream",
     "text": [
      "[3, 9, 15, 21, 27, 33, 39, 45]\n"
     ]
    }
   ],
   "source": [
    "impares_3 = [num for num in range(1,51) if num % 2 != 0 and num % 3 == 0]\n",
    "print(impares_3)"
   ]
  },
  {
   "cell_type": "markdown",
   "id": "73baf008",
   "metadata": {},
   "source": [
    "85. Faça um programa que leia nome e peso de várias pessoas, guardando tudo em uma lista. No final, mostre:\n",
    "- Quantas pessoas foram cadastradas\n",
    "- Uma lista com as pessoas mais pesadas\n",
    "- Uma lista com as pessoas mais leves"
   ]
  },
  {
   "cell_type": "code",
   "execution_count": 1,
   "id": "809471ec",
   "metadata": {},
   "outputs": [
    {
     "name": "stdout",
     "output_type": "stream",
     "text": [
      "Nome: Ana\n",
      "Peso (Kg): 75.5\n",
      "Quer continuar? [S/N] s\n",
      "Nome: Pedro\n",
      "Peso (Kg): 89.2\n",
      "Quer continuar? [S/N] s\n",
      "Nome: Joana\n",
      "Peso (Kg): 89.2\n",
      "Quer continuar? [S/N] s\n",
      "Nome: Carol\n",
      "Peso (Kg): 42.3\n",
      "Quer continuar? [S/N] s\n",
      "Nome: Maria\n",
      "Peso (Kg): 50.4\n",
      "Quer continuar? [S/N] s\n",
      "Nome: Bianca\n",
      "Peso (Kg): 42.3\n",
      "Quer continuar? [S/N] s\n",
      "Nome: Artur\n",
      "Peso (Kg): 75.5\n",
      "Quer continuar? [S/N] n\n",
      "-=-=-=-=-=-=-=-=-=-=-=-=-=-=-=-=-=-=-=-=-=-=-=-=-=-=-=-=-=-=\n",
      "Ao todo, você cadastrou 7 pessoas\n",
      "O maior peso foi de 89.2Kg. Peso de [Pedro] [Joana] \n",
      "O menor peso foi de 42.3Kg. Peso de [Carol] [Bianca] "
     ]
    }
   ],
   "source": [
    "dado = list()\n",
    "pessoas = list()\n",
    "\n",
    "while True:    \n",
    "    dado.append(str(input('Nome: ')).strip())\n",
    "    dado.append(float(input('Peso (Kg): ')))\n",
    "    \n",
    "    if len(pessoas) == 0:\n",
    "        maior = menor = dado[1]\n",
    "    else:\n",
    "        if dado[1] > maior:\n",
    "            maior = dado[1]\n",
    "        if dado[1] < menor:\n",
    "            menor = dado[1]\n",
    "            \n",
    "    pessoas.append(dado[:])\n",
    "    dado.clear()\n",
    "    \n",
    "    resp = ' '\n",
    "    while resp not in 'SN':\n",
    "        resp = str(input('Quer continuar? [S/N] ')).upper().strip()[0]\n",
    "    if resp == 'N':\n",
    "        break\n",
    "        \n",
    "print('-='*30)\n",
    "print(f'Ao todo, você cadastrou {len(pessoas)} pessoas')\n",
    "\n",
    "print(f'O maior peso foi de {maior:.1f}Kg. Peso de ', end='')\n",
    "for pessoa in pessoas:\n",
    "    if pessoa[1] == maior:\n",
    "        print(f'[{pessoa[0]}] ', end='')\n",
    "print()\n",
    "\n",
    "print(f'O menor peso foi de {menor:.1f}Kg. Peso de ', end='')\n",
    "for pessoa in pessoas:\n",
    "    if pessoa[1] == menor:\n",
    "        print(f'[{pessoa[0]}] ', end='')"
   ]
  },
  {
   "cell_type": "markdown",
   "id": "0eab8db2",
   "metadata": {},
   "source": [
    "86. Crie um programa no qual o usuário possa digitar sete valores numéricos e cadastre-os em uma lista única que mantenha separados os valores pares e ímpares. No final, mostre os valores pares e ímpares em ordem crescente."
   ]
  },
  {
   "cell_type": "code",
   "execution_count": 2,
   "id": "947c4f27",
   "metadata": {},
   "outputs": [
    {
     "name": "stdout",
     "output_type": "stream",
     "text": [
      "Digite o 1º valor: 9\n",
      "Digite o 2º valor: 1\n",
      "Digite o 3º valor: 5\n",
      "Digite o 4º valor: 6\n",
      "Digite o 5º valor: 8\n",
      "Digite o 6º valor: 3\n",
      "Digite o 7º valor: 2\n",
      "Pares: [2, 6, 8]\n",
      "Ímpares: [1, 3, 5, 9]\n"
     ]
    }
   ],
   "source": [
    "lista_composta = [[], []]\n",
    "\n",
    "for c in range(0, 7):\n",
    "    num = int(input(f'Digite o {c+1}º valor: '))\n",
    "    if num % 2 == 0:\n",
    "        lista_composta[0].append(num)\n",
    "    else:\n",
    "        lista_composta[1].append(num)\n",
    "\n",
    "lista_composta[0].sort()\n",
    "lista_composta[1].sort()\n",
    "print(f'Pares: {lista_composta[0]}')\n",
    "print(f'Ímpares: {lista_composta[1]}')"
   ]
  },
  {
   "cell_type": "markdown",
   "id": "a8298488",
   "metadata": {},
   "source": [
    "87. Crie um programa que declare uma matriz de dimensão 3×3 e preencha com valores lidos pelo teclado. No final, mostre a matriz na tela, com a formatação correta."
   ]
  },
  {
   "cell_type": "code",
   "execution_count": 3,
   "id": "f9a84c5d",
   "metadata": {},
   "outputs": [
    {
     "name": "stdout",
     "output_type": "stream",
     "text": [
      "Digite um valor para [0, 0]: 1\n",
      "Digite um valor para [0, 1]: 2\n",
      "Digite um valor para [0, 2]: 3\n",
      "Digite um valor para [1, 0]: 4\n",
      "Digite um valor para [1, 1]: 5\n",
      "Digite um valor para [1, 2]: 6\n",
      "Digite um valor para [2, 0]: 7\n",
      "Digite um valor para [2, 1]: 8\n",
      "Digite um valor para [2, 2]: 9\n",
      "-=-=-=-=-=-=-=-=-=-=-=-=-=-=-=-=-=-=-=-=-=-=-=-=-=-=-=-=-=-=\n",
      "[  1  ] [  2  ] [  3  ] \n",
      "[  4  ] [  5  ] [  6  ] \n",
      "[  7  ] [  8  ] [  9  ] \n"
     ]
    }
   ],
   "source": [
    "matriz = [[], [], []]\n",
    "\n",
    "for linha in range(0, 3):\n",
    "    for coluna in range(0, 3):\n",
    "        num = int(input(f'Digite um valor para [{linha}, {coluna}]: '))\n",
    "        matriz[linha].append(num)\n",
    "\n",
    "print('-='*30)\n",
    "\n",
    "for linha in range(0, 3):\n",
    "    for coluna in range(0, 3):\n",
    "        print(f'[{matriz[linha][coluna]:^5}] ', end='') # três colunas na mesma linha\n",
    "    print() # quebra linha"
   ]
  },
  {
   "cell_type": "markdown",
   "id": "0564a3ee",
   "metadata": {},
   "source": [
    "88. Aprimore o desafio anterior, mostrando no final:\n",
    "- A soma de todos os valores pares digitados.\n",
    "- A soma dos valores da terceira coluna.\n",
    "- O maior valor da segunda linha."
   ]
  },
  {
   "cell_type": "code",
   "execution_count": 4,
   "id": "0cd1d6c4",
   "metadata": {},
   "outputs": [
    {
     "name": "stdout",
     "output_type": "stream",
     "text": [
      "Digite o valor para [0, 0]: 1\n",
      "Digite o valor para [0, 1]: 2\n",
      "Digite o valor para [0, 2]: 3\n",
      "Digite o valor para [1, 0]: 4\n",
      "Digite o valor para [1, 1]: 5\n",
      "Digite o valor para [1, 2]: 6\n",
      "Digite o valor para [2, 0]: 7\n",
      "Digite o valor para [2, 1]: 8\n",
      "Digite o valor para [2, 2]: 9\n",
      "-=-=-=-=-=-=-=-=-=-=-=-=-=-=-=-=-=-=-=-=-=-=-=-=-=-=-=-=-=-=\n",
      "[  1  ] [  2  ] [  3  ] \n",
      "[  4  ] [  5  ] [  6  ] \n",
      "[  7  ] [  8  ] [  9  ] \n",
      "-=-=-=-=-=-=-=-=-=-=-=-=-=-=-=-=-=-=-=-=-=-=-=-=-=-=-=-=-=-=\n",
      "A soma dos valores pares é 20\n",
      "A soma dos valores da terceira coluna é 18\n",
      "O maior valor da segunda linha é 6\n"
     ]
    }
   ],
   "source": [
    "matriz = [[], [], []]\n",
    "somapar = somacol = 0\n",
    "\n",
    "for linha in range(0, 3):\n",
    "    for coluna in range(0, 3):\n",
    "        num = int(input(f'Digite o valor para [{linha}, {coluna}]: '))\n",
    "        matriz[linha].append(num)\n",
    "        if num % 2 == 0:\n",
    "            somapar += num\n",
    "        if coluna == 2:\n",
    "            somacol += num\n",
    "        if linha == 1 and coluna == 0:\n",
    "            maior = matriz[linha][coluna]\n",
    "        else:\n",
    "            if linha == 1 and matriz[linha][coluna] > maior:\n",
    "                maior = matriz[linha][coluna]\n",
    "\n",
    "print('-='*30)\n",
    "\n",
    "for linha in range(0, 3):\n",
    "    for coluna in range(0,3):\n",
    "        print(f'[{matriz[linha][coluna]:^5}] ', end='') # três colunas na mesma linha\n",
    "    print() # quebra de linha\n",
    "\n",
    "print('-='*30)\n",
    "print(f'A soma dos valores pares é {somapar}')\n",
    "print(f'A soma dos valores da terceira coluna é {somacol}')\n",
    "print(f'O maior valor da segunda linha é {maior}')"
   ]
  },
  {
   "cell_type": "markdown",
   "id": "ec0e6303",
   "metadata": {},
   "source": [
    "89. A partir de uma lista composta (matriz) com as mesma quantidade de elementos pares e ímpares ([[6,8,2],[9,1,5]]) imprima uma tabela com duas colunas (pares e ímpares) em ordem decrescente, utilizando a função tabulate.\n",
    "\n",
    "Dica 1: from tabulate import tabulate</br>\n",
    "Dica 2: você precisará calcular a matriz transposta"
   ]
  },
  {
   "cell_type": "code",
   "execution_count": 12,
   "id": "18534962",
   "metadata": {},
   "outputs": [
    {
     "data": {
      "text/html": [
       "<table>\n",
       "<thead>\n",
       "<tr><th style=\"text-align: right;\">  Pares</th><th style=\"text-align: right;\">  Ímpares</th></tr>\n",
       "</thead>\n",
       "<tbody>\n",
       "<tr><td style=\"text-align: right;\">      8</td><td style=\"text-align: right;\">        9</td></tr>\n",
       "<tr><td style=\"text-align: right;\">      6</td><td style=\"text-align: right;\">        5</td></tr>\n",
       "<tr><td style=\"text-align: right;\">      2</td><td style=\"text-align: right;\">        1</td></tr>\n",
       "</tbody>\n",
       "</table>"
      ],
      "text/plain": [
       "'<table>\\n<thead>\\n<tr><th style=\"text-align: right;\">  Pares</th><th style=\"text-align: right;\">  Ímpares</th></tr>\\n</thead>\\n<tbody>\\n<tr><td style=\"text-align: right;\">      8</td><td style=\"text-align: right;\">        9</td></tr>\\n<tr><td style=\"text-align: right;\">      6</td><td style=\"text-align: right;\">        5</td></tr>\\n<tr><td style=\"text-align: right;\">      2</td><td style=\"text-align: right;\">        1</td></tr>\\n</tbody>\\n</table>'"
      ]
     },
     "execution_count": 12,
     "metadata": {},
     "output_type": "execute_result"
    }
   ],
   "source": [
    "from tabulate import tabulate\n",
    "\n",
    "matriz = [[6,8,2],[9,1,5]]\n",
    "\n",
    "matriz[0].sort(reverse=True)\n",
    "matriz[1].sort(reverse=True)\n",
    "\n",
    "mtransposta = [[linha[i] for linha in matriz] for i in range(3)] # matriz transposta\n",
    "\n",
    "tabulate(mtransposta, headers=['Pares', 'Ímpares'], tablefmt='html')"
   ]
  },
  {
   "cell_type": "markdown",
   "id": "dfd0936a",
   "metadata": {},
   "source": [
    "90. Faça um programa que ajude um jogador da Mega-Sena a criar palpites. O programa vai perguntar quantos jogos serão gerados e vai sortear 6 números entre 1 e 60 para cada jogo, cadastrando tudo em uma lista composta."
   ]
  },
  {
   "cell_type": "code",
   "execution_count": 6,
   "id": "b63684c2",
   "metadata": {},
   "outputs": [
    {
     "name": "stdout",
     "output_type": "stream",
     "text": [
      "------------------------------\n",
      "      JOGAR NA MEGA SENA      \n",
      "------------------------------\n",
      "Quantos jogos você quer que eu sorteie? 5\n",
      "-=-=-= SORTEANDO 5 JOGOS -=-=-=\n",
      "Jogo 1: [9, 21, 23, 40, 47, 55]\n",
      "Jogo 2: [16, 21, 24, 45, 54, 55]\n",
      "Jogo 3: [4, 8, 11, 28, 30, 45]\n",
      "Jogo 4: [3, 10, 25, 44, 50, 51]\n",
      "Jogo 5: [19, 24, 25, 33, 38, 51]\n",
      "-=-=-=-=-= < BOA SORTE > -=-=-=-=-=\n"
     ]
    }
   ],
   "source": [
    "from random import randint\n",
    "from time import sleep\n",
    "\n",
    "lista = []\n",
    "cartela = []\n",
    "\n",
    "print('-'*30)\n",
    "print(f'{\"JOGAR NA MEGA SENA\":^30}')\n",
    "print('-'*30)\n",
    "jogos = int(input('Quantos jogos você quer que eu sorteie? '))\n",
    "print('-='*3, f'SORTEANDO {jogos} JOGOS', '-='*3)\n",
    "\n",
    "for c in range(0, jogos):\n",
    "    for num in range(6): # 6 números para cada jogo\n",
    "        \n",
    "        while True:\n",
    "            cartela.append(randint(1, 60))\n",
    "            if cartela.count(cartela[num]) > 1: # se o número já foi marcado\n",
    "                cartela.pop()\n",
    "            else:\n",
    "                break # se o numero não for repetido\n",
    "                \n",
    "    cartela.sort()\n",
    "    lista.append(cartela[:])\n",
    "    cartela.clear()\n",
    "    sleep(1)\n",
    "    print(f'Jogo {c+1}: {lista[c]}')\n",
    "print('-='*5, '< BOA SORTE >', '-='*5)"
   ]
  },
  {
   "cell_type": "code",
   "execution_count": 7,
   "id": "7a7761d0",
   "metadata": {},
   "outputs": [
    {
     "name": "stdout",
     "output_type": "stream",
     "text": [
      "------------------------------\n",
      "      JOGAR NA MEGA SENA      \n",
      "------------------------------\n",
      "Quantos jogos você quer que eu sorteie? 5\n",
      "-=-=-= SORTEANDO 5 JOGOS -=-=-=\n",
      "Jogo 1: [4, 27, 35, 45, 52, 59]\n",
      "Jogo 2: [7, 21, 25, 37, 45, 46]\n",
      "Jogo 3: [9, 14, 32, 36, 38, 57]\n",
      "Jogo 4: [2, 10, 17, 21, 38, 53]\n",
      "Jogo 5: [12, 21, 24, 25, 50, 54]\n",
      "-=-=-=-=-= < BOA SORTE > -=-=-=-=-=\n"
     ]
    }
   ],
   "source": [
    "from random import sample\n",
    "from time import sleep\n",
    "\n",
    "lista =[]\n",
    "\n",
    "print('-'*30)\n",
    "print(f'{\"JOGAR NA MEGA SENA\":^30}')\n",
    "print('-'*30)\n",
    "\n",
    "jogos = int(input('Quantos jogos você quer que eu sorteie? '))\n",
    "\n",
    "print('-='*3, f'SORTEANDO {jogos} JOGOS', '-='*3)\n",
    "\n",
    "for c in range(jogos):\n",
    "    cartela = sample(range(1, 60), 6) # amostra de 6 números\n",
    "    cartela.sort()\n",
    "    lista.append(cartela[:])\n",
    "    cartela.clear()\n",
    "    sleep(1)\n",
    "    print(f'Jogo {c+1}: {lista[c]}')\n",
    "    sleep(1)\n",
    "    \n",
    "print('-='*5, '< BOA SORTE >', '-='*5)"
   ]
  },
  {
   "cell_type": "markdown",
   "id": "569d1c2b",
   "metadata": {},
   "source": [
    "91. Crie um programa que leia nome e duas notas de vários alunos e guarde em uma lista composta. No final, mostre um boletim contendo a média de cada um e permita que o usuário possa mostrar as notas de cada aluno individualmente."
   ]
  },
  {
   "cell_type": "code",
   "execution_count": 3,
   "id": "1211cdb1",
   "metadata": {},
   "outputs": [
    {
     "name": "stdout",
     "output_type": "stream",
     "text": [
      "Nome: Ana\n",
      "Nota 1: 10\n",
      "Nota 2: 9.5\n",
      "Quer continuar? [S/N]s\n",
      "Nome: Gustavo\n",
      "Nota 1: 2.5\n",
      "Nota 2: 4\n",
      "Quer continuar? [S/N]s\n",
      "Nome: Pedro\n",
      "Nota 1: 5.5\n",
      "Nota 2: 8\n",
      "Quer continuar? [S/N]s\n",
      "Nome: João\n",
      "Nota 1: 8\n",
      "Nota 2: 3\n",
      "Quer continuar? [S/N]n\n",
      "-=-=-=-=-=-=-=-=-=-=-=-=-=-=-=-=-=-=-=-=-=-=-=-=-=-=-=-=-=-=\n",
      "Nº  NOME         MÉDIA\n",
      "--------------------------\n",
      "0   Ana            9.8\n",
      "1   Gustavo        3.2\n",
      "2   Pedro          6.8\n",
      "3   João           5.5\n",
      "-----------------------------------\n",
      "Mostrar notas de qual aluno? (999 interrompe)0\n",
      "As notas de Ana são [10.0, 9.5]\n",
      "-----------------------------------\n",
      "Mostrar notas de qual aluno? (999 interrompe)2\n",
      "As notas de Pedro são [5.5, 8.0]\n",
      "-----------------------------------\n",
      "Mostrar notas de qual aluno? (999 interrompe)999\n",
      "FINALIZANDO...\n",
      "<<< VOLTE SEMPRE >>>\n"
     ]
    }
   ],
   "source": [
    "lista = []\n",
    "ficha = []\n",
    "notas = []\n",
    "\n",
    "while True:\n",
    "    ficha.append(str(input('Nome: ')).strip()) # nome na ficha\n",
    "    \n",
    "    for n in range(2):\n",
    "        notas.append(float(input(f'Nota {n+1}: ')))\n",
    "    \n",
    "    ficha.append(notas[:]) # notas na ficha\n",
    "    media = (notas[0] + notas[1])/2\n",
    "    ficha.append(media) # média na ficha\n",
    "    lista.append(ficha[:]) # ficha na lista\n",
    "    notas.clear()\n",
    "    ficha.clear()\n",
    "    \n",
    "    resp = ' '\n",
    "    while resp not in 'SN':\n",
    "        resp = str(input('Quer continuar? [S/N]')).upper().strip()[0]\n",
    "    if resp == 'N':\n",
    "        break\n",
    "        \n",
    "print('-='*30)\n",
    "print(f'{\"Nº\":<4}{\"NOME\":<10}{\"MÉDIA\":>8}')\n",
    "print('-'*26)\n",
    "for c in range(0, len(lista)):\n",
    "    print(f'{c:<4}{lista[c][0]:<10}{lista[c][2]:>8.1f}') # lista[c][0] é nome e lista[c][2] é média\n",
    "\n",
    "while True:\n",
    "    print('-'*35)\n",
    "    opc = int(input('Mostrar notas de qual aluno? (999 interrompe)'))\n",
    "    if opc == 999: #flag\n",
    "        print('FINALIZANDO...')\n",
    "        break\n",
    "    if opc < len(lista):\n",
    "        print(f'As notas de {lista[opc][0]} são {lista[opc][1]}')\n",
    "\n",
    "print('<<< VOLTE SEMPRE >>>')"
   ]
  },
  {
   "cell_type": "code",
   "execution_count": 1,
   "id": "b5a514e0",
   "metadata": {},
   "outputs": [
    {
     "name": "stdout",
     "output_type": "stream",
     "text": [
      "Nome: Ana\n",
      "Nota 1: 10\n",
      "Nota 2: 9.5\n",
      "Quer continuar? [S/N]s\n",
      "Nome: Gustavo\n",
      "Nota 1: 2.5\n",
      "Nota 2: 4\n",
      "Quer continuar? [S/N]s\n",
      "Nome: Pedro\n",
      "Nota 1: 5.5\n",
      "Nota 2: 8\n",
      "Quer continuar? [S/N]s\n",
      "Nome: João\n",
      "Nota 1: 8\n",
      "Nota 2: 3\n",
      "Quer continuar? [S/N]n\n",
      "-=-=-=-=-=-=-=-=-=-=-=-=-=-=-=-=-=-=-=-=-=-=-=-=-=-=-=-=-=-=\n",
      "Nº  NOME         MÉDIA\n",
      "--------------------------\n",
      "0   Ana            9.8\n",
      "1   Gustavo        3.2\n",
      "2   Pedro          6.8\n",
      "3   João           5.5\n",
      "-----------------------------------\n",
      "Mostrar notas de qual aluno? (999 interrompe)0\n",
      "As notas de Ana são [10.0, 9.5]\n",
      "-----------------------------------\n",
      "Mostrar notas de qual aluno? (999 interrompe)2\n",
      "As notas de Pedro são [5.5, 8.0]\n",
      "-----------------------------------\n",
      "Mostrar notas de qual aluno? (999 interrompe)999\n",
      "FINALIZANDO...\n",
      "<<< VOLTE SEMPRE >>>\n"
     ]
    }
   ],
   "source": [
    "ficha = list()\n",
    "\n",
    "while True:\n",
    "    nome = str(input('Nome: '))\n",
    "    nota1 = float(input('Nota 1: '))\n",
    "    nota2 = float(input('Nota 2: '))\n",
    "    media = (nota1 + nota2)/2\n",
    "    ficha.append([nome, [nota1, nota2], media])\n",
    "    \n",
    "    resp = ' '\n",
    "    while resp not in 'SN':\n",
    "        resp = str(input('Quer continuar? [S/N]')).upper().strip()[0]\n",
    "    if resp == 'N':\n",
    "        break\n",
    "\n",
    "print('-='*30)\n",
    "print(f'{\"Nº\":<4}{\"NOME\":<10}{\"MÉDIA\":>8}')\n",
    "print('-'*26)\n",
    "for index, aluno in enumerate(ficha):\n",
    "    print(f'{index:<4}{aluno[0]:<10}{aluno[2]:>8.1f}') # aluno[0] é nome, aluno[1] é lista com notas e aluno[2] é média\n",
    "\n",
    "while True:\n",
    "    print('-'*35)\n",
    "    opc = int(input('Mostrar notas de qual aluno? (999 interrompe)'))\n",
    "    if opc == 999: #flag\n",
    "        print('FINALIZANDO...')\n",
    "        break\n",
    "    if opc < len(ficha):\n",
    "        print(f'As notas de {ficha[opc][0]} são {ficha[opc][1]}') #ficha[][0] é nome e ficha[][1] é lista com notas\n",
    "\n",
    "print('<<< VOLTE SEMPRE >>>')"
   ]
  },
  {
   "cell_type": "markdown",
   "id": "01655cd0",
   "metadata": {},
   "source": [
    "92. Crie um programa com uma lista composta, utilizando list comprehension, em que dentro dela tenha:\n",
    "- Uma lista de números ímpares entre 1 e 10\n",
    "- Uma lista que mostre o quadrado dos números entre 1 e 5\n",
    "- Uma lista de números entre 1 e 10 que sejam maiores de 5\n",
    "- Uma lista contendo os 5 primeiros termos de uma PA de razão 3, onde o primeiro termo é 8.\n",
    "\n",
    "Ao final, mostre a lista composta e itere sobre ela mostrando quantos números 9 há."
   ]
  },
  {
   "cell_type": "code",
   "execution_count": 20,
   "id": "8f0f6d91",
   "metadata": {},
   "outputs": [
    {
     "name": "stdout",
     "output_type": "stream",
     "text": [
      "  Ímpares    Quadrado    num > 5    Prog. Aritm.\n",
      "---------  ----------  ---------  --------------\n",
      "        1           1          6               8\n",
      "        3           4          7              11\n",
      "        5           9          8              14\n",
      "        7          16          9              17\n",
      "        9          25         10              20\n",
      "Foram encontrados 3 números 9 no total.\n"
     ]
    }
   ],
   "source": [
    "from tabulate import tabulate\n",
    "\n",
    "matriz = [[num for num in range(1, 11) if num % 2 != 0],\n",
    "          [num**2 for num in range(1, 6)], \n",
    "          [num for num in range(1,11) if num > 5],\n",
    "          [num for num in range(8,8+4*3+1,3)] # [a1, a1 + 4*r + 1, r]\n",
    "]\n",
    "\n",
    "mtransposta = [[linha[i] for linha in matriz] for i in range(5)]\n",
    "print(tabulate(mtransposta, headers=['Ímpares', 'Quadrado', 'num > 5', 'Prog. Aritm.'], tablefmt='plan'))\n",
    "\n",
    "soma = 0\n",
    "\n",
    "for lista in range(len(matriz)):\n",
    "    soma += matriz[lista].count(9)\n",
    "print(f'Foram encontrados {soma} números 9 no total.')"
   ]
  },
  {
   "cell_type": "markdown",
   "id": "7486e80b",
   "metadata": {},
   "source": [
    "93. Crie um programa que leia as listas do exercício anterior e concatene-as. No final, mostre uma lista de números distintos (sem repetição) formada somente com os números dessas listas."
   ]
  },
  {
   "cell_type": "code",
   "execution_count": 14,
   "id": "20b956cf",
   "metadata": {},
   "outputs": [
    {
     "name": "stdout",
     "output_type": "stream",
     "text": [
      "[[1, 3, 5, 7, 9], [1, 4, 9, 16, 25], [6, 7, 8, 9, 10], [8, 11, 14, 17, 20]]\n",
      "[1, 3, 4, 5, 6, 7, 8, 9, 10, 11, 14, 16, 17, 20, 25]\n"
     ]
    }
   ],
   "source": [
    "matriz = [[num for num in range(1, 11) if num % 2 != 0],\n",
    "          [num**2 for num in range(1, 6)], \n",
    "          [num for num in range(1,11) if num > 5],\n",
    "          [num for num in range(8,8+4*3+1,3)] # [a1, a1 + 4*r + 1, r]\n",
    "] \n",
    "\n",
    "print(matriz)\n",
    "\n",
    "nova_lista = []\n",
    "\n",
    "for lista in matriz:\n",
    "    nova_lista += lista\n",
    "print(list(set(nova_lista)))"
   ]
  },
  {
   "cell_type": "markdown",
   "id": "9d033711",
   "metadata": {},
   "source": [
    "94. Crie um programa que faça uma pesquisa com 8 alunos de uma escola, numerando-os. O programa fará 3 perguntas: se ele gosta de estudar programação, se ele gosta de estudar matemática e se ele gosta de estudar inglês. O número do aluno deve ser armazenada nas listas programação, matemática e inglês respectivamente, de acordo com suas respostas. Ao final mostre:\n",
    "- Quantos alunos gostam de Programação\n",
    "- Quantos alunos gostam de Matemática\n",
    "- Quantos alunos gostam de Inglês\n",
    "- Quantos alunos gostam de programação e Matemática\n",
    "- Quantos alunos gostam de Programação e Inglês\n",
    "- Quantos alunos gostam de Matemática e Inglês\n",
    "- Quantos alunos gostam das três disciplinas\n",
    "- Quantos alunos não gostam de nenhuma disciplina\n",
    "- Quantos alunos gostam somente de Programação\n",
    "- Quantos alunos gostam somente de Matemática\n",
    "- Quantos alunos gostam somente de Inglês"
   ]
  },
  {
   "cell_type": "code",
   "execution_count": 23,
   "id": "7549753a",
   "metadata": {},
   "outputs": [
    {
     "name": "stdout",
     "output_type": "stream",
     "text": [
      "-=-=-=-=-=-=-=-=-=-=-=-=-=-=-=-=-=-=-=-=\n",
      "Cadastrando as respostas do 1º aluno..\n",
      "Gosta de Programação? [S/N]s\n",
      "Gosta de Matemática? [S/N]s\n",
      "Gosta de Inglês? [S/N]s\n",
      "-=-=-=-=-=-=-=-=-=-=-=-=-=-=-=-=-=-=-=-=\n",
      "Cadastrando as respostas do 2º aluno..\n",
      "Gosta de Programação? [S/N]n\n",
      "Gosta de Matemática? [S/N]n\n",
      "Gosta de Inglês? [S/N]n\n",
      "-=-=-=-=-=-=-=-=-=-=-=-=-=-=-=-=-=-=-=-=\n",
      "Cadastrando as respostas do 3º aluno..\n",
      "Gosta de Programação? [S/N]s\n",
      "Gosta de Matemática? [S/N]n\n",
      "Gosta de Inglês? [S/N]n\n",
      "-=-=-=-=-=-=-=-=-=-=-=-=-=-=-=-=-=-=-=-=\n",
      "Cadastrando as respostas do 4º aluno..\n",
      "Gosta de Programação? [S/N]n\n",
      "Gosta de Matemática? [S/N]s\n",
      "Gosta de Inglês? [S/N]s\n",
      "-=-=-=-=-=-=-=-=-=-=-=-=-=-=-=-=-=-=-=-=\n",
      "Cadastrando as respostas do 5º aluno..\n",
      "Gosta de Programação? [S/N]s\n",
      "Gosta de Matemática? [S/N]s\n",
      "Gosta de Inglês? [S/N]n\n",
      "-=-=-=-=-=-=-=-=-=-=-=-=-=-=-=-=-=-=-=-=\n",
      "Cadastrando as respostas do 6º aluno..\n",
      "Gosta de Programação? [S/N]n\n",
      "Gosta de Matemática? [S/N]n\n",
      "Gosta de Inglês? [S/N]s\n",
      "-=-=-=-=-=-=-=-=-=-=-=-=-=-=-=-=-=-=-=-=\n",
      "Cadastrando as respostas do 7º aluno..\n",
      "Gosta de Programação? [S/N]s\n",
      "Gosta de Matemática? [S/N]n\n",
      "Gosta de Inglês? [S/N]s\n",
      "-=-=-=-=-=-=-=-=-=-=-=-=-=-=-=-=-=-=-=-=\n",
      "Cadastrando as respostas do 8º aluno..\n",
      "Gosta de Programação? [S/N]n\n",
      "Gosta de Matemática? [S/N]s\n",
      "Gosta de Inglês? [S/N]n\n",
      "-=-=-=-=-=-=-=-=-=-=-=-=-=-=-=-=-=-=-=-=\n",
      "4 alunos que gostam de Programação: {1, 3, 5, 7}\n",
      "4 alunos que gostam de Matemática: {8, 1, 4, 5}\n",
      "4 alunos que gostam de Inglês: {1, 4, 6, 7}\n",
      "2 alunos que gostam de Programação e Matemática: {1, 5}\n",
      "2 alunos que gostam de Programação e Inglês: {1, 7}\n",
      "2 alunos que gostam de Matemática e Inglês: {1, 4}\n",
      "1 alunos que gostam das três disciplinas: {1}\n",
      "1 alunos não gostam de nenhuma disciplina.\n",
      "1 alunos gostam somente de Programação\n",
      "1 alunos gostam somente de Matemática\n",
      "1 alunos gostam somente de Inglês\n"
     ]
    }
   ],
   "source": [
    "programacao = set()\n",
    "matematica = set()\n",
    "ingles = set()\n",
    "\n",
    "print('-='*20)\n",
    "for aluno in range(1, 9):\n",
    "    print(f'Cadastrando as respostas do {aluno}º aluno..')\n",
    "        \n",
    "    resp = ' '\n",
    "    while resp not in 'SN':\n",
    "        resp = str(input('Gosta de Programação? [S/N]')).upper().strip()[0]\n",
    "    if resp == 'S':\n",
    "        programacao.add(aluno)\n",
    "        \n",
    "    resp = ' '\n",
    "    while resp not in 'SN':\n",
    "        resp = str(input('Gosta de Matemática? [S/N]')).upper().strip()[0]\n",
    "    if resp == 'S':\n",
    "        matematica.add(aluno)\n",
    "        \n",
    "    resp = ' '\n",
    "    while resp not in 'SN':\n",
    "        resp = str(input('Gosta de Inglês? [S/N]')).upper().strip()[0]\n",
    "    if resp == 'S':\n",
    "        ingles.add(aluno)\n",
    "    \n",
    "    print('-='*20)\n",
    "\n",
    "print(f'{len(programacao)} alunos que gostam de Programação: {programacao}')\n",
    "print(f'{len(matematica)} alunos que gostam de Matemática: {matematica}')\n",
    "print(f'{len(ingles)} alunos que gostam de Inglês: {ingles}')\n",
    "\n",
    "programacao_e_matematica = programacao & matematica\n",
    "# programacao_e_matematica = programacao.intersection(matematica)\n",
    "programacao_e_ingles = programacao & ingles\n",
    "# programacao_e_ingles = programacao.intersection(ingles)\n",
    "matematica_e_ingles = matematica & ingles\n",
    "# matematica_e_ingles = matematica.intersection(ingles)\n",
    "\n",
    "print(f'{len(programacao_e_matematica)} alunos que gostam de Programação e Matemática: {programacao_e_matematica}')\n",
    "print(f'{len(programacao_e_ingles)} alunos que gostam de Programação e Inglês: {programacao_e_ingles}')\n",
    "print(f'{len(matematica_e_ingles)} alunos que gostam de Matemática e Inglês: {matematica_e_ingles}')\n",
    "\n",
    "tres_disciplinas = programacao & matematica & ingles\n",
    "tres_disciplinas = programacao.intersection(matematica.intersection(ingles))\n",
    "# tres_disciplinas = programacao_e_matematica.intersection(ingles)\n",
    "\n",
    "print(f'{len(tres_disciplinas)} alunos que gostam das três disciplinas: {tres_disciplinas}')\n",
    "\n",
    "nenhuma = 8 - len(programacao | matematica | ingles)\n",
    "# nenhuma = 8 - len(programacao.union(matematica.union(ingles))) \n",
    "# nenhuma = 8 - len(set(list(programacao) + list(matematica) + list(ingles)))\n",
    "\n",
    "print(f'{nenhuma} alunos não gostam de nenhuma disciplina') \n",
    "\n",
    "somente_programacao = (programacao - matematica) - ingles\n",
    "somente_matematica = (matematica - programacao) - ingles\n",
    "somente_ingles = (ingles - programacao) - matematica\n",
    "\n",
    "print(f'{len(somente_programacao)} alunos gostam somente de Programação')\n",
    "print(f'{len(somente_matematica)} alunos gostam somente de Matemática')\n",
    "print(f'{len(somente_ingles)} alunos gostam somente de Inglês')"
   ]
  },
  {
   "cell_type": "markdown",
   "id": "0a45085d",
   "metadata": {},
   "source": [
    "95. Faça um programa que leia nome e média de um aluno, guardando também a situação (média >= 7, aprovado) em um dicionário. No final, mostre o conteúdo da estrutura na tela."
   ]
  },
  {
   "cell_type": "code",
   "execution_count": 16,
   "id": "9428594e",
   "metadata": {},
   "outputs": [
    {
     "name": "stdout",
     "output_type": "stream",
     "text": [
      "Nome: Icaro\n",
      "Média de Icaro: 5.5\n",
      "-=-=-=-=-=-=-=-=-=-=-=-=-=-=-=-=-=-=-=-=-=-=-=-=-=-=-=-=-=-=\n",
      "  - nome é igual a Icaro\n",
      "  - media é igual a 5.5\n",
      "  - situacao é igual a Recuperação\n"
     ]
    }
   ],
   "source": [
    "ficha = dict()\n",
    "\n",
    "ficha['nome'] = str(input('Nome: ')).strip()\n",
    "ficha['media'] = float(input(f'Média de {ficha[\"nome\"]}: '))\n",
    "\n",
    "if ficha['media'] >= 7:\n",
    "    ficha['situacao'] = 'Aprovado'\n",
    "elif ficha['media'] >= 5:\n",
    "    ficha['situacao'] = 'Recuperação'\n",
    "else:\n",
    "    ficha['situacao'] = 'Reprovado'\n",
    "\n",
    "print('-='*30)\n",
    "for k, v in ficha.items():\n",
    "    print(f'  - {k} é igual a {v}')"
   ]
  },
  {
   "cell_type": "markdown",
   "id": "bb2cd218",
   "metadata": {},
   "source": [
    "96. Crie um programa onde 4 jogadores joguem um dado e tenha resultados aleatórios. Guarde esses resultados em um dicionário. No final, coloque o dicionário em ordem, sabendo que o vencedor tirou o maior número no dado.\n",
    "\n",
    "Dica: Se não souber ordenar um dicionário, use o ChatGPT. A função lambda é melhor explicada no notebook de funções."
   ]
  },
  {
   "cell_type": "code",
   "execution_count": 37,
   "id": "8d168d42",
   "metadata": {},
   "outputs": [
    {
     "name": "stdout",
     "output_type": "stream",
     "text": [
      "Valores sorteados:\n",
      "O jogador1 tirou 1 no dado.\n",
      "O jogador2 tirou 5 no dado.\n",
      "O jogador3 tirou 1 no dado.\n",
      "O jogador4 tirou 5 no dado.\n",
      "-=-=-=-=-=-=-=-=-=-=-=-=-=-=-=-=-=-=-=-=-=-=-=-=-=-=-=-=-=-=\n",
      " == RANKING DOS JOGADORES ==\n",
      "  1º lugar: jogador2 com 5.\n",
      "  2º lugar: jogador4 com 5.\n",
      "  3º lugar: jogador1 com 1.\n",
      "  4º lugar: jogador3 com 1.\n"
     ]
    }
   ],
   "source": [
    "from random import randint\n",
    "from time import sleep\n",
    "from operator import itemgetter #função do módulo itemgetter para ordenar dicionários\n",
    "\n",
    "jogo = dict()\n",
    "ranking = list()\n",
    "\n",
    "for j in range(4):\n",
    "    jogo[f'jogador{j+1}'] = randint(1, 6)\n",
    "\n",
    "print('Valores sorteados:')\n",
    "for k, v in jogo.items():\n",
    "    print(f'O {k} tirou {v} no dado.')\n",
    "    sleep(1)\n",
    "\n",
    "ranking = sorted(jogo.items(), key = itemgetter(1), reverse = True) # 0 para chave e 1 para valor\n",
    "\n",
    "print('-='*30)\n",
    "print(f' == RANKING DOS JOGADORES ==')\n",
    "for i, v in enumerate(ranking):\n",
    "    print(f'  {i+1}º lugar: {v[0]} com {v[1]}.')\n",
    "    sleep(1)"
   ]
  },
  {
   "cell_type": "code",
   "execution_count": 38,
   "id": "fe7cc0fa",
   "metadata": {},
   "outputs": [
    {
     "name": "stdout",
     "output_type": "stream",
     "text": [
      "Valores sorteados:\n",
      "O jogador1 tirou 3 no dado.\n",
      "O jogador2 tirou 5 no dado.\n",
      "O jogador3 tirou 6 no dado.\n",
      "O jogador4 tirou 2 no dado.\n",
      "-=-=-=-=-=-=-=-=-=-=-=-=-=-=-=-=-=-=-=-=-=-=-=-=-=-=-=-=-=-=\n",
      " == RANKING DOS JOGADORES ==\n",
      "  1º lugar: jogador3 com 6.\n",
      "  2º lugar: jogador2 com 5.\n",
      "  3º lugar: jogador1 com 3.\n",
      "  4º lugar: jogador4 com 2.\n"
     ]
    }
   ],
   "source": [
    "from random import randint\n",
    "from time import sleep\n",
    "\n",
    "jogo = dict()\n",
    "ranking = list()\n",
    "\n",
    "for j in range(4):\n",
    "    jogo[f'jogador{j+1}'] = randint(1, 6)\n",
    "\n",
    "print('Valores sorteados:')\n",
    "for k, v in jogo.items():\n",
    "    print(f'O {k} tirou {v} no dado.')\n",
    "    sleep(1)\n",
    "\n",
    "# usando função lambda (no módulo de funções será melhor explicada)\n",
    "ranking = sorted(jogo.items(), key = lambda item: item[1], reverse = True) # Python 3.7: não há necessidade do itemgetter\n",
    "\n",
    "print('-='*30)\n",
    "print(f' == RANKING DOS JOGADORES ==')\n",
    "for i, v in enumerate(ranking):\n",
    "    print(f'  {i+1}º lugar: {v[0]} com {v[1]}.')\n",
    "    sleep(1)"
   ]
  },
  {
   "cell_type": "markdown",
   "id": "5da7f17d",
   "metadata": {},
   "source": [
    "97. Crie um programa que leia **nome**, **ano de nascimento** e **carteira de trabalho** e cadastre-os (com idade) em um dicionário. Se por acaso a CTPS for diferente de ZERO, o dicionário receberá também o **ano de contratação** e o **salário**. Calcule e acrescente, além da idade, com quantos anos a pessoa vai se aposentar."
   ]
  },
  {
   "cell_type": "code",
   "execution_count": 1,
   "id": "d1349d44",
   "metadata": {},
   "outputs": [
    {
     "name": "stdout",
     "output_type": "stream",
     "text": [
      "Nome: Gustavo\n",
      "Ano de Nascimento:1978\n",
      "Carteira de Trabalho (0 não tem): 1234\n",
      "Ano de contratação: 1995\n",
      "Salário: R$1000\n",
      "-=-=-=-=-=-=-=-=-=-=-=-=-=-=-=-=-=-=-=-=-=-=-=-=-=-=-=-=-=-=\n",
      "  - nome tem o valor Gustavo\n",
      "  - idade tem o valor 45\n",
      "  - ctps tem o valor 1234\n",
      "  - contratação tem o valor 1995\n",
      "  - salário tem o valor 1000.0\n",
      "  - aposentadoria tem o valor 52\n"
     ]
    }
   ],
   "source": [
    "from datetime import datetime\n",
    "\n",
    "ficha = dict()\n",
    "\n",
    "ficha['nome'] = str(input('Nome: ')).strip()\n",
    "nasc = int(input('Ano de Nascimento:'))\n",
    "ficha['idade'] = datetime.now().year - nasc\n",
    "ficha['ctps'] = int(input('Carteira de Trabalho (0 não tem): '))\n",
    "\n",
    "if ficha['ctps'] != 0:\n",
    "    ficha['contratação'] = int(input('Ano de contratação: '))\n",
    "    ficha['salário'] = float(input('Salário: R$'))\n",
    "    ficha['aposentadoria'] = (ficha['contratação'] + 35) - nasc\n",
    "\n",
    "print('-='*30)\n",
    "for k, v in ficha.items():\n",
    "    print(f'  - {k} tem o valor {v}')"
   ]
  },
  {
   "cell_type": "markdown",
   "id": "f211f414",
   "metadata": {},
   "source": [
    "98. Crie um programa que gerencie o aproveitamento de um jogador de futebol. O programa vai ler o **nome do jogador** e **quantas partidas** ele jogou. Depois vai ler a **quantidade de gols** feitos em cada partida (guarde-os em uma lista). No final, tudo isso será guardado em um dicionário, incluindo o **total de gols** feitos durante o campeonato."
   ]
  },
  {
   "cell_type": "code",
   "execution_count": 8,
   "id": "46014a2f",
   "metadata": {},
   "outputs": [
    {
     "name": "stdout",
     "output_type": "stream",
     "text": [
      "Nome do jogador: Hélio\n",
      "Quantas partidas Hélio jogou? 3\n",
      "Quantos gols na partida 1? 4\n",
      "Quantos gols na partida 2? 0\n",
      "Quantos gols na partida 3? 1\n",
      "-=-=-=-=-=-=-=-=-=-=-=-=-=-=-=-=-=-=-=-=-=-=-=-=-=-=-=-=-=-=\n",
      "{'nome': 'Hélio', 'gols': [4, 0, 1], 'total': 5}\n",
      "-=-=-=-=-=-=-=-=-=-=-=-=-=-=-=-=-=-=-=-=-=-=-=-=-=-=-=-=-=-=\n",
      "O campo nome tem o valor Hélio\n",
      "O campo gols tem o valor [4, 0, 1]\n",
      "O campo total tem o valor 5\n",
      "-=-=-=-=-=-=-=-=-=-=-=-=-=-=-=-=-=-=-=-=-=-=-=-=-=-=-=-=-=-=\n",
      "O jogador Hélio jogou 3 partidas.\n",
      "  => Na partida 1, fez 4 gols.\n",
      "  => Na partida 2, fez 0 gols.\n",
      "  => Na partida 3, fez 1 gols.\n",
      "Foi um total de 5 gols.\n"
     ]
    }
   ],
   "source": [
    "jogador = dict()\n",
    "gols_nas_partidas = list()\n",
    "\n",
    "jogador['nome'] = str(input('Nome do jogador: ')).strip()\n",
    "tot = int(input(f'Quantas partidas {jogador[\"nome\"]} jogou? '))\n",
    "\n",
    "# gols em cada partida:\n",
    "for g in range(0, tot):\n",
    "    gols_nas_partidas.append(int(input(f'Quantos gols na partida {g+1}? ')))\n",
    "\n",
    "jogador['gols'] = gols_nas_partidas[:]\n",
    "jogador['total'] = sum(gols_nas_partidas) # soma os gols da lista\n",
    "\n",
    "print('-='*30)\n",
    "print(jogador)\n",
    "print('-='*30)\n",
    "for k, v in jogador.items():\n",
    "    print(f'O campo {k} tem o valor {v}')\n",
    "\n",
    "print('-='*30)\n",
    "print(f'O jogador {jogador[\"nome\"]} jogou {len(jogador[\"gols\"])} partidas.') # poderia ter usado tot\n",
    "for p, g in enumerate(gols_nas_partidas):\n",
    "    print(f'  => Na partida {p+1}, fez {g} gols.')\n",
    "print(f'Foi um total de {jogador[\"total\"]} gols.')"
   ]
  },
  {
   "cell_type": "markdown",
   "id": "e59dcac9",
   "metadata": {},
   "source": [
    "99. Crie um programa que leia nome, sexo e idade de várias pessoas, guardando os dados de cada pessoa em um dicionário e todos os dicionários em uma lista. No final, mostre:\n",
    "- Quantas pessoas foram cadastradas\n",
    "- A média de idade\n",
    "- Uma lista com as mulheres\n",
    "- Uma lista de pessoas com idade acima da média"
   ]
  },
  {
   "cell_type": "code",
   "execution_count": 29,
   "id": "ab8d6e13",
   "metadata": {},
   "outputs": [
    {
     "name": "stdout",
     "output_type": "stream",
     "text": [
      "Nome: Rafaela\n",
      "Sexo [M/F]: n\n",
      "ERRO! Por favor, digite apenas M ou F.\n",
      "Sexo [M/F]: f\n",
      "Idade: 22\n",
      "Quer continuar? [S/N] s\n",
      "Nome: Renato\n",
      "Sexo [M/F]: g\n",
      "ERRO! Por favor, digite apenas M ou F.\n",
      "Sexo [M/F]: M\n",
      "Idade: 34\n",
      "Quer continuar? [S/N] a\n",
      "ERRO! Por favor, digite apenas S ou N.\n",
      "Quer continuar? [S/N] s\n",
      "Nome: Bia\n",
      "Sexo [M/F]: F\n",
      "Idade: 34\n",
      "Quer continuar? [S/N] s\n",
      "Nome: Gustavo\n",
      "Sexo [M/F]: M\n",
      "Idade: 53\n",
      "Quer continuar? [S/N] s\n",
      "Nome: Lilian\n",
      "Sexo [M/F]: F\n",
      "Idade: 14\n",
      "Quer continuar? [S/N] n\n",
      "-=-=-=-=-=-=-=-=-=-=-=-=-=-=-=-=-=-=-=-=-=-=-=-=-=-=-=-=-=-=\n",
      "A) Ao todo temos 5 pessoas cadastradas.\n",
      "B) A média de idade é de 31.40 anos.\n",
      "C) As mulheres cadastradas foram Rafaela Bia Lilian \n",
      "D) Lista das pessoas que estão acima da média:nome = Renato; sexo = M; idade = 34; \n",
      "nome = Bia; sexo = F; idade = 34; \n",
      "nome = Gustavo; sexo = M; idade = 53; \n",
      "<< ENCERRADO >>\n"
     ]
    }
   ],
   "source": [
    "pessoa = dict()\n",
    "pessoas = list()\n",
    "soma = 0\n",
    "\n",
    "while True:\n",
    "    pessoa['nome'] = str(input('Nome: ')).strip()\n",
    "    \n",
    "    while True:\n",
    "        pessoa['sexo'] = str(input('Sexo [M/F]: ')).upper().strip()[0]\n",
    "        if pessoa['sexo'] in 'MF':\n",
    "            break\n",
    "        print('ERRO! Por favor, digite apenas M ou F.')  \n",
    "    \n",
    "    pessoa['idade'] = int(input('Idade: '))\n",
    "    soma += pessoa['idade']\n",
    "    pessoas.append(pessoa.copy())\n",
    "    \n",
    "    while True:\n",
    "        resp = str(input('Quer continuar? [S/N] ')).upper().strip()[0]\n",
    "        if resp in 'SN':\n",
    "            break\n",
    "        print('ERRO! Por favor, digite apenas S ou N.')\n",
    "    if resp == 'N':\n",
    "        break\n",
    "\n",
    "print('-='*30)\n",
    "print(f'A) Ao todo temos {len(pessoas)} pessoas cadastradas.')\n",
    "\n",
    "media = soma/len(pessoas) # soma das idades / qtd pessoas\n",
    "print(f'B) A média de idade é de {media:5.2f} anos.')\n",
    "\n",
    "print(f'C) As mulheres cadastradas foram ', end='')\n",
    "for p in pessoas:\n",
    "    if p['sexo'] == 'F':\n",
    "        print(f'{n[\"nome\"]} ', end='')\n",
    "print()\n",
    "\n",
    "print(f'D) Lista das pessoas que estão acima da média:')\n",
    "for p in pessoas:\n",
    "    if p['idade'] >= media:\n",
    "        #print(f'nome = {p[\"nome\"]}; sexo = {p[\"sexo\"]}; idade = {p[\"idade\"]}')\n",
    "        for k, v in p.items(): # dicionários\n",
    "            print(f'{k} = {v}; ', end='')\n",
    "        print()\n",
    "print('<< ENCERRADO >>')"
   ]
  },
  {
   "cell_type": "markdown",
   "id": "12a069fb",
   "metadata": {},
   "source": [
    "100. Aprimore o exercício 98 para que ele funcione com vários jogadores, incluindo um sistema de visualização de detalhes do aproveitamento de cada jogador."
   ]
  },
  {
   "cell_type": "code",
   "execution_count": 18,
   "id": "19cf9909",
   "metadata": {},
   "outputs": [
    {
     "name": "stdout",
     "output_type": "stream",
     "text": [
      "Nome do jogador: Hélio\n",
      "Quantas partidas Hélio jogou? 2\n",
      "  Quantos gols na partida 1? 1\n",
      "  Quantos gols na partida 2? 2\n",
      "Quer continuar? [S/N] s\n",
      "Nome do jogador: Iago\n",
      "Quantas partidas Iago jogou? 3\n",
      "  Quantos gols na partida 1? 1\n",
      "  Quantos gols na partida 2? 2\n",
      "  Quantos gols na partida 3? 3\n",
      "Quer continuar? [S/N] s\n",
      "Nome do jogador: Ronaldo\n",
      "Quantas partidas Ronaldo jogou? 4\n",
      "  Quantos gols na partida 1? 0\n",
      "  Quantos gols na partida 2? 0\n",
      "  Quantos gols na partida 3? 2\n",
      "  Quantos gols na partida 4? 1\n",
      "Quer continuar? [S/N] s\n",
      "Nome do jogador: Oswaldo\n",
      "Quantas partidas Oswaldo jogou? 1\n",
      "  Quantos gols na partida 1? 34\n",
      "Quer continuar? [S/N] n\n",
      "-=-=-=-=-=-=-=-=-=-=-=-=-=-=-=-=-=-=-=-=-=-=-=-=-=-=-=-=-=-=\n",
      "cod nome           gols           total          \n",
      "----------------------------------------\n",
      "  0 Hélio          [1, 2]         3              \n",
      "  1 Iago           [1, 2, 3]      6              \n",
      "  2 Ronaldo        [0, 0, 2, 1]   3              \n",
      "  3 Oswaldo        [34]           34             \n",
      "----------------------------------------\n",
      "-=-=-=-=-=-=-=-=-=-=-=-=-=-=-=-=-=-=-=-=-=-=-=-=-=-=-=-=-=-=\n",
      "Mostrar dados de qual jogador? (999 para parar) 5\n",
      "ERRO! Não existe jogador com o código 5.\n",
      "----------------------------------------\n",
      "Mostrar dados de qual jogador? (999 para parar) 1\n",
      " -- LEVANTAMENTO DO JOGADOR Iago\n",
      "  No jogo 1 fez 1 gols.\n",
      "  No jogo 2 fez 2 gols.\n",
      "  No jogo 3 fez 3 gols.\n",
      "----------------------------------------\n",
      "Mostrar dados de qual jogador? (999 para parar) 3\n",
      " -- LEVANTAMENTO DO JOGADOR Oswaldo\n",
      "  No jogo 1 fez 34 gols.\n",
      "----------------------------------------\n",
      "Mostrar dados de qual jogador? (999 para parar) 2\n",
      " -- LEVANTAMENTO DO JOGADOR Ronaldo\n",
      "  No jogo 1 fez 0 gols.\n",
      "  No jogo 2 fez 0 gols.\n",
      "  No jogo 3 fez 2 gols.\n",
      "  No jogo 4 fez 1 gols.\n",
      "----------------------------------------\n",
      "Mostrar dados de qual jogador? (999 para parar) 999\n",
      "<< VOLTE SEMPRE >>\n"
     ]
    }
   ],
   "source": [
    "jogador = dict()\n",
    "gols_nas_partidas = list()\n",
    "time = list()\n",
    "\n",
    "while True:\n",
    "    jogador['nome'] = str(input('Nome do jogador: ')).strip()\n",
    "    tot = int(input(f'Quantas partidas {jogador[\"nome\"]} jogou? '))\n",
    "    \n",
    "    for g in range(0, tot):\n",
    "        gols_nas_partidas.append(int(input(f'  Quantos gols na partida {g+1}? ')))\n",
    "        \n",
    "    jogador['gols'] = gols_nas_partidas[:]\n",
    "    jogador['total'] = sum(partidas) #soma a lista\n",
    "    time.append(jogador.copy())\n",
    "    gols_nas_partidas.clear()\n",
    "    \n",
    "    while True:\n",
    "        resp = str(input('Quer continuar? [S/N] ')).upper().strip()[0]\n",
    "        if resp in 'SN':\n",
    "            break\n",
    "        print('ERRO! Por favor, digite S ou N.')\n",
    "    if resp == 'N':\n",
    "        break\n",
    "\n",
    "print('-='*30)\n",
    "print('cod ', end='')\n",
    "for i in jogador.keys():\n",
    "    print(f'{i:<15}', end='')\n",
    "print()\n",
    "\n",
    "print('-'*40)\n",
    "for k, v in enumerate(time):\n",
    "    print(f'{k:>3} ', end ='')\n",
    "    for d in v.values():\n",
    "        print(f'{str(d):<15}', end='')\n",
    "    print()\n",
    "print('-'*40)\n",
    "\n",
    "print('-='*30)\n",
    "while True:\n",
    "    opc = int(input('Mostrar dados de qual jogador? (999 para parar) '))\n",
    "    if opc == 999:\n",
    "        break\n",
    "    if opc >= len(time):\n",
    "        print(f'ERRO! Não existe jogador com o código {opc}.')\n",
    "    else:\n",
    "        print(f' -- LEVANTAMENTO DO JOGADOR {time[opc][\"nome\"]}')\n",
    "        for i, g in enumerate(time[opc][\"gols\"]):\n",
    "            print(f'  No jogo {i+1} fez {g} gols.')\n",
    "    print('-'*40)\n",
    "print('<< VOLTE SEMPRE >>')"
   ]
  },
  {
   "cell_type": "markdown",
   "id": "de4d4923",
   "metadata": {},
   "source": [
    "101. Faça um programa, utilizando dict comprehension, que gere um dicionário que relacione temperaturas em graus Celsius a Fahrenheit. Use as seguintes temperaturas em Celsius: 0, 10, 20, 30, 40."
   ]
  },
  {
   "cell_type": "code",
   "execution_count": 4,
   "id": "82cedc33",
   "metadata": {},
   "outputs": [
    {
     "name": "stdout",
     "output_type": "stream",
     "text": [
      "{'0°C': '32.0°F', '10°C': '50.0°F', '20°C': '68.0°F', '30°C': '86.0°F', '40°C': '104.0°F'}\n"
     ]
    }
   ],
   "source": [
    "tcelsius = [0, 10, 20, 30, 40]\n",
    "\n",
    "celsius_para_fahrenheit = {f'{c}°C': f'{(c * 9/5) + 32}°F' for c in tcelsius}\n",
    "print(celsius_para_fahrenheit)"
   ]
  },
  {
   "cell_type": "markdown",
   "id": "f34941a6",
   "metadata": {},
   "source": [
    "102. Em um arquivo chamado noticia.txt, escreva o seguinte título de matéria: Pessoas ainda não têm ‘devida maturidade’ para entender ChatGPT, diz professor da Uerj. Posteriormente, abra o arquivo novamente e acrescente o subtítulo: Para especialistas, ferramenta não tem capacidade de tirar empregos de advogados, jornalistas, entre outros profissionais. Por fim, mostre a leitura do arquivo em tela com uma frase em cada linha."
   ]
  },
  {
   "cell_type": "code",
   "execution_count": 2,
   "id": "4de4b481",
   "metadata": {},
   "outputs": [
    {
     "name": "stdout",
     "output_type": "stream",
     "text": [
      "Pessoas ainda não têm ‘devida maturidade’ para entender ChatGPT, diz professor da Uerj\n",
      "Para especialistas, ferramenta não tem capacidade de tirar empregos de advogados, jornalistas, entre outros profissionais\n"
     ]
    }
   ],
   "source": [
    "with open(file='noticia.txt', mode='w') as fp:\n",
    "    titulo = \"Pessoas ainda não têm ‘devida maturidade’ para entender ChatGPT, diz professor da Uerj\" + '\\n'\n",
    "    fp.write(titulo)\n",
    "    \n",
    "with open(file='noticia.txt', mode='a') as fp:\n",
    "    subtitulo = 'Para especialistas, ferramenta não tem capacidade de tirar empregos de advogados, jornalistas, entre outros profissionais'\n",
    "    fp.write(subtitulo)\n",
    "    \n",
    "with open(file='noticia.txt', mode='r') as arquivo:\n",
    "    conteudo = arquivo.read()\n",
    "    \n",
    "print(conteudo)"
   ]
  },
  {
   "cell_type": "markdown",
   "id": "69f5f0e4",
   "metadata": {},
   "source": [
    "103. Faça um programa que leia o arquivo salarios2.csv e calcule a média e a mediana salarial dos funcionários.\n",
    "\n",
    "Resposta: A média salarial dos funcionários é 79167.53 e a mediana é 83616.00"
   ]
  },
  {
   "cell_type": "code",
   "execution_count": 1,
   "id": "17a74208",
   "metadata": {},
   "outputs": [
    {
     "name": "stdout",
     "output_type": "stream",
     "text": [
      "A média salarial dos funcionários é $79167.53 e a mediana é $83616.00\n"
     ]
    }
   ],
   "source": [
    "salarios = []\n",
    "\n",
    "with open(file='salarios2.csv', mode='r', encoding='utf8') as arquivo:\n",
    "    linha = arquivo.readline().strip() # lê cabeçalho\n",
    "    linha = arquivo.readline().strip() # lê a primeira linha\n",
    "    while linha:\n",
    "        linha_separada = linha.split(',')\n",
    "        salario = float(linha_separada[3])\n",
    "        salarios.append(salario)\n",
    "        linha = arquivo.readline().strip()\n",
    "\n",
    "\n",
    "soma_total = sum(salarios)\n",
    "quantidade = len(salarios)\n",
    "\n",
    "media = soma_total/quantidade\n",
    "\n",
    "salarios.sort() # ordena lista\n",
    "\n",
    "if quantidade % 2 == 0:\n",
    "    mediana = (salarios[quantidade/2 - 1] + salarios[quantidade/2])/2 # o índice começa de 0\n",
    "else:\n",
    "    mediana = salarios[quantidade // 2] # o índice começa de 0\n",
    "\n",
    "print(f'A média salarial dos funcionários é ${media:.2f} e a mediana é ${mediana:.2f}')"
   ]
  },
  {
   "cell_type": "markdown",
   "id": "88e9d88a",
   "metadata": {},
   "source": [
    "104. Faça um programa que leia o arquivo salarios2.csv e armazene os cargos em uma lista. Depois percorra essa lista e armazene cargo e frequência (em que o cargo aparece na lista) em um dicionário. No final, mostre cargo e frequência dos 5 primeiros em ordem decrescente.\n",
    "\n",
    "Dica 1: Se não souber ordenar um dicionário, use o ChatGPT. A função lambda é melhor explicada no notebook de funções.</br>\n",
    "Dica 2: Você pode conferir sua resposta com os valores gerados usando o módulo Pandas no notebook de fundamentos (teórico)"
   ]
  },
  {
   "cell_type": "code",
   "execution_count": 10,
   "id": "ba6a11a5",
   "metadata": {},
   "outputs": [
    {
     "name": "stdout",
     "output_type": "stream",
     "text": [
      "\tPOLICE OFFICER                           \t9489 \n",
      "\tFIREFIGHTER-EMT                          \t1191 \n",
      "\tSERGEANT                                 \t1138 \n",
      "\tFIREFIGHTER                              \t970  \n",
      "\tPOLICE OFFICER (ASSIGNED AS DETECTIVE)   \t808  \n"
     ]
    }
   ],
   "source": [
    "cargos = []\n",
    "\n",
    "with open(file='salarios2.csv', mode='r', encoding='utf8') as arquivo:\n",
    "    linha = arquivo.readline().strip().split(',') # lê cabeçalho\n",
    "    linha = arquivo.readline().strip() # lê a primeira linha\n",
    "    while linha:\n",
    "        linha_separada = linha.split(',')\n",
    "        cargos.append(linha_separada[1])\n",
    "        linha = arquivo.readline().strip()\n",
    "\n",
    "cargos_distintos = set(cargos)\n",
    "freq_cargos = {cargo: cargos.count(cargo) for cargo in cargos_distintos}\n",
    "\n",
    "freq_ordenada = sorted(freq_cargos.items(), key=lambda cargo: cargo[1], reverse=True)\n",
    "for i in range(5):\n",
    "    print(f'\\t{freq_ordenada[i][0]:<40} \\t{freq_ordenada[i][1]:<5}')"
   ]
  },
  {
   "cell_type": "code",
   "execution_count": null,
   "id": "a11f9001",
   "metadata": {},
   "outputs": [],
   "source": []
  }
 ],
 "metadata": {
  "kernelspec": {
   "display_name": "Python 3 (ipykernel)",
   "language": "python",
   "name": "python3"
  },
  "language_info": {
   "codemirror_mode": {
    "name": "ipython",
    "version": 3
   },
   "file_extension": ".py",
   "mimetype": "text/x-python",
   "name": "python",
   "nbconvert_exporter": "python",
   "pygments_lexer": "ipython3",
   "version": "3.9.13"
  }
 },
 "nbformat": 4,
 "nbformat_minor": 5
}
